{
  "nbformat": 4,
  "nbformat_minor": 0,
  "metadata": {
    "colab": {
      "provenance": [],
      "authorship_tag": "ABX9TyNV1vflMyysQTLBabwdwxoe",
      "include_colab_link": true
    },
    "kernelspec": {
      "name": "python3",
      "display_name": "Python 3"
    },
    "language_info": {
      "name": "python"
    }
  },
  "cells": [
    {
      "cell_type": "markdown",
      "metadata": {
        "id": "view-in-github",
        "colab_type": "text"
      },
      "source": [
        "<a href=\"https://colab.research.google.com/github/josedanielisidororeyes/Anal-tica-Descriptiva-y-Predictiva/blob/main/Pr%C3%A1ctica_2_Expresiones_Regulares_JDIR.ipynb\" target=\"_parent\"><img src=\"https://colab.research.google.com/assets/colab-badge.svg\" alt=\"Open In Colab\"/></a>"
      ]
    },
    {
      "cell_type": "code",
      "execution_count": 6,
      "metadata": {
        "colab": {
          "base_uri": "https://localhost:8080/"
        },
        "id": "hOasC6EYPoeN",
        "outputId": "ad77b5db-d899-4032-e816-d7dc98e15b58"
      },
      "outputs": [
        {
          "output_type": "stream",
          "name": "stdout",
          "text": [
            "           Fecha Acción   Precio\n",
            "0     2024-09-02   CSCO   446.52\n",
            "1     2024-09-02   AMZN   520.22\n",
            "2     2024-09-02   NVDA   552.66\n",
            "3     2024-09-02    MRK   722.88\n",
            "4     2024-09-02   NVDA    611.0\n",
            "...          ...    ...      ...\n",
            "9995  2024-09-02     VZ    518.9\n",
            "9996  2024-09-02    UNH  1161.65\n",
            "9997  2024-09-02  GOOGL   300.59\n",
            "9998  2024-09-02   MSFT   730.62\n",
            "9999  2024-09-02    BRK  1338.97\n",
            "\n",
            "[10000 rows x 3 columns]\n"
          ]
        }
      ],
      "source": [
        "import re\n",
        "import pandas as pd\n",
        "\n",
        "# Abre el archivo de texto con codificación 'latin-1\n",
        "with open('/content/informe_acciones.txt', encoding='latin-1', errors='replace') as f:\n",
        "    # Lee todo el archivo como un solo string\n",
        "    contenido = f.read()\n",
        "\n",
        "    # Busca el patrón \"Informe de Acción\" y extrae el nombre de la acción con (\\w+)\n",
        "    acción = re.findall(r'Informe de Acción - (\\w+)', contenido)\n",
        "\n",
        "    # Busca fechas con patrón  YYYY-MM-DD\n",
        "    fecha  = re.findall(r'\\d{4}[/-]\\d{2}[/-]\\d{2}', contenido)\n",
        "\n",
        "    # Busca los precios después de \"Valor actual: $\" y extraer el precio con decimales\n",
        "    precio = re.findall(r'Valor actual:\\s+\\$([0-9]+\\.[0-9]+)', contenido)\n",
        "\n",
        "    # Crea un dataframe listo para análisis y muestra el resultado\n",
        "    df =  pd.DataFrame({'Fecha': fecha, 'Acción':  acción, 'Precio': precio})\n",
        "\n",
        "    print(df)\n",
        "\n"
      ]
    }
  ]
}