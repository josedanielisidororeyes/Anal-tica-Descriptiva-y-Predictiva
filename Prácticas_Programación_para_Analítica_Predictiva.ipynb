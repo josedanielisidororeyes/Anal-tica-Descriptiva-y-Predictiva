{
  "nbformat": 4,
  "nbformat_minor": 0,
  "metadata": {
    "colab": {
      "provenance": [],
      "mount_file_id": "1Vto_yR7nm68B_llYX74pTQ2XzgawdTLV",
      "authorship_tag": "ABX9TyPPwrYT+lyWT6eWyePTG5tD",
      "include_colab_link": true
    },
    "kernelspec": {
      "name": "python3",
      "display_name": "Python 3"
    },
    "language_info": {
      "name": "python"
    }
  },
  "cells": [
    {
      "cell_type": "markdown",
      "metadata": {
        "id": "view-in-github",
        "colab_type": "text"
      },
      "source": [
        "<a href=\"https://colab.research.google.com/github/josedanielisidororeyes/Anal-tica-Descriptiva-y-Predictiva/blob/main/Pr%C3%A1cticas_Programaci%C3%B3n_para_Anal%C3%ADtica_Predictiva.ipynb\" target=\"_parent\"><img src=\"https://colab.research.google.com/assets/colab-badge.svg\" alt=\"Open In Colab\"/></a>"
      ]
    },
    {
      "cell_type": "markdown",
      "source": [
        "# Handling Text in Data"
      ],
      "metadata": {
        "id": "zg13dXvKsDAy"
      }
    },
    {
      "cell_type": "markdown",
      "source": [],
      "metadata": {
        "id": "43SQUkDLzo_J"
      }
    },
    {
      "cell_type": "code",
      "source": [
        "text1 = \"Ethics are built right into the ideals and objectives of the United Nations \""
      ],
      "metadata": {
        "id": "YCUBgdpGsEx5"
      },
      "execution_count": null,
      "outputs": []
    },
    {
      "cell_type": "code",
      "source": [
        "len(text1)"
      ],
      "metadata": {
        "colab": {
          "base_uri": "https://localhost:8080/"
        },
        "id": "fuzy5s1LsQN8",
        "outputId": "ed62f5fc-ac26-415e-c248-98ceb0446fbc"
      },
      "execution_count": null,
      "outputs": [
        {
          "output_type": "execute_result",
          "data": {
            "text/plain": [
              "76"
            ]
          },
          "metadata": {},
          "execution_count": 2
        }
      ]
    },
    {
      "cell_type": "code",
      "source": [
        "text2 =  text1.split(' ')\n",
        "len(text2)"
      ],
      "metadata": {
        "colab": {
          "base_uri": "https://localhost:8080/"
        },
        "id": "qNt3S_JXsTF7",
        "outputId": "f8ba98de-0ced-4373-9841-76909a2016b6"
      },
      "execution_count": null,
      "outputs": [
        {
          "output_type": "execute_result",
          "data": {
            "text/plain": [
              "14"
            ]
          },
          "metadata": {},
          "execution_count": 3
        }
      ]
    },
    {
      "cell_type": "code",
      "source": [
        "text2"
      ],
      "metadata": {
        "colab": {
          "base_uri": "https://localhost:8080/"
        },
        "id": "t8zuWUtDspqJ",
        "outputId": "5eb115d7-477a-494a-cde7-fcab49d333e9"
      },
      "execution_count": null,
      "outputs": [
        {
          "output_type": "execute_result",
          "data": {
            "text/plain": [
              "['Ethics',\n",
              " 'are',\n",
              " 'built',\n",
              " 'right',\n",
              " 'into',\n",
              " 'the',\n",
              " 'ideals',\n",
              " 'and',\n",
              " 'objectives',\n",
              " 'of',\n",
              " 'the',\n",
              " 'United',\n",
              " 'Nations',\n",
              " '']"
            ]
          },
          "metadata": {},
          "execution_count": 4
        }
      ]
    },
    {
      "cell_type": "code",
      "source": [
        "# Finding Specific Words\n",
        "[w for w in text2 if len(w) > 3]"
      ],
      "metadata": {
        "colab": {
          "base_uri": "https://localhost:8080/"
        },
        "id": "hifPlIN6srO8",
        "outputId": "7b3b2119-c5aa-4feb-9218-a70256f3a5ad"
      },
      "execution_count": null,
      "outputs": [
        {
          "output_type": "execute_result",
          "data": {
            "text/plain": [
              "['Ethics',\n",
              " 'built',\n",
              " 'right',\n",
              " 'into',\n",
              " 'ideals',\n",
              " 'objectives',\n",
              " 'United',\n",
              " 'Nations']"
            ]
          },
          "metadata": {},
          "execution_count": 5
        }
      ]
    },
    {
      "cell_type": "code",
      "source": [
        "# Capitalized words\n",
        "[w for w in text2 if w.istitle()]"
      ],
      "metadata": {
        "colab": {
          "base_uri": "https://localhost:8080/"
        },
        "id": "ikLstikas0QW",
        "outputId": "1760c551-ca4b-4008-b0fc-3184536f587a"
      },
      "execution_count": null,
      "outputs": [
        {
          "output_type": "execute_result",
          "data": {
            "text/plain": [
              "['Ethics', 'United', 'Nations']"
            ]
          },
          "metadata": {},
          "execution_count": 6
        }
      ]
    },
    {
      "cell_type": "code",
      "source": [
        "[w for w in text2 if w.endswith('s')]"
      ],
      "metadata": {
        "colab": {
          "base_uri": "https://localhost:8080/"
        },
        "id": "Ck5t8OJws6c6",
        "outputId": "e526efb4-16aa-45a5-fb83-2ccf4cd47671"
      },
      "execution_count": null,
      "outputs": [
        {
          "output_type": "execute_result",
          "data": {
            "text/plain": [
              "['Ethics', 'ideals', 'objectives', 'Nations']"
            ]
          },
          "metadata": {},
          "execution_count": 8
        }
      ]
    },
    {
      "cell_type": "code",
      "source": [
        "# Finding unique words: using set()\n",
        "text3 =  'To be or not to be'\n",
        "text4 =  text3.split(' ')\n",
        "len(text4)"
      ],
      "metadata": {
        "colab": {
          "base_uri": "https://localhost:8080/"
        },
        "id": "-lDr9Ef1tFpU",
        "outputId": "4f02f983-3f3c-40e8-d433-2a528da070ac"
      },
      "execution_count": null,
      "outputs": [
        {
          "output_type": "execute_result",
          "data": {
            "text/plain": [
              "6"
            ]
          },
          "metadata": {},
          "execution_count": 10
        }
      ]
    },
    {
      "cell_type": "code",
      "source": [
        "len(set(text4))"
      ],
      "metadata": {
        "colab": {
          "base_uri": "https://localhost:8080/"
        },
        "id": "bHPXc9VDtQZ6",
        "outputId": "7f0b7806-3798-4663-93c0-2a8b29e290d3"
      },
      "execution_count": null,
      "outputs": [
        {
          "output_type": "execute_result",
          "data": {
            "text/plain": [
              "5"
            ]
          },
          "metadata": {},
          "execution_count": 11
        }
      ]
    },
    {
      "cell_type": "code",
      "source": [
        "len(set([w.lower() for w in text4]))"
      ],
      "metadata": {
        "colab": {
          "base_uri": "https://localhost:8080/"
        },
        "id": "IxxgYON2tP6T",
        "outputId": "87cdb041-c435-42ae-da46-95798375b4e0"
      },
      "execution_count": null,
      "outputs": [
        {
          "output_type": "execute_result",
          "data": {
            "text/plain": [
              "4"
            ]
          },
          "metadata": {},
          "execution_count": 12
        }
      ]
    },
    {
      "cell_type": "code",
      "source": [
        "#\n",
        "text5 =  'ouagadougou'\n",
        "text6 =  text5.split('ou')\n",
        "text6"
      ],
      "metadata": {
        "colab": {
          "base_uri": "https://localhost:8080/"
        },
        "id": "qntSppeLtfA9",
        "outputId": "0b1d009b-d9df-469f-ef59-f06a79f746a5"
      },
      "execution_count": null,
      "outputs": [
        {
          "output_type": "execute_result",
          "data": {
            "text/plain": [
              "['', 'agad', 'g', '']"
            ]
          },
          "metadata": {},
          "execution_count": 20
        }
      ]
    },
    {
      "cell_type": "code",
      "source": [
        "'ou'.join(text6)"
      ],
      "metadata": {
        "colab": {
          "base_uri": "https://localhost:8080/",
          "height": 35
        },
        "id": "633jHdRntoIm",
        "outputId": "310c4fae-d87c-4ad8-c2d9-5c4666cfe729"
      },
      "execution_count": null,
      "outputs": [
        {
          "output_type": "execute_result",
          "data": {
            "text/plain": [
              "'ouagadougou'"
            ],
            "application/vnd.google.colaboratory.intrinsic+json": {
              "type": "string"
            }
          },
          "metadata": {},
          "execution_count": 21
        }
      ]
    },
    {
      "cell_type": "code",
      "source": [
        "list(text5)"
      ],
      "metadata": {
        "colab": {
          "base_uri": "https://localhost:8080/"
        },
        "id": "cidVjoszuuHo",
        "outputId": "9d47d904-434c-42e5-8f5a-9b5d2bdd6a94"
      },
      "execution_count": null,
      "outputs": [
        {
          "output_type": "execute_result",
          "data": {
            "text/plain": [
              "['o', 'u', 'a', 'g', 'a', 'd', 'o', 'u', 'g', 'o', 'u']"
            ]
          },
          "metadata": {},
          "execution_count": 25
        }
      ]
    },
    {
      "cell_type": "code",
      "source": [
        "[c for c in text5]"
      ],
      "metadata": {
        "colab": {
          "base_uri": "https://localhost:8080/"
        },
        "id": "uyV6DZJZu2-s",
        "outputId": "0adcca27-d2cb-4d01-9a74-f790d5825025"
      },
      "execution_count": null,
      "outputs": [
        {
          "output_type": "execute_result",
          "data": {
            "text/plain": [
              "['o', 'u', 'a', 'g', 'a', 'd', 'o', 'u', 'g', 'o', 'u']"
            ]
          },
          "metadata": {},
          "execution_count": 26
        }
      ]
    },
    {
      "cell_type": "code",
      "source": [
        "# Cleaning text\n",
        "text8 =  '   A quick brown fox jumped over the lazy dog.  '\n",
        "text8.split(' ')"
      ],
      "metadata": {
        "id": "Mym-f-3ku97o",
        "colab": {
          "base_uri": "https://localhost:8080/"
        },
        "outputId": "01e9ce5f-d8be-41ba-ef72-4c701d5531e4"
      },
      "execution_count": null,
      "outputs": [
        {
          "output_type": "execute_result",
          "data": {
            "text/plain": [
              "['',\n",
              " '',\n",
              " '',\n",
              " 'A',\n",
              " 'quick',\n",
              " 'brown',\n",
              " 'fox',\n",
              " 'jumped',\n",
              " 'over',\n",
              " 'the',\n",
              " 'lazy',\n",
              " 'dog.',\n",
              " '',\n",
              " '']"
            ]
          },
          "metadata": {},
          "execution_count": 14
        }
      ]
    },
    {
      "cell_type": "code",
      "source": [
        "text9 =  text8.strip()\n",
        "text9.split(' ')"
      ],
      "metadata": {
        "colab": {
          "base_uri": "https://localhost:8080/"
        },
        "id": "FaDyzsbhBZEb",
        "outputId": "d4170e16-6bf2-43d6-c3c1-38bb11eec167"
      },
      "execution_count": null,
      "outputs": [
        {
          "output_type": "execute_result",
          "data": {
            "text/plain": [
              "['A', 'quick', 'brown', 'fox', 'jumped', 'over', 'the', 'lazy', 'dog.']"
            ]
          },
          "metadata": {},
          "execution_count": 16
        }
      ]
    },
    {
      "cell_type": "code",
      "source": [
        "# Chanding text\n",
        "text9.find('o')"
      ],
      "metadata": {
        "colab": {
          "base_uri": "https://localhost:8080/"
        },
        "id": "X5npBpdLBZJV",
        "outputId": "693645de-cff1-4329-8e53-bf3a1be7b10c"
      },
      "execution_count": null,
      "outputs": [
        {
          "output_type": "execute_result",
          "data": {
            "text/plain": [
              "10"
            ]
          },
          "metadata": {},
          "execution_count": 17
        }
      ]
    },
    {
      "cell_type": "code",
      "source": [
        "text9.replace('o', 'O')"
      ],
      "metadata": {
        "colab": {
          "base_uri": "https://localhost:8080/",
          "height": 36
        },
        "id": "gDUi5l97BZOW",
        "outputId": "f41b61d5-b747-42c2-b4c6-283da0b175b4"
      },
      "execution_count": null,
      "outputs": [
        {
          "output_type": "execute_result",
          "data": {
            "text/plain": [
              "'A quick brOwn fOx jumped Over the lazy dOg.'"
            ],
            "application/vnd.google.colaboratory.intrinsic+json": {
              "type": "string"
            }
          },
          "metadata": {},
          "execution_count": 18
        }
      ]
    },
    {
      "cell_type": "code",
      "source": [
        "# Handling larget texts\n",
        "f =  open('/content/UNDHR.txt', 'r', encoding = 'latin-1' )\n",
        "f.readline()"
      ],
      "metadata": {
        "colab": {
          "base_uri": "https://localhost:8080/",
          "height": 176
        },
        "id": "kF_-xEC1CDRQ",
        "outputId": "76089ced-6c5b-49b4-cb40-36b5c8964a80"
      },
      "execution_count": null,
      "outputs": [
        {
          "output_type": "error",
          "ename": "FileNotFoundError",
          "evalue": "[Errno 2] No such file or directory: '/content/UNDHR.txt'",
          "traceback": [
            "\u001b[0;31m---------------------------------------------------------------------------\u001b[0m",
            "\u001b[0;31mFileNotFoundError\u001b[0m                         Traceback (most recent call last)",
            "\u001b[0;32m/tmp/ipython-input-3754861403.py\u001b[0m in \u001b[0;36m<cell line: 0>\u001b[0;34m()\u001b[0m\n\u001b[1;32m      1\u001b[0m \u001b[0;31m# Handling larget texts\u001b[0m\u001b[0;34m\u001b[0m\u001b[0;34m\u001b[0m\u001b[0m\n\u001b[0;32m----> 2\u001b[0;31m \u001b[0mf\u001b[0m \u001b[0;34m=\u001b[0m  \u001b[0mopen\u001b[0m\u001b[0;34m(\u001b[0m\u001b[0;34m'/content/UNDHR.txt'\u001b[0m\u001b[0;34m,\u001b[0m \u001b[0;34m'r'\u001b[0m\u001b[0;34m,\u001b[0m \u001b[0mencoding\u001b[0m \u001b[0;34m=\u001b[0m \u001b[0;34m'latin-1'\u001b[0m \u001b[0;34m)\u001b[0m\u001b[0;34m\u001b[0m\u001b[0;34m\u001b[0m\u001b[0m\n\u001b[0m\u001b[1;32m      3\u001b[0m \u001b[0mf\u001b[0m\u001b[0;34m.\u001b[0m\u001b[0mreadline\u001b[0m\u001b[0;34m(\u001b[0m\u001b[0;34m)\u001b[0m\u001b[0;34m\u001b[0m\u001b[0;34m\u001b[0m\u001b[0m\n",
            "\u001b[0;31mFileNotFoundError\u001b[0m: [Errno 2] No such file or directory: '/content/UNDHR.txt'"
          ]
        }
      ]
    },
    {
      "cell_type": "code",
      "source": [
        "f.seek(0)"
      ],
      "metadata": {
        "colab": {
          "base_uri": "https://localhost:8080/"
        },
        "id": "gf8gmvacCKnC",
        "outputId": "3496679d-5a0d-4862-ea73-efe01cc5cdb9"
      },
      "execution_count": null,
      "outputs": [
        {
          "output_type": "execute_result",
          "data": {
            "text/plain": [
              "0"
            ]
          },
          "metadata": {},
          "execution_count": 21
        }
      ]
    },
    {
      "cell_type": "code",
      "source": [
        "text12 =  f.read()"
      ],
      "metadata": {
        "id": "PGUOGwVjCKpv"
      },
      "execution_count": null,
      "outputs": []
    },
    {
      "cell_type": "code",
      "source": [
        "len(text12)"
      ],
      "metadata": {
        "colab": {
          "base_uri": "https://localhost:8080/"
        },
        "id": "ZlghpIUWCKtk",
        "outputId": "ce3b7926-6368-4cf8-fb58-598d723ca184"
      },
      "execution_count": null,
      "outputs": [
        {
          "output_type": "execute_result",
          "data": {
            "text/plain": [
              "12534"
            ]
          },
          "metadata": {},
          "execution_count": 23
        }
      ]
    },
    {
      "cell_type": "code",
      "source": [
        "text13 =  text12.splitlines()\n",
        "len(text13)"
      ],
      "metadata": {
        "colab": {
          "base_uri": "https://localhost:8080/"
        },
        "id": "-YOPMHxeDV1o",
        "outputId": "d61ead05-c83f-4760-a53a-804ce58812f1"
      },
      "execution_count": null,
      "outputs": [
        {
          "output_type": "execute_result",
          "data": {
            "text/plain": [
              "218"
            ]
          },
          "metadata": {},
          "execution_count": 24
        }
      ]
    },
    {
      "cell_type": "code",
      "source": [
        "text13"
      ],
      "metadata": {
        "colab": {
          "base_uri": "https://localhost:8080/"
        },
        "id": "LudfuGluDV8a",
        "outputId": "05d6b910-f1fc-4658-b6d1-d7fc2654392d"
      },
      "execution_count": null,
      "outputs": [
        {
          "output_type": "execute_result",
          "data": {
            "text/plain": [
              "['Universal Declaration of Human Rights - English',\n",
              " '© 1996 – 2009 The Office of the High Commissioner for Human Rights',\n",
              " 'This plain text version prepared by the “UDHR in Unicode”',\n",
              " 'project, http://www.unicode.org/udhr.',\n",
              " '---',\n",
              " '',\n",
              " 'Universal Declaration of Human Rights',\n",
              " '      Preamble',\n",
              " '      Whereas recognition of the inherent dignity and of the equal and inalienable rights of all members of the human family is the foundation of freedom, justice and peace in the world,',\n",
              " '      Whereas disregard and contempt for human rights have resulted in barbarous acts which have outraged the conscience of mankind, and the advent of a world in which human beings shall enjoy freedom of speech and belief and freedom from fear and want has been proclaimed as the highest aspiration of the common people,',\n",
              " '      Whereas it is essential, if man is not to be compelled to have recourse, as a last resort, to rebellion against tyranny and oppression, that human rights should be protected by the rule of law,',\n",
              " '      Whereas it is essential to promote the development of friendly relations between nations,',\n",
              " '      Whereas the peoples of the United Nations have in the Charter reaffirmed their faith in fundamental human rights, in the dignity and worth of the human person and in the equal rights of men and women and have determined to promote social progress and better standards of life in larger freedom,',\n",
              " '      Whereas Member States have pledged themselves to achieve, in co‐operation with the United Nations, the promotion of universal respect for and observance of human rights and fundamental freedoms,',\n",
              " '      Whereas a common understanding of these rights and freedoms is of the greatest importance for the full realization of this pledge,',\n",
              " '      Now, therefore,',\n",
              " '      The General Assembly',\n",
              " '      Proclaims this Universal Declaration of Human Rights as a common standard of achievement for all peoples and all nations, to the end that every individual and every organ of society, keeping this Declaration constantly in mind, shall strive by teaching and education to promote respect for these rights and freedoms and by progressive measures, national and international, to secure their universal and effective recognition and observance, both among the peoples of Member States themselves and among the peoples of territories under their jurisdiction.',\n",
              " '   ',\n",
              " '      Article 1',\n",
              " '      All human beings are born free and equal in dignity and rights. They are endowed with reason and conscience and should act towards one another in a spirit of brotherhood.',\n",
              " '   ',\n",
              " '      Article 2',\n",
              " '      Everyone is entitled to all the rights and freedoms set forth in this Declaration, without distinction of any kind, such as race, colour, sex, language, religion, political or other opinion, national or social origin, property, birth or other status.',\n",
              " '      Furthermore, no distinction shall be made on the basis of the political, jurisdictional or international status of the country or territory to which a person belongs, whether it be independent, trust, non‐self‐governing or under any other limitation of sovereignty.',\n",
              " '   ',\n",
              " '      Article 3',\n",
              " '      Everyone has the right to life, liberty and the security of person.',\n",
              " '   ',\n",
              " '      Article 4',\n",
              " '      No one shall be held in slavery or servitude; slavery and the slave trade shall be prohibited in all their forms.',\n",
              " '   ',\n",
              " '      Article 5',\n",
              " '      No one shall be subjected to torture or to cruel, inhuman or degrading treatment or punishment.',\n",
              " '   ',\n",
              " '      Article 6',\n",
              " '      Everyone has the right to recognition everywhere as a person before the law.',\n",
              " '   ',\n",
              " '      Article 7',\n",
              " '      All are equal before the law and are entitled without any discrimination to equal protection of the law. All are entitled to equal protection against any discrimination in violation of this Declaration and against any incitement to such discrimination.',\n",
              " '   ',\n",
              " '      Article 8',\n",
              " '      Everyone has the right to an effective remedy by the competent national tribunals for acts violating the fundamental rights granted him by the constitution or by law.',\n",
              " '   ',\n",
              " '      Article 9',\n",
              " '      No one shall be subjected to arbitrary arrest, detention or exile.',\n",
              " '   ',\n",
              " '      Article 10',\n",
              " '      Everyone is entitled in full equality to a fair and public hearing by an independent and impartial tribunal, in the determination of his rights and obligations and of any criminal charge against him.',\n",
              " '   ',\n",
              " '      Article 11',\n",
              " '      ',\n",
              " '         ',\n",
              " '            Everyone charged with a penal offence has the right to be presumed innocent until proved guilty according to law in a public trial at which he has had all the guarantees necessary for his defence.',\n",
              " '         ',\n",
              " '         ',\n",
              " '            No one shall be held guilty of any penal offence on account of any act or omission which did not constitute a penal offence, under national or international law, at the time when it was committed. Nor shall a heavier penalty be imposed than the one that was applicable at the time the penal offence was committed.',\n",
              " '         ',\n",
              " '      ',\n",
              " '   ',\n",
              " '      Article 12',\n",
              " '      No one shall be subjected to arbitrary interference with his privacy, family, home or correspondence, nor to attacks upon his honour and reputation. Everyone has the right to the protection of the law against such interference or attacks.',\n",
              " '   ',\n",
              " '      Article 13',\n",
              " '      ',\n",
              " '         ',\n",
              " '            Everyone has the right to freedom of movement and residence within the borders of each State.',\n",
              " '         ',\n",
              " '         ',\n",
              " '            Everyone has the right to leave any country, including his own, and to return to his country.',\n",
              " '         ',\n",
              " '      ',\n",
              " '   ',\n",
              " '      Article 14',\n",
              " '      ',\n",
              " '         ',\n",
              " '            Everyone has the right to seek and to enjoy in other countries asylum from persecution.',\n",
              " '         ',\n",
              " '         ',\n",
              " '            This right may not be invoked in the case of prosecutions genuinely arising from non‐political crimes or from acts contrary to the purposes and principles of the United Nations.',\n",
              " '         ',\n",
              " '      ',\n",
              " '   ',\n",
              " '      Article 15',\n",
              " '      ',\n",
              " '         ',\n",
              " '            Everyone has the right to a nationality.',\n",
              " '         ',\n",
              " '         ',\n",
              " '            No one shall be arbitrarily deprived of his nationality nor denied the right to change his nationality.',\n",
              " '         ',\n",
              " '      ',\n",
              " '   ',\n",
              " '      Article 16',\n",
              " '      ',\n",
              " '         ',\n",
              " '            Men and women of full age, without any limitation due to race, nationality or religion, have the right to marry and to found a family. They are entitled to equal rights as to marriage, during marriage and at its dissolution.',\n",
              " '         ',\n",
              " '         ',\n",
              " '            Marriage shall be entered into only with the free and full consent of the intending spouses.',\n",
              " '         ',\n",
              " '         ',\n",
              " '            The family is the natural and fundamental group unit of society and is entitled to protection by society and the State.',\n",
              " '         ',\n",
              " '      ',\n",
              " '   ',\n",
              " '      Article 17',\n",
              " '      ',\n",
              " '         ',\n",
              " '            Everyone has the right to own property alone as well as in association with others.',\n",
              " '         ',\n",
              " '         ',\n",
              " '            No one shall be arbitrarily deprived of his property.',\n",
              " '         ',\n",
              " '      ',\n",
              " '   ',\n",
              " '      Article 18',\n",
              " '      Everyone has the right to freedom of thought, conscience and religion; this right includes freedom to change his religion or belief, and freedom, either alone or in community with others and in public or private, to manifest his religion or belief in teaching, practice, worship and observance.',\n",
              " '   ',\n",
              " '      Article 19',\n",
              " '      Everyone has the right to freedom of opinion and expression; this right includes freedom to hold opinions without interference and to seek, receive and impart information and ideas through any media and regardless of frontiers.',\n",
              " '   ',\n",
              " '      Article 20',\n",
              " '      ',\n",
              " '         ',\n",
              " '            Everyone has the right to freedom of peaceful assembly and association.',\n",
              " '         ',\n",
              " '         ',\n",
              " '            No one may be compelled to belong to an association.',\n",
              " '         ',\n",
              " '      ',\n",
              " '   ',\n",
              " '      Article 21',\n",
              " '      ',\n",
              " '         ',\n",
              " '            Everyone has the right to take part in the government of his country, directly or through freely chosen representatives.',\n",
              " '         ',\n",
              " '         ',\n",
              " '            Everyone has the right of equal access to public service in his country.',\n",
              " '         ',\n",
              " '         ',\n",
              " '            The will of the people shall be the basis of the authority of government; this will shall be expressed in periodic and genuine elections which shall be by universal and equal suffrage and shall be held by secret vote or by equivalent free voting procedures.',\n",
              " '         ',\n",
              " '      ',\n",
              " '   ',\n",
              " '      Article 22',\n",
              " '      Everyone, as a member of society, has the right to social security and is entitled to realization, through national effort and international co‐operation and in accordance with the organization and resources of each State, of the economic, social and cultural rights indispensable for his dignity and the free development of his personality.',\n",
              " '   ',\n",
              " '      Article 23',\n",
              " '      ',\n",
              " '         ',\n",
              " '            Everyone has the right to work, to free choice of employment, to just and favourable conditions of work and to protection against unemployment.',\n",
              " '         ',\n",
              " '         ',\n",
              " '            Everyone, without any discrimination, has the right to equal pay for equal work.',\n",
              " '         ',\n",
              " '         ',\n",
              " '            Everyone who works has the right to just and favourable remuneration ensuring for himself and his family an existence worthy of human dignity, and supplemented, if necessary, by other means of social protection.',\n",
              " '         ',\n",
              " '         ',\n",
              " '            Everyone has the right to form and to join trade unions for the protection of his interests.',\n",
              " '         ',\n",
              " '      ',\n",
              " '   ',\n",
              " '      Article 24',\n",
              " '      Everyone has the right to rest and leisure, including reasonable limitation of working hours and periodic holidays with pay.',\n",
              " '   ',\n",
              " '      Article 25',\n",
              " '      ',\n",
              " '         ',\n",
              " '            Everyone has the right to a standard of living adequate for the health and well‐being of himself and of his family, including food, clothing, housing and medical care and necessary social services, and the right to security in the event of unemployment, sickness, disability, widowhood, old age or other lack of livelihood in circumstances beyond his control.',\n",
              " '         ',\n",
              " '         ',\n",
              " '            Motherhood and childhood are entitled to special care and assistance. All children, whether born in or out of wedlock, shall enjoy the same social protection.',\n",
              " '         ',\n",
              " '      ',\n",
              " '   ',\n",
              " '      Article 26',\n",
              " '      ',\n",
              " '         ',\n",
              " '            Everyone has the right to education. Education shall be free, at least in the elementary and fundamental stages. Elementary education shall be compulsory. Technical and professional education shall be made generally available and higher education shall be equally accessible to all on the basis of merit.',\n",
              " '         ',\n",
              " '         ',\n",
              " '            Education shall be directed to the full development of the human personality and to the strengthening of respect for human rights and fundamental freedoms. It shall promote understanding, tolerance and friendship among all nations, racial or religious groups, and shall further the activities of the United Nations for the maintenance of peace.',\n",
              " '         ',\n",
              " '         ',\n",
              " '            Parents have a prior right to choose the kind of education that shall be given to their children.',\n",
              " '         ',\n",
              " '      ',\n",
              " '   ',\n",
              " '      Article 27',\n",
              " '      ',\n",
              " '         ',\n",
              " '            Everyone has the right freely to participate in the cultural life of the community, to enjoy the arts and to share in scientific advancement and its benefits.',\n",
              " '         ',\n",
              " '         ',\n",
              " '            Everyone has the right to the protection of the moral and material interests resulting from any scientific, literary or artistic production of which he is the author.',\n",
              " '         ',\n",
              " '      ',\n",
              " '   ',\n",
              " '      Article 28',\n",
              " '      Everyone is entitled to a social and international order in which the rights and freedoms set forth in this Declaration can be fully realized.',\n",
              " '   ',\n",
              " '      Article 29',\n",
              " '      ',\n",
              " '         ',\n",
              " '            Everyone has duties to the community in which alone the free and full development of his personality is possible.',\n",
              " '         ',\n",
              " '         ',\n",
              " '            In the exercise of his rights and freedoms, everyone shall be subject only to such limitations as are determined by law solely for the purpose of securing due recognition and respect for the rights and freedoms of others and of meeting the just requirements of morality, public order and the general welfare in a democratic society.',\n",
              " '         ',\n",
              " '         ',\n",
              " '            These rights and freedoms may in no case be exercised contrary to the purposes and principles of the United Nations.',\n",
              " '         ',\n",
              " '      ',\n",
              " '   ',\n",
              " '      Article 30',\n",
              " '      Nothing in this Declaration may be interpreted as implying for any State, group or person any right to engage in any activity or to perform any act aimed at the destruction of any of the rights and freedoms set forth herein.']"
            ]
          },
          "metadata": {},
          "execution_count": 25
        }
      ]
    },
    {
      "cell_type": "code",
      "source": [
        "len(text13)"
      ],
      "metadata": {
        "colab": {
          "base_uri": "https://localhost:8080/"
        },
        "id": "elAl6nOXDWES",
        "outputId": "d73c78e9-11da-4c9a-fd09-ad009cf76e89"
      },
      "execution_count": null,
      "outputs": [
        {
          "output_type": "execute_result",
          "data": {
            "text/plain": [
              "218"
            ]
          },
          "metadata": {},
          "execution_count": 26
        }
      ]
    },
    {
      "cell_type": "code",
      "source": [
        "text13[0]"
      ],
      "metadata": {
        "colab": {
          "base_uri": "https://localhost:8080/",
          "height": 36
        },
        "id": "44OIFt7tDWKr",
        "outputId": "a58b3289-c5e2-4dbf-a706-bcf6a991027d"
      },
      "execution_count": null,
      "outputs": [
        {
          "output_type": "execute_result",
          "data": {
            "text/plain": [
              "'Universal Declaration of Human Rights - English'"
            ],
            "application/vnd.google.colaboratory.intrinsic+json": {
              "type": "string"
            }
          },
          "metadata": {},
          "execution_count": 27
        }
      ]
    },
    {
      "cell_type": "code",
      "source": [
        "f =  open('/content/UNDHR.txt', 'r')\n",
        "text14 =  f.readline()"
      ],
      "metadata": {
        "id": "TvqZ8jxxDWQx"
      },
      "execution_count": null,
      "outputs": []
    },
    {
      "cell_type": "code",
      "source": [
        "text14.rstrip()"
      ],
      "metadata": {
        "colab": {
          "base_uri": "https://localhost:8080/",
          "height": 36
        },
        "id": "sH1p14YSEDUF",
        "outputId": "08f68ccd-04fb-430d-af57-a8bbda56ea27"
      },
      "execution_count": null,
      "outputs": [
        {
          "output_type": "execute_result",
          "data": {
            "text/plain": [
              "'Universal Declaration of Human Rights - English'"
            ],
            "application/vnd.google.colaboratory.intrinsic+json": {
              "type": "string"
            }
          },
          "metadata": {},
          "execution_count": 30
        }
      ]
    },
    {
      "cell_type": "code",
      "source": [
        "# Regular Expression\n",
        "text10  = '\"Ethics are built right into the ideals and objectives of the United Nations\" #UNSG @NY Society for Ethical Culture http://bit.ly/2guVeIr'"
      ],
      "metadata": {
        "id": "o3Ou5BJ8HqBK"
      },
      "execution_count": null,
      "outputs": []
    },
    {
      "cell_type": "code",
      "source": [
        "text11 =  text10.split(' ')"
      ],
      "metadata": {
        "id": "plr6MyZIINl4"
      },
      "execution_count": null,
      "outputs": []
    },
    {
      "cell_type": "code",
      "source": [
        "text11"
      ],
      "metadata": {
        "colab": {
          "base_uri": "https://localhost:8080/"
        },
        "id": "eQZkHZnJINpu",
        "outputId": "35479d81-8a55-45c0-81b5-7aaa4e971c8f"
      },
      "execution_count": null,
      "outputs": [
        {
          "output_type": "execute_result",
          "data": {
            "text/plain": [
              "['\"Ethics',\n",
              " 'are',\n",
              " 'built',\n",
              " 'right',\n",
              " 'into',\n",
              " 'the',\n",
              " 'ideals',\n",
              " 'and',\n",
              " 'objectives',\n",
              " 'of',\n",
              " 'the',\n",
              " 'United',\n",
              " 'Nations\"',\n",
              " '#UNSG',\n",
              " '@NY',\n",
              " 'Society',\n",
              " 'for',\n",
              " 'Ethical',\n",
              " 'Culture',\n",
              " 'http://bit.ly/2guVeIr']"
            ]
          },
          "metadata": {},
          "execution_count": 42
        }
      ]
    },
    {
      "cell_type": "code",
      "source": [
        "tweet = \"@nltk Text analysis is awesome! #regex #pandas #python\""
      ],
      "metadata": {
        "id": "bE6Quqe6INtT"
      },
      "execution_count": null,
      "outputs": []
    },
    {
      "cell_type": "code",
      "source": [
        "print([word for word in tweet.split() if word.startswith('#')])"
      ],
      "metadata": {
        "colab": {
          "base_uri": "https://localhost:8080/"
        },
        "id": "RVW0vXYHIqWv",
        "outputId": "3a154516-fc2a-478d-e8b2-52df8009f269"
      },
      "execution_count": null,
      "outputs": [
        {
          "output_type": "stream",
          "name": "stdout",
          "text": [
            "['#regex', '#pandas', '#python']\n"
          ]
        }
      ]
    },
    {
      "cell_type": "code",
      "source": [
        "print([word for word in tweet.split() if word.startswith('#')])"
      ],
      "metadata": {
        "colab": {
          "base_uri": "https://localhost:8080/"
        },
        "id": "T5lsWBvjINwd",
        "outputId": "45b00438-10a9-49b7-ccf0-aa0a7d4a0b18"
      },
      "execution_count": null,
      "outputs": [
        {
          "output_type": "stream",
          "name": "stdout",
          "text": [
            "['#regex', '#pandas', '#python']\n"
          ]
        }
      ]
    },
    {
      "cell_type": "code",
      "source": [
        "[w for w in text11 if w.startswith('@')]"
      ],
      "metadata": {
        "colab": {
          "base_uri": "https://localhost:8080/"
        },
        "id": "5aX5kkG6I7Nz",
        "outputId": "21826cba-7931-4002-b0a5-8d63710a76ca"
      },
      "execution_count": null,
      "outputs": [
        {
          "output_type": "execute_result",
          "data": {
            "text/plain": [
              "['@']"
            ]
          },
          "metadata": {},
          "execution_count": 39
        }
      ]
    },
    {
      "cell_type": "code",
      "source": [
        "import re\n",
        "[w for w in text11 if re.search('@[A-Za-z0-9_]+', w)]"
      ],
      "metadata": {
        "colab": {
          "base_uri": "https://localhost:8080/"
        },
        "id": "tGRir_LHI7RR",
        "outputId": "bece19c4-9037-4456-f283-30261f55922e"
      },
      "execution_count": null,
      "outputs": [
        {
          "output_type": "execute_result",
          "data": {
            "text/plain": [
              "['@NY']"
            ]
          },
          "metadata": {},
          "execution_count": 45
        }
      ]
    },
    {
      "cell_type": "code",
      "source": [
        "text10  = '\"Ethics are built right into the ideals and objectives of the United Nations\" #UNSG @NY Society for Ethical Culture http://bit.ly/2guVeIr @UN @UN_Women'\n",
        "text11 =  text10.split(' ')"
      ],
      "metadata": {
        "id": "9sEOGXIrI7Uq"
      },
      "execution_count": null,
      "outputs": []
    },
    {
      "cell_type": "code",
      "source": [
        "[w for w in text11 if re.search('@[A-Za-z0-9_]+', w)]"
      ],
      "metadata": {
        "colab": {
          "base_uri": "https://localhost:8080/"
        },
        "id": "fJnUrD4dLBus",
        "outputId": "9e7a2e4e-e4fa-4dc3-a6e7-e330ea853ccc"
      },
      "execution_count": null,
      "outputs": [
        {
          "output_type": "execute_result",
          "data": {
            "text/plain": [
              "['@NY', '@UN', '@UN_Women']"
            ]
          },
          "metadata": {},
          "execution_count": 47
        }
      ]
    },
    {
      "cell_type": "code",
      "source": [
        "[w for w in text11 if re.search('@\\w+', w)]"
      ],
      "metadata": {
        "colab": {
          "base_uri": "https://localhost:8080/"
        },
        "id": "w82xC3TwLBy0",
        "outputId": "8ab5b2b9-4063-4207-e222-5cb4694f9d0e"
      },
      "execution_count": null,
      "outputs": [
        {
          "output_type": "execute_result",
          "data": {
            "text/plain": [
              "['@NY', '@UN', '@UN_Women']"
            ]
          },
          "metadata": {},
          "execution_count": 48
        }
      ]
    },
    {
      "cell_type": "code",
      "source": [
        "text12 =  'ouagadougou'\n",
        "re.findall(r'[aeiou]', text12)"
      ],
      "metadata": {
        "colab": {
          "base_uri": "https://localhost:8080/"
        },
        "id": "QeVk9b7mNQyt",
        "outputId": "d5a018a4-ab38-4430-e099-38e985a2fb14"
      },
      "execution_count": null,
      "outputs": [
        {
          "output_type": "execute_result",
          "data": {
            "text/plain": [
              "['o', 'u', 'a', 'a', 'o', 'u', 'o', 'u']"
            ]
          },
          "metadata": {},
          "execution_count": 50
        }
      ]
    },
    {
      "cell_type": "code",
      "source": [
        "text12"
      ],
      "metadata": {
        "colab": {
          "base_uri": "https://localhost:8080/",
          "height": 36
        },
        "id": "VR7FJCy9NSST",
        "outputId": "fb2746bf-19a8-4e4e-ccbd-18cd10d24d88"
      },
      "execution_count": null,
      "outputs": [
        {
          "output_type": "execute_result",
          "data": {
            "text/plain": [
              "'ouagadougou'"
            ],
            "application/vnd.google.colaboratory.intrinsic+json": {
              "type": "string"
            }
          },
          "metadata": {},
          "execution_count": 51
        }
      ]
    },
    {
      "cell_type": "code",
      "source": [
        "re.findall(r'[^aeiou]', text12)"
      ],
      "metadata": {
        "colab": {
          "base_uri": "https://localhost:8080/"
        },
        "id": "NKGfph2RNSVL",
        "outputId": "8c561719-f081-441e-f7e5-7bda6e36015e"
      },
      "execution_count": null,
      "outputs": [
        {
          "output_type": "execute_result",
          "data": {
            "text/plain": [
              "['g', 'd', 'g']"
            ]
          },
          "metadata": {},
          "execution_count": 53
        }
      ]
    },
    {
      "cell_type": "code",
      "source": [
        "# Regular expression for Dates\n"
      ],
      "metadata": {
        "id": "os74V-ILNSZv"
      },
      "execution_count": null,
      "outputs": []
    },
    {
      "cell_type": "code",
      "source": [],
      "metadata": {
        "id": "WwYsWygYNSc0"
      },
      "execution_count": null,
      "outputs": []
    },
    {
      "cell_type": "markdown",
      "source": [
        "# Expresiones Regulares"
      ],
      "metadata": {
        "id": "OjN1POD9dyKb"
      }
    },
    {
      "cell_type": "code",
      "source": [
        "# Una expresión regular es una secuencia de caracteres que forman un patrón. Se basa en encontrar, buscar o manipular\n",
        "# cadenas de texto basadas en patrones.\n",
        "# Importmamos la libreria re para trabajar con expresiones regulares\n",
        "# en Python\n",
        "import re\n",
        "\n",
        "# Leemo el archivo ubicado en Google Drive\n",
        "# El archivo se abre en modo lectura por defecto\n",
        "man =  open('/content/drive/MyDrive/mbox-short.txt')\n",
        "\n",
        "# Bucle for que itera sobre cada línea del archivo\n",
        "# en cada iteración la variable linea contiene el contenido de una linea dle archivo\n",
        "for linea in man:\n",
        "  #rstrip() elimina los caracteres de espacio y salto de linea\n",
        "  # es util para evitar que los saltos de línea sean parte del procesamiento\n",
        "  # para limpiar el texto antes de buscar el patron\n",
        "  linea = linea.rstrip()\n",
        "\n",
        "  #re.search() busca una coincidencia de la expresión regular from\n",
        "  # Si se encuentra la coincidencia en la variable linea se imprime\n",
        "  if re.search('From:', linea):\n",
        "    print(linea)"
      ],
      "metadata": {
        "id": "ogEbOIxGvDph",
        "colab": {
          "base_uri": "https://localhost:8080/"
        },
        "outputId": "0a509022-1af3-43e2-ee2b-d80ce277009e"
      },
      "execution_count": null,
      "outputs": [
        {
          "output_type": "stream",
          "name": "stdout",
          "text": [
            "From: stephen.marquard@uct.ac.za\n",
            "From: louis@media.berkeley.edu\n",
            "From: zqian@umich.edu\n",
            "From: rjlowe@iupui.edu\n",
            "From: zqian@umich.edu\n",
            "From: rjlowe@iupui.edu\n",
            "From: cwen@iupui.edu\n",
            "From: cwen@iupui.edu\n",
            "From: gsilver@umich.edu\n",
            "From: gsilver@umich.edu\n",
            "From: zqian@umich.edu\n",
            "From: gsilver@umich.edu\n",
            "From: wagnermr@iupui.edu\n",
            "From: zqian@umich.edu\n",
            "From: antranig@caret.cam.ac.uk\n",
            "From: gopal.ramasammycook@gmail.com\n",
            "From: david.horwitz@uct.ac.za\n",
            "From: david.horwitz@uct.ac.za\n",
            "From: david.horwitz@uct.ac.za\n",
            "From: david.horwitz@uct.ac.za\n",
            "From: stephen.marquard@uct.ac.za\n",
            "From: louis@media.berkeley.edu\n",
            "From: louis@media.berkeley.edu\n",
            "From: ray@media.berkeley.edu\n",
            "From: cwen@iupui.edu\n",
            "From: cwen@iupui.edu\n",
            "From: cwen@iupui.edu\n"
          ]
        }
      ]
    },
    {
      "cell_type": "code",
      "source": [
        "# Búsqueda con caracteres especiales (Metacaracteres)\n",
        "resultado =  re.search('^hola', 'hola mundo') # coincide\n",
        "# imprimirá un objecto que representa la coincidencia\n",
        "# entre la información que se imprimirá se encuentra la posición en la que\n",
        "# se cnuentra la coincidencia y que se almacena en una tupla llamada\n",
        "# span\n",
        "print(resultado)\n",
        "\n",
        "resultado =  re.search('^hola', 'Di hola mundo') # no coincide\n",
        "print(resultado)"
      ],
      "metadata": {
        "colab": {
          "base_uri": "https://localhost:8080/"
        },
        "id": "3rioUWP7_59N",
        "outputId": "258387f3-d023-4b6e-b40c-0b05169d3779"
      },
      "execution_count": null,
      "outputs": [
        {
          "output_type": "stream",
          "name": "stdout",
          "text": [
            "<re.Match object; span=(0, 4), match='hola'>\n",
            "None\n"
          ]
        }
      ]
    },
    {
      "cell_type": "code",
      "source": [
        "# buscar todas las líneas que empiecen con From:\n",
        "man = open('/content/drive/MyDrive/mbox-short.txt')\n",
        "for linea in man:\n",
        "  linea =  linea.rstrip()\n",
        "  #^From: coincidirá con cualquier cadena que comience con From:\n",
        "  if re.search('^From:', linea):\n",
        "    print(linea)"
      ],
      "metadata": {
        "colab": {
          "base_uri": "https://localhost:8080/"
        },
        "id": "EDy5uQ-9BfhF",
        "outputId": "5e955bdf-6166-4eb6-dbc9-675fbe16b9b1"
      },
      "execution_count": null,
      "outputs": [
        {
          "output_type": "stream",
          "name": "stdout",
          "text": [
            "From: stephen.marquard@uct.ac.za\n",
            "From: louis@media.berkeley.edu\n",
            "From: zqian@umich.edu\n",
            "From: rjlowe@iupui.edu\n",
            "From: zqian@umich.edu\n",
            "From: rjlowe@iupui.edu\n",
            "From: cwen@iupui.edu\n",
            "From: cwen@iupui.edu\n",
            "From: gsilver@umich.edu\n",
            "From: gsilver@umich.edu\n",
            "From: zqian@umich.edu\n",
            "From: gsilver@umich.edu\n",
            "From: wagnermr@iupui.edu\n",
            "From: zqian@umich.edu\n",
            "From: antranig@caret.cam.ac.uk\n",
            "From: gopal.ramasammycook@gmail.com\n",
            "From: david.horwitz@uct.ac.za\n",
            "From: david.horwitz@uct.ac.za\n",
            "From: david.horwitz@uct.ac.za\n",
            "From: david.horwitz@uct.ac.za\n",
            "From: stephen.marquard@uct.ac.za\n",
            "From: louis@media.berkeley.edu\n",
            "From: louis@media.berkeley.edu\n",
            "From: ray@media.berkeley.edu\n",
            "From: cwen@iupui.edu\n",
            "From: cwen@iupui.edu\n",
            "From: cwen@iupui.edu\n"
          ]
        }
      ]
    },
    {
      "cell_type": "code",
      "source": [
        "import re\n",
        "s =  'Una nota de csev@umich.edu a cwen@iupui.edu sobre una reunión @ 2PM'\n",
        "lst = re.findall(r'\\S+@\\S+', s)\n",
        "print(lst)"
      ],
      "metadata": {
        "colab": {
          "base_uri": "https://localhost:8080/"
        },
        "id": "ZlrlWPEYHmjT",
        "outputId": "4a135d2f-2c03-434a-c003-1724931aea66"
      },
      "execution_count": null,
      "outputs": [
        {
          "output_type": "stream",
          "name": "stdout",
          "text": [
            "['csev@umich.edu', 'cwen@iupui.edu']\n"
          ]
        }
      ]
    },
    {
      "cell_type": "code",
      "source": [
        "# Busqueda de líneas que tengan una arroba entre caracteres\n",
        "import re\n",
        "man =  open('/content/drive/MyDrive/mbox-short.txt')\n",
        "for linea in man:\n",
        "  linea =  linea.rstrip()\n",
        "  x =  re.findall(r'\\S+@\\S+', linea)\n",
        "  if len(x) > 0:\n",
        "    print(x)"
      ],
      "metadata": {
        "colab": {
          "base_uri": "https://localhost:8080/"
        },
        "id": "CDS9gllWSdKW",
        "outputId": "f0ce650f-b1a9-4a71-9570-e65fffb6f456"
      },
      "execution_count": null,
      "outputs": [
        {
          "output_type": "stream",
          "name": "stdout",
          "text": [
            "['stephen.marquard@uct.ac.za']\n",
            "['<postmaster@collab.sakaiproject.org>']\n",
            "['<200801051412.m05ECIaH010327@nakamura.uits.iupui.edu>']\n",
            "['<source@collab.sakaiproject.org>;']\n",
            "['<source@collab.sakaiproject.org>;']\n",
            "['<source@collab.sakaiproject.org>;']\n",
            "['apache@localhost)']\n",
            "['source@collab.sakaiproject.org;']\n",
            "['stephen.marquard@uct.ac.za']\n",
            "['source@collab.sakaiproject.org']\n",
            "['stephen.marquard@uct.ac.za']\n",
            "['stephen.marquard@uct.ac.za']\n",
            "['louis@media.berkeley.edu']\n",
            "['<postmaster@collab.sakaiproject.org>']\n",
            "['<200801042308.m04N8v6O008125@nakamura.uits.iupui.edu>']\n",
            "['<source@collab.sakaiproject.org>;']\n",
            "['<source@collab.sakaiproject.org>;']\n",
            "['<source@collab.sakaiproject.org>;']\n",
            "['apache@localhost)']\n",
            "['source@collab.sakaiproject.org;']\n",
            "['louis@media.berkeley.edu']\n",
            "['source@collab.sakaiproject.org']\n",
            "['louis@media.berkeley.edu']\n",
            "['louis@media.berkeley.edu']\n",
            "['zqian@umich.edu']\n",
            "['<postmaster@collab.sakaiproject.org>']\n",
            "['<200801042109.m04L92hb007923@nakamura.uits.iupui.edu>']\n",
            "['<source@collab.sakaiproject.org>;']\n",
            "['<source@collab.sakaiproject.org>;']\n",
            "['<source@collab.sakaiproject.org>;']\n",
            "['apache@localhost)']\n",
            "['source@collab.sakaiproject.org;']\n",
            "['zqian@umich.edu']\n",
            "['source@collab.sakaiproject.org']\n",
            "['zqian@umich.edu']\n",
            "['zqian@umich.edu']\n",
            "['rjlowe@iupui.edu']\n",
            "['<postmaster@collab.sakaiproject.org>']\n",
            "['<200801042044.m04Kiem3007881@nakamura.uits.iupui.edu>']\n",
            "['<source@collab.sakaiproject.org>;']\n",
            "['<source@collab.sakaiproject.org>;']\n",
            "['<source@collab.sakaiproject.org>;']\n",
            "['apache@localhost)']\n",
            "['source@collab.sakaiproject.org;']\n",
            "['rjlowe@iupui.edu']\n",
            "['source@collab.sakaiproject.org']\n",
            "['rjlowe@iupui.edu']\n",
            "['rjlowe@iupui.edu']\n",
            "['zqian@umich.edu']\n",
            "['<postmaster@collab.sakaiproject.org>']\n",
            "['<200801042001.m04K1cO0007738@nakamura.uits.iupui.edu>']\n",
            "['<source@collab.sakaiproject.org>;']\n",
            "['<source@collab.sakaiproject.org>;']\n",
            "['<source@collab.sakaiproject.org>;']\n",
            "['apache@localhost)']\n",
            "['source@collab.sakaiproject.org;']\n",
            "['zqian@umich.edu']\n",
            "['source@collab.sakaiproject.org']\n",
            "['zqian@umich.edu']\n",
            "['zqian@umich.edu']\n",
            "['zqian@umich.edu']\n",
            "['rjlowe@iupui.edu']\n",
            "['<postmaster@collab.sakaiproject.org>']\n",
            "['<200801041948.m04JmdwO007705@nakamura.uits.iupui.edu>']\n",
            "['<source@collab.sakaiproject.org>;']\n",
            "['<source@collab.sakaiproject.org>;']\n",
            "['<source@collab.sakaiproject.org>;']\n",
            "['apache@localhost)']\n",
            "['source@collab.sakaiproject.org;']\n",
            "['rjlowe@iupui.edu']\n",
            "['source@collab.sakaiproject.org']\n",
            "['rjlowe@iupui.edu']\n",
            "['rjlowe@iupui.edu']\n",
            "['cwen@iupui.edu']\n",
            "['<postmaster@collab.sakaiproject.org>']\n",
            "['<200801041635.m04GZQGZ007313@nakamura.uits.iupui.edu>']\n",
            "['<source@collab.sakaiproject.org>;']\n",
            "['<source@collab.sakaiproject.org>;']\n",
            "['<source@collab.sakaiproject.org>;']\n",
            "['apache@localhost)']\n",
            "['source@collab.sakaiproject.org;']\n",
            "['cwen@iupui.edu']\n",
            "['source@collab.sakaiproject.org']\n",
            "['cwen@iupui.edu']\n",
            "['cwen@iupui.edu']\n",
            "['hu2@iupui.edu']\n",
            "['cwen@iupui.edu']\n",
            "['<postmaster@collab.sakaiproject.org>']\n",
            "['<200801041633.m04GX6eG007292@nakamura.uits.iupui.edu>']\n",
            "['<source@collab.sakaiproject.org>;']\n",
            "['<source@collab.sakaiproject.org>;']\n",
            "['<source@collab.sakaiproject.org>;']\n",
            "['apache@localhost)']\n",
            "['source@collab.sakaiproject.org;']\n",
            "['cwen@iupui.edu']\n",
            "['source@collab.sakaiproject.org']\n",
            "['cwen@iupui.edu']\n",
            "['cwen@iupui.edu']\n",
            "['hu2@iupui.edu']\n",
            "['gsilver@umich.edu']\n",
            "['<postmaster@collab.sakaiproject.org>']\n",
            "['<200801041611.m04GB1Lb007221@nakamura.uits.iupui.edu>']\n",
            "['<source@collab.sakaiproject.org>;']\n",
            "['<source@collab.sakaiproject.org>;']\n",
            "['<source@collab.sakaiproject.org>;']\n",
            "['apache@localhost)']\n",
            "['source@collab.sakaiproject.org;']\n",
            "['gsilver@umich.edu']\n",
            "['source@collab.sakaiproject.org']\n",
            "['gsilver@umich.edu']\n",
            "['gsilver@umich.edu']\n",
            "['gsilver@umich.edu']\n",
            "['<postmaster@collab.sakaiproject.org>']\n",
            "['<200801041610.m04GA5KP007209@nakamura.uits.iupui.edu>']\n",
            "['<source@collab.sakaiproject.org>;']\n",
            "['<source@collab.sakaiproject.org>;']\n",
            "['<source@collab.sakaiproject.org>;']\n",
            "['apache@localhost)']\n",
            "['source@collab.sakaiproject.org;']\n",
            "['gsilver@umich.edu']\n",
            "['source@collab.sakaiproject.org']\n",
            "['gsilver@umich.edu']\n",
            "['gsilver@umich.edu']\n",
            "['zqian@umich.edu']\n",
            "['<postmaster@collab.sakaiproject.org>']\n",
            "['<200801041609.m04G9EuX007197@nakamura.uits.iupui.edu>']\n",
            "['<source@collab.sakaiproject.org>;']\n",
            "['<source@collab.sakaiproject.org>;']\n",
            "['<source@collab.sakaiproject.org>;']\n",
            "['apache@localhost)']\n",
            "['source@collab.sakaiproject.org;']\n",
            "['zqian@umich.edu']\n",
            "['source@collab.sakaiproject.org']\n",
            "['zqian@umich.edu']\n",
            "['zqian@umich.edu']\n",
            "['gsilver@umich.edu']\n",
            "['<postmaster@collab.sakaiproject.org>']\n",
            "['<200801041608.m04G8d7w007184@nakamura.uits.iupui.edu>']\n",
            "['<source@collab.sakaiproject.org>;']\n",
            "['<source@collab.sakaiproject.org>;']\n",
            "['<source@collab.sakaiproject.org>;']\n",
            "['apache@localhost)']\n",
            "['source@collab.sakaiproject.org;']\n",
            "['gsilver@umich.edu']\n",
            "['source@collab.sakaiproject.org']\n",
            "['gsilver@umich.edu']\n",
            "['gsilver@umich.edu']\n",
            "['wagnermr@iupui.edu']\n",
            "['<postmaster@collab.sakaiproject.org>']\n",
            "['<200801041537.m04Fb6Ci007092@nakamura.uits.iupui.edu>']\n",
            "['<source@collab.sakaiproject.org>;']\n",
            "['<source@collab.sakaiproject.org>;']\n",
            "['<source@collab.sakaiproject.org>;']\n",
            "['apache@localhost)']\n",
            "['source@collab.sakaiproject.org;']\n",
            "['wagnermr@iupui.edu']\n",
            "['source@collab.sakaiproject.org']\n",
            "['wagnermr@iupui.edu']\n",
            "['wagnermr@iupui.edu']\n",
            "['zqian@umich.edu']\n",
            "['<postmaster@collab.sakaiproject.org>']\n",
            "['<200801041515.m04FFv42007050@nakamura.uits.iupui.edu>']\n",
            "['<source@collab.sakaiproject.org>;']\n",
            "['<source@collab.sakaiproject.org>;']\n",
            "['<source@collab.sakaiproject.org>;']\n",
            "['apache@localhost)']\n",
            "['source@collab.sakaiproject.org;']\n",
            "['zqian@umich.edu']\n",
            "['source@collab.sakaiproject.org']\n",
            "['zqian@umich.edu']\n",
            "['zqian@umich.edu']\n",
            "['antranig@caret.cam.ac.uk']\n",
            "['<postmaster@collab.sakaiproject.org>']\n",
            "['<200801041502.m04F21Jo007031@nakamura.uits.iupui.edu>']\n",
            "['<source@collab.sakaiproject.org>;']\n",
            "['<source@collab.sakaiproject.org>;']\n",
            "['<source@collab.sakaiproject.org>;']\n",
            "['apache@localhost)']\n",
            "['source@collab.sakaiproject.org;']\n",
            "['antranig@caret.cam.ac.uk']\n",
            "['source@collab.sakaiproject.org']\n",
            "['antranig@caret.cam.ac.uk']\n",
            "['antranig@caret.cam.ac.uk']\n",
            "['gopal.ramasammycook@gmail.com']\n",
            "['<postmaster@collab.sakaiproject.org>']\n",
            "['<200801041403.m04E3psW006926@nakamura.uits.iupui.edu>']\n",
            "['<source@collab.sakaiproject.org>;']\n",
            "['<source@collab.sakaiproject.org>;']\n",
            "['<source@collab.sakaiproject.org>;']\n",
            "['apache@localhost)']\n",
            "['source@collab.sakaiproject.org;']\n",
            "['gopal.ramasammycook@gmail.com']\n",
            "['source@collab.sakaiproject.org']\n",
            "['gopal.ramasammycook@gmail.com']\n",
            "['gopal.ramasammycook@gmail.com']\n",
            "['david.horwitz@uct.ac.za']\n",
            "['<postmaster@collab.sakaiproject.org>']\n",
            "['<200801041200.m04C0gfK006793@nakamura.uits.iupui.edu>']\n",
            "['<source@collab.sakaiproject.org>;']\n",
            "['<source@collab.sakaiproject.org>;']\n",
            "['<source@collab.sakaiproject.org>;']\n",
            "['apache@localhost)']\n",
            "['source@collab.sakaiproject.org;']\n",
            "['david.horwitz@uct.ac.za']\n",
            "['source@collab.sakaiproject.org']\n",
            "['david.horwitz@uct.ac.za']\n",
            "['david.horwitz@uct.ac.za']\n",
            "['david.horwitz@uct.ac.za']\n",
            "['dhorwitz@david-horwitz-6:~/branchManagemnt/sakai_2-5-x>']\n",
            "['dhorwitz@david-horwitz-6:~/branchManagemnt/sakai_2-5-x>']\n",
            "['david.horwitz@uct.ac.za']\n",
            "['<postmaster@collab.sakaiproject.org>']\n",
            "['<200801041106.m04B6lK3006677@nakamura.uits.iupui.edu>']\n",
            "['<source@collab.sakaiproject.org>;']\n",
            "['<source@collab.sakaiproject.org>;']\n",
            "['<source@collab.sakaiproject.org>;']\n",
            "['apache@localhost)']\n",
            "['source@collab.sakaiproject.org;']\n",
            "['david.horwitz@uct.ac.za']\n",
            "['source@collab.sakaiproject.org']\n",
            "['david.horwitz@uct.ac.za']\n",
            "['david.horwitz@uct.ac.za']\n",
            "['david.horwitz@uct.ac.za']\n",
            "['<postmaster@collab.sakaiproject.org>']\n",
            "['<200801040947.m049lUxo006517@nakamura.uits.iupui.edu>']\n",
            "['<source@collab.sakaiproject.org>;']\n",
            "['<source@collab.sakaiproject.org>;']\n",
            "['<source@collab.sakaiproject.org>;']\n",
            "['apache@localhost)']\n",
            "['source@collab.sakaiproject.org;']\n",
            "['david.horwitz@uct.ac.za']\n",
            "['source@collab.sakaiproject.org']\n",
            "['david.horwitz@uct.ac.za']\n",
            "['david.horwitz@uct.ac.za']\n",
            "['josrodri@iupui.edu']\n",
            "['dhorwitz@david-horwitz-6:~/branchManagemnt/sakai_2-5-x>']\n",
            "['david.horwitz@uct.ac.za']\n",
            "['<postmaster@collab.sakaiproject.org>']\n",
            "['<200801040932.m049W2i5006493@nakamura.uits.iupui.edu>']\n",
            "['<source@collab.sakaiproject.org>;']\n",
            "['<source@collab.sakaiproject.org>;']\n",
            "['<source@collab.sakaiproject.org>;']\n",
            "['apache@localhost)']\n",
            "['source@collab.sakaiproject.org;']\n",
            "['david.horwitz@uct.ac.za']\n",
            "['source@collab.sakaiproject.org']\n",
            "['david.horwitz@uct.ac.za']\n",
            "['david.horwitz@uct.ac.za']\n",
            "['josrodri@iupui.edu']\n",
            "['dhorwitz@david-horwitz-6:~/branchManagemnt/sakai_2-5-x>']\n",
            "['stephen.marquard@uct.ac.za']\n",
            "['<postmaster@collab.sakaiproject.org>']\n",
            "['<200801040905.m0495rWB006420@nakamura.uits.iupui.edu>']\n",
            "['<source@collab.sakaiproject.org>;']\n",
            "['<source@collab.sakaiproject.org>;']\n",
            "['<source@collab.sakaiproject.org>;']\n",
            "['apache@localhost)']\n",
            "['source@collab.sakaiproject.org;']\n",
            "['stephen.marquard@uct.ac.za']\n",
            "['source@collab.sakaiproject.org']\n",
            "['stephen.marquard@uct.ac.za']\n",
            "['stephen.marquard@uct.ac.za']\n",
            "['louis@media.berkeley.edu']\n",
            "['<postmaster@collab.sakaiproject.org>']\n",
            "['<200801040023.m040NpCc005473@nakamura.uits.iupui.edu>']\n",
            "['<source@collab.sakaiproject.org>;']\n",
            "['<source@collab.sakaiproject.org>;']\n",
            "['<source@collab.sakaiproject.org>;']\n",
            "['apache@localhost)']\n",
            "['source@collab.sakaiproject.org;']\n",
            "['louis@media.berkeley.edu']\n",
            "['source@collab.sakaiproject.org']\n",
            "['louis@media.berkeley.edu']\n",
            "['louis@media.berkeley.edu']\n",
            "['louis@media.berkeley.edu']\n",
            "['<postmaster@collab.sakaiproject.org>']\n",
            "['<200801032216.m03MGhDa005292@nakamura.uits.iupui.edu>']\n",
            "['<source@collab.sakaiproject.org>;']\n",
            "['<source@collab.sakaiproject.org>;']\n",
            "['<source@collab.sakaiproject.org>;']\n",
            "['apache@localhost)']\n",
            "['source@collab.sakaiproject.org;']\n",
            "['louis@media.berkeley.edu']\n",
            "['source@collab.sakaiproject.org']\n",
            "['louis@media.berkeley.edu']\n",
            "['louis@media.berkeley.edu']\n",
            "['ray@media.berkeley.edu']\n",
            "['<postmaster@collab.sakaiproject.org>']\n",
            "['<200801032205.m03M5Ea7005273@nakamura.uits.iupui.edu>']\n",
            "['<source@collab.sakaiproject.org>;']\n",
            "['<source@collab.sakaiproject.org>;']\n",
            "['<source@collab.sakaiproject.org>;']\n",
            "['apache@localhost)']\n",
            "['source@collab.sakaiproject.org;']\n",
            "['ray@media.berkeley.edu']\n",
            "['source@collab.sakaiproject.org']\n",
            "['ray@media.berkeley.edu']\n",
            "['ray@media.berkeley.edu']\n",
            "['cwen@iupui.edu']\n",
            "['<postmaster@collab.sakaiproject.org>']\n",
            "['<200801032133.m03LX3gG005191@nakamura.uits.iupui.edu>']\n",
            "['<source@collab.sakaiproject.org>;']\n",
            "['<source@collab.sakaiproject.org>;']\n",
            "['<source@collab.sakaiproject.org>;']\n",
            "['apache@localhost)']\n",
            "['source@collab.sakaiproject.org;']\n",
            "['cwen@iupui.edu']\n",
            "['source@collab.sakaiproject.org']\n",
            "['cwen@iupui.edu']\n",
            "['cwen@iupui.edu']\n",
            "['cwen@iupui.edu']\n",
            "['<postmaster@collab.sakaiproject.org>']\n",
            "['<200801032127.m03LRUqH005177@nakamura.uits.iupui.edu>']\n",
            "['<source@collab.sakaiproject.org>;']\n",
            "['<source@collab.sakaiproject.org>;']\n",
            "['<source@collab.sakaiproject.org>;']\n",
            "['apache@localhost)']\n",
            "['source@collab.sakaiproject.org;']\n",
            "['cwen@iupui.edu']\n",
            "['source@collab.sakaiproject.org']\n",
            "['cwen@iupui.edu']\n",
            "['cwen@iupui.edu']\n",
            "['wagnermr@iupui.edu']\n",
            "['cwen@iupui.edu']\n",
            "['<postmaster@collab.sakaiproject.org>']\n",
            "['<200801032122.m03LMFo4005148@nakamura.uits.iupui.edu>']\n",
            "['<source@collab.sakaiproject.org>;']\n",
            "['<source@collab.sakaiproject.org>;']\n",
            "['<source@collab.sakaiproject.org>;']\n",
            "['apache@localhost)']\n",
            "['source@collab.sakaiproject.org;']\n",
            "['cwen@iupui.edu']\n",
            "['source@collab.sakaiproject.org']\n",
            "['cwen@iupui.edu']\n",
            "['cwen@iupui.edu']\n",
            "['wagnermr@iupui.edu']\n"
          ]
        }
      ]
    },
    {
      "cell_type": "code",
      "source": [
        "# Busqueda de líneas que tengan una arroba entre caracteres\n",
        "# Los caracteres deben ser una letra o un nummero\n",
        "import re\n",
        "man =  open('/content/drive/MyDrive/mbox-short.txt')\n",
        "for linea in man:\n",
        "  x =  re.findall(r'[a-zA-Z0-9]\\S+@\\S+[a-zA-Z]', linea)\n",
        "  if len(x) > 0:\n",
        "    print(x)"
      ],
      "metadata": {
        "colab": {
          "base_uri": "https://localhost:8080/"
        },
        "id": "o4APVkrtTnY8",
        "outputId": "b04762f3-87d9-4a55-d38d-c610a1c8dcfa"
      },
      "execution_count": null,
      "outputs": [
        {
          "output_type": "stream",
          "name": "stdout",
          "text": [
            "['stephen.marquard@uct.ac.za']\n",
            "['postmaster@collab.sakaiproject.org']\n",
            "['200801051412.m05ECIaH010327@nakamura.uits.iupui.edu']\n",
            "['source@collab.sakaiproject.org']\n",
            "['source@collab.sakaiproject.org']\n",
            "['source@collab.sakaiproject.org']\n",
            "['apache@localhost']\n",
            "['source@collab.sakaiproject.org']\n",
            "['stephen.marquard@uct.ac.za']\n",
            "['source@collab.sakaiproject.org']\n",
            "['stephen.marquard@uct.ac.za']\n",
            "['stephen.marquard@uct.ac.za']\n",
            "['louis@media.berkeley.edu']\n",
            "['postmaster@collab.sakaiproject.org']\n",
            "['200801042308.m04N8v6O008125@nakamura.uits.iupui.edu']\n",
            "['source@collab.sakaiproject.org']\n",
            "['source@collab.sakaiproject.org']\n",
            "['source@collab.sakaiproject.org']\n",
            "['apache@localhost']\n",
            "['source@collab.sakaiproject.org']\n",
            "['louis@media.berkeley.edu']\n",
            "['source@collab.sakaiproject.org']\n",
            "['louis@media.berkeley.edu']\n",
            "['louis@media.berkeley.edu']\n",
            "['zqian@umich.edu']\n",
            "['postmaster@collab.sakaiproject.org']\n",
            "['200801042109.m04L92hb007923@nakamura.uits.iupui.edu']\n",
            "['source@collab.sakaiproject.org']\n",
            "['source@collab.sakaiproject.org']\n",
            "['source@collab.sakaiproject.org']\n",
            "['apache@localhost']\n",
            "['source@collab.sakaiproject.org']\n",
            "['zqian@umich.edu']\n",
            "['source@collab.sakaiproject.org']\n",
            "['zqian@umich.edu']\n",
            "['zqian@umich.edu']\n",
            "['rjlowe@iupui.edu']\n",
            "['postmaster@collab.sakaiproject.org']\n",
            "['200801042044.m04Kiem3007881@nakamura.uits.iupui.edu']\n",
            "['source@collab.sakaiproject.org']\n",
            "['source@collab.sakaiproject.org']\n",
            "['source@collab.sakaiproject.org']\n",
            "['apache@localhost']\n",
            "['source@collab.sakaiproject.org']\n",
            "['rjlowe@iupui.edu']\n",
            "['source@collab.sakaiproject.org']\n",
            "['rjlowe@iupui.edu']\n",
            "['rjlowe@iupui.edu']\n",
            "['zqian@umich.edu']\n",
            "['postmaster@collab.sakaiproject.org']\n",
            "['200801042001.m04K1cO0007738@nakamura.uits.iupui.edu']\n",
            "['source@collab.sakaiproject.org']\n",
            "['source@collab.sakaiproject.org']\n",
            "['source@collab.sakaiproject.org']\n",
            "['apache@localhost']\n",
            "['source@collab.sakaiproject.org']\n",
            "['zqian@umich.edu']\n",
            "['source@collab.sakaiproject.org']\n",
            "['zqian@umich.edu']\n",
            "['zqian@umich.edu']\n",
            "['zqian@umich.edu']\n",
            "['rjlowe@iupui.edu']\n",
            "['postmaster@collab.sakaiproject.org']\n",
            "['200801041948.m04JmdwO007705@nakamura.uits.iupui.edu']\n",
            "['source@collab.sakaiproject.org']\n",
            "['source@collab.sakaiproject.org']\n",
            "['source@collab.sakaiproject.org']\n",
            "['apache@localhost']\n",
            "['source@collab.sakaiproject.org']\n",
            "['rjlowe@iupui.edu']\n",
            "['source@collab.sakaiproject.org']\n",
            "['rjlowe@iupui.edu']\n",
            "['rjlowe@iupui.edu']\n",
            "['cwen@iupui.edu']\n",
            "['postmaster@collab.sakaiproject.org']\n",
            "['200801041635.m04GZQGZ007313@nakamura.uits.iupui.edu']\n",
            "['source@collab.sakaiproject.org']\n",
            "['source@collab.sakaiproject.org']\n",
            "['source@collab.sakaiproject.org']\n",
            "['apache@localhost']\n",
            "['source@collab.sakaiproject.org']\n",
            "['cwen@iupui.edu']\n",
            "['source@collab.sakaiproject.org']\n",
            "['cwen@iupui.edu']\n",
            "['cwen@iupui.edu']\n",
            "['hu2@iupui.edu']\n",
            "['cwen@iupui.edu']\n",
            "['postmaster@collab.sakaiproject.org']\n",
            "['200801041633.m04GX6eG007292@nakamura.uits.iupui.edu']\n",
            "['source@collab.sakaiproject.org']\n",
            "['source@collab.sakaiproject.org']\n",
            "['source@collab.sakaiproject.org']\n",
            "['apache@localhost']\n",
            "['source@collab.sakaiproject.org']\n",
            "['cwen@iupui.edu']\n",
            "['source@collab.sakaiproject.org']\n",
            "['cwen@iupui.edu']\n",
            "['cwen@iupui.edu']\n",
            "['hu2@iupui.edu']\n",
            "['gsilver@umich.edu']\n",
            "['postmaster@collab.sakaiproject.org']\n",
            "['200801041611.m04GB1Lb007221@nakamura.uits.iupui.edu']\n",
            "['source@collab.sakaiproject.org']\n",
            "['source@collab.sakaiproject.org']\n",
            "['source@collab.sakaiproject.org']\n",
            "['apache@localhost']\n",
            "['source@collab.sakaiproject.org']\n",
            "['gsilver@umich.edu']\n",
            "['source@collab.sakaiproject.org']\n",
            "['gsilver@umich.edu']\n",
            "['gsilver@umich.edu']\n",
            "['gsilver@umich.edu']\n",
            "['postmaster@collab.sakaiproject.org']\n",
            "['200801041610.m04GA5KP007209@nakamura.uits.iupui.edu']\n",
            "['source@collab.sakaiproject.org']\n",
            "['source@collab.sakaiproject.org']\n",
            "['source@collab.sakaiproject.org']\n",
            "['apache@localhost']\n",
            "['source@collab.sakaiproject.org']\n",
            "['gsilver@umich.edu']\n",
            "['source@collab.sakaiproject.org']\n",
            "['gsilver@umich.edu']\n",
            "['gsilver@umich.edu']\n",
            "['zqian@umich.edu']\n",
            "['postmaster@collab.sakaiproject.org']\n",
            "['200801041609.m04G9EuX007197@nakamura.uits.iupui.edu']\n",
            "['source@collab.sakaiproject.org']\n",
            "['source@collab.sakaiproject.org']\n",
            "['source@collab.sakaiproject.org']\n",
            "['apache@localhost']\n",
            "['source@collab.sakaiproject.org']\n",
            "['zqian@umich.edu']\n",
            "['source@collab.sakaiproject.org']\n",
            "['zqian@umich.edu']\n",
            "['zqian@umich.edu']\n",
            "['gsilver@umich.edu']\n",
            "['postmaster@collab.sakaiproject.org']\n",
            "['200801041608.m04G8d7w007184@nakamura.uits.iupui.edu']\n",
            "['source@collab.sakaiproject.org']\n",
            "['source@collab.sakaiproject.org']\n",
            "['source@collab.sakaiproject.org']\n",
            "['apache@localhost']\n",
            "['source@collab.sakaiproject.org']\n",
            "['gsilver@umich.edu']\n",
            "['source@collab.sakaiproject.org']\n",
            "['gsilver@umich.edu']\n",
            "['gsilver@umich.edu']\n",
            "['wagnermr@iupui.edu']\n",
            "['postmaster@collab.sakaiproject.org']\n",
            "['200801041537.m04Fb6Ci007092@nakamura.uits.iupui.edu']\n",
            "['source@collab.sakaiproject.org']\n",
            "['source@collab.sakaiproject.org']\n",
            "['source@collab.sakaiproject.org']\n",
            "['apache@localhost']\n",
            "['source@collab.sakaiproject.org']\n",
            "['wagnermr@iupui.edu']\n",
            "['source@collab.sakaiproject.org']\n",
            "['wagnermr@iupui.edu']\n",
            "['wagnermr@iupui.edu']\n",
            "['zqian@umich.edu']\n",
            "['postmaster@collab.sakaiproject.org']\n",
            "['200801041515.m04FFv42007050@nakamura.uits.iupui.edu']\n",
            "['source@collab.sakaiproject.org']\n",
            "['source@collab.sakaiproject.org']\n",
            "['source@collab.sakaiproject.org']\n",
            "['apache@localhost']\n",
            "['source@collab.sakaiproject.org']\n",
            "['zqian@umich.edu']\n",
            "['source@collab.sakaiproject.org']\n",
            "['zqian@umich.edu']\n",
            "['zqian@umich.edu']\n",
            "['antranig@caret.cam.ac.uk']\n",
            "['postmaster@collab.sakaiproject.org']\n",
            "['200801041502.m04F21Jo007031@nakamura.uits.iupui.edu']\n",
            "['source@collab.sakaiproject.org']\n",
            "['source@collab.sakaiproject.org']\n",
            "['source@collab.sakaiproject.org']\n",
            "['apache@localhost']\n",
            "['source@collab.sakaiproject.org']\n",
            "['antranig@caret.cam.ac.uk']\n",
            "['source@collab.sakaiproject.org']\n",
            "['antranig@caret.cam.ac.uk']\n",
            "['antranig@caret.cam.ac.uk']\n",
            "['gopal.ramasammycook@gmail.com']\n",
            "['postmaster@collab.sakaiproject.org']\n",
            "['200801041403.m04E3psW006926@nakamura.uits.iupui.edu']\n",
            "['source@collab.sakaiproject.org']\n",
            "['source@collab.sakaiproject.org']\n",
            "['source@collab.sakaiproject.org']\n",
            "['apache@localhost']\n",
            "['source@collab.sakaiproject.org']\n",
            "['gopal.ramasammycook@gmail.com']\n",
            "['source@collab.sakaiproject.org']\n",
            "['gopal.ramasammycook@gmail.com']\n",
            "['gopal.ramasammycook@gmail.com']\n",
            "['david.horwitz@uct.ac.za']\n",
            "['postmaster@collab.sakaiproject.org']\n",
            "['200801041200.m04C0gfK006793@nakamura.uits.iupui.edu']\n",
            "['source@collab.sakaiproject.org']\n",
            "['source@collab.sakaiproject.org']\n",
            "['source@collab.sakaiproject.org']\n",
            "['apache@localhost']\n",
            "['source@collab.sakaiproject.org']\n",
            "['david.horwitz@uct.ac.za']\n",
            "['source@collab.sakaiproject.org']\n",
            "['david.horwitz@uct.ac.za']\n",
            "['david.horwitz@uct.ac.za']\n",
            "['david.horwitz@uct.ac.za']\n",
            "['dhorwitz@david-horwitz-6:~/branchManagemnt/sakai_2-5-x']\n",
            "['dhorwitz@david-horwitz-6:~/branchManagemnt/sakai_2-5-x']\n",
            "['david.horwitz@uct.ac.za']\n",
            "['postmaster@collab.sakaiproject.org']\n",
            "['200801041106.m04B6lK3006677@nakamura.uits.iupui.edu']\n",
            "['source@collab.sakaiproject.org']\n",
            "['source@collab.sakaiproject.org']\n",
            "['source@collab.sakaiproject.org']\n",
            "['apache@localhost']\n",
            "['source@collab.sakaiproject.org']\n",
            "['david.horwitz@uct.ac.za']\n",
            "['source@collab.sakaiproject.org']\n",
            "['david.horwitz@uct.ac.za']\n",
            "['david.horwitz@uct.ac.za']\n",
            "['david.horwitz@uct.ac.za']\n",
            "['postmaster@collab.sakaiproject.org']\n",
            "['200801040947.m049lUxo006517@nakamura.uits.iupui.edu']\n",
            "['source@collab.sakaiproject.org']\n",
            "['source@collab.sakaiproject.org']\n",
            "['source@collab.sakaiproject.org']\n",
            "['apache@localhost']\n",
            "['source@collab.sakaiproject.org']\n",
            "['david.horwitz@uct.ac.za']\n",
            "['source@collab.sakaiproject.org']\n",
            "['david.horwitz@uct.ac.za']\n",
            "['david.horwitz@uct.ac.za']\n",
            "['josrodri@iupui.edu']\n",
            "['dhorwitz@david-horwitz-6:~/branchManagemnt/sakai_2-5-x']\n",
            "['david.horwitz@uct.ac.za']\n",
            "['postmaster@collab.sakaiproject.org']\n",
            "['200801040932.m049W2i5006493@nakamura.uits.iupui.edu']\n",
            "['source@collab.sakaiproject.org']\n",
            "['source@collab.sakaiproject.org']\n",
            "['source@collab.sakaiproject.org']\n",
            "['apache@localhost']\n",
            "['source@collab.sakaiproject.org']\n",
            "['david.horwitz@uct.ac.za']\n",
            "['source@collab.sakaiproject.org']\n",
            "['david.horwitz@uct.ac.za']\n",
            "['david.horwitz@uct.ac.za']\n",
            "['josrodri@iupui.edu']\n",
            "['dhorwitz@david-horwitz-6:~/branchManagemnt/sakai_2-5-x']\n",
            "['stephen.marquard@uct.ac.za']\n",
            "['postmaster@collab.sakaiproject.org']\n",
            "['200801040905.m0495rWB006420@nakamura.uits.iupui.edu']\n",
            "['source@collab.sakaiproject.org']\n",
            "['source@collab.sakaiproject.org']\n",
            "['source@collab.sakaiproject.org']\n",
            "['apache@localhost']\n",
            "['source@collab.sakaiproject.org']\n",
            "['stephen.marquard@uct.ac.za']\n",
            "['source@collab.sakaiproject.org']\n",
            "['stephen.marquard@uct.ac.za']\n",
            "['stephen.marquard@uct.ac.za']\n",
            "['louis@media.berkeley.edu']\n",
            "['postmaster@collab.sakaiproject.org']\n",
            "['200801040023.m040NpCc005473@nakamura.uits.iupui.edu']\n",
            "['source@collab.sakaiproject.org']\n",
            "['source@collab.sakaiproject.org']\n",
            "['source@collab.sakaiproject.org']\n",
            "['apache@localhost']\n",
            "['source@collab.sakaiproject.org']\n",
            "['louis@media.berkeley.edu']\n",
            "['source@collab.sakaiproject.org']\n",
            "['louis@media.berkeley.edu']\n",
            "['louis@media.berkeley.edu']\n",
            "['louis@media.berkeley.edu']\n",
            "['postmaster@collab.sakaiproject.org']\n",
            "['200801032216.m03MGhDa005292@nakamura.uits.iupui.edu']\n",
            "['source@collab.sakaiproject.org']\n",
            "['source@collab.sakaiproject.org']\n",
            "['source@collab.sakaiproject.org']\n",
            "['apache@localhost']\n",
            "['source@collab.sakaiproject.org']\n",
            "['louis@media.berkeley.edu']\n",
            "['source@collab.sakaiproject.org']\n",
            "['louis@media.berkeley.edu']\n",
            "['louis@media.berkeley.edu']\n",
            "['ray@media.berkeley.edu']\n",
            "['postmaster@collab.sakaiproject.org']\n",
            "['200801032205.m03M5Ea7005273@nakamura.uits.iupui.edu']\n",
            "['source@collab.sakaiproject.org']\n",
            "['source@collab.sakaiproject.org']\n",
            "['source@collab.sakaiproject.org']\n",
            "['apache@localhost']\n",
            "['source@collab.sakaiproject.org']\n",
            "['ray@media.berkeley.edu']\n",
            "['source@collab.sakaiproject.org']\n",
            "['ray@media.berkeley.edu']\n",
            "['ray@media.berkeley.edu']\n",
            "['cwen@iupui.edu']\n",
            "['postmaster@collab.sakaiproject.org']\n",
            "['200801032133.m03LX3gG005191@nakamura.uits.iupui.edu']\n",
            "['source@collab.sakaiproject.org']\n",
            "['source@collab.sakaiproject.org']\n",
            "['source@collab.sakaiproject.org']\n",
            "['apache@localhost']\n",
            "['source@collab.sakaiproject.org']\n",
            "['cwen@iupui.edu']\n",
            "['source@collab.sakaiproject.org']\n",
            "['cwen@iupui.edu']\n",
            "['cwen@iupui.edu']\n",
            "['cwen@iupui.edu']\n",
            "['postmaster@collab.sakaiproject.org']\n",
            "['200801032127.m03LRUqH005177@nakamura.uits.iupui.edu']\n",
            "['source@collab.sakaiproject.org']\n",
            "['source@collab.sakaiproject.org']\n",
            "['source@collab.sakaiproject.org']\n",
            "['apache@localhost']\n",
            "['source@collab.sakaiproject.org']\n",
            "['cwen@iupui.edu']\n",
            "['source@collab.sakaiproject.org']\n",
            "['cwen@iupui.edu']\n",
            "['cwen@iupui.edu']\n",
            "['wagnermr@iupui.edu']\n",
            "['cwen@iupui.edu']\n",
            "['postmaster@collab.sakaiproject.org']\n",
            "['200801032122.m03LMFo4005148@nakamura.uits.iupui.edu']\n",
            "['source@collab.sakaiproject.org']\n",
            "['source@collab.sakaiproject.org']\n",
            "['source@collab.sakaiproject.org']\n",
            "['apache@localhost']\n",
            "['source@collab.sakaiproject.org']\n",
            "['cwen@iupui.edu']\n",
            "['source@collab.sakaiproject.org']\n",
            "['cwen@iupui.edu']\n",
            "['cwen@iupui.edu']\n",
            "['wagnermr@iupui.edu']\n"
          ]
        }
      ]
    },
    {
      "cell_type": "markdown",
      "source": [
        "# Combinando búsqueda y extracción"
      ],
      "metadata": {
        "id": "oxp_XhrbVncJ"
      }
    },
    {
      "cell_type": "code",
      "source": [
        "# Busqueda de líneas que comiencen con X seguida de cualquier caracter\n",
        "# que sea espacio y ':' seguido de un espacio y cualquier numero\n",
        "# El número incluye decimales.\n",
        "import re\n",
        "man =  open('/content/drive/MyDrive/mbox-short.txt')\n",
        "for linea in man:\n",
        "    linea = linea.rstrip()\n",
        "    if re.search(r'^X\\S*: [0-9.]+', linea):\n",
        "        print(linea)"
      ],
      "metadata": {
        "colab": {
          "base_uri": "https://localhost:8080/"
        },
        "id": "EjjYTJFvUpzg",
        "outputId": "b0558534-3af8-44e9-f5b2-8eb1452f4c68"
      },
      "execution_count": null,
      "outputs": [
        {
          "output_type": "stream",
          "name": "stdout",
          "text": [
            "X-DSPAM-Confidence: 0.8475\n",
            "X-DSPAM-Probability: 0.0000\n",
            "X-DSPAM-Confidence: 0.6178\n",
            "X-DSPAM-Probability: 0.0000\n",
            "X-DSPAM-Confidence: 0.6961\n",
            "X-DSPAM-Probability: 0.0000\n",
            "X-DSPAM-Confidence: 0.7565\n",
            "X-DSPAM-Probability: 0.0000\n",
            "X-DSPAM-Confidence: 0.7626\n",
            "X-DSPAM-Probability: 0.0000\n",
            "X-DSPAM-Confidence: 0.7556\n",
            "X-DSPAM-Probability: 0.0000\n",
            "X-DSPAM-Confidence: 0.7002\n",
            "X-DSPAM-Probability: 0.0000\n",
            "X-DSPAM-Confidence: 0.7615\n",
            "X-DSPAM-Probability: 0.0000\n",
            "X-DSPAM-Confidence: 0.7601\n",
            "X-DSPAM-Probability: 0.0000\n",
            "X-DSPAM-Confidence: 0.7605\n",
            "X-DSPAM-Probability: 0.0000\n",
            "X-DSPAM-Confidence: 0.6959\n",
            "X-DSPAM-Probability: 0.0000\n",
            "X-DSPAM-Confidence: 0.7606\n",
            "X-DSPAM-Probability: 0.0000\n",
            "X-DSPAM-Confidence: 0.7559\n",
            "X-DSPAM-Probability: 0.0000\n",
            "X-DSPAM-Confidence: 0.7605\n",
            "X-DSPAM-Probability: 0.0000\n",
            "X-DSPAM-Confidence: 0.6932\n",
            "X-DSPAM-Probability: 0.0000\n",
            "X-DSPAM-Confidence: 0.7558\n",
            "X-DSPAM-Probability: 0.0000\n",
            "X-DSPAM-Confidence: 0.6526\n",
            "X-DSPAM-Probability: 0.0000\n",
            "X-DSPAM-Confidence: 0.6948\n",
            "X-DSPAM-Probability: 0.0000\n",
            "X-DSPAM-Confidence: 0.6528\n",
            "X-DSPAM-Probability: 0.0000\n",
            "X-DSPAM-Confidence: 0.7002\n",
            "X-DSPAM-Probability: 0.0000\n",
            "X-DSPAM-Confidence: 0.7554\n",
            "X-DSPAM-Probability: 0.0000\n",
            "X-DSPAM-Confidence: 0.6956\n",
            "X-DSPAM-Probability: 0.0000\n",
            "X-DSPAM-Confidence: 0.6959\n",
            "X-DSPAM-Probability: 0.0000\n",
            "X-DSPAM-Confidence: 0.7556\n",
            "X-DSPAM-Probability: 0.0000\n",
            "X-DSPAM-Confidence: 0.9846\n",
            "X-DSPAM-Probability: 0.0000\n",
            "X-DSPAM-Confidence: 0.8509\n",
            "X-DSPAM-Probability: 0.0000\n",
            "X-DSPAM-Confidence: 0.9907\n",
            "X-DSPAM-Probability: 0.0000\n"
          ]
        }
      ]
    },
    {
      "cell_type": "code",
      "source": [
        "# Busqueda de líneas que comience con X seguida de cualquier caracter que\n",
        "# no sea espacio en blanco y : seguido de un espacio y un número\n",
        "# el número puede inlcuir decimales\n",
        "# despues imprimir el número si es mayor a   cero\n",
        "man =  open('/content/drive/MyDrive/mbox-short.txt')\n",
        "for linea in man:\n",
        "    linea = linea.rstrip()\n",
        "    x = re.findall(r'^X\\S*: ([0-9.]+)', linea)\n",
        "    if len(x) > 0:\n",
        "        print(x)"
      ],
      "metadata": {
        "colab": {
          "base_uri": "https://localhost:8080/"
        },
        "id": "O59Golp0-4IR",
        "outputId": "7425960b-8ea2-4ffa-a661-43a70c31753f"
      },
      "execution_count": null,
      "outputs": [
        {
          "output_type": "stream",
          "name": "stdout",
          "text": [
            "['0.8475']\n",
            "['0.0000']\n",
            "['0.6178']\n",
            "['0.0000']\n",
            "['0.6961']\n",
            "['0.0000']\n",
            "['0.7565']\n",
            "['0.0000']\n",
            "['0.7626']\n",
            "['0.0000']\n",
            "['0.7556']\n",
            "['0.0000']\n",
            "['0.7002']\n",
            "['0.0000']\n",
            "['0.7615']\n",
            "['0.0000']\n",
            "['0.7601']\n",
            "['0.0000']\n",
            "['0.7605']\n",
            "['0.0000']\n",
            "['0.6959']\n",
            "['0.0000']\n",
            "['0.7606']\n",
            "['0.0000']\n",
            "['0.7559']\n",
            "['0.0000']\n",
            "['0.7605']\n",
            "['0.0000']\n",
            "['0.6932']\n",
            "['0.0000']\n",
            "['0.7558']\n",
            "['0.0000']\n",
            "['0.6526']\n",
            "['0.0000']\n",
            "['0.6948']\n",
            "['0.0000']\n",
            "['0.6528']\n",
            "['0.0000']\n",
            "['0.7002']\n",
            "['0.0000']\n",
            "['0.7554']\n",
            "['0.0000']\n",
            "['0.6956']\n",
            "['0.0000']\n",
            "['0.6959']\n",
            "['0.0000']\n",
            "['0.7556']\n",
            "['0.0000']\n",
            "['0.9846']\n",
            "['0.0000']\n",
            "['0.8509']\n",
            "['0.0000']\n",
            "['0.9907']\n",
            "['0.0000']\n"
          ]
        }
      ]
    },
    {
      "cell_type": "code",
      "source": [
        "# Búsqueda de líneas que comience con Details rev#\n",
        "# Seguido de números y\n",
        "# Después imprimir el número si es mayor a ceo\n",
        "import re\n",
        "man =  open('/content/drive/MyDrive/mbox-short.txt')\n",
        "for linea in man:\n",
        "  linea  =  linea.rstrip()\n",
        "  x =  re.findall('^Details:.*rev=([0-9.]+)', linea)\n",
        "  if len(x) > 0:\n",
        "    print(x)"
      ],
      "metadata": {
        "colab": {
          "base_uri": "https://localhost:8080/"
        },
        "id": "DJdX9G0u_s-3",
        "outputId": "c474570d-8dd3-4bea-c3b5-92030c312d2f"
      },
      "execution_count": null,
      "outputs": [
        {
          "output_type": "stream",
          "name": "stdout",
          "text": [
            "['39772']\n",
            "['39771']\n",
            "['39770']\n",
            "['39769']\n",
            "['39766']\n",
            "['39765']\n",
            "['39764']\n",
            "['39763']\n",
            "['39762']\n",
            "['39761']\n",
            "['39760']\n",
            "['39759']\n",
            "['39758']\n",
            "['39757']\n",
            "['39756']\n",
            "['39755']\n",
            "['39754']\n",
            "['39753']\n",
            "['39752']\n",
            "['39751']\n",
            "['39750']\n",
            "['39749']\n",
            "['39746']\n",
            "['39745']\n",
            "['39744']\n",
            "['39743']\n",
            "['39742']\n"
          ]
        }
      ]
    },
    {
      "cell_type": "markdown",
      "source": [
        "# Practica 1 | Manejo de Archivos"
      ],
      "metadata": {
        "id": "IO1RDF-AOP-Q"
      }
    },
    {
      "cell_type": "code",
      "source": [
        "import  numpy as np\n",
        "import statistics\n",
        "\n",
        "# Carga texto línea por línea\n",
        "texto = open('/content/drive/MyDrive/mbox.txt')\n",
        "\n",
        "# Crea una lista vacía donde se guardarán los resultados\n",
        "mediciones = []\n",
        "# Procesa las línas que empiezan con \"X-DSPA-Confidence\"\n",
        "for linea in texto:\n",
        "  if linea.startswith('X-DSPAM-Confidence'):\n",
        "    # Dividimos la líneas 2  partes, y no quedamos con la parte númerica\n",
        "    numero =  float(linea.split(':')[1])\n",
        "    # Anexamos en una lista los valores encontrados\n",
        "    mediciones.append(numero)\n",
        "\n",
        "\n",
        "# Calcula número, suma, promedio y variance de los datos\n",
        "print(\"La cantidad de datos extraídos es: \", len(mediciones))\n",
        "print('La sumatorio de los datos es: ', np.sum(mediciones))\n",
        "print(\"El promedio de los datos es: \", np.mean(mediciones))\n",
        "print(\"La variance de los datos es: \", np.var(mediciones))"
      ],
      "metadata": {
        "colab": {
          "base_uri": "https://localhost:8080/"
        },
        "id": "jv1iYYpQSGq6",
        "outputId": "6a357535-0155-46aa-e463-beab927fbf5d"
      },
      "execution_count": null,
      "outputs": [
        {
          "output_type": "stream",
          "name": "stdout",
          "text": [
            "La cantidad de datos extraídos es:  1797\n",
            "La sumatorio de los datos es:  1606.7481\n",
            "El promedio de los datos es:  0.8941280467445744\n",
            "La variance de los datos es:  0.012322985913435768\n"
          ]
        }
      ]
    },
    {
      "cell_type": "code",
      "source": [
        "import re\n",
        "import pandas as pd\n",
        "\n",
        "# Carga de archivo completo\n",
        "with open('/content/informe_acciones.txt', encoding='latin-1', errors='replace') as f:\n",
        "    contenido = f.read()\n",
        "    #\n",
        "    resultados = re.findall(r\"Informe de Acción - (\\w+).*?Fecha:\\s*([0-9-]+\\s+[0-9:]+).*?Valor actual:\\s*\\$([0-9]+\\.[0-9]+)\",\n",
        "    contenido,\n",
        "    flags=re.DOTALL\n",
        "    )\n",
        "    df =  pd.DataFrame(resultados, columns = ['Acción', 'Fecha', 'Precio'])\n",
        "    print(df)\n",
        "\n"
      ],
      "metadata": {
        "colab": {
          "base_uri": "https://localhost:8080/"
        },
        "id": "nofvSzuRlYBc",
        "outputId": "4afb454a-c438-4a90-bfec-b6e7f9373e1e"
      },
      "execution_count": null,
      "outputs": [
        {
          "output_type": "stream",
          "name": "stdout",
          "text": [
            "     Acción                Fecha   Precio\n",
            "0      CSCO  2024-09-02 12:34:26   446.52\n",
            "1      AMZN  2024-09-02 12:34:26   520.22\n",
            "2      NVDA  2024-09-02 12:34:26   552.66\n",
            "3       MRK  2024-09-02 12:34:26   722.88\n",
            "4      NVDA  2024-09-02 12:34:26    611.0\n",
            "...     ...                  ...      ...\n",
            "9995     VZ  2024-09-02 12:34:26    518.9\n",
            "9996    UNH  2024-09-02 12:34:26  1161.65\n",
            "9997  GOOGL  2024-09-02 12:34:26   300.59\n",
            "9998   MSFT  2024-09-02 12:34:26   730.62\n",
            "9999    BRK  2024-09-02 12:34:26  1338.97\n",
            "\n",
            "[10000 rows x 3 columns]\n"
          ]
        }
      ]
    },
    {
      "cell_type": "markdown",
      "source": [
        "# Errores y Aciertos al Usar Gráficos"
      ],
      "metadata": {
        "id": "EpBf7G4QpMrf"
      }
    },
    {
      "cell_type": "markdown",
      "source": [
        "## Plotly"
      ],
      "metadata": {
        "id": "76bZEA56-44M"
      }
    },
    {
      "cell_type": "code",
      "source": [
        "import plotly.graph_objects as go"
      ],
      "metadata": {
        "id": "0gcKyycepOtK"
      },
      "execution_count": null,
      "outputs": []
    },
    {
      "cell_type": "code",
      "source": [
        "fig =  go.Figure()"
      ],
      "metadata": {
        "id": "7riEJNK__SkU"
      },
      "execution_count": null,
      "outputs": []
    },
    {
      "cell_type": "code",
      "source": [
        "# Primer Gráfico\n",
        "fig.show()"
      ],
      "metadata": {
        "colab": {
          "base_uri": "https://localhost:8080/",
          "height": 542
        },
        "id": "q03mM17C_gUj",
        "outputId": "7f745b8e-a17f-458d-b806-42a526f1321a"
      },
      "execution_count": null,
      "outputs": [
        {
          "output_type": "display_data",
          "data": {
            "text/html": [
              "<html>\n",
              "<head><meta charset=\"utf-8\" /></head>\n",
              "<body>\n",
              "    <div>            <script src=\"https://cdnjs.cloudflare.com/ajax/libs/mathjax/2.7.5/MathJax.js?config=TeX-AMS-MML_SVG\"></script><script type=\"text/javascript\">if (window.MathJax && window.MathJax.Hub && window.MathJax.Hub.Config) {window.MathJax.Hub.Config({SVG: {font: \"STIX-Web\"}});}</script>                <script type=\"text/javascript\">window.PlotlyConfig = {MathJaxConfig: 'local'};</script>\n",
              "        <script charset=\"utf-8\" src=\"https://cdn.plot.ly/plotly-2.35.2.min.js\"></script>                <div id=\"c76f0915-d5f0-46aa-bce9-394e93482ef2\" class=\"plotly-graph-div\" style=\"height:525px; width:100%;\"></div>            <script type=\"text/javascript\">                                    window.PLOTLYENV=window.PLOTLYENV || {};                                    if (document.getElementById(\"c76f0915-d5f0-46aa-bce9-394e93482ef2\")) {                    Plotly.newPlot(                        \"c76f0915-d5f0-46aa-bce9-394e93482ef2\",                        [],                        {\"template\":{\"data\":{\"histogram2dcontour\":[{\"type\":\"histogram2dcontour\",\"colorbar\":{\"outlinewidth\":0,\"ticks\":\"\"},\"colorscale\":[[0.0,\"#0d0887\"],[0.1111111111111111,\"#46039f\"],[0.2222222222222222,\"#7201a8\"],[0.3333333333333333,\"#9c179e\"],[0.4444444444444444,\"#bd3786\"],[0.5555555555555556,\"#d8576b\"],[0.6666666666666666,\"#ed7953\"],[0.7777777777777778,\"#fb9f3a\"],[0.8888888888888888,\"#fdca26\"],[1.0,\"#f0f921\"]]}],\"choropleth\":[{\"type\":\"choropleth\",\"colorbar\":{\"outlinewidth\":0,\"ticks\":\"\"}}],\"histogram2d\":[{\"type\":\"histogram2d\",\"colorbar\":{\"outlinewidth\":0,\"ticks\":\"\"},\"colorscale\":[[0.0,\"#0d0887\"],[0.1111111111111111,\"#46039f\"],[0.2222222222222222,\"#7201a8\"],[0.3333333333333333,\"#9c179e\"],[0.4444444444444444,\"#bd3786\"],[0.5555555555555556,\"#d8576b\"],[0.6666666666666666,\"#ed7953\"],[0.7777777777777778,\"#fb9f3a\"],[0.8888888888888888,\"#fdca26\"],[1.0,\"#f0f921\"]]}],\"heatmap\":[{\"type\":\"heatmap\",\"colorbar\":{\"outlinewidth\":0,\"ticks\":\"\"},\"colorscale\":[[0.0,\"#0d0887\"],[0.1111111111111111,\"#46039f\"],[0.2222222222222222,\"#7201a8\"],[0.3333333333333333,\"#9c179e\"],[0.4444444444444444,\"#bd3786\"],[0.5555555555555556,\"#d8576b\"],[0.6666666666666666,\"#ed7953\"],[0.7777777777777778,\"#fb9f3a\"],[0.8888888888888888,\"#fdca26\"],[1.0,\"#f0f921\"]]}],\"heatmapgl\":[{\"type\":\"heatmapgl\",\"colorbar\":{\"outlinewidth\":0,\"ticks\":\"\"},\"colorscale\":[[0.0,\"#0d0887\"],[0.1111111111111111,\"#46039f\"],[0.2222222222222222,\"#7201a8\"],[0.3333333333333333,\"#9c179e\"],[0.4444444444444444,\"#bd3786\"],[0.5555555555555556,\"#d8576b\"],[0.6666666666666666,\"#ed7953\"],[0.7777777777777778,\"#fb9f3a\"],[0.8888888888888888,\"#fdca26\"],[1.0,\"#f0f921\"]]}],\"contourcarpet\":[{\"type\":\"contourcarpet\",\"colorbar\":{\"outlinewidth\":0,\"ticks\":\"\"}}],\"contour\":[{\"type\":\"contour\",\"colorbar\":{\"outlinewidth\":0,\"ticks\":\"\"},\"colorscale\":[[0.0,\"#0d0887\"],[0.1111111111111111,\"#46039f\"],[0.2222222222222222,\"#7201a8\"],[0.3333333333333333,\"#9c179e\"],[0.4444444444444444,\"#bd3786\"],[0.5555555555555556,\"#d8576b\"],[0.6666666666666666,\"#ed7953\"],[0.7777777777777778,\"#fb9f3a\"],[0.8888888888888888,\"#fdca26\"],[1.0,\"#f0f921\"]]}],\"surface\":[{\"type\":\"surface\",\"colorbar\":{\"outlinewidth\":0,\"ticks\":\"\"},\"colorscale\":[[0.0,\"#0d0887\"],[0.1111111111111111,\"#46039f\"],[0.2222222222222222,\"#7201a8\"],[0.3333333333333333,\"#9c179e\"],[0.4444444444444444,\"#bd3786\"],[0.5555555555555556,\"#d8576b\"],[0.6666666666666666,\"#ed7953\"],[0.7777777777777778,\"#fb9f3a\"],[0.8888888888888888,\"#fdca26\"],[1.0,\"#f0f921\"]]}],\"mesh3d\":[{\"type\":\"mesh3d\",\"colorbar\":{\"outlinewidth\":0,\"ticks\":\"\"}}],\"scatter\":[{\"fillpattern\":{\"fillmode\":\"overlay\",\"size\":10,\"solidity\":0.2},\"type\":\"scatter\"}],\"parcoords\":[{\"type\":\"parcoords\",\"line\":{\"colorbar\":{\"outlinewidth\":0,\"ticks\":\"\"}}}],\"scatterpolargl\":[{\"type\":\"scatterpolargl\",\"marker\":{\"colorbar\":{\"outlinewidth\":0,\"ticks\":\"\"}}}],\"bar\":[{\"error_x\":{\"color\":\"#2a3f5f\"},\"error_y\":{\"color\":\"#2a3f5f\"},\"marker\":{\"line\":{\"color\":\"#E5ECF6\",\"width\":0.5},\"pattern\":{\"fillmode\":\"overlay\",\"size\":10,\"solidity\":0.2}},\"type\":\"bar\"}],\"scattergeo\":[{\"type\":\"scattergeo\",\"marker\":{\"colorbar\":{\"outlinewidth\":0,\"ticks\":\"\"}}}],\"scatterpolar\":[{\"type\":\"scatterpolar\",\"marker\":{\"colorbar\":{\"outlinewidth\":0,\"ticks\":\"\"}}}],\"histogram\":[{\"marker\":{\"pattern\":{\"fillmode\":\"overlay\",\"size\":10,\"solidity\":0.2}},\"type\":\"histogram\"}],\"scattergl\":[{\"type\":\"scattergl\",\"marker\":{\"colorbar\":{\"outlinewidth\":0,\"ticks\":\"\"}}}],\"scatter3d\":[{\"type\":\"scatter3d\",\"line\":{\"colorbar\":{\"outlinewidth\":0,\"ticks\":\"\"}},\"marker\":{\"colorbar\":{\"outlinewidth\":0,\"ticks\":\"\"}}}],\"scattermapbox\":[{\"type\":\"scattermapbox\",\"marker\":{\"colorbar\":{\"outlinewidth\":0,\"ticks\":\"\"}}}],\"scatterternary\":[{\"type\":\"scatterternary\",\"marker\":{\"colorbar\":{\"outlinewidth\":0,\"ticks\":\"\"}}}],\"scattercarpet\":[{\"type\":\"scattercarpet\",\"marker\":{\"colorbar\":{\"outlinewidth\":0,\"ticks\":\"\"}}}],\"carpet\":[{\"aaxis\":{\"endlinecolor\":\"#2a3f5f\",\"gridcolor\":\"white\",\"linecolor\":\"white\",\"minorgridcolor\":\"white\",\"startlinecolor\":\"#2a3f5f\"},\"baxis\":{\"endlinecolor\":\"#2a3f5f\",\"gridcolor\":\"white\",\"linecolor\":\"white\",\"minorgridcolor\":\"white\",\"startlinecolor\":\"#2a3f5f\"},\"type\":\"carpet\"}],\"table\":[{\"cells\":{\"fill\":{\"color\":\"#EBF0F8\"},\"line\":{\"color\":\"white\"}},\"header\":{\"fill\":{\"color\":\"#C8D4E3\"},\"line\":{\"color\":\"white\"}},\"type\":\"table\"}],\"barpolar\":[{\"marker\":{\"line\":{\"color\":\"#E5ECF6\",\"width\":0.5},\"pattern\":{\"fillmode\":\"overlay\",\"size\":10,\"solidity\":0.2}},\"type\":\"barpolar\"}],\"pie\":[{\"automargin\":true,\"type\":\"pie\"}]},\"layout\":{\"autotypenumbers\":\"strict\",\"colorway\":[\"#636efa\",\"#EF553B\",\"#00cc96\",\"#ab63fa\",\"#FFA15A\",\"#19d3f3\",\"#FF6692\",\"#B6E880\",\"#FF97FF\",\"#FECB52\"],\"font\":{\"color\":\"#2a3f5f\"},\"hovermode\":\"closest\",\"hoverlabel\":{\"align\":\"left\"},\"paper_bgcolor\":\"white\",\"plot_bgcolor\":\"#E5ECF6\",\"polar\":{\"bgcolor\":\"#E5ECF6\",\"angularaxis\":{\"gridcolor\":\"white\",\"linecolor\":\"white\",\"ticks\":\"\"},\"radialaxis\":{\"gridcolor\":\"white\",\"linecolor\":\"white\",\"ticks\":\"\"}},\"ternary\":{\"bgcolor\":\"#E5ECF6\",\"aaxis\":{\"gridcolor\":\"white\",\"linecolor\":\"white\",\"ticks\":\"\"},\"baxis\":{\"gridcolor\":\"white\",\"linecolor\":\"white\",\"ticks\":\"\"},\"caxis\":{\"gridcolor\":\"white\",\"linecolor\":\"white\",\"ticks\":\"\"}},\"coloraxis\":{\"colorbar\":{\"outlinewidth\":0,\"ticks\":\"\"}},\"colorscale\":{\"sequential\":[[0.0,\"#0d0887\"],[0.1111111111111111,\"#46039f\"],[0.2222222222222222,\"#7201a8\"],[0.3333333333333333,\"#9c179e\"],[0.4444444444444444,\"#bd3786\"],[0.5555555555555556,\"#d8576b\"],[0.6666666666666666,\"#ed7953\"],[0.7777777777777778,\"#fb9f3a\"],[0.8888888888888888,\"#fdca26\"],[1.0,\"#f0f921\"]],\"sequentialminus\":[[0.0,\"#0d0887\"],[0.1111111111111111,\"#46039f\"],[0.2222222222222222,\"#7201a8\"],[0.3333333333333333,\"#9c179e\"],[0.4444444444444444,\"#bd3786\"],[0.5555555555555556,\"#d8576b\"],[0.6666666666666666,\"#ed7953\"],[0.7777777777777778,\"#fb9f3a\"],[0.8888888888888888,\"#fdca26\"],[1.0,\"#f0f921\"]],\"diverging\":[[0,\"#8e0152\"],[0.1,\"#c51b7d\"],[0.2,\"#de77ae\"],[0.3,\"#f1b6da\"],[0.4,\"#fde0ef\"],[0.5,\"#f7f7f7\"],[0.6,\"#e6f5d0\"],[0.7,\"#b8e186\"],[0.8,\"#7fbc41\"],[0.9,\"#4d9221\"],[1,\"#276419\"]]},\"xaxis\":{\"gridcolor\":\"white\",\"linecolor\":\"white\",\"ticks\":\"\",\"title\":{\"standoff\":15},\"zerolinecolor\":\"white\",\"automargin\":true,\"zerolinewidth\":2},\"yaxis\":{\"gridcolor\":\"white\",\"linecolor\":\"white\",\"ticks\":\"\",\"title\":{\"standoff\":15},\"zerolinecolor\":\"white\",\"automargin\":true,\"zerolinewidth\":2},\"scene\":{\"xaxis\":{\"backgroundcolor\":\"#E5ECF6\",\"gridcolor\":\"white\",\"linecolor\":\"white\",\"showbackground\":true,\"ticks\":\"\",\"zerolinecolor\":\"white\",\"gridwidth\":2},\"yaxis\":{\"backgroundcolor\":\"#E5ECF6\",\"gridcolor\":\"white\",\"linecolor\":\"white\",\"showbackground\":true,\"ticks\":\"\",\"zerolinecolor\":\"white\",\"gridwidth\":2},\"zaxis\":{\"backgroundcolor\":\"#E5ECF6\",\"gridcolor\":\"white\",\"linecolor\":\"white\",\"showbackground\":true,\"ticks\":\"\",\"zerolinecolor\":\"white\",\"gridwidth\":2}},\"shapedefaults\":{\"line\":{\"color\":\"#2a3f5f\"}},\"annotationdefaults\":{\"arrowcolor\":\"#2a3f5f\",\"arrowhead\":0,\"arrowwidth\":1},\"geo\":{\"bgcolor\":\"white\",\"landcolor\":\"#E5ECF6\",\"subunitcolor\":\"white\",\"showland\":true,\"showlakes\":true,\"lakecolor\":\"white\"},\"title\":{\"x\":0.05},\"mapbox\":{\"style\":\"light\"}}}},                        {\"responsive\": true}                    ).then(function(){\n",
              "                            \n",
              "var gd = document.getElementById('c76f0915-d5f0-46aa-bce9-394e93482ef2');\n",
              "var x = new MutationObserver(function (mutations, observer) {{\n",
              "        var display = window.getComputedStyle(gd).display;\n",
              "        if (!display || display === 'none') {{\n",
              "            console.log([gd, 'removed!']);\n",
              "            Plotly.purge(gd);\n",
              "            observer.disconnect();\n",
              "        }}\n",
              "}});\n",
              "\n",
              "// Listen for the removal of the full notebook cells\n",
              "var notebookContainer = gd.closest('#notebook-container');\n",
              "if (notebookContainer) {{\n",
              "    x.observe(notebookContainer, {childList: true});\n",
              "}}\n",
              "\n",
              "// Listen for the clearing of the current output cell\n",
              "var outputEl = gd.closest('.output');\n",
              "if (outputEl) {{\n",
              "    x.observe(outputEl, {childList: true});\n",
              "}}\n",
              "\n",
              "                        })                };                            </script>        </div>\n",
              "</body>\n",
              "</html>"
            ]
          },
          "metadata": {}
        }
      ]
    },
    {
      "cell_type": "code",
      "source": [
        "import plotly.graph_objects as go\n",
        "\n",
        "x =  list(range(1, 11))\n",
        "y =  [i**2  for i in x]\n",
        "fig =  go.Figure()9\n",
        "fig.add_trace(go.Scatter(x =  x, y=  y, mode = 'lines', name = 'x^2'))"
      ],
      "metadata": {
        "colab": {
          "base_uri": "https://localhost:8080/",
          "height": 542
        },
        "id": "_QqENUBpB4LE",
        "outputId": "283e2a86-3c34-4d05-91b1-4a327382a8c9"
      },
      "execution_count": null,
      "outputs": [
        {
          "output_type": "display_data",
          "data": {
            "text/html": [
              "<html>\n",
              "<head><meta charset=\"utf-8\" /></head>\n",
              "<body>\n",
              "    <div>            <script src=\"https://cdnjs.cloudflare.com/ajax/libs/mathjax/2.7.5/MathJax.js?config=TeX-AMS-MML_SVG\"></script><script type=\"text/javascript\">if (window.MathJax && window.MathJax.Hub && window.MathJax.Hub.Config) {window.MathJax.Hub.Config({SVG: {font: \"STIX-Web\"}});}</script>                <script type=\"text/javascript\">window.PlotlyConfig = {MathJaxConfig: 'local'};</script>\n",
              "        <script charset=\"utf-8\" src=\"https://cdn.plot.ly/plotly-2.35.2.min.js\"></script>                <div id=\"f49078be-ec29-42fb-8f58-73a0b41c5723\" class=\"plotly-graph-div\" style=\"height:525px; width:100%;\"></div>            <script type=\"text/javascript\">                                    window.PLOTLYENV=window.PLOTLYENV || {};                                    if (document.getElementById(\"f49078be-ec29-42fb-8f58-73a0b41c5723\")) {                    Plotly.newPlot(                        \"f49078be-ec29-42fb-8f58-73a0b41c5723\",                        [{\"mode\":\"lines\",\"name\":\"x^2\",\"x\":[1,2,3,4,5,6,7,8,9,10],\"y\":[1,4,9,16,25,36,49,64,81,100],\"type\":\"scatter\"}],                        {\"template\":{\"data\":{\"histogram2dcontour\":[{\"type\":\"histogram2dcontour\",\"colorbar\":{\"outlinewidth\":0,\"ticks\":\"\"},\"colorscale\":[[0.0,\"#0d0887\"],[0.1111111111111111,\"#46039f\"],[0.2222222222222222,\"#7201a8\"],[0.3333333333333333,\"#9c179e\"],[0.4444444444444444,\"#bd3786\"],[0.5555555555555556,\"#d8576b\"],[0.6666666666666666,\"#ed7953\"],[0.7777777777777778,\"#fb9f3a\"],[0.8888888888888888,\"#fdca26\"],[1.0,\"#f0f921\"]]}],\"choropleth\":[{\"type\":\"choropleth\",\"colorbar\":{\"outlinewidth\":0,\"ticks\":\"\"}}],\"histogram2d\":[{\"type\":\"histogram2d\",\"colorbar\":{\"outlinewidth\":0,\"ticks\":\"\"},\"colorscale\":[[0.0,\"#0d0887\"],[0.1111111111111111,\"#46039f\"],[0.2222222222222222,\"#7201a8\"],[0.3333333333333333,\"#9c179e\"],[0.4444444444444444,\"#bd3786\"],[0.5555555555555556,\"#d8576b\"],[0.6666666666666666,\"#ed7953\"],[0.7777777777777778,\"#fb9f3a\"],[0.8888888888888888,\"#fdca26\"],[1.0,\"#f0f921\"]]}],\"heatmap\":[{\"type\":\"heatmap\",\"colorbar\":{\"outlinewidth\":0,\"ticks\":\"\"},\"colorscale\":[[0.0,\"#0d0887\"],[0.1111111111111111,\"#46039f\"],[0.2222222222222222,\"#7201a8\"],[0.3333333333333333,\"#9c179e\"],[0.4444444444444444,\"#bd3786\"],[0.5555555555555556,\"#d8576b\"],[0.6666666666666666,\"#ed7953\"],[0.7777777777777778,\"#fb9f3a\"],[0.8888888888888888,\"#fdca26\"],[1.0,\"#f0f921\"]]}],\"heatmapgl\":[{\"type\":\"heatmapgl\",\"colorbar\":{\"outlinewidth\":0,\"ticks\":\"\"},\"colorscale\":[[0.0,\"#0d0887\"],[0.1111111111111111,\"#46039f\"],[0.2222222222222222,\"#7201a8\"],[0.3333333333333333,\"#9c179e\"],[0.4444444444444444,\"#bd3786\"],[0.5555555555555556,\"#d8576b\"],[0.6666666666666666,\"#ed7953\"],[0.7777777777777778,\"#fb9f3a\"],[0.8888888888888888,\"#fdca26\"],[1.0,\"#f0f921\"]]}],\"contourcarpet\":[{\"type\":\"contourcarpet\",\"colorbar\":{\"outlinewidth\":0,\"ticks\":\"\"}}],\"contour\":[{\"type\":\"contour\",\"colorbar\":{\"outlinewidth\":0,\"ticks\":\"\"},\"colorscale\":[[0.0,\"#0d0887\"],[0.1111111111111111,\"#46039f\"],[0.2222222222222222,\"#7201a8\"],[0.3333333333333333,\"#9c179e\"],[0.4444444444444444,\"#bd3786\"],[0.5555555555555556,\"#d8576b\"],[0.6666666666666666,\"#ed7953\"],[0.7777777777777778,\"#fb9f3a\"],[0.8888888888888888,\"#fdca26\"],[1.0,\"#f0f921\"]]}],\"surface\":[{\"type\":\"surface\",\"colorbar\":{\"outlinewidth\":0,\"ticks\":\"\"},\"colorscale\":[[0.0,\"#0d0887\"],[0.1111111111111111,\"#46039f\"],[0.2222222222222222,\"#7201a8\"],[0.3333333333333333,\"#9c179e\"],[0.4444444444444444,\"#bd3786\"],[0.5555555555555556,\"#d8576b\"],[0.6666666666666666,\"#ed7953\"],[0.7777777777777778,\"#fb9f3a\"],[0.8888888888888888,\"#fdca26\"],[1.0,\"#f0f921\"]]}],\"mesh3d\":[{\"type\":\"mesh3d\",\"colorbar\":{\"outlinewidth\":0,\"ticks\":\"\"}}],\"scatter\":[{\"fillpattern\":{\"fillmode\":\"overlay\",\"size\":10,\"solidity\":0.2},\"type\":\"scatter\"}],\"parcoords\":[{\"type\":\"parcoords\",\"line\":{\"colorbar\":{\"outlinewidth\":0,\"ticks\":\"\"}}}],\"scatterpolargl\":[{\"type\":\"scatterpolargl\",\"marker\":{\"colorbar\":{\"outlinewidth\":0,\"ticks\":\"\"}}}],\"bar\":[{\"error_x\":{\"color\":\"#2a3f5f\"},\"error_y\":{\"color\":\"#2a3f5f\"},\"marker\":{\"line\":{\"color\":\"#E5ECF6\",\"width\":0.5},\"pattern\":{\"fillmode\":\"overlay\",\"size\":10,\"solidity\":0.2}},\"type\":\"bar\"}],\"scattergeo\":[{\"type\":\"scattergeo\",\"marker\":{\"colorbar\":{\"outlinewidth\":0,\"ticks\":\"\"}}}],\"scatterpolar\":[{\"type\":\"scatterpolar\",\"marker\":{\"colorbar\":{\"outlinewidth\":0,\"ticks\":\"\"}}}],\"histogram\":[{\"marker\":{\"pattern\":{\"fillmode\":\"overlay\",\"size\":10,\"solidity\":0.2}},\"type\":\"histogram\"}],\"scattergl\":[{\"type\":\"scattergl\",\"marker\":{\"colorbar\":{\"outlinewidth\":0,\"ticks\":\"\"}}}],\"scatter3d\":[{\"type\":\"scatter3d\",\"line\":{\"colorbar\":{\"outlinewidth\":0,\"ticks\":\"\"}},\"marker\":{\"colorbar\":{\"outlinewidth\":0,\"ticks\":\"\"}}}],\"scattermapbox\":[{\"type\":\"scattermapbox\",\"marker\":{\"colorbar\":{\"outlinewidth\":0,\"ticks\":\"\"}}}],\"scatterternary\":[{\"type\":\"scatterternary\",\"marker\":{\"colorbar\":{\"outlinewidth\":0,\"ticks\":\"\"}}}],\"scattercarpet\":[{\"type\":\"scattercarpet\",\"marker\":{\"colorbar\":{\"outlinewidth\":0,\"ticks\":\"\"}}}],\"carpet\":[{\"aaxis\":{\"endlinecolor\":\"#2a3f5f\",\"gridcolor\":\"white\",\"linecolor\":\"white\",\"minorgridcolor\":\"white\",\"startlinecolor\":\"#2a3f5f\"},\"baxis\":{\"endlinecolor\":\"#2a3f5f\",\"gridcolor\":\"white\",\"linecolor\":\"white\",\"minorgridcolor\":\"white\",\"startlinecolor\":\"#2a3f5f\"},\"type\":\"carpet\"}],\"table\":[{\"cells\":{\"fill\":{\"color\":\"#EBF0F8\"},\"line\":{\"color\":\"white\"}},\"header\":{\"fill\":{\"color\":\"#C8D4E3\"},\"line\":{\"color\":\"white\"}},\"type\":\"table\"}],\"barpolar\":[{\"marker\":{\"line\":{\"color\":\"#E5ECF6\",\"width\":0.5},\"pattern\":{\"fillmode\":\"overlay\",\"size\":10,\"solidity\":0.2}},\"type\":\"barpolar\"}],\"pie\":[{\"automargin\":true,\"type\":\"pie\"}]},\"layout\":{\"autotypenumbers\":\"strict\",\"colorway\":[\"#636efa\",\"#EF553B\",\"#00cc96\",\"#ab63fa\",\"#FFA15A\",\"#19d3f3\",\"#FF6692\",\"#B6E880\",\"#FF97FF\",\"#FECB52\"],\"font\":{\"color\":\"#2a3f5f\"},\"hovermode\":\"closest\",\"hoverlabel\":{\"align\":\"left\"},\"paper_bgcolor\":\"white\",\"plot_bgcolor\":\"#E5ECF6\",\"polar\":{\"bgcolor\":\"#E5ECF6\",\"angularaxis\":{\"gridcolor\":\"white\",\"linecolor\":\"white\",\"ticks\":\"\"},\"radialaxis\":{\"gridcolor\":\"white\",\"linecolor\":\"white\",\"ticks\":\"\"}},\"ternary\":{\"bgcolor\":\"#E5ECF6\",\"aaxis\":{\"gridcolor\":\"white\",\"linecolor\":\"white\",\"ticks\":\"\"},\"baxis\":{\"gridcolor\":\"white\",\"linecolor\":\"white\",\"ticks\":\"\"},\"caxis\":{\"gridcolor\":\"white\",\"linecolor\":\"white\",\"ticks\":\"\"}},\"coloraxis\":{\"colorbar\":{\"outlinewidth\":0,\"ticks\":\"\"}},\"colorscale\":{\"sequential\":[[0.0,\"#0d0887\"],[0.1111111111111111,\"#46039f\"],[0.2222222222222222,\"#7201a8\"],[0.3333333333333333,\"#9c179e\"],[0.4444444444444444,\"#bd3786\"],[0.5555555555555556,\"#d8576b\"],[0.6666666666666666,\"#ed7953\"],[0.7777777777777778,\"#fb9f3a\"],[0.8888888888888888,\"#fdca26\"],[1.0,\"#f0f921\"]],\"sequentialminus\":[[0.0,\"#0d0887\"],[0.1111111111111111,\"#46039f\"],[0.2222222222222222,\"#7201a8\"],[0.3333333333333333,\"#9c179e\"],[0.4444444444444444,\"#bd3786\"],[0.5555555555555556,\"#d8576b\"],[0.6666666666666666,\"#ed7953\"],[0.7777777777777778,\"#fb9f3a\"],[0.8888888888888888,\"#fdca26\"],[1.0,\"#f0f921\"]],\"diverging\":[[0,\"#8e0152\"],[0.1,\"#c51b7d\"],[0.2,\"#de77ae\"],[0.3,\"#f1b6da\"],[0.4,\"#fde0ef\"],[0.5,\"#f7f7f7\"],[0.6,\"#e6f5d0\"],[0.7,\"#b8e186\"],[0.8,\"#7fbc41\"],[0.9,\"#4d9221\"],[1,\"#276419\"]]},\"xaxis\":{\"gridcolor\":\"white\",\"linecolor\":\"white\",\"ticks\":\"\",\"title\":{\"standoff\":15},\"zerolinecolor\":\"white\",\"automargin\":true,\"zerolinewidth\":2},\"yaxis\":{\"gridcolor\":\"white\",\"linecolor\":\"white\",\"ticks\":\"\",\"title\":{\"standoff\":15},\"zerolinecolor\":\"white\",\"automargin\":true,\"zerolinewidth\":2},\"scene\":{\"xaxis\":{\"backgroundcolor\":\"#E5ECF6\",\"gridcolor\":\"white\",\"linecolor\":\"white\",\"showbackground\":true,\"ticks\":\"\",\"zerolinecolor\":\"white\",\"gridwidth\":2},\"yaxis\":{\"backgroundcolor\":\"#E5ECF6\",\"gridcolor\":\"white\",\"linecolor\":\"white\",\"showbackground\":true,\"ticks\":\"\",\"zerolinecolor\":\"white\",\"gridwidth\":2},\"zaxis\":{\"backgroundcolor\":\"#E5ECF6\",\"gridcolor\":\"white\",\"linecolor\":\"white\",\"showbackground\":true,\"ticks\":\"\",\"zerolinecolor\":\"white\",\"gridwidth\":2}},\"shapedefaults\":{\"line\":{\"color\":\"#2a3f5f\"}},\"annotationdefaults\":{\"arrowcolor\":\"#2a3f5f\",\"arrowhead\":0,\"arrowwidth\":1},\"geo\":{\"bgcolor\":\"white\",\"landcolor\":\"#E5ECF6\",\"subunitcolor\":\"white\",\"showland\":true,\"showlakes\":true,\"lakecolor\":\"white\"},\"title\":{\"x\":0.05},\"mapbox\":{\"style\":\"light\"}}}},                        {\"responsive\": true}                    ).then(function(){\n",
              "                            \n",
              "var gd = document.getElementById('f49078be-ec29-42fb-8f58-73a0b41c5723');\n",
              "var x = new MutationObserver(function (mutations, observer) {{\n",
              "        var display = window.getComputedStyle(gd).display;\n",
              "        if (!display || display === 'none') {{\n",
              "            console.log([gd, 'removed!']);\n",
              "            Plotly.purge(gd);\n",
              "            observer.disconnect();\n",
              "        }}\n",
              "}});\n",
              "\n",
              "// Listen for the removal of the full notebook cells\n",
              "var notebookContainer = gd.closest('#notebook-container');\n",
              "if (notebookContainer) {{\n",
              "    x.observe(notebookContainer, {childList: true});\n",
              "}}\n",
              "\n",
              "// Listen for the clearing of the current output cell\n",
              "var outputEl = gd.closest('.output');\n",
              "if (outputEl) {{\n",
              "    x.observe(outputEl, {childList: true});\n",
              "}}\n",
              "\n",
              "                        })                };                            </script>        </div>\n",
              "</body>\n",
              "</html>"
            ]
          },
          "metadata": {}
        }
      ]
    },
    {
      "cell_type": "code",
      "source": [],
      "metadata": {
        "id": "6gFzx8XcDKPu"
      },
      "execution_count": null,
      "outputs": []
    },
    {
      "cell_type": "markdown",
      "source": [
        "# Numpy"
      ],
      "metadata": {
        "id": "p9v6b4S9zri3"
      }
    },
    {
      "cell_type": "code",
      "source": [
        "# Una lista en Python es una colección ordenada de elementos que puede contener diferentes tipos de datos.\n",
        "vector  =  [1, 2, 3, 4, 5]\n",
        "\n",
        "print(\"Tipo de objeto\", type(vector))\n",
        "# Acceder a un elemento usando el índice (valor número o variable númerica)\n",
        "print(\"Primer elemento \", vector[0]) # Primer Elemento\n",
        "print(\"Segundo elemento \", vector[-1]) # Ultimo elemento\n",
        "\n",
        "# Imprimir cada elemento del vector\n",
        "print(\"Cada elemento del vector\")\n",
        "for celda in vector:\n",
        "  print(celda)\n",
        "\n",
        "print(\"Todos los elementos del vector\", vector)"
      ],
      "metadata": {
        "colab": {
          "base_uri": "https://localhost:8080/"
        },
        "id": "30GbYzozzs2a",
        "outputId": "4fe3b8b4-0ded-417d-e978-66a856ffc130"
      },
      "execution_count": null,
      "outputs": [
        {
          "output_type": "stream",
          "name": "stdout",
          "text": [
            "Tipo de objeto <class 'list'>\n",
            "Primer elemento  1\n",
            "Segundo elemento  5\n",
            "Cada elemento del vector\n",
            "1\n",
            "2\n",
            "3\n",
            "4\n",
            "5\n",
            "Todos los elementos del vector [1, 2, 3, 4, 5]\n"
          ]
        }
      ]
    },
    {
      "cell_type": "code",
      "source": [
        "# Crear un matrix o arreglo bidimensional como una lista anidada\n",
        "matrix  =  [\n",
        "    [1, 2, 3], # Fila 1\n",
        "    [4, 5, 6], # Fila 2\n",
        "    [7, 8, 9] # Fila 3\n",
        "]\n",
        "\n",
        "# Para acceder a un elemento se usa fila y columna\n",
        "\n",
        "fila  =  1\n",
        "columna  =  2\n",
        "print(\"Acceder al primer elemento de la matrix\", matrix[fila][columna])\n",
        "\n",
        "# Imprimit matriz o arreglo bidimensional\n",
        "print(\"Imprimir for fila\")\n",
        "for fila in matrix:\n",
        "  print(fila) # Imprimir toda la fila\n"
      ],
      "metadata": {
        "colab": {
          "base_uri": "https://localhost:8080/"
        },
        "id": "0MpCyu8d0BGR",
        "outputId": "10101ab4-9b7d-41b8-e60d-2d2f77a759b5"
      },
      "execution_count": null,
      "outputs": [
        {
          "output_type": "stream",
          "name": "stdout",
          "text": [
            "Acceder al primer elemento de la matrix 6\n",
            "Imprimir for fila\n",
            "[1, 2, 3]\n",
            "[4, 5, 6]\n",
            "[7, 8, 9]\n"
          ]
        }
      ]
    },
    {
      "cell_type": "code",
      "source": [
        "# Ejemplos de bucles explificitos  para operaciones matemáticas\n",
        "# Crear una lista de nmúmeros\n",
        "numeros  =  [1, 2, 3, 4, 5]\n",
        "\n",
        "# Multiplicar cada elemento por 2\n",
        "numeros_doblados  =  [n *  2 for n in numeros ]\n",
        "print(numeros_doblados)"
      ],
      "metadata": {
        "colab": {
          "base_uri": "https://localhost:8080/"
        },
        "id": "AQ0QJ3iw4Ftr",
        "outputId": "c5f924a6-7dbc-4f84-989a-2401d9e592b7"
      },
      "execution_count": null,
      "outputs": [
        {
          "output_type": "stream",
          "name": "stdout",
          "text": [
            "[2, 4, 6, 8, 10]\n"
          ]
        }
      ]
    },
    {
      "cell_type": "code",
      "source": [
        "# Hyper fcn function\n",
        "def hlper_fnc(test_list):\n",
        "  # declare empty list\n",
        "  sub1 =  []\n",
        "  sub2 = []\n",
        "\n",
        "  res =  (sub1, sub2)\n",
        "  for sub in test_list:\n",
        "    # add element in the list\n",
        "    sub1.append(sub[0]) # Almacena los primeros elementos de las tuplas\n",
        "    sub2.append(sub[1]) # Almacena los segundos elementos de la tuplas\n",
        "\n",
        "\n",
        "  return res\n",
        "\n",
        "# Initializing list\n",
        "test_list =  [(5, 1), (3, 4), (9, 7), (10, 6)]\n",
        "\n",
        "# Imprime la lista original\n",
        "print(\"La lista original: \" + str(test_list))\n",
        "\n",
        "# Usando un ciclor for\n",
        "res = hlper_fnc(test_list)\n",
        "\n",
        "# printing result\n",
        "print(\"La lista transpuesta es :\" +str(res))\n"
      ],
      "metadata": {
        "colab": {
          "base_uri": "https://localhost:8080/"
        },
        "id": "VLfP0vdt41Ob",
        "outputId": "6dcc97cf-44e6-4f8f-c5af-3dc6b0775fc3"
      },
      "execution_count": null,
      "outputs": [
        {
          "output_type": "stream",
          "name": "stdout",
          "text": [
            "La lista original: [(5, 1), (3, 4), (9, 7), (10, 6)]\n",
            "La lista transpuesta es :([5, 3, 9, 10], [1, 4, 7, 6])\n"
          ]
        }
      ]
    },
    {
      "cell_type": "markdown",
      "source": [
        "# Numpy"
      ],
      "metadata": {
        "id": "smsQkmiD53NU"
      }
    },
    {
      "cell_type": "code",
      "source": [
        "import numpy as np"
      ],
      "metadata": {
        "id": "VF4VL5NW5xvX"
      },
      "execution_count": null,
      "outputs": []
    },
    {
      "cell_type": "code",
      "source": [
        "# Mostrar todos los atributgos y métodos disponibles en Nunmpy\n",
        "print(dir(np))"
      ],
      "metadata": {
        "colab": {
          "base_uri": "https://localhost:8080/"
        },
        "id": "Uj_qh8ey-Sjn",
        "outputId": "4392db5c-e7b4-440a-ae06-eeb4340afce9"
      },
      "execution_count": null,
      "outputs": [
        {
          "output_type": "stream",
          "name": "stdout",
          "text": [
            "['False_', 'ScalarType', 'True_', '_CopyMode', '_NoValue', '__NUMPY_SETUP__', '__all__', '__array_api_version__', '__builtins__', '__cached__', '__config__', '__dir__', '__doc__', '__expired_attributes__', '__file__', '__former_attrs__', '__future_scalars__', '__getattr__', '__loader__', '__name__', '__numpy_submodules__', '__package__', '__path__', '__spec__', '__version__', '_core', '_distributor_init', '_expired_attrs_2_0', '_get_promotion_state', '_globals', '_int_extended_msg', '_mat', '_msg', '_no_nep50_warning', '_pyinstaller_hooks_dir', '_pytesttester', '_set_promotion_state', '_specific_msg', '_type_info', '_typing', '_utils', 'abs', 'absolute', 'acos', 'acosh', 'add', 'all', 'allclose', 'amax', 'amin', 'angle', 'any', 'append', 'apply_along_axis', 'apply_over_axes', 'arange', 'arccos', 'arccosh', 'arcsin', 'arcsinh', 'arctan', 'arctan2', 'arctanh', 'argmax', 'argmin', 'argpartition', 'argsort', 'argwhere', 'around', 'array', 'array2string', 'array_equal', 'array_equiv', 'array_repr', 'array_split', 'array_str', 'asanyarray', 'asarray', 'asarray_chkfinite', 'ascontiguousarray', 'asfortranarray', 'asin', 'asinh', 'asmatrix', 'astype', 'atan', 'atan2', 'atanh', 'atleast_1d', 'atleast_2d', 'atleast_3d', 'average', 'bartlett', 'base_repr', 'binary_repr', 'bincount', 'bitwise_and', 'bitwise_count', 'bitwise_invert', 'bitwise_left_shift', 'bitwise_not', 'bitwise_or', 'bitwise_right_shift', 'bitwise_xor', 'blackman', 'block', 'bmat', 'bool', 'bool_', 'broadcast', 'broadcast_arrays', 'broadcast_shapes', 'broadcast_to', 'busday_count', 'busday_offset', 'busdaycalendar', 'byte', 'bytes_', 'c_', 'can_cast', 'cbrt', 'cdouble', 'ceil', 'char', 'character', 'choose', 'clip', 'clongdouble', 'column_stack', 'common_type', 'complex128', 'complex256', 'complex64', 'complexfloating', 'compress', 'concat', 'concatenate', 'conj', 'conjugate', 'convolve', 'copy', 'copysign', 'copyto', 'core', 'corrcoef', 'correlate', 'cos', 'cosh', 'count_nonzero', 'cov', 'cross', 'csingle', 'ctypeslib', 'cumprod', 'cumsum', 'datetime64', 'datetime_as_string', 'datetime_data', 'deg2rad', 'degrees', 'delete', 'diag', 'diag_indices', 'diag_indices_from', 'diagflat', 'diagonal', 'diff', 'digitize', 'divide', 'divmod', 'dot', 'double', 'dsplit', 'dstack', 'dtype', 'dtypes', 'e', 'ediff1d', 'einsum', 'einsum_path', 'emath', 'empty', 'empty_like', 'equal', 'errstate', 'euler_gamma', 'exceptions', 'exp', 'exp2', 'expand_dims', 'expm1', 'extract', 'eye', 'f2py', 'fabs', 'fft', 'fill_diagonal', 'finfo', 'fix', 'flatiter', 'flatnonzero', 'flexible', 'flip', 'fliplr', 'flipud', 'float128', 'float16', 'float32', 'float64', 'float_power', 'floating', 'floor', 'floor_divide', 'fmax', 'fmin', 'fmod', 'format_float_positional', 'format_float_scientific', 'frexp', 'from_dlpack', 'frombuffer', 'fromfile', 'fromfunction', 'fromiter', 'frompyfunc', 'fromregex', 'fromstring', 'full', 'full_like', 'gcd', 'generic', 'genfromtxt', 'geomspace', 'get_include', 'get_printoptions', 'getbufsize', 'geterr', 'geterrcall', 'gradient', 'greater', 'greater_equal', 'half', 'hamming', 'hanning', 'heaviside', 'histogram', 'histogram2d', 'histogram_bin_edges', 'histogramdd', 'hsplit', 'hstack', 'hypot', 'i0', 'identity', 'iinfo', 'imag', 'in1d', 'index_exp', 'indices', 'inexact', 'inf', 'info', 'inner', 'insert', 'int16', 'int32', 'int64', 'int8', 'int_', 'intc', 'integer', 'interp', 'intersect1d', 'intp', 'invert', 'is_busday', 'isclose', 'iscomplex', 'iscomplexobj', 'isdtype', 'isfinite', 'isfortran', 'isin', 'isinf', 'isnan', 'isnat', 'isneginf', 'isposinf', 'isreal', 'isrealobj', 'isscalar', 'issubdtype', 'iterable', 'ix_', 'kaiser', 'kron', 'lcm', 'ldexp', 'left_shift', 'less', 'less_equal', 'lexsort', 'lib', 'linalg', 'linspace', 'little_endian', 'load', 'loadtxt', 'log', 'log10', 'log1p', 'log2', 'logaddexp', 'logaddexp2', 'logical_and', 'logical_not', 'logical_or', 'logical_xor', 'logspace', 'long', 'longdouble', 'longlong', 'ma', 'mask_indices', 'matmul', 'matrix', 'matrix_transpose', 'max', 'maximum', 'may_share_memory', 'mean', 'median', 'memmap', 'meshgrid', 'mgrid', 'min', 'min_scalar_type', 'minimum', 'mintypecode', 'mod', 'modf', 'moveaxis', 'multiply', 'nan', 'nan_to_num', 'nanargmax', 'nanargmin', 'nancumprod', 'nancumsum', 'nanmax', 'nanmean', 'nanmedian', 'nanmin', 'nanpercentile', 'nanprod', 'nanquantile', 'nanstd', 'nansum', 'nanvar', 'ndarray', 'ndenumerate', 'ndim', 'ndindex', 'nditer', 'negative', 'nested_iters', 'newaxis', 'nextafter', 'nonzero', 'not_equal', 'number', 'object_', 'ogrid', 'ones', 'ones_like', 'outer', 'packbits', 'pad', 'partition', 'percentile', 'permute_dims', 'pi', 'piecewise', 'place', 'poly', 'poly1d', 'polyadd', 'polyder', 'polydiv', 'polyfit', 'polyint', 'polymul', 'polynomial', 'polysub', 'polyval', 'positive', 'pow', 'power', 'printoptions', 'prod', 'promote_types', 'ptp', 'put', 'put_along_axis', 'putmask', 'quantile', 'r_', 'rad2deg', 'radians', 'random', 'ravel', 'ravel_multi_index', 'real', 'real_if_close', 'rec', 'recarray', 'reciprocal', 'record', 'remainder', 'repeat', 'require', 'reshape', 'resize', 'result_type', 'right_shift', 'rint', 'roll', 'rollaxis', 'roots', 'rot90', 'round', 'row_stack', 's_', 'save', 'savetxt', 'savez', 'savez_compressed', 'sctypeDict', 'searchsorted', 'select', 'set_printoptions', 'setbufsize', 'setdiff1d', 'seterr', 'seterrcall', 'setxor1d', 'shape', 'shares_memory', 'short', 'show_config', 'show_runtime', 'sign', 'signbit', 'signedinteger', 'sin', 'sinc', 'single', 'sinh', 'size', 'sort', 'sort_complex', 'spacing', 'split', 'sqrt', 'square', 'squeeze', 'stack', 'std', 'str_', 'strings', 'subtract', 'sum', 'swapaxes', 'take', 'take_along_axis', 'tan', 'tanh', 'tensordot', 'test', 'testing', 'tile', 'timedelta64', 'trace', 'transpose', 'trapezoid', 'trapz', 'tri', 'tril', 'tril_indices', 'tril_indices_from', 'trim_zeros', 'triu', 'triu_indices', 'triu_indices_from', 'true_divide', 'trunc', 'typecodes', 'typename', 'typing', 'ubyte', 'ufunc', 'uint', 'uint16', 'uint32', 'uint64', 'uint8', 'uintc', 'uintp', 'ulong', 'ulonglong', 'union1d', 'unique', 'unique_all', 'unique_counts', 'unique_inverse', 'unique_values', 'unpackbits', 'unravel_index', 'unsignedinteger', 'unwrap', 'ushort', 'vander', 'var', 'vdot', 'vecdot', 'vectorize', 'void', 'vsplit', 'vstack', 'where', 'zeros', 'zeros_like']\n"
          ]
        }
      ]
    },
    {
      "cell_type": "code",
      "source": [
        "# Contar con el número total de atributos y métodos de Numpy\n",
        "print(len(dir(np)))"
      ],
      "metadata": {
        "colab": {
          "base_uri": "https://localhost:8080/"
        },
        "id": "vj4Zbvax-e53",
        "outputId": "872a1238-e338-4519-e130-a32610cd2741"
      },
      "execution_count": null,
      "outputs": [
        {
          "output_type": "stream",
          "name": "stdout",
          "text": [
            "532\n"
          ]
        }
      ]
    },
    {
      "cell_type": "code",
      "source": [
        "# Creación de Arrays\n",
        "\n",
        "# Arreglo de 0-dimensiones: Escalar\n",
        "arr =  np.array(42)\n",
        "\n",
        "print(\"Arreglo de 0-dimensiones (Escalar):\", arr)\n",
        "\n",
        "# Arreglo 1D (vector)\n",
        "arr =  np.array([1, 2 ,3 ,4, 5])\n",
        "print(\"Arreglo 1D \", arr)\n",
        "\n",
        "# Arreglo 2D (Matrix)\n",
        "arr =  np.array([[1, 2, 3], [4, 5, 6]])\n",
        "print(\"Arreglo 2D\")\n",
        "print(arr)\n",
        "\n",
        "arr =  np.array([[[1, 2, 3], [4, 5, 6]], [[1, 2, 3],[4, 5, 6]]])\n",
        "print(\"Arreglo 3D\")\n",
        "print(arr)\n",
        "\n",
        "print(arr.shape)"
      ],
      "metadata": {
        "colab": {
          "base_uri": "https://localhost:8080/"
        },
        "id": "9R8aPsIB-qMK",
        "outputId": "536d09d3-0ae8-451e-c78b-804440c822f3"
      },
      "execution_count": null,
      "outputs": [
        {
          "output_type": "stream",
          "name": "stdout",
          "text": [
            "Arreglo de 0-dimensiones (Escalar): 42\n",
            "Arreglo 1D  [1 2 3 4 5]\n",
            "Arreglo 2D\n",
            "[[1 2 3]\n",
            " [4 5 6]]\n",
            "Arreglo 3D\n",
            "[[[1 2 3]\n",
            "  [4 5 6]]\n",
            "\n",
            " [[1 2 3]\n",
            "  [4 5 6]]]\n",
            "(2, 2, 3)\n"
          ]
        }
      ]
    },
    {
      "cell_type": "code",
      "source": [
        "print(\"Arrays inicializados automáticamente\")\n",
        "print()\n",
        "array_zeros =  np.zeros((3, 4)) # Array 3x4 lleno de ceros\n",
        "\n",
        "print(\"Array 3x4 lleno de ceros\")\n",
        "\n",
        "print(array_zeros)\n",
        "print()\n",
        "\n",
        "print(\"Crea un arreglo de 10 elementos con valores enteros aleatorios entre 0 y 50\")\n",
        "array_intrand = np.random.randint(0, 51, 10)\n",
        "print(array_intrand)\n",
        "print()\n",
        "\n",
        "array_ones =  np.ones((2, 5)) # Array 2x5 lleno de unos\n",
        "print(\"Array 2x5 con valores muy cercanos al cero\")\n",
        "print(array_ones)\n",
        "print()\n",
        "\n",
        "array_empty = np.empty((2, 3)) # Array 2x3\n",
        "print(\"Array 2x3 con valores muy cercanas al cero\")\n",
        "print(array_empty)\n",
        "print()\n",
        "# Nota importante todas las dimensiones de los arreglos se definió\n",
        "# usando una tupla,  pero tambien se puede usar una lista\n",
        "\n",
        "\n",
        "# usando una tupla para definir las dimensiones\n",
        "array_tupla =  np.empty([2, 3])\n",
        "\n",
        "print(\"Array con tupla:\\n\", array_tupla)\n",
        "print(\"Array con lista:\\n\", array_tupla)\n",
        "print()\n",
        "\n",
        "array_full =  np.full((3, 3), 7) # Array 3x3 lleno de 7\n",
        "print(\"Array 3x3 lleno de 7\")\n",
        "print(array_full)\n",
        "print()\n",
        "\n",
        "# Arange generare un array tomando como referencia\n",
        "# valores inicio y final, así como el incremento entre ellos\n",
        "\n",
        "array_arange = np.arange(0, 10, 2)  # [0, 2, 4, 6, 8]\n",
        "print(\"Array con valor inicial de 0 y termina con el penúltimo valor del limite superior, y con incrementos de 2\")\n",
        "print(array_arange)\n",
        "print()\n",
        "\n",
        "#linespace(valor inicial, valo final, número de valores)\n",
        "array_linspace = np.linspace(0, 1, 5)  # [0. , 0.25, 0.5 , 0.75, 1. ]\n",
        "print(\"Crea un array con números distribuidos uniformemente \")\n",
        "print(array_linspace)\n",
        "\n",
        "array_random = np.random.rand(3, 3)  # Array 3x3 con valores aleatorios entre 0 y 1\n",
        "print(\"Array 3x3 con valores aleatorios entre 0 y 1\")\n",
        "print(array_random)\n",
        "print()\n",
        "\n",
        "print(\"Existen varias distribuciones para generar números aleatorios\")\n",
        "\n",
        "array_binom = np.random.binomial(n=10, p=0.5, size=(3,3))\n",
        "print(\"Array 3x3 con distribución binomial\")\n",
        "print(array_binom)\n",
        "print()\n",
        "\n",
        "array_randint = np.random.randint(1, 10, size=(2, 4))  # Array 2x4 con enteros entre 1 y 9\n",
        "print(\"Array 2x4 con enteros entre 1 y 9\")\n",
        "print(array_randint)\n",
        "print()\n",
        "\n",
        "\n",
        "array_identidad = np.eye(4)  # Matriz identidad 4x4\n",
        "print(\"Array identidad 4x4\")\n",
        "print(array_identidad)\n",
        "print()\n"
      ],
      "metadata": {
        "colab": {
          "base_uri": "https://localhost:8080/"
        },
        "id": "o20-8UNMFZ5E",
        "outputId": "661d2b5e-2327-41e1-b6f8-95771751b4ca"
      },
      "execution_count": null,
      "outputs": [
        {
          "output_type": "stream",
          "name": "stdout",
          "text": [
            "Arrays inicializados automáticamente\n",
            "\n",
            "Array 3x4 lleno de ceros\n",
            "[[0. 0. 0. 0.]\n",
            " [0. 0. 0. 0.]\n",
            " [0. 0. 0. 0.]]\n",
            "\n",
            "Crea un arreglo de 10 elementos con valores enteros aleatorios entre 0 y 50\n",
            "[33 20 13 16  8 36  4 18 48 20]\n",
            "\n",
            "Array 2x5 con valores muy cercanos al cero\n",
            "[[1. 1. 1. 1. 1.]\n",
            " [1. 1. 1. 1. 1.]]\n",
            "\n",
            "Array 2x3 con valores muy cercanas al cero\n",
            "[[4.9e-324 9.9e-324 1.5e-323]\n",
            " [2.0e-323 2.5e-323 3.0e-323]]\n",
            "\n",
            "Array con tupla:\n",
            " [[4.9e-324 9.9e-324 1.5e-323]\n",
            " [2.0e-323 2.5e-323 3.0e-323]]\n",
            "Array con lista:\n",
            " [[4.9e-324 9.9e-324 1.5e-323]\n",
            " [2.0e-323 2.5e-323 3.0e-323]]\n",
            "\n",
            "Array 3x3 lleno de 7\n",
            "[[7 7 7]\n",
            " [7 7 7]\n",
            " [7 7 7]]\n",
            "\n",
            "Array con valor inicial de 0 y termina con el penúltimo valor del limite superior, y con incrementos de 2\n",
            "[0 2 4 6 8]\n",
            "\n",
            "Crea un array con números distribuidos uniformemente \n",
            "[0.   0.25 0.5  0.75 1.  ]\n",
            "Array 3x3 con valores aleatorios entre 0 y 1\n",
            "[[0.19987886 0.42393959 0.01657569]\n",
            " [0.13913338 0.84163898 0.75471833]\n",
            " [0.35783734 0.56781018 0.19700801]]\n",
            "\n",
            "Existen varias distribuciones para generar números aleatorios\n",
            "Array 3x3 con distribución binomial\n",
            "[[9 4 5]\n",
            " [5 2 4]\n",
            " [5 6 6]]\n",
            "\n",
            "Array 2x4 con enteros entre 1 y 9\n",
            "[[4 7 8 7]\n",
            " [8 7 8 5]]\n",
            "\n",
            "Array identidad 4x4\n",
            "[[1. 0. 0. 0.]\n",
            " [0. 1. 0. 0.]\n",
            " [0. 0. 1. 0.]\n",
            " [0. 0. 0. 1.]]\n",
            "\n"
          ]
        }
      ]
    },
    {
      "cell_type": "code",
      "source": [
        "# Propiedad de un ndarray\n",
        "# Crear un ndarray unidimensional\n",
        "array_1d =  np.array([1, 2, 3, 4, 5])\n",
        "\n",
        "# Crear un ndarray bidimensional\n",
        "array_2d =  np.array([[1, 2, 3], [4, 5, 6]])\n",
        "\n",
        "# Propiedades del ndarray\n",
        "print(\"Array 1D:\", array_1d)\n",
        "print(\"Forma (shape):\", array_1d.shape)\n",
        "print(\"Dimensiones (ndim):\", array_1d.ndim)\n",
        "print(\"Tamaño (size):\", array_1d.size)\n",
        "print(\"Tipo de datos (dtype):\", array_1d.dtype)"
      ],
      "metadata": {
        "colab": {
          "base_uri": "https://localhost:8080/"
        },
        "id": "K_ByqnRvNh0m",
        "outputId": "36580e07-f4f6-4d75-de1b-a72b2a0e71d4"
      },
      "execution_count": null,
      "outputs": [
        {
          "output_type": "stream",
          "name": "stdout",
          "text": [
            "Array 1D: [1 2 3 4 5]\n",
            "Forma (shape): (5,)\n",
            "Dimensiones (ndim): 1\n",
            "Tamaño (size): 5\n",
            "Tipo de datos (dtype): int64\n"
          ]
        }
      ]
    },
    {
      "cell_type": "code",
      "source": [
        "print(\"\\nArray 2D:\")\n",
        "print(array_2d)\n",
        "print(\"Frona (shape): \", array_2d.shape)\n",
        "print(\"Filas: \", array_2d.shape[0])\n",
        "print(\"Columnas:\", array_2d.shape[1])\n",
        "print(\"Dimensiones (ndim):\", array_2d.ndim)\n",
        "print(\"Tamaño (size):\", array_2d.size)\n",
        "print(\"Tipo de datos (dtype):\", array_2d.dtype)"
      ],
      "metadata": {
        "colab": {
          "base_uri": "https://localhost:8080/"
        },
        "id": "-GsZAC1vPsjT",
        "outputId": "ae5483de-b05e-40f6-8aa3-7a935a7ea6b6"
      },
      "execution_count": null,
      "outputs": [
        {
          "output_type": "stream",
          "name": "stdout",
          "text": [
            "\n",
            "Array 2D:\n",
            "[[1 2 3]\n",
            " [4 5 6]]\n",
            "Frona (shape):  (2, 3)\n",
            "Filas:  2\n",
            "Columnas: 3\n",
            "Dimensiones (ndim): 2\n",
            "Tamaño (size): 6\n",
            "Tipo de datos (dtype): int64\n"
          ]
        }
      ]
    },
    {
      "cell_type": "code",
      "source": [
        "# Indexación\n",
        "array_1d =  np.array([10, 20, 30, 40, 50])\n",
        "print(array_1d[0]) # Salidas: 10\n",
        "print(array_1d[3]) # Salidas: 40\n",
        "\n",
        "# Array bidimensional\n",
        "array_2d =  np.array([[1, 2, 3], [4, 5, 6], [7, 8, 9]])\n",
        "print(array_2d[1,2])\n",
        "print(array_2d[0, 0])\n",
        "\n",
        "# Indexación booleana\n",
        "print(array_1d[array_1d > 30])"
      ],
      "metadata": {
        "colab": {
          "base_uri": "https://localhost:8080/"
        },
        "id": "KeiRRhPSWnBN",
        "outputId": "c559ec02-d92f-46d2-ace0-a344880593a3"
      },
      "execution_count": null,
      "outputs": [
        {
          "output_type": "stream",
          "name": "stdout",
          "text": [
            "10\n",
            "40\n",
            "6\n",
            "1\n",
            "[40 50]\n"
          ]
        }
      ]
    },
    {
      "cell_type": "code",
      "source": [
        "# Segmentación y corte\n",
        "\n",
        "# array unidimensional\n",
        "array_1d =  np.array([10, 20, 30, 40, 50])\n",
        "print(array_1d[1:4])\n",
        "print(array_1d[:3])\n",
        "print(array_1d[::2])"
      ],
      "metadata": {
        "colab": {
          "base_uri": "https://localhost:8080/"
        },
        "id": "kLP-xjKAWbsJ",
        "outputId": "1be2e6f2-ec89-47f8-f4a8-1fcc5914d3ad"
      },
      "execution_count": null,
      "outputs": [
        {
          "output_type": "stream",
          "name": "stdout",
          "text": [
            "[20 30 40]\n",
            "[10 20 30]\n",
            "[10 30 50]\n"
          ]
        }
      ]
    },
    {
      "cell_type": "code",
      "source": [
        "# Array bidimensional\n",
        "array_2d =  np.array([[1, 2, 3], [4, 5, 6], [7, 8, 9]])\n",
        "print(array_2d[1:, :2])\n",
        "print(array_2d[:, ::2])"
      ],
      "metadata": {
        "colab": {
          "base_uri": "https://localhost:8080/"
        },
        "id": "KW0N7UQQXbFt",
        "outputId": "e6f3a3c1-bc66-4d9f-8b24-579e8f9a8004"
      },
      "execution_count": null,
      "outputs": [
        {
          "output_type": "stream",
          "name": "stdout",
          "text": [
            "[[4 5]\n",
            " [7 8]]\n",
            "[[1 3]\n",
            " [4 6]\n",
            " [7 9]]\n"
          ]
        }
      ]
    },
    {
      "cell_type": "code",
      "source": [
        "# Operaciones Matemáticas Básicas\n",
        "# Crear un array 1D\n",
        "array  =  np.array([1, 2, 3, 4])\n",
        "\n",
        "print(\"Operaciones elementales en 1D\")\n",
        "# Operaciones elementales\n",
        "print(array)\n",
        "print(\"Suma:\", array  + 2)\n",
        "print(\"Resta: \", array - 1)\n",
        "print(\"Multiplicación\", array  *  3)\n",
        "print(\"División: \", array / 2)\n",
        "print(\"Potencia: \", array  ** 2)\n"
      ],
      "metadata": {
        "colab": {
          "base_uri": "https://localhost:8080/"
        },
        "id": "lhfPotVkXr0P",
        "outputId": "0c7f8e21-c3e9-4c23-97ae-d1885bd7f94d"
      },
      "execution_count": null,
      "outputs": [
        {
          "output_type": "stream",
          "name": "stdout",
          "text": [
            "Operaciones elementales en 1D\n",
            "[1 2 3 4]\n",
            "Suma: [3 4 5 6]\n",
            "Resta:  [0 1 2 3]\n",
            "Multiplicación [ 3  6  9 12]\n",
            "División:  [0.5 1.  1.5 2. ]\n",
            "Potencia:  [ 1  4  9 16]\n"
          ]
        }
      ]
    },
    {
      "cell_type": "code",
      "source": [
        "print(\"Operaciones Elementales en 2D\")\n",
        "print(array_2d)\n",
        "# Crear un array 2D\n",
        "array_2d =  np.array([[1, 2, 3],  [4, 5, 6]])\n",
        "\n",
        "# Suma\n",
        "suma_2d =  array_2d + 10\n",
        "print(\"\\nSuma (+10):\\n\", suma_2d)\n",
        "\n",
        "# Resta\n",
        "resta_2d =  array_2d - 2\n",
        "print(\"Resta (-2):\\n\", resta_2d)\n",
        "\n",
        "# Multiplicación\n",
        "multiplicacion_2d =  array_2d * 5\n",
        "print(\"Multiplicación (*5):\\n\", multiplicacion_2d)\n",
        "\n",
        "# División\n",
        "division_2d =  array_2d / 2\n",
        "print(\"División (\\2):\\n\", division_2d)\n",
        "\n",
        "# Potenncia\n",
        "potencia_2d =  array_2d ** 3\n",
        "print(\"Potencia (**3):\\n\", potencia_2d)\n",
        "\n",
        "arr1 =  np.array([1, 2, 3])\n",
        "print(arr1)\n",
        "\n",
        "arr2 =  np.array([4, 5, 6])\n",
        "print(arr2)\n",
        "print(arr1*arr2)\n",
        "print(arr1/arr2)\n",
        "print(arr1**arr2)"
      ],
      "metadata": {
        "colab": {
          "base_uri": "https://localhost:8080/"
        },
        "id": "fX8nUONWk3y7",
        "outputId": "dad81201-ee24-4553-9604-b42db606b8c2"
      },
      "execution_count": null,
      "outputs": [
        {
          "output_type": "stream",
          "name": "stdout",
          "text": [
            "Operaciones Elementales en 2D\n",
            "[[1 2 3]\n",
            " [4 5 6]\n",
            " [7 8 9]]\n",
            "\n",
            "Suma (+10):\n",
            " [[11 12 13]\n",
            " [14 15 16]]\n",
            "Resta (-2):\n",
            " [[-1  0  1]\n",
            " [ 2  3  4]]\n",
            "Multiplicación (*5):\n",
            " [[ 5 10 15]\n",
            " [20 25 30]]\n",
            "División (\u0002):\n",
            " [[0.5 1.  1.5]\n",
            " [2.  2.5 3. ]]\n",
            "Potencia (**3):\n",
            " [[  1   8  27]\n",
            " [ 64 125 216]]\n",
            "[1 2 3]\n",
            "[4 5 6]\n",
            "[ 4 10 18]\n",
            "[0.25 0.4  0.5 ]\n",
            "[  1  32 729]\n"
          ]
        }
      ]
    },
    {
      "cell_type": "code",
      "source": [
        "# Operaciones Universales\n",
        "print(\"1D\")\n",
        "print(\"Raiz cuadrada:\", np.sqrt(array))\n",
        "print(\"Seno:\", np.sin(array))\n",
        "print(\"Logaritmo natural:\", np.log(array_2d))"
      ],
      "metadata": {
        "colab": {
          "base_uri": "https://localhost:8080/"
        },
        "id": "AAibgzvrmvLo",
        "outputId": "f8c55e4d-93d8-4132-d52f-2ed725d89906"
      },
      "execution_count": null,
      "outputs": [
        {
          "output_type": "stream",
          "name": "stdout",
          "text": [
            "1D\n",
            "Raiz cuadrada: [1.         1.41421356 1.73205081 2.        ]\n",
            "Seno: [ 0.84147098  0.90929743  0.14112001 -0.7568025 ]\n",
            "Logaritmo natural: [[0.         0.69314718 1.09861229]\n",
            " [1.38629436 1.60943791 1.79175947]]\n"
          ]
        }
      ]
    },
    {
      "cell_type": "code",
      "source": [
        "# Operaciones de Estadística\n",
        "print(\"Suma total:\", np.sum(array_2d))\n",
        "print(\"Media:\", np.mean(array_2d))\n",
        "print(\"Mediana:\", np.median(array_2d))\n",
        "print(\"Desviación estándar:\", np.std(array_2d))\n",
        "print(\"Máximo:\", np.max(array_2d))\n",
        "print(\"Mínimo:\", np.min(array_2d))"
      ],
      "metadata": {
        "colab": {
          "base_uri": "https://localhost:8080/"
        },
        "id": "8ZPV-r3in3dV",
        "outputId": "bcbfd110-4f71-43e7-aef7-9f4d82edfcda"
      },
      "execution_count": null,
      "outputs": [
        {
          "output_type": "stream",
          "name": "stdout",
          "text": [
            "Suma total: 21\n",
            "Media: 3.5\n",
            "Mediana: 3.5\n",
            "Desviación estándar: 1.707825127659933\n",
            "Máximo: 6\n",
            "Mínimo: 1\n"
          ]
        }
      ]
    },
    {
      "cell_type": "code",
      "source": [
        "# Operaciones Lógicas\n",
        "# Comparaciones\n",
        "print(array)\n",
        "print(\"Mayor que 2:\", array > 2)\n",
        "\n",
        "# Selección condicional\n",
        "print(\"Valores mayores a 2:\", array[array > 2])\n",
        "\n",
        "\n",
        "print(\"Mayor que 2: \",  array_2d > 2)"
      ],
      "metadata": {
        "colab": {
          "base_uri": "https://localhost:8080/"
        },
        "id": "9FadJHw8oXM7",
        "outputId": "7d5ce05b-c279-49fb-cdd4-aba51cbe2ca4"
      },
      "execution_count": null,
      "outputs": [
        {
          "output_type": "stream",
          "name": "stdout",
          "text": [
            "[1 2 3 4]\n",
            "Mayor que 2: [False False  True  True]\n",
            "Valores mayores a 2: [3 4]\n",
            "Mayor que 2:  [[False False  True]\n",
            " [ True  True  True]]\n"
          ]
        }
      ]
    },
    {
      "cell_type": "code",
      "source": [
        "# Operaciones de Álgebra Lineal\n",
        "# Crear matrices\n",
        "A =  np.array([[1, 2], [3, 4]])\n",
        "B =  np.array([[5, 6], [7, 8]])\n",
        "\n",
        "# Producto matricial\n",
        "print(\"Producto matricial:\\n\", np.dot(A, B))\n",
        "\n",
        "# Determinante\n",
        "print(\"Determinante de A: \", np.linalg.det(A))\n",
        "\n",
        "# Inversa de A\n",
        "print(\"Inversa de A:\\n\", np.linalg.inv(A))"
      ],
      "metadata": {
        "colab": {
          "base_uri": "https://localhost:8080/"
        },
        "id": "6yH6p6bGoqoD",
        "outputId": "e35edf5a-f511-4091-fdf2-15f6420153a0"
      },
      "execution_count": null,
      "outputs": [
        {
          "output_type": "stream",
          "name": "stdout",
          "text": [
            "Producto matricial:\n",
            " [[19 22]\n",
            " [43 50]]\n",
            "Determinante de A:  -2.0000000000000004\n",
            "Inversa de A:\n",
            " [[-2.   1. ]\n",
            " [ 1.5 -0.5]]\n"
          ]
        }
      ]
    },
    {
      "cell_type": "code",
      "source": [
        "# Manipulación de Arrays\n",
        "print(\"original\")\n",
        "print(array)\n",
        "array  =  np.array([[1, 2], [3, 4],  [5, 6]])\n",
        "\n",
        "# Transponer\n",
        "print(\"Transpuesta:\\n\", array.T)\n",
        "\n",
        "# Cambia la forma\n",
        "print(\"Reformado (2x3)\", array.reshape(2, 3))\n",
        "\n",
        "\n",
        "# Concatenación\n",
        "arr1 = np.array([1, 2, 3, 4, 5])\n",
        "arr2 = np.array([6, 7, 8, 9, 10])\n",
        "print(\"Concatenación horizontal:\", np.concatenate((arr1, arr2)))\n",
        "print(\"Apilamiento vertical:\", np.vstack((arr1, arr2)))"
      ],
      "metadata": {
        "colab": {
          "base_uri": "https://localhost:8080/"
        },
        "id": "Js6gQvTzpB-j",
        "outputId": "bcc069e8-264b-4149-a621-0b4691200af3"
      },
      "execution_count": null,
      "outputs": [
        {
          "output_type": "stream",
          "name": "stdout",
          "text": [
            "original\n",
            "[[1 2]\n",
            " [3 4]\n",
            " [5 6]]\n",
            "Transpuesta:\n",
            " [[1 3 5]\n",
            " [2 4 6]]\n",
            "Reformado (2x3) [[1 2 3]\n",
            " [4 5 6]]\n",
            "Concatenación horizontal: [ 1  2  3  4  5  6  7  8  9 10]\n",
            "Apilamiento vertical: [[ 1  2  3  4  5]\n",
            " [ 6  7  8  9 10]]\n"
          ]
        }
      ]
    },
    {
      "cell_type": "code",
      "source": [
        "# Suma acumulative y producto acumulativo\n",
        "arr =  np.array([1, 2, 3, 4])\n",
        "print(\"Las suma acumulative:\", np.cumsum(arr))\n",
        "print(\"Producto acumulativo:\", np.cumprod(arr))"
      ],
      "metadata": {
        "colab": {
          "base_uri": "https://localhost:8080/"
        },
        "id": "xFVlbDO-rSvD",
        "outputId": "8e17cdf4-14fd-48fa-f02c-8bef628486f6"
      },
      "execution_count": null,
      "outputs": [
        {
          "output_type": "stream",
          "name": "stdout",
          "text": [
            "Las suma acumulative: [ 1  3  6 10]\n",
            "Producto acumulativo: [ 1  2  6 24]\n"
          ]
        }
      ]
    },
    {
      "cell_type": "code",
      "source": [
        "# Manejo de Valores NaN (Not a Number)\n",
        "arr =  np.array([1, 2, np.nan, 4, np.nan])\n",
        "print(\"Original con Nan\", arr)\n",
        "arr[np.isnan(arr)] = 0\n",
        "print(\"Sin NaN:\", arr)"
      ],
      "metadata": {
        "colab": {
          "base_uri": "https://localhost:8080/"
        },
        "id": "Sx1ixr2nrxC7",
        "outputId": "0e590fe5-97d0-470d-ed17-8e8f14deb411"
      },
      "execution_count": null,
      "outputs": [
        {
          "output_type": "stream",
          "name": "stdout",
          "text": [
            "Original con Nan [ 1.  2. nan  4. nan]\n",
            "Sin NaN: [1. 2. 0. 4. 0.]\n"
          ]
        }
      ]
    },
    {
      "cell_type": "code",
      "source": [
        "# Extraer valores Unicos de un arreglo\n",
        "arr =  np.array([1, 2, 3, 2, 4, 4, 5])\n",
        "print(\"Elemento unicos:\", np.unique(arr))"
      ],
      "metadata": {
        "colab": {
          "base_uri": "https://localhost:8080/"
        },
        "id": "9FvTbaVSsATv",
        "outputId": "376a2221-0fa7-4d2b-d333-f0aa966291ed"
      },
      "execution_count": null,
      "outputs": [
        {
          "output_type": "stream",
          "name": "stdout",
          "text": [
            "Elemento unicos: [1 2 3 4 5]\n"
          ]
        }
      ]
    },
    {
      "cell_type": "code",
      "source": [
        "# Leer CSV\n",
        "import numpy as np\n",
        "# Como cargar el archivo tiene un encabezado usamos skiprows =  1\n",
        "data =  np.loadtxt('/content/Titanic-Dataset.csv', delimiter =  ',', skiprows =  1, dtype =  str)\n",
        "print(\"Datos cargados:\\n\", data)"
      ],
      "metadata": {
        "colab": {
          "base_uri": "https://localhost:8080/"
        },
        "id": "Jr8yxHlEsJUV",
        "outputId": "5d39671a-ff39-497b-dadc-9ab662f82cb0"
      },
      "execution_count": null,
      "outputs": [
        {
          "output_type": "stream",
          "name": "stdout",
          "text": [
            "Datos cargados:\n",
            " [['1' '0' '3' ... '7.25' '' 'S']\n",
            " ['2' '1' '1' ... '71.2833' 'C85' 'C']\n",
            " ['3' '1' '3' ... '7.925' '' 'S']\n",
            " ...\n",
            " ['889' '0' '3' ... '23.45' '' 'S']\n",
            " ['890' '1' '1' ... '30' 'C148' 'C']\n",
            " ['891' '0' '3' ... '7.75' '' 'Q']]\n"
          ]
        }
      ]
    },
    {
      "cell_type": "code",
      "source": [
        "import numpy as np\n",
        "data =  np.genfromtxt(\n",
        "    '/content/Titanic-Dataset.csv', delimiter = ';', names =  True, dtype  =  None, encoding = \"UTF\"\n",
        ")"
      ],
      "metadata": {
        "id": "OylA25-7tpYu"
      },
      "execution_count": null,
      "outputs": []
    },
    {
      "cell_type": "code",
      "source": [
        "print(data)"
      ],
      "metadata": {
        "colab": {
          "base_uri": "https://localhost:8080/"
        },
        "id": "ww0TwfGwuKNU",
        "outputId": "ad082eed-0a3a-4132-c8da-c762dbe72a95"
      },
      "execution_count": null,
      "outputs": [
        {
          "output_type": "stream",
          "name": "stdout",
          "text": [
            "[('1,0,3,\"Braund, Mr. Owen Harris\",male,22,1,0,A/5 21171,7.25,,S',)\n",
            " ('2,1,1,\"Cumings, Mrs. John Bradley (Florence Briggs Thayer)\",female,38,1,0,PC 17599,71.2833,C85,C',)\n",
            " ('3,1,3,\"Heikkinen, Miss. Laina\",female,26,0,0,STON/O2. 3101282,7.925,,S',)\n",
            " ('4,1,1,\"Futrelle, Mrs. Jacques Heath (Lily May Peel)\",female,35,1,0,113803,53.1,C123,S',)\n",
            " ('5,0,3,\"Allen, Mr. William Henry\",male,35,0,0,373450,8.05,,S',)\n",
            " ('6,0,3,\"Moran, Mr. James\",male,,0,0,330877,8.4583,,Q',)\n",
            " ('7,0,1,\"McCarthy, Mr. Timothy J\",male,54,0,0,17463,51.8625,E46,S',)\n",
            " ('8,0,3,\"Palsson, Master. Gosta Leonard\",male,2,3,1,349909,21.075,,S',)\n",
            " ('9,1,3,\"Johnson, Mrs. Oscar W (Elisabeth Vilhelmina Berg)\",female,27,0,2,347742,11.1333,,S',)\n",
            " ('10,1,2,\"Nasser, Mrs. Nicholas (Adele Achem)\",female,14,1,0,237736,30.0708,,C',)\n",
            " ('11,1,3,\"Sandstrom, Miss. Marguerite Rut\",female,4,1,1,PP 9549,16.7,G6,S',)\n",
            " ('12,1,1,\"Bonnell, Miss. Elizabeth\",female,58,0,0,113783,26.55,C103,S',)\n",
            " ('13,0,3,\"Saundercock, Mr. William Henry\",male,20,0,0,A/5. 2151,8.05,,S',)\n",
            " ('14,0,3,\"Andersson, Mr. Anders Johan\",male,39,1,5,347082,31.275,,S',)\n",
            " ('15,0,3,\"Vestrom, Miss. Hulda Amanda Adolfina\",female,14,0,0,350406,7.8542,,S',)\n",
            " ('16,1,2,\"Hewlett, Mrs. (Mary D Kingcome) \",female,55,0,0,248706,16,,S',)\n",
            " ('17,0,3,\"Rice, Master. Eugene\",male,2,4,1,382652,29.125,,Q',)\n",
            " ('18,1,2,\"Williams, Mr. Charles Eugene\",male,,0,0,244373,13,,S',)\n",
            " ('19,0,3,\"Vander Planke, Mrs. Julius (Emelia Maria Vandemoortele)\",female,31,1,0,345763,18,,S',)\n",
            " ('20,1,3,\"Masselmani, Mrs. Fatima\",female,,0,0,2649,7.225,,C',)\n",
            " ('21,0,2,\"Fynney, Mr. Joseph J\",male,35,0,0,239865,26,,S',)\n",
            " ('22,1,2,\"Beesley, Mr. Lawrence\",male,34,0,0,248698,13,D56,S',)\n",
            " ('23,1,3,\"McGowan, Miss. Anna \"\"Annie\"\"\",female,15,0,0,330923,8.0292,,Q',)\n",
            " ('24,1,1,\"Sloper, Mr. William Thompson\",male,28,0,0,113788,35.5,A6,S',)\n",
            " ('25,0,3,\"Palsson, Miss. Torborg Danira\",female,8,3,1,349909,21.075,,S',)\n",
            " ('26,1,3,\"Asplund, Mrs. Carl Oscar (Selma Augusta Emilia Johansson)\",female,38,1,5,347077,31.3875,,S',)\n",
            " ('27,0,3,\"Emir, Mr. Farred Chehab\",male,,0,0,2631,7.225,,C',)\n",
            " ('28,0,1,\"Fortune, Mr. Charles Alexander\",male,19,3,2,19950,263,C23 C25 C27,S',)\n",
            " ('29,1,3,\"O\\'Dwyer, Miss. Ellen \"\"Nellie\"\"\",female,,0,0,330959,7.8792,,Q',)\n",
            " ('30,0,3,\"Todoroff, Mr. Lalio\",male,,0,0,349216,7.8958,,S',)\n",
            " ('31,0,1,\"Uruchurtu, Don. Manuel E\",male,40,0,0,PC 17601,27.7208,,C',)\n",
            " ('32,1,1,\"Spencer, Mrs. William Augustus (Marie Eugenie)\",female,,1,0,PC 17569,146.5208,B78,C',)\n",
            " ('33,1,3,\"Glynn, Miss. Mary Agatha\",female,,0,0,335677,7.75,,Q',)\n",
            " ('34,0,2,\"Wheadon, Mr. Edward H\",male,66,0,0,C.A. 24579,10.5,,S',)\n",
            " ('35,0,1,\"Meyer, Mr. Edgar Joseph\",male,28,1,0,PC 17604,82.1708,,C',)\n",
            " ('36,0,1,\"Holverson, Mr. Alexander Oskar\",male,42,1,0,113789,52,,S',)\n",
            " ('37,1,3,\"Mamee, Mr. Hanna\",male,,0,0,2677,7.2292,,C',)\n",
            " ('38,0,3,\"Cann, Mr. Ernest Charles\",male,21,0,0,A./5. 2152,8.05,,S',)\n",
            " ('39,0,3,\"Vander Planke, Miss. Augusta Maria\",female,18,2,0,345764,18,,S',)\n",
            " ('40,1,3,\"Nicola-Yarred, Miss. Jamila\",female,14,1,0,2651,11.2417,,C',)\n",
            " ('41,0,3,\"Ahlin, Mrs. Johan (Johanna Persdotter Larsson)\",female,40,1,0,7546,9.475,,S',)\n",
            " ('42,0,2,\"Turpin, Mrs. William John Robert (Dorothy Ann Wonnacott)\",female,27,1,0,11668,21,,S',)\n",
            " ('43,0,3,\"Kraeff, Mr. Theodor\",male,,0,0,349253,7.8958,,C',)\n",
            " ('44,1,2,\"Laroche, Miss. Simonne Marie Anne Andree\",female,3,1,2,SC/Paris 2123,41.5792,,C',)\n",
            " ('45,1,3,\"Devaney, Miss. Margaret Delia\",female,19,0,0,330958,7.8792,,Q',)\n",
            " ('46,0,3,\"Rogers, Mr. William John\",male,,0,0,S.C./A.4. 23567,8.05,,S',)\n",
            " ('47,0,3,\"Lennon, Mr. Denis\",male,,1,0,370371,15.5,,Q',)\n",
            " ('48,1,3,\"O\\'Driscoll, Miss. Bridget\",female,,0,0,14311,7.75,,Q',)\n",
            " ('49,0,3,\"Samaan, Mr. Youssef\",male,,2,0,2662,21.6792,,C',)\n",
            " ('50,0,3,\"Arnold-Franchi, Mrs. Josef (Josefine Franchi)\",female,18,1,0,349237,17.8,,S',)\n",
            " ('51,0,3,\"Panula, Master. Juha Niilo\",male,7,4,1,3101295,39.6875,,S',)\n",
            " ('52,0,3,\"Nosworthy, Mr. Richard Cater\",male,21,0,0,A/4. 39886,7.8,,S',)\n",
            " ('53,1,1,\"Harper, Mrs. Henry Sleeper (Myna Haxtun)\",female,49,1,0,PC 17572,76.7292,D33,C',)\n",
            " ('54,1,2,\"Faunthorpe, Mrs. Lizzie (Elizabeth Anne Wilkinson)\",female,29,1,0,2926,26,,S',)\n",
            " ('55,0,1,\"Ostby, Mr. Engelhart Cornelius\",male,65,0,1,113509,61.9792,B30,C',)\n",
            " ('56,1,1,\"Woolner, Mr. Hugh\",male,,0,0,19947,35.5,C52,S',)\n",
            " ('57,1,2,\"Rugg, Miss. Emily\",female,21,0,0,C.A. 31026,10.5,,S',)\n",
            " ('58,0,3,\"Novel, Mr. Mansouer\",male,28.5,0,0,2697,7.2292,,C',)\n",
            " ('59,1,2,\"West, Miss. Constance Mirium\",female,5,1,2,C.A. 34651,27.75,,S',)\n",
            " ('60,0,3,\"Goodwin, Master. William Frederick\",male,11,5,2,CA 2144,46.9,,S',)\n",
            " ('61,0,3,\"Sirayanian, Mr. Orsen\",male,22,0,0,2669,7.2292,,C',)\n",
            " ('62,1,1,\"Icard, Miss. Amelie\",female,38,0,0,113572,80,B28,',)\n",
            " ('63,0,1,\"Harris, Mr. Henry Birkhardt\",male,45,1,0,36973,83.475,C83,S',)\n",
            " ('64,0,3,\"Skoog, Master. Harald\",male,4,3,2,347088,27.9,,S',)\n",
            " ('65,0,1,\"Stewart, Mr. Albert A\",male,,0,0,PC 17605,27.7208,,C',)\n",
            " ('66,1,3,\"Moubarek, Master. Gerios\",male,,1,1,2661,15.2458,,C',)\n",
            " ('67,1,2,\"Nye, Mrs. (Elizabeth Ramell)\",female,29,0,0,C.A. 29395,10.5,F33,S',)\n",
            " ('68,0,3,\"Crease, Mr. Ernest James\",male,19,0,0,S.P. 3464,8.1583,,S',)\n",
            " ('69,1,3,\"Andersson, Miss. Erna Alexandra\",female,17,4,2,3101281,7.925,,S',)\n",
            " ('70,0,3,\"Kink, Mr. Vincenz\",male,26,2,0,315151,8.6625,,S',)\n",
            " ('71,0,2,\"Jenkin, Mr. Stephen Curnow\",male,32,0,0,C.A. 33111,10.5,,S',)\n",
            " ('72,0,3,\"Goodwin, Miss. Lillian Amy\",female,16,5,2,CA 2144,46.9,,S',)\n",
            " ('73,0,2,\"Hood, Mr. Ambrose Jr\",male,21,0,0,S.O.C. 14879,73.5,,S',)\n",
            " ('74,0,3,\"Chronopoulos, Mr. Apostolos\",male,26,1,0,2680,14.4542,,C',)\n",
            " ('75,1,3,\"Bing, Mr. Lee\",male,32,0,0,1601,56.4958,,S',)\n",
            " ('76,0,3,\"Moen, Mr. Sigurd Hansen\",male,25,0,0,348123,7.65,F G73,S',)\n",
            " ('77,0,3,\"Staneff, Mr. Ivan\",male,,0,0,349208,7.8958,,S',)\n",
            " ('78,0,3,\"Moutal, Mr. Rahamin Haim\",male,,0,0,374746,8.05,,S',)\n",
            " ('79,1,2,\"Caldwell, Master. Alden Gates\",male,0.83,0,2,248738,29,,S',)\n",
            " ('80,1,3,\"Dowdell, Miss. Elizabeth\",female,30,0,0,364516,12.475,,S',)\n",
            " ('81,0,3,\"Waelens, Mr. Achille\",male,22,0,0,345767,9,,S',)\n",
            " ('82,1,3,\"Sheerlinck, Mr. Jan Baptist\",male,29,0,0,345779,9.5,,S',)\n",
            " ('83,1,3,\"McDermott, Miss. Brigdet Delia\",female,,0,0,330932,7.7875,,Q',)\n",
            " ('84,0,1,\"Carrau, Mr. Francisco M\",male,28,0,0,113059,47.1,,S',)\n",
            " ('85,1,2,\"Ilett, Miss. Bertha\",female,17,0,0,SO/C 14885,10.5,,S',)\n",
            " ('86,1,3,\"Backstrom, Mrs. Karl Alfred (Maria Mathilda Gustafsson)\",female,33,3,0,3101278,15.85,,S',)\n",
            " ('87,0,3,\"Ford, Mr. William Neal\",male,16,1,3,W./C. 6608,34.375,,S',)\n",
            " ('88,0,3,\"Slocovski, Mr. Selman Francis\",male,,0,0,SOTON/OQ 392086,8.05,,S',)\n",
            " ('89,1,1,\"Fortune, Miss. Mabel Helen\",female,23,3,2,19950,263,C23 C25 C27,S',)\n",
            " ('90,0,3,\"Celotti, Mr. Francesco\",male,24,0,0,343275,8.05,,S',)\n",
            " ('91,0,3,\"Christmann, Mr. Emil\",male,29,0,0,343276,8.05,,S',)\n",
            " ('92,0,3,\"Andreasson, Mr. Paul Edvin\",male,20,0,0,347466,7.8542,,S',)\n",
            " ('93,0,1,\"Chaffee, Mr. Herbert Fuller\",male,46,1,0,W.E.P. 5734,61.175,E31,S',)\n",
            " ('94,0,3,\"Dean, Mr. Bertram Frank\",male,26,1,2,C.A. 2315,20.575,,S',)\n",
            " ('95,0,3,\"Coxon, Mr. Daniel\",male,59,0,0,364500,7.25,,S',)\n",
            " ('96,0,3,\"Shorney, Mr. Charles Joseph\",male,,0,0,374910,8.05,,S',)\n",
            " ('97,0,1,\"Goldschmidt, Mr. George B\",male,71,0,0,PC 17754,34.6542,A5,C',)\n",
            " ('98,1,1,\"Greenfield, Mr. William Bertram\",male,23,0,1,PC 17759,63.3583,D10 D12,C',)\n",
            " ('99,1,2,\"Doling, Mrs. John T (Ada Julia Bone)\",female,34,0,1,231919,23,,S',)\n",
            " ('100,0,2,\"Kantor, Mr. Sinai\",male,34,1,0,244367,26,,S',)\n",
            " ('101,0,3,\"Petranec, Miss. Matilda\",female,28,0,0,349245,7.8958,,S',)\n",
            " ('102,0,3,\"Petroff, Mr. Pastcho (\"\"Pentcho\"\")\",male,,0,0,349215,7.8958,,S',)\n",
            " ('103,0,1,\"White, Mr. Richard Frasar\",male,21,0,1,35281,77.2875,D26,S',)\n",
            " ('104,0,3,\"Johansson, Mr. Gustaf Joel\",male,33,0,0,7540,8.6542,,S',)\n",
            " ('105,0,3,\"Gustafsson, Mr. Anders Vilhelm\",male,37,2,0,3101276,7.925,,S',)\n",
            " ('106,0,3,\"Mionoff, Mr. Stoytcho\",male,28,0,0,349207,7.8958,,S',)\n",
            " ('107,1,3,\"Salkjelsvik, Miss. Anna Kristine\",female,21,0,0,343120,7.65,,S',)\n",
            " ('108,1,3,\"Moss, Mr. Albert Johan\",male,,0,0,312991,7.775,,S',)\n",
            " ('109,0,3,\"Rekic, Mr. Tido\",male,38,0,0,349249,7.8958,,S',)\n",
            " ('110,1,3,\"Moran, Miss. Bertha\",female,,1,0,371110,24.15,,Q',)\n",
            " ('111,0,1,\"Porter, Mr. Walter Chamberlain\",male,47,0,0,110465,52,C110,S',)\n",
            " ('112,0,3,\"Zabour, Miss. Hileni\",female,14.5,1,0,2665,14.4542,,C',)\n",
            " ('113,0,3,\"Barton, Mr. David John\",male,22,0,0,324669,8.05,,S',)\n",
            " ('114,0,3,\"Jussila, Miss. Katriina\",female,20,1,0,4136,9.825,,S',)\n",
            " ('115,0,3,\"Attalah, Miss. Malake\",female,17,0,0,2627,14.4583,,C',)\n",
            " ('116,0,3,\"Pekoniemi, Mr. Edvard\",male,21,0,0,STON/O 2. 3101294,7.925,,S',)\n",
            " ('117,0,3,\"Connors, Mr. Patrick\",male,70.5,0,0,370369,7.75,,Q',)\n",
            " ('118,0,2,\"Turpin, Mr. William John Robert\",male,29,1,0,11668,21,,S',)\n",
            " ('119,0,1,\"Baxter, Mr. Quigg Edmond\",male,24,0,1,PC 17558,247.5208,B58 B60,C',)\n",
            " ('120,0,3,\"Andersson, Miss. Ellis Anna Maria\",female,2,4,2,347082,31.275,,S',)\n",
            " ('121,0,2,\"Hickman, Mr. Stanley George\",male,21,2,0,S.O.C. 14879,73.5,,S',)\n",
            " ('122,0,3,\"Moore, Mr. Leonard Charles\",male,,0,0,A4. 54510,8.05,,S',)\n",
            " ('123,0,2,\"Nasser, Mr. Nicholas\",male,32.5,1,0,237736,30.0708,,C',)\n",
            " ('124,1,2,\"Webber, Miss. Susan\",female,32.5,0,0,27267,13,E101,S',)\n",
            " ('125,0,1,\"White, Mr. Percival Wayland\",male,54,0,1,35281,77.2875,D26,S',)\n",
            " ('126,1,3,\"Nicola-Yarred, Master. Elias\",male,12,1,0,2651,11.2417,,C',)\n",
            " ('127,0,3,\"McMahon, Mr. Martin\",male,,0,0,370372,7.75,,Q',)\n",
            " ('128,1,3,\"Madsen, Mr. Fridtjof Arne\",male,24,0,0,C 17369,7.1417,,S',)\n",
            " ('129,1,3,\"Peter, Miss. Anna\",female,,1,1,2668,22.3583,F E69,C',)\n",
            " ('130,0,3,\"Ekstrom, Mr. Johan\",male,45,0,0,347061,6.975,,S',)\n",
            " ('131,0,3,\"Drazenoic, Mr. Jozef\",male,33,0,0,349241,7.8958,,C',)\n",
            " ('132,0,3,\"Coelho, Mr. Domingos Fernandeo\",male,20,0,0,SOTON/O.Q. 3101307,7.05,,S',)\n",
            " ('133,0,3,\"Robins, Mrs. Alexander A (Grace Charity Laury)\",female,47,1,0,A/5. 3337,14.5,,S',)\n",
            " ('134,1,2,\"Weisz, Mrs. Leopold (Mathilde Francoise Pede)\",female,29,1,0,228414,26,,S',)\n",
            " ('135,0,2,\"Sobey, Mr. Samuel James Hayden\",male,25,0,0,C.A. 29178,13,,S',)\n",
            " ('136,0,2,\"Richard, Mr. Emile\",male,23,0,0,SC/PARIS 2133,15.0458,,C',)\n",
            " ('137,1,1,\"Newsom, Miss. Helen Monypeny\",female,19,0,2,11752,26.2833,D47,S',)\n",
            " ('138,0,1,\"Futrelle, Mr. Jacques Heath\",male,37,1,0,113803,53.1,C123,S',)\n",
            " ('139,0,3,\"Osen, Mr. Olaf Elon\",male,16,0,0,7534,9.2167,,S',)\n",
            " ('140,0,1,\"Giglio, Mr. Victor\",male,24,0,0,PC 17593,79.2,B86,C',)\n",
            " ('141,0,3,\"Boulos, Mrs. Joseph (Sultana)\",female,,0,2,2678,15.2458,,C',)\n",
            " ('142,1,3,\"Nysten, Miss. Anna Sofia\",female,22,0,0,347081,7.75,,S',)\n",
            " ('143,1,3,\"Hakkarainen, Mrs. Pekka Pietari (Elin Matilda Dolck)\",female,24,1,0,STON/O2. 3101279,15.85,,S',)\n",
            " ('144,0,3,\"Burke, Mr. Jeremiah\",male,19,0,0,365222,6.75,,Q',)\n",
            " ('145,0,2,\"Andrew, Mr. Edgardo Samuel\",male,18,0,0,231945,11.5,,S',)\n",
            " ('146,0,2,\"Nicholls, Mr. Joseph Charles\",male,19,1,1,C.A. 33112,36.75,,S',)\n",
            " ('147,1,3,\"Andersson, Mr. August Edvard (\"\"Wennerstrom\"\")\",male,27,0,0,350043,7.7958,,S',)\n",
            " ('148,0,3,\"Ford, Miss. Robina Maggie \"\"Ruby\"\"\",female,9,2,2,W./C. 6608,34.375,,S',)\n",
            " ('149,0,2,\"Navratil, Mr. Michel (\"\"Louis M Hoffman\"\")\",male,36.5,0,2,230080,26,F2,S',)\n",
            " ('150,0,2,\"Byles, Rev. Thomas Roussel Davids\",male,42,0,0,244310,13,,S',)\n",
            " ('151,0,2,\"Bateman, Rev. Robert James\",male,51,0,0,S.O.P. 1166,12.525,,S',)\n",
            " ('152,1,1,\"Pears, Mrs. Thomas (Edith Wearne)\",female,22,1,0,113776,66.6,C2,S',)\n",
            " ('153,0,3,\"Meo, Mr. Alfonzo\",male,55.5,0,0,A.5. 11206,8.05,,S',)\n",
            " ('154,0,3,\"van Billiard, Mr. Austin Blyler\",male,40.5,0,2,A/5. 851,14.5,,S',)\n",
            " ('155,0,3,\"Olsen, Mr. Ole Martin\",male,,0,0,Fa 265302,7.3125,,S',)\n",
            " ('156,0,1,\"Williams, Mr. Charles Duane\",male,51,0,1,PC 17597,61.3792,,C',)\n",
            " ('157,1,3,\"Gilnagh, Miss. Katherine \"\"Katie\"\"\",female,16,0,0,35851,7.7333,,Q',)\n",
            " ('158,0,3,\"Corn, Mr. Harry\",male,30,0,0,SOTON/OQ 392090,8.05,,S',)\n",
            " ('159,0,3,\"Smiljanic, Mr. Mile\",male,,0,0,315037,8.6625,,S',)\n",
            " ('160,0,3,\"Sage, Master. Thomas Henry\",male,,8,2,CA. 2343,69.55,,S',)\n",
            " ('161,0,3,\"Cribb, Mr. John Hatfield\",male,44,0,1,371362,16.1,,S',)\n",
            " ('162,1,2,\"Watt, Mrs. James (Elizabeth \"\"Bessie\"\" Inglis Milne)\",female,40,0,0,C.A. 33595,15.75,,S',)\n",
            " ('163,0,3,\"Bengtsson, Mr. John Viktor\",male,26,0,0,347068,7.775,,S',)\n",
            " ('164,0,3,\"Calic, Mr. Jovo\",male,17,0,0,315093,8.6625,,S',)\n",
            " ('165,0,3,\"Panula, Master. Eino Viljami\",male,1,4,1,3101295,39.6875,,S',)\n",
            " ('166,1,3,\"Goldsmith, Master. Frank John William \"\"Frankie\"\"\",male,9,0,2,363291,20.525,,S',)\n",
            " ('167,1,1,\"Chibnall, Mrs. (Edith Martha Bowerman)\",female,,0,1,113505,55,E33,S',)\n",
            " ('168,0,3,\"Skoog, Mrs. William (Anna Bernhardina Karlsson)\",female,45,1,4,347088,27.9,,S',)\n",
            " ('169,0,1,\"Baumann, Mr. John D\",male,,0,0,PC 17318,25.925,,S',)\n",
            " ('170,0,3,\"Ling, Mr. Lee\",male,28,0,0,1601,56.4958,,S',)\n",
            " ('171,0,1,\"Van der hoef, Mr. Wyckoff\",male,61,0,0,111240,33.5,B19,S',)\n",
            " ('172,0,3,\"Rice, Master. Arthur\",male,4,4,1,382652,29.125,,Q',)\n",
            " ('173,1,3,\"Johnson, Miss. Eleanor Ileen\",female,1,1,1,347742,11.1333,,S',)\n",
            " ('174,0,3,\"Sivola, Mr. Antti Wilhelm\",male,21,0,0,STON/O 2. 3101280,7.925,,S',)\n",
            " ('175,0,1,\"Smith, Mr. James Clinch\",male,56,0,0,17764,30.6958,A7,C',)\n",
            " ('176,0,3,\"Klasen, Mr. Klas Albin\",male,18,1,1,350404,7.8542,,S',)\n",
            " ('177,0,3,\"Lefebre, Master. Henry Forbes\",male,,3,1,4133,25.4667,,S',)\n",
            " ('178,0,1,\"Isham, Miss. Ann Elizabeth\",female,50,0,0,PC 17595,28.7125,C49,C',)\n",
            " ('179,0,2,\"Hale, Mr. Reginald\",male,30,0,0,250653,13,,S',)\n",
            " ('180,0,3,\"Leonard, Mr. Lionel\",male,36,0,0,LINE,0,,S',)\n",
            " ('181,0,3,\"Sage, Miss. Constance Gladys\",female,,8,2,CA. 2343,69.55,,S',)\n",
            " ('182,0,2,\"Pernot, Mr. Rene\",male,,0,0,SC/PARIS 2131,15.05,,C',)\n",
            " ('183,0,3,\"Asplund, Master. Clarence Gustaf Hugo\",male,9,4,2,347077,31.3875,,S',)\n",
            " ('184,1,2,\"Becker, Master. Richard F\",male,1,2,1,230136,39,F4,S',)\n",
            " ('185,1,3,\"Kink-Heilmann, Miss. Luise Gretchen\",female,4,0,2,315153,22.025,,S',)\n",
            " ('186,0,1,\"Rood, Mr. Hugh Roscoe\",male,,0,0,113767,50,A32,S',)\n",
            " ('187,1,3,\"O\\'Brien, Mrs. Thomas (Johanna \"\"Hannah\"\" Godfrey)\",female,,1,0,370365,15.5,,Q',)\n",
            " ('188,1,1,\"Romaine, Mr. Charles Hallace (\"\"Mr C Rolmane\"\")\",male,45,0,0,111428,26.55,,S',)\n",
            " ('189,0,3,\"Bourke, Mr. John\",male,40,1,1,364849,15.5,,Q',)\n",
            " ('190,0,3,\"Turcin, Mr. Stjepan\",male,36,0,0,349247,7.8958,,S',)\n",
            " ('191,1,2,\"Pinsky, Mrs. (Rosa)\",female,32,0,0,234604,13,,S',)\n",
            " ('192,0,2,\"Carbines, Mr. William\",male,19,0,0,28424,13,,S',)\n",
            " ('193,1,3,\"Andersen-Jensen, Miss. Carla Christine Nielsine\",female,19,1,0,350046,7.8542,,S',)\n",
            " ('194,1,2,\"Navratil, Master. Michel M\",male,3,1,1,230080,26,F2,S',)\n",
            " ('195,1,1,\"Brown, Mrs. James Joseph (Margaret Tobin)\",female,44,0,0,PC 17610,27.7208,B4,C',)\n",
            " ('196,1,1,\"Lurette, Miss. Elise\",female,58,0,0,PC 17569,146.5208,B80,C',)\n",
            " ('197,0,3,\"Mernagh, Mr. Robert\",male,,0,0,368703,7.75,,Q',)\n",
            " ('198,0,3,\"Olsen, Mr. Karl Siegwart Andreas\",male,42,0,1,4579,8.4042,,S',)\n",
            " ('199,1,3,\"Madigan, Miss. Margaret \"\"Maggie\"\"\",female,,0,0,370370,7.75,,Q',)\n",
            " ('200,0,2,\"Yrois, Miss. Henriette (\"\"Mrs Harbeck\"\")\",female,24,0,0,248747,13,,S',)\n",
            " ('201,0,3,\"Vande Walle, Mr. Nestor Cyriel\",male,28,0,0,345770,9.5,,S',)\n",
            " ('202,0,3,\"Sage, Mr. Frederick\",male,,8,2,CA. 2343,69.55,,S',)\n",
            " ('203,0,3,\"Johanson, Mr. Jakob Alfred\",male,34,0,0,3101264,6.4958,,S',)\n",
            " ('204,0,3,\"Youseff, Mr. Gerious\",male,45.5,0,0,2628,7.225,,C',)\n",
            " ('205,1,3,\"Cohen, Mr. Gurshon \"\"Gus\"\"\",male,18,0,0,A/5 3540,8.05,,S',)\n",
            " ('206,0,3,\"Strom, Miss. Telma Matilda\",female,2,0,1,347054,10.4625,G6,S',)\n",
            " ('207,0,3,\"Backstrom, Mr. Karl Alfred\",male,32,1,0,3101278,15.85,,S',)\n",
            " ('208,1,3,\"Albimona, Mr. Nassef Cassem\",male,26,0,0,2699,18.7875,,C',)\n",
            " ('209,1,3,\"Carr, Miss. Helen \"\"Ellen\"\"\",female,16,0,0,367231,7.75,,Q',)\n",
            " ('210,1,1,\"Blank, Mr. Henry\",male,40,0,0,112277,31,A31,C',)\n",
            " ('211,0,3,\"Ali, Mr. Ahmed\",male,24,0,0,SOTON/O.Q. 3101311,7.05,,S',)\n",
            " ('212,1,2,\"Cameron, Miss. Clear Annie\",female,35,0,0,F.C.C. 13528,21,,S',)\n",
            " ('213,0,3,\"Perkin, Mr. John Henry\",male,22,0,0,A/5 21174,7.25,,S',)\n",
            " ('214,0,2,\"Givard, Mr. Hans Kristensen\",male,30,0,0,250646,13,,S',)\n",
            " ('215,0,3,\"Kiernan, Mr. Philip\",male,,1,0,367229,7.75,,Q',)\n",
            " ('216,1,1,\"Newell, Miss. Madeleine\",female,31,1,0,35273,113.275,D36,C',)\n",
            " ('217,1,3,\"Honkanen, Miss. Eliina\",female,27,0,0,STON/O2. 3101283,7.925,,S',)\n",
            " ('218,0,2,\"Jacobsohn, Mr. Sidney Samuel\",male,42,1,0,243847,27,,S',)\n",
            " ('219,1,1,\"Bazzani, Miss. Albina\",female,32,0,0,11813,76.2917,D15,C',)\n",
            " ('220,0,2,\"Harris, Mr. Walter\",male,30,0,0,W/C 14208,10.5,,S',)\n",
            " ('221,1,3,\"Sunderland, Mr. Victor Francis\",male,16,0,0,SOTON/OQ 392089,8.05,,S',)\n",
            " ('222,0,2,\"Bracken, Mr. James H\",male,27,0,0,220367,13,,S',)\n",
            " ('223,0,3,\"Green, Mr. George Henry\",male,51,0,0,21440,8.05,,S',)\n",
            " ('224,0,3,\"Nenkoff, Mr. Christo\",male,,0,0,349234,7.8958,,S',)\n",
            " ('225,1,1,\"Hoyt, Mr. Frederick Maxfield\",male,38,1,0,19943,90,C93,S',)\n",
            " ('226,0,3,\"Berglund, Mr. Karl Ivar Sven\",male,22,0,0,PP 4348,9.35,,S',)\n",
            " ('227,1,2,\"Mellors, Mr. William John\",male,19,0,0,SW/PP 751,10.5,,S',)\n",
            " ('228,0,3,\"Lovell, Mr. John Hall (\"\"Henry\"\")\",male,20.5,0,0,A/5 21173,7.25,,S',)\n",
            " ('229,0,2,\"Fahlstrom, Mr. Arne Jonas\",male,18,0,0,236171,13,,S',)\n",
            " ('230,0,3,\"Lefebre, Miss. Mathilde\",female,,3,1,4133,25.4667,,S',)\n",
            " ('231,1,1,\"Harris, Mrs. Henry Birkhardt (Irene Wallach)\",female,35,1,0,36973,83.475,C83,S',)\n",
            " ('232,0,3,\"Larsson, Mr. Bengt Edvin\",male,29,0,0,347067,7.775,,S',)\n",
            " ('233,0,2,\"Sjostedt, Mr. Ernst Adolf\",male,59,0,0,237442,13.5,,S',)\n",
            " ('234,1,3,\"Asplund, Miss. Lillian Gertrud\",female,5,4,2,347077,31.3875,,S',)\n",
            " ('235,0,2,\"Leyson, Mr. Robert William Norman\",male,24,0,0,C.A. 29566,10.5,,S',)\n",
            " ('236,0,3,\"Harknett, Miss. Alice Phoebe\",female,,0,0,W./C. 6609,7.55,,S',)\n",
            " ('237,0,2,\"Hold, Mr. Stephen\",male,44,1,0,26707,26,,S',)\n",
            " ('238,1,2,\"Collyer, Miss. Marjorie \"\"Lottie\"\"\",female,8,0,2,C.A. 31921,26.25,,S',)\n",
            " ('239,0,2,\"Pengelly, Mr. Frederick William\",male,19,0,0,28665,10.5,,S',)\n",
            " ('240,0,2,\"Hunt, Mr. George Henry\",male,33,0,0,SCO/W 1585,12.275,,S',)\n",
            " ('241,0,3,\"Zabour, Miss. Thamine\",female,,1,0,2665,14.4542,,C',)\n",
            " ('242,1,3,\"Murphy, Miss. Katherine \"\"Kate\"\"\",female,,1,0,367230,15.5,,Q',)\n",
            " ('243,0,2,\"Coleridge, Mr. Reginald Charles\",male,29,0,0,W./C. 14263,10.5,,S',)\n",
            " ('244,0,3,\"Maenpaa, Mr. Matti Alexanteri\",male,22,0,0,STON/O 2. 3101275,7.125,,S',)\n",
            " ('245,0,3,\"Attalah, Mr. Sleiman\",male,30,0,0,2694,7.225,,C',)\n",
            " ('246,0,1,\"Minahan, Dr. William Edward\",male,44,2,0,19928,90,C78,Q',)\n",
            " ('247,0,3,\"Lindahl, Miss. Agda Thorilda Viktoria\",female,25,0,0,347071,7.775,,S',)\n",
            " ('248,1,2,\"Hamalainen, Mrs. William (Anna)\",female,24,0,2,250649,14.5,,S',)\n",
            " ('249,1,1,\"Beckwith, Mr. Richard Leonard\",male,37,1,1,11751,52.5542,D35,S',)\n",
            " ('250,0,2,\"Carter, Rev. Ernest Courtenay\",male,54,1,0,244252,26,,S',)\n",
            " ('251,0,3,\"Reed, Mr. James George\",male,,0,0,362316,7.25,,S',)\n",
            " ('252,0,3,\"Strom, Mrs. Wilhelm (Elna Matilda Persson)\",female,29,1,1,347054,10.4625,G6,S',)\n",
            " ('253,0,1,\"Stead, Mr. William Thomas\",male,62,0,0,113514,26.55,C87,S',)\n",
            " ('254,0,3,\"Lobb, Mr. William Arthur\",male,30,1,0,A/5. 3336,16.1,,S',)\n",
            " ('255,0,3,\"Rosblom, Mrs. Viktor (Helena Wilhelmina)\",female,41,0,2,370129,20.2125,,S',)\n",
            " ('256,1,3,\"Touma, Mrs. Darwis (Hanne Youssef Razi)\",female,29,0,2,2650,15.2458,,C',)\n",
            " ('257,1,1,\"Thorne, Mrs. Gertrude Maybelle\",female,,0,0,PC 17585,79.2,,C',)\n",
            " ('258,1,1,\"Cherry, Miss. Gladys\",female,30,0,0,110152,86.5,B77,S',)\n",
            " ('259,1,1,\"Ward, Miss. Anna\",female,35,0,0,PC 17755,512.3292,,C',)\n",
            " ('260,1,2,\"Parrish, Mrs. (Lutie Davis)\",female,50,0,1,230433,26,,S',)\n",
            " ('261,0,3,\"Smith, Mr. Thomas\",male,,0,0,384461,7.75,,Q',)\n",
            " ('262,1,3,\"Asplund, Master. Edvin Rojj Felix\",male,3,4,2,347077,31.3875,,S',)\n",
            " ('263,0,1,\"Taussig, Mr. Emil\",male,52,1,1,110413,79.65,E67,S',)\n",
            " ('264,0,1,\"Harrison, Mr. William\",male,40,0,0,112059,0,B94,S',)\n",
            " ('265,0,3,\"Henry, Miss. Delia\",female,,0,0,382649,7.75,,Q',)\n",
            " ('266,0,2,\"Reeves, Mr. David\",male,36,0,0,C.A. 17248,10.5,,S',)\n",
            " ('267,0,3,\"Panula, Mr. Ernesti Arvid\",male,16,4,1,3101295,39.6875,,S',)\n",
            " ('268,1,3,\"Persson, Mr. Ernst Ulrik\",male,25,1,0,347083,7.775,,S',)\n",
            " ('269,1,1,\"Graham, Mrs. William Thompson (Edith Junkins)\",female,58,0,1,PC 17582,153.4625,C125,S',)\n",
            " ('270,1,1,\"Bissette, Miss. Amelia\",female,35,0,0,PC 17760,135.6333,C99,S',)\n",
            " ('271,0,1,\"Cairns, Mr. Alexander\",male,,0,0,113798,31,,S',)\n",
            " ('272,1,3,\"Tornquist, Mr. William Henry\",male,25,0,0,LINE,0,,S',)\n",
            " ('273,1,2,\"Mellinger, Mrs. (Elizabeth Anne Maidment)\",female,41,0,1,250644,19.5,,S',)\n",
            " ('274,0,1,\"Natsch, Mr. Charles H\",male,37,0,1,PC 17596,29.7,C118,C',)\n",
            " ('275,1,3,\"Healy, Miss. Hanora \"\"Nora\"\"\",female,,0,0,370375,7.75,,Q',)\n",
            " ('276,1,1,\"Andrews, Miss. Kornelia Theodosia\",female,63,1,0,13502,77.9583,D7,S',)\n",
            " ('277,0,3,\"Lindblom, Miss. Augusta Charlotta\",female,45,0,0,347073,7.75,,S',)\n",
            " ('278,0,2,\"Parkes, Mr. Francis \"\"Frank\"\"\",male,,0,0,239853,0,,S',)\n",
            " ('279,0,3,\"Rice, Master. Eric\",male,7,4,1,382652,29.125,,Q',)\n",
            " ('280,1,3,\"Abbott, Mrs. Stanton (Rosa Hunt)\",female,35,1,1,C.A. 2673,20.25,,S',)\n",
            " ('281,0,3,\"Duane, Mr. Frank\",male,65,0,0,336439,7.75,,Q',)\n",
            " ('282,0,3,\"Olsson, Mr. Nils Johan Goransson\",male,28,0,0,347464,7.8542,,S',)\n",
            " ('283,0,3,\"de Pelsmaeker, Mr. Alfons\",male,16,0,0,345778,9.5,,S',)\n",
            " ('284,1,3,\"Dorking, Mr. Edward Arthur\",male,19,0,0,A/5. 10482,8.05,,S',)\n",
            " ('285,0,1,\"Smith, Mr. Richard William\",male,,0,0,113056,26,A19,S',)\n",
            " ('286,0,3,\"Stankovic, Mr. Ivan\",male,33,0,0,349239,8.6625,,C',)\n",
            " ('287,1,3,\"de Mulder, Mr. Theodore\",male,30,0,0,345774,9.5,,S',)\n",
            " ('288,0,3,\"Naidenoff, Mr. Penko\",male,22,0,0,349206,7.8958,,S',)\n",
            " ('289,1,2,\"Hosono, Mr. Masabumi\",male,42,0,0,237798,13,,S',)\n",
            " ('290,1,3,\"Connolly, Miss. Kate\",female,22,0,0,370373,7.75,,Q',)\n",
            " ('291,1,1,\"Barber, Miss. Ellen \"\"Nellie\"\"\",female,26,0,0,19877,78.85,,S',)\n",
            " ('292,1,1,\"Bishop, Mrs. Dickinson H (Helen Walton)\",female,19,1,0,11967,91.0792,B49,C',)\n",
            " ('293,0,2,\"Levy, Mr. Rene Jacques\",male,36,0,0,SC/Paris 2163,12.875,D,C',)\n",
            " ('294,0,3,\"Haas, Miss. Aloisia\",female,24,0,0,349236,8.85,,S',)\n",
            " ('295,0,3,\"Mineff, Mr. Ivan\",male,24,0,0,349233,7.8958,,S',)\n",
            " ('296,0,1,\"Lewy, Mr. Ervin G\",male,,0,0,PC 17612,27.7208,,C',)\n",
            " ('297,0,3,\"Hanna, Mr. Mansour\",male,23.5,0,0,2693,7.2292,,C',)\n",
            " ('298,0,1,\"Allison, Miss. Helen Loraine\",female,2,1,2,113781,151.55,C22 C26,S',)\n",
            " ('299,1,1,\"Saalfeld, Mr. Adolphe\",male,,0,0,19988,30.5,C106,S',)\n",
            " ('300,1,1,\"Baxter, Mrs. James (Helene DeLaudeniere Chaput)\",female,50,0,1,PC 17558,247.5208,B58 B60,C',)\n",
            " ('301,1,3,\"Kelly, Miss. Anna Katherine \"\"Annie Kate\"\"\",female,,0,0,9234,7.75,,Q',)\n",
            " ('302,1,3,\"McCoy, Mr. Bernard\",male,,2,0,367226,23.25,,Q',)\n",
            " ('303,0,3,\"Johnson, Mr. William Cahoone Jr\",male,19,0,0,LINE,0,,S',)\n",
            " ('304,1,2,\"Keane, Miss. Nora A\",female,,0,0,226593,12.35,E101,Q',)\n",
            " ('305,0,3,\"Williams, Mr. Howard Hugh \"\"Harry\"\"\",male,,0,0,A/5 2466,8.05,,S',)\n",
            " ('306,1,1,\"Allison, Master. Hudson Trevor\",male,0.92,1,2,113781,151.55,C22 C26,S',)\n",
            " ('307,1,1,\"Fleming, Miss. Margaret\",female,,0,0,17421,110.8833,,C',)\n",
            " ('308,1,1,\"Penasco y Castellana, Mrs. Victor de Satode (Maria Josefa Perez de Soto y Vallejo)\",female,17,1,0,PC 17758,108.9,C65,C',)\n",
            " ('309,0,2,\"Abelson, Mr. Samuel\",male,30,1,0,P/PP 3381,24,,C',)\n",
            " ('310,1,1,\"Francatelli, Miss. Laura Mabel\",female,30,0,0,PC 17485,56.9292,E36,C',)\n",
            " ('311,1,1,\"Hays, Miss. Margaret Bechstein\",female,24,0,0,11767,83.1583,C54,C',)\n",
            " ('312,1,1,\"Ryerson, Miss. Emily Borie\",female,18,2,2,PC 17608,262.375,B57 B59 B63 B66,C',)\n",
            " ('313,0,2,\"Lahtinen, Mrs. William (Anna Sylfven)\",female,26,1,1,250651,26,,S',)\n",
            " ('314,0,3,\"Hendekovic, Mr. Ignjac\",male,28,0,0,349243,7.8958,,S',)\n",
            " ('315,0,2,\"Hart, Mr. Benjamin\",male,43,1,1,F.C.C. 13529,26.25,,S',)\n",
            " ('316,1,3,\"Nilsson, Miss. Helmina Josefina\",female,26,0,0,347470,7.8542,,S',)\n",
            " ('317,1,2,\"Kantor, Mrs. Sinai (Miriam Sternin)\",female,24,1,0,244367,26,,S',)\n",
            " ('318,0,2,\"Moraweck, Dr. Ernest\",male,54,0,0,29011,14,,S',)\n",
            " ('319,1,1,\"Wick, Miss. Mary Natalie\",female,31,0,2,36928,164.8667,C7,S',)\n",
            " ('320,1,1,\"Spedden, Mrs. Frederic Oakley (Margaretta Corning Stone)\",female,40,1,1,16966,134.5,E34,C',)\n",
            " ('321,0,3,\"Dennis, Mr. Samuel\",male,22,0,0,A/5 21172,7.25,,S',)\n",
            " ('322,0,3,\"Danoff, Mr. Yoto\",male,27,0,0,349219,7.8958,,S',)\n",
            " ('323,1,2,\"Slayter, Miss. Hilda Mary\",female,30,0,0,234818,12.35,,Q',)\n",
            " ('324,1,2,\"Caldwell, Mrs. Albert Francis (Sylvia Mae Harbaugh)\",female,22,1,1,248738,29,,S',)\n",
            " ('325,0,3,\"Sage, Mr. George John Jr\",male,,8,2,CA. 2343,69.55,,S',)\n",
            " ('326,1,1,\"Young, Miss. Marie Grice\",female,36,0,0,PC 17760,135.6333,C32,C',)\n",
            " ('327,0,3,\"Nysveen, Mr. Johan Hansen\",male,61,0,0,345364,6.2375,,S',)\n",
            " ('328,1,2,\"Ball, Mrs. (Ada E Hall)\",female,36,0,0,28551,13,D,S',)\n",
            " ('329,1,3,\"Goldsmith, Mrs. Frank John (Emily Alice Brown)\",female,31,1,1,363291,20.525,,S',)\n",
            " ('330,1,1,\"Hippach, Miss. Jean Gertrude\",female,16,0,1,111361,57.9792,B18,C',)\n",
            " ('331,1,3,\"McCoy, Miss. Agnes\",female,,2,0,367226,23.25,,Q',)\n",
            " ('332,0,1,\"Partner, Mr. Austen\",male,45.5,0,0,113043,28.5,C124,S',)\n",
            " ('333,0,1,\"Graham, Mr. George Edward\",male,38,0,1,PC 17582,153.4625,C91,S',)\n",
            " ('334,0,3,\"Vander Planke, Mr. Leo Edmondus\",male,16,2,0,345764,18,,S',)\n",
            " ('335,1,1,\"Frauenthal, Mrs. Henry William (Clara Heinsheimer)\",female,,1,0,PC 17611,133.65,,S',)\n",
            " ('336,0,3,\"Denkoff, Mr. Mitto\",male,,0,0,349225,7.8958,,S',)\n",
            " ('337,0,1,\"Pears, Mr. Thomas Clinton\",male,29,1,0,113776,66.6,C2,S',)\n",
            " ('338,1,1,\"Burns, Miss. Elizabeth Margaret\",female,41,0,0,16966,134.5,E40,C',)\n",
            " ('339,1,3,\"Dahl, Mr. Karl Edwart\",male,45,0,0,7598,8.05,,S',)\n",
            " ('340,0,1,\"Blackwell, Mr. Stephen Weart\",male,45,0,0,113784,35.5,T,S',)\n",
            " ('341,1,2,\"Navratil, Master. Edmond Roger\",male,2,1,1,230080,26,F2,S',)\n",
            " ('342,1,1,\"Fortune, Miss. Alice Elizabeth\",female,24,3,2,19950,263,C23 C25 C27,S',)\n",
            " ('343,0,2,\"Collander, Mr. Erik Gustaf\",male,28,0,0,248740,13,,S',)\n",
            " ('344,0,2,\"Sedgwick, Mr. Charles Frederick Waddington\",male,25,0,0,244361,13,,S',)\n",
            " ('345,0,2,\"Fox, Mr. Stanley Hubert\",male,36,0,0,229236,13,,S',)\n",
            " ('346,1,2,\"Brown, Miss. Amelia \"\"Mildred\"\"\",female,24,0,0,248733,13,F33,S',)\n",
            " ('347,1,2,\"Smith, Miss. Marion Elsie\",female,40,0,0,31418,13,,S',)\n",
            " ('348,1,3,\"Davison, Mrs. Thomas Henry (Mary E Finck)\",female,,1,0,386525,16.1,,S',)\n",
            " ('349,1,3,\"Coutts, Master. William Loch \"\"William\"\"\",male,3,1,1,C.A. 37671,15.9,,S',)\n",
            " ('350,0,3,\"Dimic, Mr. Jovan\",male,42,0,0,315088,8.6625,,S',)\n",
            " ('351,0,3,\"Odahl, Mr. Nils Martin\",male,23,0,0,7267,9.225,,S',)\n",
            " ('352,0,1,\"Williams-Lambert, Mr. Fletcher Fellows\",male,,0,0,113510,35,C128,S',)\n",
            " ('353,0,3,\"Elias, Mr. Tannous\",male,15,1,1,2695,7.2292,,C',)\n",
            " ('354,0,3,\"Arnold-Franchi, Mr. Josef\",male,25,1,0,349237,17.8,,S',)\n",
            " ('355,0,3,\"Yousif, Mr. Wazli\",male,,0,0,2647,7.225,,C',)\n",
            " ('356,0,3,\"Vanden Steen, Mr. Leo Peter\",male,28,0,0,345783,9.5,,S',)\n",
            " ('357,1,1,\"Bowerman, Miss. Elsie Edith\",female,22,0,1,113505,55,E33,S',)\n",
            " ('358,0,2,\"Funk, Miss. Annie Clemmer\",female,38,0,0,237671,13,,S',)\n",
            " ('359,1,3,\"McGovern, Miss. Mary\",female,,0,0,330931,7.8792,,Q',)\n",
            " ('360,1,3,\"Mockler, Miss. Helen Mary \"\"Ellie\"\"\",female,,0,0,330980,7.8792,,Q',)\n",
            " ('361,0,3,\"Skoog, Mr. Wilhelm\",male,40,1,4,347088,27.9,,S',)\n",
            " ('362,0,2,\"del Carlo, Mr. Sebastiano\",male,29,1,0,SC/PARIS 2167,27.7208,,C',)\n",
            " ('363,0,3,\"Barbara, Mrs. (Catherine David)\",female,45,0,1,2691,14.4542,,C',)\n",
            " ('364,0,3,\"Asim, Mr. Adola\",male,35,0,0,SOTON/O.Q. 3101310,7.05,,S',)\n",
            " ('365,0,3,\"O\\'Brien, Mr. Thomas\",male,,1,0,370365,15.5,,Q',)\n",
            " ('366,0,3,\"Adahl, Mr. Mauritz Nils Martin\",male,30,0,0,C 7076,7.25,,S',)\n",
            " ('367,1,1,\"Warren, Mrs. Frank Manley (Anna Sophia Atkinson)\",female,60,1,0,110813,75.25,D37,C',)\n",
            " ('368,1,3,\"Moussa, Mrs. (Mantoura Boulos)\",female,,0,0,2626,7.2292,,C',)\n",
            " ('369,1,3,\"Jermyn, Miss. Annie\",female,,0,0,14313,7.75,,Q',)\n",
            " ('370,1,1,\"Aubart, Mme. Leontine Pauline\",female,24,0,0,PC 17477,69.3,B35,C',)\n",
            " ('371,1,1,\"Harder, Mr. George Achilles\",male,25,1,0,11765,55.4417,E50,C',)\n",
            " ('372,0,3,\"Wiklund, Mr. Jakob Alfred\",male,18,1,0,3101267,6.4958,,S',)\n",
            " ('373,0,3,\"Beavan, Mr. William Thomas\",male,19,0,0,323951,8.05,,S',)\n",
            " ('374,0,1,\"Ringhini, Mr. Sante\",male,22,0,0,PC 17760,135.6333,,C',)\n",
            " ('375,0,3,\"Palsson, Miss. Stina Viola\",female,3,3,1,349909,21.075,,S',)\n",
            " ('376,1,1,\"Meyer, Mrs. Edgar Joseph (Leila Saks)\",female,,1,0,PC 17604,82.1708,,C',)\n",
            " ('377,1,3,\"Landergren, Miss. Aurora Adelia\",female,22,0,0,C 7077,7.25,,S',)\n",
            " ('378,0,1,\"Widener, Mr. Harry Elkins\",male,27,0,2,113503,211.5,C82,C',)\n",
            " ('379,0,3,\"Betros, Mr. Tannous\",male,20,0,0,2648,4.0125,,C',)\n",
            " ('380,0,3,\"Gustafsson, Mr. Karl Gideon\",male,19,0,0,347069,7.775,,S',)\n",
            " ('381,1,1,\"Bidois, Miss. Rosalie\",female,42,0,0,PC 17757,227.525,,C',)\n",
            " ('382,1,3,\"Nakid, Miss. Maria (\"\"Mary\"\")\",female,1,0,2,2653,15.7417,,C',)\n",
            " ('383,0,3,\"Tikkanen, Mr. Juho\",male,32,0,0,STON/O 2. 3101293,7.925,,S',)\n",
            " ('384,1,1,\"Holverson, Mrs. Alexander Oskar (Mary Aline Towner)\",female,35,1,0,113789,52,,S',)\n",
            " ('385,0,3,\"Plotcharsky, Mr. Vasil\",male,,0,0,349227,7.8958,,S',)\n",
            " ('386,0,2,\"Davies, Mr. Charles Henry\",male,18,0,0,S.O.C. 14879,73.5,,S',)\n",
            " ('387,0,3,\"Goodwin, Master. Sidney Leonard\",male,1,5,2,CA 2144,46.9,,S',)\n",
            " ('388,1,2,\"Buss, Miss. Kate\",female,36,0,0,27849,13,,S',)\n",
            " ('389,0,3,\"Sadlier, Mr. Matthew\",male,,0,0,367655,7.7292,,Q',)\n",
            " ('390,1,2,\"Lehmann, Miss. Bertha\",female,17,0,0,SC 1748,12,,C',)\n",
            " ('391,1,1,\"Carter, Mr. William Ernest\",male,36,1,2,113760,120,B96 B98,S',)\n",
            " ('392,1,3,\"Jansson, Mr. Carl Olof\",male,21,0,0,350034,7.7958,,S',)\n",
            " ('393,0,3,\"Gustafsson, Mr. Johan Birger\",male,28,2,0,3101277,7.925,,S',)\n",
            " ('394,1,1,\"Newell, Miss. Marjorie\",female,23,1,0,35273,113.275,D36,C',)\n",
            " ('395,1,3,\"Sandstrom, Mrs. Hjalmar (Agnes Charlotta Bengtsson)\",female,24,0,2,PP 9549,16.7,G6,S',)\n",
            " ('396,0,3,\"Johansson, Mr. Erik\",male,22,0,0,350052,7.7958,,S',)\n",
            " ('397,0,3,\"Olsson, Miss. Elina\",female,31,0,0,350407,7.8542,,S',)\n",
            " ('398,0,2,\"McKane, Mr. Peter David\",male,46,0,0,28403,26,,S',)\n",
            " ('399,0,2,\"Pain, Dr. Alfred\",male,23,0,0,244278,10.5,,S',)\n",
            " ('400,1,2,\"Trout, Mrs. William H (Jessie L)\",female,28,0,0,240929,12.65,,S',)\n",
            " ('401,1,3,\"Niskanen, Mr. Juha\",male,39,0,0,STON/O 2. 3101289,7.925,,S',)\n",
            " ('402,0,3,\"Adams, Mr. John\",male,26,0,0,341826,8.05,,S',)\n",
            " ('403,0,3,\"Jussila, Miss. Mari Aina\",female,21,1,0,4137,9.825,,S',)\n",
            " ('404,0,3,\"Hakkarainen, Mr. Pekka Pietari\",male,28,1,0,STON/O2. 3101279,15.85,,S',)\n",
            " ('405,0,3,\"Oreskovic, Miss. Marija\",female,20,0,0,315096,8.6625,,S',)\n",
            " ('406,0,2,\"Gale, Mr. Shadrach\",male,34,1,0,28664,21,,S',)\n",
            " ('407,0,3,\"Widegren, Mr. Carl/Charles Peter\",male,51,0,0,347064,7.75,,S',)\n",
            " ('408,1,2,\"Richards, Master. William Rowe\",male,3,1,1,29106,18.75,,S',)\n",
            " ('409,0,3,\"Birkeland, Mr. Hans Martin Monsen\",male,21,0,0,312992,7.775,,S',)\n",
            " ('410,0,3,\"Lefebre, Miss. Ida\",female,,3,1,4133,25.4667,,S',)\n",
            " ('411,0,3,\"Sdycoff, Mr. Todor\",male,,0,0,349222,7.8958,,S',)\n",
            " ('412,0,3,\"Hart, Mr. Henry\",male,,0,0,394140,6.8583,,Q',)\n",
            " ('413,1,1,\"Minahan, Miss. Daisy E\",female,33,1,0,19928,90,C78,Q',)\n",
            " ('414,0,2,\"Cunningham, Mr. Alfred Fleming\",male,,0,0,239853,0,,S',)\n",
            " ('415,1,3,\"Sundman, Mr. Johan Julian\",male,44,0,0,STON/O 2. 3101269,7.925,,S',)\n",
            " ('416,0,3,\"Meek, Mrs. Thomas (Annie Louise Rowley)\",female,,0,0,343095,8.05,,S',)\n",
            " ('417,1,2,\"Drew, Mrs. James Vivian (Lulu Thorne Christian)\",female,34,1,1,28220,32.5,,S',)\n",
            " ('418,1,2,\"Silven, Miss. Lyyli Karoliina\",female,18,0,2,250652,13,,S',)\n",
            " ('419,0,2,\"Matthews, Mr. William John\",male,30,0,0,28228,13,,S',)\n",
            " ('420,0,3,\"Van Impe, Miss. Catharina\",female,10,0,2,345773,24.15,,S',)\n",
            " ('421,0,3,\"Gheorgheff, Mr. Stanio\",male,,0,0,349254,7.8958,,C',)\n",
            " ('422,0,3,\"Charters, Mr. David\",male,21,0,0,A/5. 13032,7.7333,,Q',)\n",
            " ('423,0,3,\"Zimmerman, Mr. Leo\",male,29,0,0,315082,7.875,,S',)\n",
            " ('424,0,3,\"Danbom, Mrs. Ernst Gilbert (Anna Sigrid Maria Brogren)\",female,28,1,1,347080,14.4,,S',)\n",
            " ('425,0,3,\"Rosblom, Mr. Viktor Richard\",male,18,1,1,370129,20.2125,,S',)\n",
            " ('426,0,3,\"Wiseman, Mr. Phillippe\",male,,0,0,A/4. 34244,7.25,,S',)\n",
            " ('427,1,2,\"Clarke, Mrs. Charles V (Ada Maria Winfield)\",female,28,1,0,2003,26,,S',)\n",
            " ('428,1,2,\"Phillips, Miss. Kate Florence (\"\"Mrs Kate Louise Phillips Marshall\"\")\",female,19,0,0,250655,26,,S',)\n",
            " ('429,0,3,\"Flynn, Mr. James\",male,,0,0,364851,7.75,,Q',)\n",
            " ('430,1,3,\"Pickard, Mr. Berk (Berk Trembisky)\",male,32,0,0,SOTON/O.Q. 392078,8.05,E10,S',)\n",
            " ('431,1,1,\"Bjornstrom-Steffansson, Mr. Mauritz Hakan\",male,28,0,0,110564,26.55,C52,S',)\n",
            " ('432,1,3,\"Thorneycroft, Mrs. Percival (Florence Kate White)\",female,,1,0,376564,16.1,,S',)\n",
            " ('433,1,2,\"Louch, Mrs. Charles Alexander (Alice Adelaide Slow)\",female,42,1,0,SC/AH 3085,26,,S',)\n",
            " ('434,0,3,\"Kallio, Mr. Nikolai Erland\",male,17,0,0,STON/O 2. 3101274,7.125,,S',)\n",
            " ('435,0,1,\"Silvey, Mr. William Baird\",male,50,1,0,13507,55.9,E44,S',)\n",
            " ('436,1,1,\"Carter, Miss. Lucile Polk\",female,14,1,2,113760,120,B96 B98,S',)\n",
            " ('437,0,3,\"Ford, Miss. Doolina Margaret \"\"Daisy\"\"\",female,21,2,2,W./C. 6608,34.375,,S',)\n",
            " ('438,1,2,\"Richards, Mrs. Sidney (Emily Hocking)\",female,24,2,3,29106,18.75,,S',)\n",
            " ('439,0,1,\"Fortune, Mr. Mark\",male,64,1,4,19950,263,C23 C25 C27,S',)\n",
            " ('440,0,2,\"Kvillner, Mr. Johan Henrik Johannesson\",male,31,0,0,C.A. 18723,10.5,,S',)\n",
            " ('441,1,2,\"Hart, Mrs. Benjamin (Esther Ada Bloomfield)\",female,45,1,1,F.C.C. 13529,26.25,,S',)\n",
            " ('442,0,3,\"Hampe, Mr. Leon\",male,20,0,0,345769,9.5,,S',)\n",
            " ('443,0,3,\"Petterson, Mr. Johan Emil\",male,25,1,0,347076,7.775,,S',)\n",
            " ('444,1,2,\"Reynaldo, Ms. Encarnacion\",female,28,0,0,230434,13,,S',)\n",
            " ('445,1,3,\"Johannesen-Bratthammer, Mr. Bernt\",male,,0,0,65306,8.1125,,S',)\n",
            " ('446,1,1,\"Dodge, Master. Washington\",male,4,0,2,33638,81.8583,A34,S',)\n",
            " ('447,1,2,\"Mellinger, Miss. Madeleine Violet\",female,13,0,1,250644,19.5,,S',)\n",
            " ('448,1,1,\"Seward, Mr. Frederic Kimber\",male,34,0,0,113794,26.55,,S',)\n",
            " ('449,1,3,\"Baclini, Miss. Marie Catherine\",female,5,2,1,2666,19.2583,,C',)\n",
            " ('450,1,1,\"Peuchen, Major. Arthur Godfrey\",male,52,0,0,113786,30.5,C104,S',)\n",
            " ('451,0,2,\"West, Mr. Edwy Arthur\",male,36,1,2,C.A. 34651,27.75,,S',)\n",
            " ('452,0,3,\"Hagland, Mr. Ingvald Olai Olsen\",male,,1,0,65303,19.9667,,S',)\n",
            " ('453,0,1,\"Foreman, Mr. Benjamin Laventall\",male,30,0,0,113051,27.75,C111,C',)\n",
            " ('454,1,1,\"Goldenberg, Mr. Samuel L\",male,49,1,0,17453,89.1042,C92,C',)\n",
            " ('455,0,3,\"Peduzzi, Mr. Joseph\",male,,0,0,A/5 2817,8.05,,S',)\n",
            " ('456,1,3,\"Jalsevac, Mr. Ivan\",male,29,0,0,349240,7.8958,,C',)\n",
            " ('457,0,1,\"Millet, Mr. Francis Davis\",male,65,0,0,13509,26.55,E38,S',)\n",
            " ('458,1,1,\"Kenyon, Mrs. Frederick R (Marion)\",female,,1,0,17464,51.8625,D21,S',)\n",
            " ('459,1,2,\"Toomey, Miss. Ellen\",female,50,0,0,F.C.C. 13531,10.5,,S',)\n",
            " ('460,0,3,\"O\\'Connor, Mr. Maurice\",male,,0,0,371060,7.75,,Q',)\n",
            " ('461,1,1,\"Anderson, Mr. Harry\",male,48,0,0,19952,26.55,E12,S',)\n",
            " ('462,0,3,\"Morley, Mr. William\",male,34,0,0,364506,8.05,,S',)\n",
            " ('463,0,1,\"Gee, Mr. Arthur H\",male,47,0,0,111320,38.5,E63,S',)\n",
            " ('464,0,2,\"Milling, Mr. Jacob Christian\",male,48,0,0,234360,13,,S',)\n",
            " ('465,0,3,\"Maisner, Mr. Simon\",male,,0,0,A/S 2816,8.05,,S',)\n",
            " ('466,0,3,\"Goncalves, Mr. Manuel Estanslas\",male,38,0,0,SOTON/O.Q. 3101306,7.05,,S',)\n",
            " ('467,0,2,\"Campbell, Mr. William\",male,,0,0,239853,0,,S',)\n",
            " ('468,0,1,\"Smart, Mr. John Montgomery\",male,56,0,0,113792,26.55,,S',)\n",
            " ('469,0,3,\"Scanlan, Mr. James\",male,,0,0,36209,7.725,,Q',)\n",
            " ('470,1,3,\"Baclini, Miss. Helene Barbara\",female,0.75,2,1,2666,19.2583,,C',)\n",
            " ('471,0,3,\"Keefe, Mr. Arthur\",male,,0,0,323592,7.25,,S',)\n",
            " ('472,0,3,\"Cacic, Mr. Luka\",male,38,0,0,315089,8.6625,,S',)\n",
            " ('473,1,2,\"West, Mrs. Edwy Arthur (Ada Mary Worth)\",female,33,1,2,C.A. 34651,27.75,,S',)\n",
            " ('474,1,2,\"Jerwan, Mrs. Amin S (Marie Marthe Thuillard)\",female,23,0,0,SC/AH Basle 541,13.7917,D,C',)\n",
            " ('475,0,3,\"Strandberg, Miss. Ida Sofia\",female,22,0,0,7553,9.8375,,S',)\n",
            " ('476,0,1,\"Clifford, Mr. George Quincy\",male,,0,0,110465,52,A14,S',)\n",
            " ('477,0,2,\"Renouf, Mr. Peter Henry\",male,34,1,0,31027,21,,S',)\n",
            " ('478,0,3,\"Braund, Mr. Lewis Richard\",male,29,1,0,3460,7.0458,,S',)\n",
            " ('479,0,3,\"Karlsson, Mr. Nils August\",male,22,0,0,350060,7.5208,,S',)\n",
            " ('480,1,3,\"Hirvonen, Miss. Hildur E\",female,2,0,1,3101298,12.2875,,S',)\n",
            " ('481,0,3,\"Goodwin, Master. Harold Victor\",male,9,5,2,CA 2144,46.9,,S',)\n",
            " ('482,0,2,\"Frost, Mr. Anthony Wood \"\"Archie\"\"\",male,,0,0,239854,0,,S',)\n",
            " ('483,0,3,\"Rouse, Mr. Richard Henry\",male,50,0,0,A/5 3594,8.05,,S',)\n",
            " ('484,1,3,\"Turkula, Mrs. (Hedwig)\",female,63,0,0,4134,9.5875,,S',)\n",
            " ('485,1,1,\"Bishop, Mr. Dickinson H\",male,25,1,0,11967,91.0792,B49,C',)\n",
            " ('486,0,3,\"Lefebre, Miss. Jeannie\",female,,3,1,4133,25.4667,,S',)\n",
            " ('487,1,1,\"Hoyt, Mrs. Frederick Maxfield (Jane Anne Forby)\",female,35,1,0,19943,90,C93,S',)\n",
            " ('488,0,1,\"Kent, Mr. Edward Austin\",male,58,0,0,11771,29.7,B37,C',)\n",
            " ('489,0,3,\"Somerton, Mr. Francis William\",male,30,0,0,A.5. 18509,8.05,,S',)\n",
            " ('490,1,3,\"Coutts, Master. Eden Leslie \"\"Neville\"\"\",male,9,1,1,C.A. 37671,15.9,,S',)\n",
            " ('491,0,3,\"Hagland, Mr. Konrad Mathias Reiersen\",male,,1,0,65304,19.9667,,S',)\n",
            " ('492,0,3,\"Windelov, Mr. Einar\",male,21,0,0,SOTON/OQ 3101317,7.25,,S',)\n",
            " ('493,0,1,\"Molson, Mr. Harry Markland\",male,55,0,0,113787,30.5,C30,S',)\n",
            " ('494,0,1,\"Artagaveytia, Mr. Ramon\",male,71,0,0,PC 17609,49.5042,,C',)\n",
            " ('495,0,3,\"Stanley, Mr. Edward Roland\",male,21,0,0,A/4 45380,8.05,,S',)\n",
            " ('496,0,3,\"Yousseff, Mr. Gerious\",male,,0,0,2627,14.4583,,C',)\n",
            " ('497,1,1,\"Eustis, Miss. Elizabeth Mussey\",female,54,1,0,36947,78.2667,D20,C',)\n",
            " ('498,0,3,\"Shellard, Mr. Frederick William\",male,,0,0,C.A. 6212,15.1,,S',)\n",
            " ('499,0,1,\"Allison, Mrs. Hudson J C (Bessie Waldo Daniels)\",female,25,1,2,113781,151.55,C22 C26,S',)\n",
            " ('500,0,3,\"Svensson, Mr. Olof\",male,24,0,0,350035,7.7958,,S',)\n",
            " ('501,0,3,\"Calic, Mr. Petar\",male,17,0,0,315086,8.6625,,S',)\n",
            " ('502,0,3,\"Canavan, Miss. Mary\",female,21,0,0,364846,7.75,,Q',)\n",
            " ('503,0,3,\"O\\'Sullivan, Miss. Bridget Mary\",female,,0,0,330909,7.6292,,Q',)\n",
            " ('504,0,3,\"Laitinen, Miss. Kristina Sofia\",female,37,0,0,4135,9.5875,,S',)\n",
            " ('505,1,1,\"Maioni, Miss. Roberta\",female,16,0,0,110152,86.5,B79,S',)\n",
            " ('506,0,1,\"Penasco y Castellana, Mr. Victor de Satode\",male,18,1,0,PC 17758,108.9,C65,C',)\n",
            " ('507,1,2,\"Quick, Mrs. Frederick Charles (Jane Richards)\",female,33,0,2,26360,26,,S',)\n",
            " ('508,1,1,\"Bradley, Mr. George (\"\"George Arthur Brayton\"\")\",male,,0,0,111427,26.55,,S',)\n",
            " ('509,0,3,\"Olsen, Mr. Henry Margido\",male,28,0,0,C 4001,22.525,,S',)\n",
            " ('510,1,3,\"Lang, Mr. Fang\",male,26,0,0,1601,56.4958,,S',)\n",
            " ('511,1,3,\"Daly, Mr. Eugene Patrick\",male,29,0,0,382651,7.75,,Q',)\n",
            " ('512,0,3,\"Webber, Mr. James\",male,,0,0,SOTON/OQ 3101316,8.05,,S',)\n",
            " ('513,1,1,\"McGough, Mr. James Robert\",male,36,0,0,PC 17473,26.2875,E25,S',)\n",
            " ('514,1,1,\"Rothschild, Mrs. Martin (Elizabeth L. Barrett)\",female,54,1,0,PC 17603,59.4,,C',)\n",
            " ('515,0,3,\"Coleff, Mr. Satio\",male,24,0,0,349209,7.4958,,S',)\n",
            " ('516,0,1,\"Walker, Mr. William Anderson\",male,47,0,0,36967,34.0208,D46,S',)\n",
            " ('517,1,2,\"Lemore, Mrs. (Amelia Milley)\",female,34,0,0,C.A. 34260,10.5,F33,S',)\n",
            " ('518,0,3,\"Ryan, Mr. Patrick\",male,,0,0,371110,24.15,,Q',)\n",
            " ('519,1,2,\"Angle, Mrs. William A (Florence \"\"Mary\"\" Agnes Hughes)\",female,36,1,0,226875,26,,S',)\n",
            " ('520,0,3,\"Pavlovic, Mr. Stefo\",male,32,0,0,349242,7.8958,,S',)\n",
            " ('521,1,1,\"Perreault, Miss. Anne\",female,30,0,0,12749,93.5,B73,S',)\n",
            " ('522,0,3,\"Vovk, Mr. Janko\",male,22,0,0,349252,7.8958,,S',)\n",
            " ('523,0,3,\"Lahoud, Mr. Sarkis\",male,,0,0,2624,7.225,,C',)\n",
            " ('524,1,1,\"Hippach, Mrs. Louis Albert (Ida Sophia Fischer)\",female,44,0,1,111361,57.9792,B18,C',)\n",
            " ('525,0,3,\"Kassem, Mr. Fared\",male,,0,0,2700,7.2292,,C',)\n",
            " ('526,0,3,\"Farrell, Mr. James\",male,40.5,0,0,367232,7.75,,Q',)\n",
            " ('527,1,2,\"Ridsdale, Miss. Lucy\",female,50,0,0,W./C. 14258,10.5,,S',)\n",
            " ('528,0,1,\"Farthing, Mr. John\",male,,0,0,PC 17483,221.7792,C95,S',)\n",
            " ('529,0,3,\"Salonen, Mr. Johan Werner\",male,39,0,0,3101296,7.925,,S',)\n",
            " ('530,0,2,\"Hocking, Mr. Richard George\",male,23,2,1,29104,11.5,,S',)\n",
            " ('531,1,2,\"Quick, Miss. Phyllis May\",female,2,1,1,26360,26,,S',)\n",
            " ('532,0,3,\"Toufik, Mr. Nakli\",male,,0,0,2641,7.2292,,C',)\n",
            " ('533,0,3,\"Elias, Mr. Joseph Jr\",male,17,1,1,2690,7.2292,,C',)\n",
            " ('534,1,3,\"Peter, Mrs. Catherine (Catherine Rizk)\",female,,0,2,2668,22.3583,,C',)\n",
            " ('535,0,3,\"Cacic, Miss. Marija\",female,30,0,0,315084,8.6625,,S',)\n",
            " ('536,1,2,\"Hart, Miss. Eva Miriam\",female,7,0,2,F.C.C. 13529,26.25,,S',)\n",
            " ('537,0,1,\"Butt, Major. Archibald Willingham\",male,45,0,0,113050,26.55,B38,S',)\n",
            " ('538,1,1,\"LeRoy, Miss. Bertha\",female,30,0,0,PC 17761,106.425,,C',)\n",
            " ('539,0,3,\"Risien, Mr. Samuel Beard\",male,,0,0,364498,14.5,,S',)\n",
            " ('540,1,1,\"Frolicher, Miss. Hedwig Margaritha\",female,22,0,2,13568,49.5,B39,C',)\n",
            " ('541,1,1,\"Crosby, Miss. Harriet R\",female,36,0,2,WE/P 5735,71,B22,S',)\n",
            " ('542,0,3,\"Andersson, Miss. Ingeborg Constanzia\",female,9,4,2,347082,31.275,,S',)\n",
            " ('543,0,3,\"Andersson, Miss. Sigrid Elisabeth\",female,11,4,2,347082,31.275,,S',)\n",
            " ('544,1,2,\"Beane, Mr. Edward\",male,32,1,0,2908,26,,S',)\n",
            " ('545,0,1,\"Douglas, Mr. Walter Donald\",male,50,1,0,PC 17761,106.425,C86,C',)\n",
            " ('546,0,1,\"Nicholson, Mr. Arthur Ernest\",male,64,0,0,693,26,,S',)\n",
            " ('547,1,2,\"Beane, Mrs. Edward (Ethel Clarke)\",female,19,1,0,2908,26,,S',)\n",
            " ('548,1,2,\"Padro y Manent, Mr. Julian\",male,,0,0,SC/PARIS 2146,13.8625,,C',)\n",
            " ('549,0,3,\"Goldsmith, Mr. Frank John\",male,33,1,1,363291,20.525,,S',)\n",
            " ('550,1,2,\"Davies, Master. John Morgan Jr\",male,8,1,1,C.A. 33112,36.75,,S',)\n",
            " ('551,1,1,\"Thayer, Mr. John Borland Jr\",male,17,0,2,17421,110.8833,C70,C',)\n",
            " ('552,0,2,\"Sharp, Mr. Percival James R\",male,27,0,0,244358,26,,S',)\n",
            " ('553,0,3,\"O\\'Brien, Mr. Timothy\",male,,0,0,330979,7.8292,,Q',)\n",
            " ('554,1,3,\"Leeni, Mr. Fahim (\"\"Philip Zenni\"\")\",male,22,0,0,2620,7.225,,C',)\n",
            " ('555,1,3,\"Ohman, Miss. Velin\",female,22,0,0,347085,7.775,,S',)\n",
            " ('556,0,1,\"Wright, Mr. George\",male,62,0,0,113807,26.55,,S',)\n",
            " ('557,1,1,\"Duff Gordon, Lady. (Lucille Christiana Sutherland) (\"\"Mrs Morgan\"\")\",female,48,1,0,11755,39.6,A16,C',)\n",
            " ('558,0,1,\"Robbins, Mr. Victor\",male,,0,0,PC 17757,227.525,,C',)\n",
            " ('559,1,1,\"Taussig, Mrs. Emil (Tillie Mandelbaum)\",female,39,1,1,110413,79.65,E67,S',)\n",
            " ('560,1,3,\"de Messemaeker, Mrs. Guillaume Joseph (Emma)\",female,36,1,0,345572,17.4,,S',)\n",
            " ('561,0,3,\"Morrow, Mr. Thomas Rowan\",male,,0,0,372622,7.75,,Q',)\n",
            " ('562,0,3,\"Sivic, Mr. Husein\",male,40,0,0,349251,7.8958,,S',)\n",
            " ('563,0,2,\"Norman, Mr. Robert Douglas\",male,28,0,0,218629,13.5,,S',)\n",
            " ('564,0,3,\"Simmons, Mr. John\",male,,0,0,SOTON/OQ 392082,8.05,,S',)\n",
            " ('565,0,3,\"Meanwell, Miss. (Marion Ogden)\",female,,0,0,SOTON/O.Q. 392087,8.05,,S',)\n",
            " ('566,0,3,\"Davies, Mr. Alfred J\",male,24,2,0,A/4 48871,24.15,,S',)\n",
            " ('567,0,3,\"Stoytcheff, Mr. Ilia\",male,19,0,0,349205,7.8958,,S',)\n",
            " ('568,0,3,\"Palsson, Mrs. Nils (Alma Cornelia Berglund)\",female,29,0,4,349909,21.075,,S',)\n",
            " ('569,0,3,\"Doharr, Mr. Tannous\",male,,0,0,2686,7.2292,,C',)\n",
            " ('570,1,3,\"Jonsson, Mr. Carl\",male,32,0,0,350417,7.8542,,S',)\n",
            " ('571,1,2,\"Harris, Mr. George\",male,62,0,0,S.W./PP 752,10.5,,S',)\n",
            " ('572,1,1,\"Appleton, Mrs. Edward Dale (Charlotte Lamson)\",female,53,2,0,11769,51.4792,C101,S',)\n",
            " ('573,1,1,\"Flynn, Mr. John Irwin (\"\"Irving\"\")\",male,36,0,0,PC 17474,26.3875,E25,S',)\n",
            " ('574,1,3,\"Kelly, Miss. Mary\",female,,0,0,14312,7.75,,Q',)\n",
            " ('575,0,3,\"Rush, Mr. Alfred George John\",male,16,0,0,A/4. 20589,8.05,,S',)\n",
            " ('576,0,3,\"Patchett, Mr. George\",male,19,0,0,358585,14.5,,S',)\n",
            " ('577,1,2,\"Garside, Miss. Ethel\",female,34,0,0,243880,13,,S',)\n",
            " ('578,1,1,\"Silvey, Mrs. William Baird (Alice Munger)\",female,39,1,0,13507,55.9,E44,S',)\n",
            " ('579,0,3,\"Caram, Mrs. Joseph (Maria Elias)\",female,,1,0,2689,14.4583,,C',)\n",
            " ('580,1,3,\"Jussila, Mr. Eiriik\",male,32,0,0,STON/O 2. 3101286,7.925,,S',)\n",
            " ('581,1,2,\"Christy, Miss. Julie Rachel\",female,25,1,1,237789,30,,S',)\n",
            " ('582,1,1,\"Thayer, Mrs. John Borland (Marian Longstreth Morris)\",female,39,1,1,17421,110.8833,C68,C',)\n",
            " ('583,0,2,\"Downton, Mr. William James\",male,54,0,0,28403,26,,S',)\n",
            " ('584,0,1,\"Ross, Mr. John Hugo\",male,36,0,0,13049,40.125,A10,C',)\n",
            " ('585,0,3,\"Paulner, Mr. Uscher\",male,,0,0,3411,8.7125,,C',)\n",
            " ('586,1,1,\"Taussig, Miss. Ruth\",female,18,0,2,110413,79.65,E68,S',)\n",
            " ('587,0,2,\"Jarvis, Mr. John Denzil\",male,47,0,0,237565,15,,S',)\n",
            " ('588,1,1,\"Frolicher-Stehli, Mr. Maxmillian\",male,60,1,1,13567,79.2,B41,C',)\n",
            " ('589,0,3,\"Gilinski, Mr. Eliezer\",male,22,0,0,14973,8.05,,S',)\n",
            " ('590,0,3,\"Murdlin, Mr. Joseph\",male,,0,0,A./5. 3235,8.05,,S',)\n",
            " ('591,0,3,\"Rintamaki, Mr. Matti\",male,35,0,0,STON/O 2. 3101273,7.125,,S',)\n",
            " ('592,1,1,\"Stephenson, Mrs. Walter Bertram (Martha Eustis)\",female,52,1,0,36947,78.2667,D20,C',)\n",
            " ('593,0,3,\"Elsbury, Mr. William James\",male,47,0,0,A/5 3902,7.25,,S',)\n",
            " ('594,0,3,\"Bourke, Miss. Mary\",female,,0,2,364848,7.75,,Q',)\n",
            " ('595,0,2,\"Chapman, Mr. John Henry\",male,37,1,0,SC/AH 29037,26,,S',)\n",
            " ('596,0,3,\"Van Impe, Mr. Jean Baptiste\",male,36,1,1,345773,24.15,,S',)\n",
            " ('597,1,2,\"Leitch, Miss. Jessie Wills\",female,,0,0,248727,33,,S',)\n",
            " ('598,0,3,\"Johnson, Mr. Alfred\",male,49,0,0,LINE,0,,S',)\n",
            " ('599,0,3,\"Boulos, Mr. Hanna\",male,,0,0,2664,7.225,,C',)\n",
            " ('600,1,1,\"Duff Gordon, Sir. Cosmo Edmund (\"\"Mr Morgan\"\")\",male,49,1,0,PC 17485,56.9292,A20,C',)\n",
            " ('601,1,2,\"Jacobsohn, Mrs. Sidney Samuel (Amy Frances Christy)\",female,24,2,1,243847,27,,S',)\n",
            " ('602,0,3,\"Slabenoff, Mr. Petco\",male,,0,0,349214,7.8958,,S',)\n",
            " ('603,0,1,\"Harrington, Mr. Charles H\",male,,0,0,113796,42.4,,S',)\n",
            " ('604,0,3,\"Torber, Mr. Ernst William\",male,44,0,0,364511,8.05,,S',)\n",
            " ('605,1,1,\"Homer, Mr. Harry (\"\"Mr E Haven\"\")\",male,35,0,0,111426,26.55,,C',)\n",
            " ('606,0,3,\"Lindell, Mr. Edvard Bengtsson\",male,36,1,0,349910,15.55,,S',)\n",
            " ('607,0,3,\"Karaic, Mr. Milan\",male,30,0,0,349246,7.8958,,S',)\n",
            " ('608,1,1,\"Daniel, Mr. Robert Williams\",male,27,0,0,113804,30.5,,S',)\n",
            " ('609,1,2,\"Laroche, Mrs. Joseph (Juliette Marie Louise Lafargue)\",female,22,1,2,SC/Paris 2123,41.5792,,C',)\n",
            " ('610,1,1,\"Shutes, Miss. Elizabeth W\",female,40,0,0,PC 17582,153.4625,C125,S',)\n",
            " ('611,0,3,\"Andersson, Mrs. Anders Johan (Alfrida Konstantia Brogren)\",female,39,1,5,347082,31.275,,S',)\n",
            " ('612,0,3,\"Jardin, Mr. Jose Neto\",male,,0,0,SOTON/O.Q. 3101305,7.05,,S',)\n",
            " ('613,1,3,\"Murphy, Miss. Margaret Jane\",female,,1,0,367230,15.5,,Q',)\n",
            " ('614,0,3,\"Horgan, Mr. John\",male,,0,0,370377,7.75,,Q',)\n",
            " ('615,0,3,\"Brocklebank, Mr. William Alfred\",male,35,0,0,364512,8.05,,S',)\n",
            " ('616,1,2,\"Herman, Miss. Alice\",female,24,1,2,220845,65,,S',)\n",
            " ('617,0,3,\"Danbom, Mr. Ernst Gilbert\",male,34,1,1,347080,14.4,,S',)\n",
            " ('618,0,3,\"Lobb, Mrs. William Arthur (Cordelia K Stanlick)\",female,26,1,0,A/5. 3336,16.1,,S',)\n",
            " ('619,1,2,\"Becker, Miss. Marion Louise\",female,4,2,1,230136,39,F4,S',)\n",
            " ('620,0,2,\"Gavey, Mr. Lawrence\",male,26,0,0,31028,10.5,,S',)\n",
            " ('621,0,3,\"Yasbeck, Mr. Antoni\",male,27,1,0,2659,14.4542,,C',)\n",
            " ('622,1,1,\"Kimball, Mr. Edwin Nelson Jr\",male,42,1,0,11753,52.5542,D19,S',)\n",
            " ('623,1,3,\"Nakid, Mr. Sahid\",male,20,1,1,2653,15.7417,,C',)\n",
            " ('624,0,3,\"Hansen, Mr. Henry Damsgaard\",male,21,0,0,350029,7.8542,,S',)\n",
            " ('625,0,3,\"Bowen, Mr. David John \"\"Dai\"\"\",male,21,0,0,54636,16.1,,S',)\n",
            " ('626,0,1,\"Sutton, Mr. Frederick\",male,61,0,0,36963,32.3208,D50,S',)\n",
            " ('627,0,2,\"Kirkland, Rev. Charles Leonard\",male,57,0,0,219533,12.35,,Q',)\n",
            " ('628,1,1,\"Longley, Miss. Gretchen Fiske\",female,21,0,0,13502,77.9583,D9,S',)\n",
            " ('629,0,3,\"Bostandyeff, Mr. Guentcho\",male,26,0,0,349224,7.8958,,S',)\n",
            " ('630,0,3,\"O\\'Connell, Mr. Patrick D\",male,,0,0,334912,7.7333,,Q',)\n",
            " ('631,1,1,\"Barkworth, Mr. Algernon Henry Wilson\",male,80,0,0,27042,30,A23,S',)\n",
            " ('632,0,3,\"Lundahl, Mr. Johan Svensson\",male,51,0,0,347743,7.0542,,S',)\n",
            " ('633,1,1,\"Stahelin-Maeglin, Dr. Max\",male,32,0,0,13214,30.5,B50,C',)\n",
            " ('634,0,1,\"Parr, Mr. William Henry Marsh\",male,,0,0,112052,0,,S',)\n",
            " ('635,0,3,\"Skoog, Miss. Mabel\",female,9,3,2,347088,27.9,,S',)\n",
            " ('636,1,2,\"Davis, Miss. Mary\",female,28,0,0,237668,13,,S',)\n",
            " ('637,0,3,\"Leinonen, Mr. Antti Gustaf\",male,32,0,0,STON/O 2. 3101292,7.925,,S',)\n",
            " ('638,0,2,\"Collyer, Mr. Harvey\",male,31,1,1,C.A. 31921,26.25,,S',)\n",
            " ('639,0,3,\"Panula, Mrs. Juha (Maria Emilia Ojala)\",female,41,0,5,3101295,39.6875,,S',)\n",
            " ('640,0,3,\"Thorneycroft, Mr. Percival\",male,,1,0,376564,16.1,,S',)\n",
            " ('641,0,3,\"Jensen, Mr. Hans Peder\",male,20,0,0,350050,7.8542,,S',)\n",
            " ('642,1,1,\"Sagesser, Mlle. Emma\",female,24,0,0,PC 17477,69.3,B35,C',)\n",
            " ('643,0,3,\"Skoog, Miss. Margit Elizabeth\",female,2,3,2,347088,27.9,,S',)\n",
            " ('644,1,3,\"Foo, Mr. Choong\",male,,0,0,1601,56.4958,,S',)\n",
            " ('645,1,3,\"Baclini, Miss. Eugenie\",female,0.75,2,1,2666,19.2583,,C',)\n",
            " ('646,1,1,\"Harper, Mr. Henry Sleeper\",male,48,1,0,PC 17572,76.7292,D33,C',)\n",
            " ('647,0,3,\"Cor, Mr. Liudevit\",male,19,0,0,349231,7.8958,,S',)\n",
            " ('648,1,1,\"Simonius-Blumer, Col. Oberst Alfons\",male,56,0,0,13213,35.5,A26,C',)\n",
            " ('649,0,3,\"Willey, Mr. Edward\",male,,0,0,S.O./P.P. 751,7.55,,S',)\n",
            " ('650,1,3,\"Stanley, Miss. Amy Zillah Elsie\",female,23,0,0,CA. 2314,7.55,,S',)\n",
            " ('651,0,3,\"Mitkoff, Mr. Mito\",male,,0,0,349221,7.8958,,S',)\n",
            " ('652,1,2,\"Doling, Miss. Elsie\",female,18,0,1,231919,23,,S',)\n",
            " ('653,0,3,\"Kalvik, Mr. Johannes Halvorsen\",male,21,0,0,8475,8.4333,,S',)\n",
            " ('654,1,3,\"O\\'Leary, Miss. Hanora \"\"Norah\"\"\",female,,0,0,330919,7.8292,,Q',)\n",
            " ('655,0,3,\"Hegarty, Miss. Hanora \"\"Nora\"\"\",female,18,0,0,365226,6.75,,Q',)\n",
            " ('656,0,2,\"Hickman, Mr. Leonard Mark\",male,24,2,0,S.O.C. 14879,73.5,,S',)\n",
            " ('657,0,3,\"Radeff, Mr. Alexander\",male,,0,0,349223,7.8958,,S',)\n",
            " ('658,0,3,\"Bourke, Mrs. John (Catherine)\",female,32,1,1,364849,15.5,,Q',)\n",
            " ('659,0,2,\"Eitemiller, Mr. George Floyd\",male,23,0,0,29751,13,,S',)\n",
            " ('660,0,1,\"Newell, Mr. Arthur Webster\",male,58,0,2,35273,113.275,D48,C',)\n",
            " ('661,1,1,\"Frauenthal, Dr. Henry William\",male,50,2,0,PC 17611,133.65,,S',)\n",
            " ('662,0,3,\"Badt, Mr. Mohamed\",male,40,0,0,2623,7.225,,C',)\n",
            " ('663,0,1,\"Colley, Mr. Edward Pomeroy\",male,47,0,0,5727,25.5875,E58,S',)\n",
            " ('664,0,3,\"Coleff, Mr. Peju\",male,36,0,0,349210,7.4958,,S',)\n",
            " ('665,1,3,\"Lindqvist, Mr. Eino William\",male,20,1,0,STON/O 2. 3101285,7.925,,S',)\n",
            " ('666,0,2,\"Hickman, Mr. Lewis\",male,32,2,0,S.O.C. 14879,73.5,,S',)\n",
            " ('667,0,2,\"Butler, Mr. Reginald Fenton\",male,25,0,0,234686,13,,S',)\n",
            " ('668,0,3,\"Rommetvedt, Mr. Knud Paust\",male,,0,0,312993,7.775,,S',)\n",
            " ('669,0,3,\"Cook, Mr. Jacob\",male,43,0,0,A/5 3536,8.05,,S',)\n",
            " ('670,1,1,\"Taylor, Mrs. Elmer Zebley (Juliet Cummins Wright)\",female,,1,0,19996,52,C126,S',)\n",
            " ('671,1,2,\"Brown, Mrs. Thomas William Solomon (Elizabeth Catherine Ford)\",female,40,1,1,29750,39,,S',)\n",
            " ('672,0,1,\"Davidson, Mr. Thornton\",male,31,1,0,F.C. 12750,52,B71,S',)\n",
            " ('673,0,2,\"Mitchell, Mr. Henry Michael\",male,70,0,0,C.A. 24580,10.5,,S',)\n",
            " ('674,1,2,\"Wilhelms, Mr. Charles\",male,31,0,0,244270,13,,S',)\n",
            " ('675,0,2,\"Watson, Mr. Ennis Hastings\",male,,0,0,239856,0,,S',)\n",
            " ('676,0,3,\"Edvardsson, Mr. Gustaf Hjalmar\",male,18,0,0,349912,7.775,,S',)\n",
            " ('677,0,3,\"Sawyer, Mr. Frederick Charles\",male,24.5,0,0,342826,8.05,,S',)\n",
            " ('678,1,3,\"Turja, Miss. Anna Sofia\",female,18,0,0,4138,9.8417,,S',)\n",
            " ('679,0,3,\"Goodwin, Mrs. Frederick (Augusta Tyler)\",female,43,1,6,CA 2144,46.9,,S',)\n",
            " ('680,1,1,\"Cardeza, Mr. Thomas Drake Martinez\",male,36,0,1,PC 17755,512.3292,B51 B53 B55,C',)\n",
            " ('681,0,3,\"Peters, Miss. Katie\",female,,0,0,330935,8.1375,,Q',)\n",
            " ('682,1,1,\"Hassab, Mr. Hammad\",male,27,0,0,PC 17572,76.7292,D49,C',)\n",
            " ('683,0,3,\"Olsvigen, Mr. Thor Anderson\",male,20,0,0,6563,9.225,,S',)\n",
            " ('684,0,3,\"Goodwin, Mr. Charles Edward\",male,14,5,2,CA 2144,46.9,,S',)\n",
            " ('685,0,2,\"Brown, Mr. Thomas William Solomon\",male,60,1,1,29750,39,,S',)\n",
            " ('686,0,2,\"Laroche, Mr. Joseph Philippe Lemercier\",male,25,1,2,SC/Paris 2123,41.5792,,C',)\n",
            " ('687,0,3,\"Panula, Mr. Jaako Arnold\",male,14,4,1,3101295,39.6875,,S',)\n",
            " ('688,0,3,\"Dakic, Mr. Branko\",male,19,0,0,349228,10.1708,,S',)\n",
            " ('689,0,3,\"Fischer, Mr. Eberhard Thelander\",male,18,0,0,350036,7.7958,,S',)\n",
            " ('690,1,1,\"Madill, Miss. Georgette Alexandra\",female,15,0,1,24160,211.3375,B5,S',)\n",
            " ('691,1,1,\"Dick, Mr. Albert Adrian\",male,31,1,0,17474,57,B20,S',)\n",
            " ('692,1,3,\"Karun, Miss. Manca\",female,4,0,1,349256,13.4167,,C',)\n",
            " ('693,1,3,\"Lam, Mr. Ali\",male,,0,0,1601,56.4958,,S',)\n",
            " ('694,0,3,\"Saad, Mr. Khalil\",male,25,0,0,2672,7.225,,C',)\n",
            " ('695,0,1,\"Weir, Col. John\",male,60,0,0,113800,26.55,,S',)\n",
            " ('696,0,2,\"Chapman, Mr. Charles Henry\",male,52,0,0,248731,13.5,,S',)\n",
            " ('697,0,3,\"Kelly, Mr. James\",male,44,0,0,363592,8.05,,S',)\n",
            " ('698,1,3,\"Mullens, Miss. Katherine \"\"Katie\"\"\",female,,0,0,35852,7.7333,,Q',)\n",
            " ('699,0,1,\"Thayer, Mr. John Borland\",male,49,1,1,17421,110.8833,C68,C',)\n",
            " ('700,0,3,\"Humblen, Mr. Adolf Mathias Nicolai Olsen\",male,42,0,0,348121,7.65,F G63,S',)\n",
            " ('701,1,1,\"Astor, Mrs. John Jacob (Madeleine Talmadge Force)\",female,18,1,0,PC 17757,227.525,C62 C64,C',)\n",
            " ('702,1,1,\"Silverthorne, Mr. Spencer Victor\",male,35,0,0,PC 17475,26.2875,E24,S',)\n",
            " ('703,0,3,\"Barbara, Miss. Saiide\",female,18,0,1,2691,14.4542,,C',)\n",
            " ('704,0,3,\"Gallagher, Mr. Martin\",male,25,0,0,36864,7.7417,,Q',)\n",
            " ('705,0,3,\"Hansen, Mr. Henrik Juul\",male,26,1,0,350025,7.8542,,S',)\n",
            " ('706,0,2,\"Morley, Mr. Henry Samuel (\"\"Mr Henry Marshall\"\")\",male,39,0,0,250655,26,,S',)\n",
            " ('707,1,2,\"Kelly, Mrs. Florence \"\"Fannie\"\"\",female,45,0,0,223596,13.5,,S',)\n",
            " ('708,1,1,\"Calderhead, Mr. Edward Pennington\",male,42,0,0,PC 17476,26.2875,E24,S',)\n",
            " ('709,1,1,\"Cleaver, Miss. Alice\",female,22,0,0,113781,151.55,,S',)\n",
            " ('710,1,3,\"Moubarek, Master. Halim Gonios (\"\"William George\"\")\",male,,1,1,2661,15.2458,,C',)\n",
            " ('711,1,1,\"Mayne, Mlle. Berthe Antonine (\"\"Mrs de Villiers\"\")\",female,24,0,0,PC 17482,49.5042,C90,C',)\n",
            " ('712,0,1,\"Klaber, Mr. Herman\",male,,0,0,113028,26.55,C124,S',)\n",
            " ('713,1,1,\"Taylor, Mr. Elmer Zebley\",male,48,1,0,19996,52,C126,S',)\n",
            " ('714,0,3,\"Larsson, Mr. August Viktor\",male,29,0,0,7545,9.4833,,S',)\n",
            " ('715,0,2,\"Greenberg, Mr. Samuel\",male,52,0,0,250647,13,,S',)\n",
            " ('716,0,3,\"Soholt, Mr. Peter Andreas Lauritz Andersen\",male,19,0,0,348124,7.65,F G73,S',)\n",
            " ('717,1,1,\"Endres, Miss. Caroline Louise\",female,38,0,0,PC 17757,227.525,C45,C',)\n",
            " ('718,1,2,\"Troutt, Miss. Edwina Celia \"\"Winnie\"\"\",female,27,0,0,34218,10.5,E101,S',)\n",
            " ('719,0,3,\"McEvoy, Mr. Michael\",male,,0,0,36568,15.5,,Q',)\n",
            " ('720,0,3,\"Johnson, Mr. Malkolm Joackim\",male,33,0,0,347062,7.775,,S',)\n",
            " ('721,1,2,\"Harper, Miss. Annie Jessie \"\"Nina\"\"\",female,6,0,1,248727,33,,S',)\n",
            " ('722,0,3,\"Jensen, Mr. Svend Lauritz\",male,17,1,0,350048,7.0542,,S',)\n",
            " ('723,0,2,\"Gillespie, Mr. William Henry\",male,34,0,0,12233,13,,S',)\n",
            " ('724,0,2,\"Hodges, Mr. Henry Price\",male,50,0,0,250643,13,,S',)\n",
            " ('725,1,1,\"Chambers, Mr. Norman Campbell\",male,27,1,0,113806,53.1,E8,S',)\n",
            " ('726,0,3,\"Oreskovic, Mr. Luka\",male,20,0,0,315094,8.6625,,S',)\n",
            " ('727,1,2,\"Renouf, Mrs. Peter Henry (Lillian Jefferys)\",female,30,3,0,31027,21,,S',)\n",
            " ('728,1,3,\"Mannion, Miss. Margareth\",female,,0,0,36866,7.7375,,Q',)\n",
            " ('729,0,2,\"Bryhl, Mr. Kurt Arnold Gottfrid\",male,25,1,0,236853,26,,S',)\n",
            " ('730,0,3,\"Ilmakangas, Miss. Pieta Sofia\",female,25,1,0,STON/O2. 3101271,7.925,,S',)\n",
            " ('731,1,1,\"Allen, Miss. Elisabeth Walton\",female,29,0,0,24160,211.3375,B5,S',)\n",
            " ('732,0,3,\"Hassan, Mr. Houssein G N\",male,11,0,0,2699,18.7875,,C',)\n",
            " ('733,0,2,\"Knight, Mr. Robert J\",male,,0,0,239855,0,,S',)\n",
            " ('734,0,2,\"Berriman, Mr. William John\",male,23,0,0,28425,13,,S',)\n",
            " ('735,0,2,\"Troupiansky, Mr. Moses Aaron\",male,23,0,0,233639,13,,S',)\n",
            " ('736,0,3,\"Williams, Mr. Leslie\",male,28.5,0,0,54636,16.1,,S',)\n",
            " ('737,0,3,\"Ford, Mrs. Edward (Margaret Ann Watson)\",female,48,1,3,W./C. 6608,34.375,,S',)\n",
            " ('738,1,1,\"Lesurer, Mr. Gustave J\",male,35,0,0,PC 17755,512.3292,B101,C',)\n",
            " ('739,0,3,\"Ivanoff, Mr. Kanio\",male,,0,0,349201,7.8958,,S',)\n",
            " ('740,0,3,\"Nankoff, Mr. Minko\",male,,0,0,349218,7.8958,,S',)\n",
            " ('741,1,1,\"Hawksford, Mr. Walter James\",male,,0,0,16988,30,D45,S',)\n",
            " ('742,0,1,\"Cavendish, Mr. Tyrell William\",male,36,1,0,19877,78.85,C46,S',)\n",
            " ('743,1,1,\"Ryerson, Miss. Susan Parker \"\"Suzette\"\"\",female,21,2,2,PC 17608,262.375,B57 B59 B63 B66,C',)\n",
            " ('744,0,3,\"McNamee, Mr. Neal\",male,24,1,0,376566,16.1,,S',)\n",
            " ('745,1,3,\"Stranden, Mr. Juho\",male,31,0,0,STON/O 2. 3101288,7.925,,S',)\n",
            " ('746,0,1,\"Crosby, Capt. Edward Gifford\",male,70,1,1,WE/P 5735,71,B22,S',)\n",
            " ('747,0,3,\"Abbott, Mr. Rossmore Edward\",male,16,1,1,C.A. 2673,20.25,,S',)\n",
            " ('748,1,2,\"Sinkkonen, Miss. Anna\",female,30,0,0,250648,13,,S',)\n",
            " ('749,0,1,\"Marvin, Mr. Daniel Warner\",male,19,1,0,113773,53.1,D30,S',)\n",
            " ('750,0,3,\"Connaghton, Mr. Michael\",male,31,0,0,335097,7.75,,Q',)\n",
            " ('751,1,2,\"Wells, Miss. Joan\",female,4,1,1,29103,23,,S',)\n",
            " ('752,1,3,\"Moor, Master. Meier\",male,6,0,1,392096,12.475,E121,S',)\n",
            " ('753,0,3,\"Vande Velde, Mr. Johannes Joseph\",male,33,0,0,345780,9.5,,S',)\n",
            " ('754,0,3,\"Jonkoff, Mr. Lalio\",male,23,0,0,349204,7.8958,,S',)\n",
            " ('755,1,2,\"Herman, Mrs. Samuel (Jane Laver)\",female,48,1,2,220845,65,,S',)\n",
            " ('756,1,2,\"Hamalainen, Master. Viljo\",male,0.67,1,1,250649,14.5,,S',)\n",
            " ('757,0,3,\"Carlsson, Mr. August Sigfrid\",male,28,0,0,350042,7.7958,,S',)\n",
            " ('758,0,2,\"Bailey, Mr. Percy Andrew\",male,18,0,0,29108,11.5,,S',)\n",
            " ('759,0,3,\"Theobald, Mr. Thomas Leonard\",male,34,0,0,363294,8.05,,S',)\n",
            " ('760,1,1,\"Rothes, the Countess. of (Lucy Noel Martha Dyer-Edwards)\",female,33,0,0,110152,86.5,B77,S',)\n",
            " ('761,0,3,\"Garfirth, Mr. John\",male,,0,0,358585,14.5,,S',)\n",
            " ('762,0,3,\"Nirva, Mr. Iisakki Antino Aijo\",male,41,0,0,SOTON/O2 3101272,7.125,,S',)\n",
            " ('763,1,3,\"Barah, Mr. Hanna Assi\",male,20,0,0,2663,7.2292,,C',)\n",
            " ('764,1,1,\"Carter, Mrs. William Ernest (Lucile Polk)\",female,36,1,2,113760,120,B96 B98,S',)\n",
            " ('765,0,3,\"Eklund, Mr. Hans Linus\",male,16,0,0,347074,7.775,,S',)\n",
            " ('766,1,1,\"Hogeboom, Mrs. John C (Anna Andrews)\",female,51,1,0,13502,77.9583,D11,S',)\n",
            " ('767,0,1,\"Brewe, Dr. Arthur Jackson\",male,,0,0,112379,39.6,,C',)\n",
            " ('768,0,3,\"Mangan, Miss. Mary\",female,30.5,0,0,364850,7.75,,Q',)\n",
            " ('769,0,3,\"Moran, Mr. Daniel J\",male,,1,0,371110,24.15,,Q',)\n",
            " ('770,0,3,\"Gronnestad, Mr. Daniel Danielsen\",male,32,0,0,8471,8.3625,,S',)\n",
            " ('771,0,3,\"Lievens, Mr. Rene Aime\",male,24,0,0,345781,9.5,,S',)\n",
            " ('772,0,3,\"Jensen, Mr. Niels Peder\",male,48,0,0,350047,7.8542,,S',)\n",
            " ('773,0,2,\"Mack, Mrs. (Mary)\",female,57,0,0,S.O./P.P. 3,10.5,E77,S',)\n",
            " ('774,0,3,\"Elias, Mr. Dibo\",male,,0,0,2674,7.225,,C',)\n",
            " ('775,1,2,\"Hocking, Mrs. Elizabeth (Eliza Needs)\",female,54,1,3,29105,23,,S',)\n",
            " ('776,0,3,\"Myhrman, Mr. Pehr Fabian Oliver Malkolm\",male,18,0,0,347078,7.75,,S',)\n",
            " ('777,0,3,\"Tobin, Mr. Roger\",male,,0,0,383121,7.75,F38,Q',)\n",
            " ('778,1,3,\"Emanuel, Miss. Virginia Ethel\",female,5,0,0,364516,12.475,,S',)\n",
            " ('779,0,3,\"Kilgannon, Mr. Thomas J\",male,,0,0,36865,7.7375,,Q',)\n",
            " ('780,1,1,\"Robert, Mrs. Edward Scott (Elisabeth Walton McMillan)\",female,43,0,1,24160,211.3375,B3,S',)\n",
            " ('781,1,3,\"Ayoub, Miss. Banoura\",female,13,0,0,2687,7.2292,,C',)\n",
            " ('782,1,1,\"Dick, Mrs. Albert Adrian (Vera Gillespie)\",female,17,1,0,17474,57,B20,S',)\n",
            " ('783,0,1,\"Long, Mr. Milton Clyde\",male,29,0,0,113501,30,D6,S',)\n",
            " ('784,0,3,\"Johnston, Mr. Andrew G\",male,,1,2,W./C. 6607,23.45,,S',)\n",
            " ('785,0,3,\"Ali, Mr. William\",male,25,0,0,SOTON/O.Q. 3101312,7.05,,S',)\n",
            " ('786,0,3,\"Harmer, Mr. Abraham (David Lishin)\",male,25,0,0,374887,7.25,,S',)\n",
            " ('787,1,3,\"Sjoblom, Miss. Anna Sofia\",female,18,0,0,3101265,7.4958,,S',)\n",
            " ('788,0,3,\"Rice, Master. George Hugh\",male,8,4,1,382652,29.125,,Q',)\n",
            " ('789,1,3,\"Dean, Master. Bertram Vere\",male,1,1,2,C.A. 2315,20.575,,S',)\n",
            " ('790,0,1,\"Guggenheim, Mr. Benjamin\",male,46,0,0,PC 17593,79.2,B82 B84,C',)\n",
            " ('791,0,3,\"Keane, Mr. Andrew \"\"Andy\"\"\",male,,0,0,12460,7.75,,Q',)\n",
            " ('792,0,2,\"Gaskell, Mr. Alfred\",male,16,0,0,239865,26,,S',)\n",
            " ('793,0,3,\"Sage, Miss. Stella Anna\",female,,8,2,CA. 2343,69.55,,S',)\n",
            " ('794,0,1,\"Hoyt, Mr. William Fisher\",male,,0,0,PC 17600,30.6958,,C',)\n",
            " ('795,0,3,\"Dantcheff, Mr. Ristiu\",male,25,0,0,349203,7.8958,,S',)\n",
            " ('796,0,2,\"Otter, Mr. Richard\",male,39,0,0,28213,13,,S',)\n",
            " ('797,1,1,\"Leader, Dr. Alice (Farnham)\",female,49,0,0,17465,25.9292,D17,S',)\n",
            " ('798,1,3,\"Osman, Mrs. Mara\",female,31,0,0,349244,8.6833,,S',)\n",
            " ('799,0,3,\"Ibrahim Shawah, Mr. Yousseff\",male,30,0,0,2685,7.2292,,C',)\n",
            " ('800,0,3,\"Van Impe, Mrs. Jean Baptiste (Rosalie Paula Govaert)\",female,30,1,1,345773,24.15,,S',)\n",
            " ('801,0,2,\"Ponesell, Mr. Martin\",male,34,0,0,250647,13,,S',)\n",
            " ('802,1,2,\"Collyer, Mrs. Harvey (Charlotte Annie Tate)\",female,31,1,1,C.A. 31921,26.25,,S',)\n",
            " ('803,1,1,\"Carter, Master. William Thornton II\",male,11,1,2,113760,120,B96 B98,S',)\n",
            " ('804,1,3,\"Thomas, Master. Assad Alexander\",male,0.42,0,1,2625,8.5167,,C',)\n",
            " ('805,1,3,\"Hedman, Mr. Oskar Arvid\",male,27,0,0,347089,6.975,,S',)\n",
            " ('806,0,3,\"Johansson, Mr. Karl Johan\",male,31,0,0,347063,7.775,,S',)\n",
            " ('807,0,1,\"Andrews, Mr. Thomas Jr\",male,39,0,0,112050,0,A36,S',)\n",
            " ('808,0,3,\"Pettersson, Miss. Ellen Natalia\",female,18,0,0,347087,7.775,,S',)\n",
            " ('809,0,2,\"Meyer, Mr. August\",male,39,0,0,248723,13,,S',)\n",
            " ('810,1,1,\"Chambers, Mrs. Norman Campbell (Bertha Griggs)\",female,33,1,0,113806,53.1,E8,S',)\n",
            " ('811,0,3,\"Alexander, Mr. William\",male,26,0,0,3474,7.8875,,S',)\n",
            " ('812,0,3,\"Lester, Mr. James\",male,39,0,0,A/4 48871,24.15,,S',)\n",
            " ('813,0,2,\"Slemen, Mr. Richard James\",male,35,0,0,28206,10.5,,S',)\n",
            " ('814,0,3,\"Andersson, Miss. Ebba Iris Alfrida\",female,6,4,2,347082,31.275,,S',)\n",
            " ('815,0,3,\"Tomlin, Mr. Ernest Portage\",male,30.5,0,0,364499,8.05,,S',)\n",
            " ('816,0,1,\"Fry, Mr. Richard\",male,,0,0,112058,0,B102,S',)\n",
            " ('817,0,3,\"Heininen, Miss. Wendla Maria\",female,23,0,0,STON/O2. 3101290,7.925,,S',)\n",
            " ('818,0,2,\"Mallet, Mr. Albert\",male,31,1,1,S.C./PARIS 2079,37.0042,,C',)\n",
            " ('819,0,3,\"Holm, Mr. John Fredrik Alexander\",male,43,0,0,C 7075,6.45,,S',)\n",
            " ('820,0,3,\"Skoog, Master. Karl Thorsten\",male,10,3,2,347088,27.9,,S',)\n",
            " ('821,1,1,\"Hays, Mrs. Charles Melville (Clara Jennings Gregg)\",female,52,1,1,12749,93.5,B69,S',)\n",
            " ('822,1,3,\"Lulic, Mr. Nikola\",male,27,0,0,315098,8.6625,,S',)\n",
            " ('823,0,1,\"Reuchlin, Jonkheer. John George\",male,38,0,0,19972,0,,S',)\n",
            " ('824,1,3,\"Moor, Mrs. (Beila)\",female,27,0,1,392096,12.475,E121,S',)\n",
            " ('825,0,3,\"Panula, Master. Urho Abraham\",male,2,4,1,3101295,39.6875,,S',)\n",
            " ('826,0,3,\"Flynn, Mr. John\",male,,0,0,368323,6.95,,Q',)\n",
            " ('827,0,3,\"Lam, Mr. Len\",male,,0,0,1601,56.4958,,S',)\n",
            " ('828,1,2,\"Mallet, Master. Andre\",male,1,0,2,S.C./PARIS 2079,37.0042,,C',)\n",
            " ('829,1,3,\"McCormack, Mr. Thomas Joseph\",male,,0,0,367228,7.75,,Q',)\n",
            " ('830,1,1,\"Stone, Mrs. George Nelson (Martha Evelyn)\",female,62,0,0,113572,80,B28,',)\n",
            " ('831,1,3,\"Yasbeck, Mrs. Antoni (Selini Alexander)\",female,15,1,0,2659,14.4542,,C',)\n",
            " ('832,1,2,\"Richards, Master. George Sibley\",male,0.83,1,1,29106,18.75,,S',)\n",
            " ('833,0,3,\"Saad, Mr. Amin\",male,,0,0,2671,7.2292,,C',)\n",
            " ('834,0,3,\"Augustsson, Mr. Albert\",male,23,0,0,347468,7.8542,,S',)\n",
            " ('835,0,3,\"Allum, Mr. Owen George\",male,18,0,0,2223,8.3,,S',)\n",
            " ('836,1,1,\"Compton, Miss. Sara Rebecca\",female,39,1,1,PC 17756,83.1583,E49,C',)\n",
            " ('837,0,3,\"Pasic, Mr. Jakob\",male,21,0,0,315097,8.6625,,S',)\n",
            " ('838,0,3,\"Sirota, Mr. Maurice\",male,,0,0,392092,8.05,,S',)\n",
            " ('839,1,3,\"Chip, Mr. Chang\",male,32,0,0,1601,56.4958,,S',)\n",
            " ('840,1,1,\"Marechal, Mr. Pierre\",male,,0,0,11774,29.7,C47,C',)\n",
            " ('841,0,3,\"Alhomaki, Mr. Ilmari Rudolf\",male,20,0,0,SOTON/O2 3101287,7.925,,S',)\n",
            " ('842,0,2,\"Mudd, Mr. Thomas Charles\",male,16,0,0,S.O./P.P. 3,10.5,,S',)\n",
            " ('843,1,1,\"Serepeca, Miss. Augusta\",female,30,0,0,113798,31,,C',)\n",
            " ('844,0,3,\"Lemberopolous, Mr. Peter L\",male,34.5,0,0,2683,6.4375,,C',)\n",
            " ('845,0,3,\"Culumovic, Mr. Jeso\",male,17,0,0,315090,8.6625,,S',)\n",
            " ('846,0,3,\"Abbing, Mr. Anthony\",male,42,0,0,C.A. 5547,7.55,,S',)\n",
            " ('847,0,3,\"Sage, Mr. Douglas Bullen\",male,,8,2,CA. 2343,69.55,,S',)\n",
            " ('848,0,3,\"Markoff, Mr. Marin\",male,35,0,0,349213,7.8958,,C',)\n",
            " ('849,0,2,\"Harper, Rev. John\",male,28,0,1,248727,33,,S',)\n",
            " ('850,1,1,\"Goldenberg, Mrs. Samuel L (Edwiga Grabowska)\",female,,1,0,17453,89.1042,C92,C',)\n",
            " ('851,0,3,\"Andersson, Master. Sigvard Harald Elias\",male,4,4,2,347082,31.275,,S',)\n",
            " ('852,0,3,\"Svensson, Mr. Johan\",male,74,0,0,347060,7.775,,S',)\n",
            " ('853,0,3,\"Boulos, Miss. Nourelain\",female,9,1,1,2678,15.2458,,C',)\n",
            " ('854,1,1,\"Lines, Miss. Mary Conover\",female,16,0,1,PC 17592,39.4,D28,S',)\n",
            " ('855,0,2,\"Carter, Mrs. Ernest Courtenay (Lilian Hughes)\",female,44,1,0,244252,26,,S',)\n",
            " ('856,1,3,\"Aks, Mrs. Sam (Leah Rosen)\",female,18,0,1,392091,9.35,,S',)\n",
            " ('857,1,1,\"Wick, Mrs. George Dennick (Mary Hitchcock)\",female,45,1,1,36928,164.8667,,S',)\n",
            " ('858,1,1,\"Daly, Mr. Peter Denis \",male,51,0,0,113055,26.55,E17,S',)\n",
            " ('859,1,3,\"Baclini, Mrs. Solomon (Latifa Qurban)\",female,24,0,3,2666,19.2583,,C',)\n",
            " ('860,0,3,\"Razi, Mr. Raihed\",male,,0,0,2629,7.2292,,C',)\n",
            " ('861,0,3,\"Hansen, Mr. Claus Peter\",male,41,2,0,350026,14.1083,,S',)\n",
            " ('862,0,2,\"Giles, Mr. Frederick Edward\",male,21,1,0,28134,11.5,,S',)\n",
            " ('863,1,1,\"Swift, Mrs. Frederick Joel (Margaret Welles Barron)\",female,48,0,0,17466,25.9292,D17,S',)\n",
            " ('864,0,3,\"Sage, Miss. Dorothy Edith \"\"Dolly\"\"\",female,,8,2,CA. 2343,69.55,,S',)\n",
            " ('865,0,2,\"Gill, Mr. John William\",male,24,0,0,233866,13,,S',)\n",
            " ('866,1,2,\"Bystrom, Mrs. (Karolina)\",female,42,0,0,236852,13,,S',)\n",
            " ('867,1,2,\"Duran y More, Miss. Asuncion\",female,27,1,0,SC/PARIS 2149,13.8583,,C',)\n",
            " ('868,0,1,\"Roebling, Mr. Washington Augustus II\",male,31,0,0,PC 17590,50.4958,A24,S',)\n",
            " ('869,0,3,\"van Melkebeke, Mr. Philemon\",male,,0,0,345777,9.5,,S',)\n",
            " ('870,1,3,\"Johnson, Master. Harold Theodor\",male,4,1,1,347742,11.1333,,S',)\n",
            " ('871,0,3,\"Balkic, Mr. Cerin\",male,26,0,0,349248,7.8958,,S',)\n",
            " ('872,1,1,\"Beckwith, Mrs. Richard Leonard (Sallie Monypeny)\",female,47,1,1,11751,52.5542,D35,S',)\n",
            " ('873,0,1,\"Carlsson, Mr. Frans Olof\",male,33,0,0,695,5,B51 B53 B55,S',)\n",
            " ('874,0,3,\"Vander Cruyssen, Mr. Victor\",male,47,0,0,345765,9,,S',)\n",
            " ('875,1,2,\"Abelson, Mrs. Samuel (Hannah Wizosky)\",female,28,1,0,P/PP 3381,24,,C',)\n",
            " ('876,1,3,\"Najib, Miss. Adele Kiamie \"\"Jane\"\"\",female,15,0,0,2667,7.225,,C',)\n",
            " ('877,0,3,\"Gustafsson, Mr. Alfred Ossian\",male,20,0,0,7534,9.8458,,S',)\n",
            " ('878,0,3,\"Petroff, Mr. Nedelio\",male,19,0,0,349212,7.8958,,S',)\n",
            " ('879,0,3,\"Laleff, Mr. Kristo\",male,,0,0,349217,7.8958,,S',)\n",
            " ('880,1,1,\"Potter, Mrs. Thomas Jr (Lily Alexenia Wilson)\",female,56,0,1,11767,83.1583,C50,C',)\n",
            " ('881,1,2,\"Shelley, Mrs. William (Imanita Parrish Hall)\",female,25,0,1,230433,26,,S',)\n",
            " ('882,0,3,\"Markun, Mr. Johann\",male,33,0,0,349257,7.8958,,S',)\n",
            " ('883,0,3,\"Dahlberg, Miss. Gerda Ulrika\",female,22,0,0,7552,10.5167,,S',)\n",
            " ('884,0,2,\"Banfield, Mr. Frederick James\",male,28,0,0,C.A./SOTON 34068,10.5,,S',)\n",
            " ('885,0,3,\"Sutehall, Mr. Henry Jr\",male,25,0,0,SOTON/OQ 392076,7.05,,S',)\n",
            " ('886,0,3,\"Rice, Mrs. William (Margaret Norton)\",female,39,0,5,382652,29.125,,Q',)\n",
            " ('887,0,2,\"Montvila, Rev. Juozas\",male,27,0,0,211536,13,,S',)\n",
            " ('888,1,1,\"Graham, Miss. Margaret Edith\",female,19,0,0,112053,30,B42,S',)\n",
            " ('889,0,3,\"Johnston, Miss. Catherine Helen \"\"Carrie\"\"\",female,,1,2,W./C. 6607,23.45,,S',)\n",
            " ('890,1,1,\"Behr, Mr. Karl Howell\",male,26,0,0,111369,30,C148,C',)\n",
            " ('891,0,3,\"Dooley, Mr. Patrick\",male,32,0,0,370376,7.75,,Q',)]\n"
          ]
        }
      ]
    },
    {
      "cell_type": "code",
      "source": [
        "type(data)"
      ],
      "metadata": {
        "colab": {
          "base_uri": "https://localhost:8080/"
        },
        "id": "pvEx1HIOuSfD",
        "outputId": "b0c00d7f-b442-4391-f458-31fb04119935"
      },
      "execution_count": null,
      "outputs": [
        {
          "output_type": "execute_result",
          "data": {
            "text/plain": [
              "numpy.ndarray"
            ]
          },
          "metadata": {},
          "execution_count": 40
        }
      ]
    },
    {
      "cell_type": "markdown",
      "source": [
        "# **Pandas**"
      ],
      "metadata": {
        "id": "VqSCieTOXzOK"
      }
    },
    {
      "cell_type": "code",
      "source": [
        "import pandas as pd"
      ],
      "metadata": {
        "id": "Vr8Bt1l2uSj0"
      },
      "execution_count": null,
      "outputs": []
    },
    {
      "cell_type": "code",
      "source": [
        "# Creación  un df a partir de diccionarios, tuplas, y listas\n",
        "data=  {\n",
        "    'Estudiante': ['Juan', 'María', 'Pedro', 'Ana'],\n",
        "    'Matemáticas': [8, 9, 6, 7],\n",
        "    'Lengua': [7, 9, 8, 6]\n",
        "}\n",
        "\n",
        "# Estudiante, Mátemáticas y lengua son los nombres de las columnas\n",
        "# Se le puede asignar unnombre a la columna indice\n",
        "df = pd.DataFrame(data)\n",
        "print(df)"
      ],
      "metadata": {
        "colab": {
          "base_uri": "https://localhost:8080/"
        },
        "id": "3z3wiAMNbXVF",
        "outputId": "4eb17039-9285-4315-e0dd-aead6ebb2521"
      },
      "execution_count": null,
      "outputs": [
        {
          "output_type": "stream",
          "name": "stdout",
          "text": [
            "  Estudiante  Matemáticas  Lengua\n",
            "0       Juan            8       7\n",
            "1      María            9       9\n",
            "2      Pedro            6       8\n",
            "3        Ana            7       6\n"
          ]
        }
      ]
    },
    {
      "cell_type": "code",
      "source": [
        "import numpy as np\n",
        "import datetime as dt\n",
        "\n",
        "np.random.seed(0) # set seed so result is reproducible\n",
        "datos =pd.DataFrame(\n",
        "    {\n",
        "        'random': np.random.rand(5),\n",
        "        'text': ['hot', 'warm', 'cool', 'cold', None],\n",
        "        'truth': [np.random.choice([True, False]) for _ in range(5)]\n",
        "    },\n",
        "    index=pd.date_range(\n",
        "        end=dt.date(2019, 4, 21),\n",
        "        freq='1D',\n",
        "        periods=5,\n",
        "        name='date'\n",
        "    )\n",
        ")\n",
        "\n",
        "print(datos)\n"
      ],
      "metadata": {
        "colab": {
          "base_uri": "https://localhost:8080/"
        },
        "id": "q9Wf6QX8byqK",
        "outputId": "6eceea99-a46b-4dec-96df-a9d9238fdede"
      },
      "execution_count": null,
      "outputs": [
        {
          "output_type": "stream",
          "name": "stdout",
          "text": [
            "              random  text  truth\n",
            "date                             \n",
            "2019-04-17  0.548814   hot  False\n",
            "2019-04-18  0.715189  warm   True\n",
            "2019-04-19  0.602763  cool   True\n",
            "2019-04-20  0.544883  cold  False\n",
            "2019-04-21  0.423655  None   True\n"
          ]
        }
      ]
    },
    {
      "cell_type": "code",
      "source": [
        "# Se puede crear a partir de una lista de diccionario\n",
        "datos =  pd.DataFrame([\n",
        "    {'mag': 5.2, 'place': 'California'},\n",
        "    {'mag': 1.2, 'place': 'Alaska'},\n",
        "    {'mag': 0.2, 'place': 'California'}\n",
        "]\n",
        ")\n",
        "print(datos)"
      ],
      "metadata": {
        "colab": {
          "base_uri": "https://localhost:8080/"
        },
        "id": "qypfpxQIczIg",
        "outputId": "4525f263-78bd-4c22-ad80-81f4096a1854"
      },
      "execution_count": null,
      "outputs": [
        {
          "output_type": "stream",
          "name": "stdout",
          "text": [
            "   mag       place\n",
            "0  5.2  California\n",
            "1  1.2      Alaska\n",
            "2  0.2  California\n"
          ]
        }
      ]
    },
    {
      "cell_type": "code",
      "source": [
        "# Se puede crear a partir de una lista de tuplas\n",
        "list_of_tuples =  [(n, n**2, n**3) for n in range(5)]\n",
        "print(list_of_tuples)\n",
        "\n",
        "datos =  pd.DataFrame(\n",
        "    list_of_tuples,\n",
        "    columns =  ['n', 'n_squared', 'n_cubed']\n",
        ")\n",
        "print(datos)"
      ],
      "metadata": {
        "colab": {
          "base_uri": "https://localhost:8080/"
        },
        "id": "XwMxd7AudJp2",
        "outputId": "50d634a9-a2d3-40ea-d193-d6db526a3aa1"
      },
      "execution_count": null,
      "outputs": [
        {
          "output_type": "stream",
          "name": "stdout",
          "text": [
            "[(0, 0, 0), (1, 1, 1), (2, 4, 8), (3, 9, 27), (4, 16, 64)]\n",
            "   n  n_squared  n_cubed\n",
            "0  0          0        0\n",
            "1  1          1        1\n",
            "2  2          4        8\n",
            "3  3          9       27\n",
            "4  4         16       64\n"
          ]
        }
      ]
    },
    {
      "cell_type": "code",
      "source": [
        "# Guardar un dataframe generado\n",
        "import pandas as pd\n",
        "data =  {\n",
        "    'Estudiante': ['Juan', 'María', 'Pedro', 'Ana', 'Luis', 'Sofía', 'Carlos', 'Elena'],\n",
        "    'Curso': ['A', 'A', 'B', 'B', 'A', 'A', 'B', 'B'],\n",
        "    'Matemáticas': [8, 9, 6, 7, 8, 9, 5, 6],\n",
        "    'Lengua': [7, 9, 8, 6, 8, 7, 6, 7],\n",
        "    'Ciencias': [6, 8, 7, 5, 6, 8, 4, 6]\n",
        "    }\n",
        "# Crear el dataframe\n",
        "df = pd.DataFrame(data)\n",
        "\n",
        "# Guardar  el dataframe en un archivo csv\n",
        "df.to_csv('guardado_test.csv', index  = False)\n",
        "print(\"Archivo guardado exitosamente\")"
      ],
      "metadata": {
        "colab": {
          "base_uri": "https://localhost:8080/"
        },
        "id": "fpxWPvW0dd3O",
        "outputId": "43f38da6-1495-40ed-9a88-998070a69e1e"
      },
      "execution_count": null,
      "outputs": [
        {
          "output_type": "stream",
          "name": "stdout",
          "text": [
            "Archivo guardado exitosamente\n"
          ]
        }
      ]
    },
    {
      "cell_type": "code",
      "source": [
        "# Crea un dataframe a partir de un archivo\n",
        "# Leer el archivo\n",
        "df   = pd.read_csv('/content/guardado_test.csv')\n",
        "\n",
        "# Mostrar las primeras filas\n",
        "print(df.head())"
      ],
      "metadata": {
        "colab": {
          "base_uri": "https://localhost:8080/"
        },
        "id": "XDUA7sNfd73b",
        "outputId": "1fec4e14-0cd4-45e4-ecb8-530851f718f2"
      },
      "execution_count": null,
      "outputs": [
        {
          "output_type": "stream",
          "name": "stdout",
          "text": [
            "  Estudiante Curso  Matemáticas  Lengua  Ciencias\n",
            "0       Juan     A            8       7         6\n",
            "1      María     A            9       9         8\n",
            "2      Pedro     B            6       8         7\n",
            "3        Ana     B            7       6         5\n",
            "4       Luis     A            8       8         6\n"
          ]
        }
      ]
    },
    {
      "cell_type": "code",
      "source": [
        "# Seperación por un tabulador\n",
        "df  = pd.read_csv('/content/gapminder.tsv', sep = '\\t')\n",
        "\n",
        "# Mostrar las primeras 5 filas\n",
        "print(df.head())"
      ],
      "metadata": {
        "colab": {
          "base_uri": "https://localhost:8080/"
        },
        "id": "yvgKhC-2futZ",
        "outputId": "76a2f807-ed8b-444b-ae82-ccb130d00b40"
      },
      "execution_count": null,
      "outputs": [
        {
          "output_type": "stream",
          "name": "stdout",
          "text": [
            "       country continent  year  lifeExp       pop   gdpPercap\n",
            "0  Afghanistan      Asia  1952   28.801   8425333  779.445314\n",
            "1  Afghanistan      Asia  1957   30.332   9240934  820.853030\n",
            "2  Afghanistan      Asia  1962   31.997  10267083  853.100710\n",
            "3  Afghanistan      Asia  1967   34.020  11537966  836.197138\n",
            "4  Afghanistan      Asia  1972   36.088  13079460  739.981106\n"
          ]
        }
      ]
    },
    {
      "cell_type": "code",
      "source": [
        "# Crear un dataframe usand una API\n",
        "import datetime as dt\n",
        "import pandas as pd\n",
        "import requests\n",
        "yesterday =  dt.date.today() - dt.timedelta(days =  1)\n",
        "api = 'https://earthquake.usgs.gov/fdsnws/event/1/query'\n",
        "payload = {\n",
        "    'format': 'geojson',\n",
        "    'starttime': yesterday -  dt.timedelta(days = 30),\n",
        "    'endtime': yesterday\n",
        "}\n",
        "response =  requests.get(api, params =  payload)\n",
        "\n",
        "# Lets make sure the request was ok\n",
        "response.status_code"
      ],
      "metadata": {
        "colab": {
          "base_uri": "https://localhost:8080/"
        },
        "id": "APe9xVytgJZ8",
        "outputId": "6416a418-121a-47e6-f310-ff434d65f874"
      },
      "execution_count": null,
      "outputs": [
        {
          "output_type": "execute_result",
          "data": {
            "text/plain": [
              "200"
            ]
          },
          "metadata": {},
          "execution_count": 10
        }
      ]
    },
    {
      "cell_type": "code",
      "source": [
        "earthquake_json =  response.json()\n",
        "earthquake_json.keys()"
      ],
      "metadata": {
        "colab": {
          "base_uri": "https://localhost:8080/"
        },
        "id": "Z_JeD_pphNhF",
        "outputId": "14a62976-7305-41c6-bf52-dc7d67c6aa7e"
      },
      "execution_count": null,
      "outputs": [
        {
          "output_type": "execute_result",
          "data": {
            "text/plain": [
              "dict_keys(['type', 'metadata', 'features', 'bbox'])"
            ]
          },
          "metadata": {},
          "execution_count": 12
        }
      ]
    },
    {
      "cell_type": "code",
      "source": [
        "earthquake_json['metadata']\n",
        "\n"
      ],
      "metadata": {
        "colab": {
          "base_uri": "https://localhost:8080/"
        },
        "id": "WJd2fXg4hX1H",
        "outputId": "d437f5f0-243c-4ce8-8d77-b1bb93b7fada"
      },
      "execution_count": null,
      "outputs": [
        {
          "output_type": "execute_result",
          "data": {
            "text/plain": [
              "{'generated': 1755761146000,\n",
              " 'url': 'https://earthquake.usgs.gov/fdsnws/event/1/query?format=geojson&starttime=2025-07-21&endtime=2025-08-20',\n",
              " 'title': 'USGS Earthquakes',\n",
              " 'status': 200,\n",
              " 'api': '1.14.1',\n",
              " 'count': 11218}"
            ]
          },
          "metadata": {},
          "execution_count": 13
        }
      ]
    },
    {
      "cell_type": "code",
      "source": [
        "# cada elemento de la matriz Json es una fila de datos para nuestro dataframe\n",
        "type(earthquake_json['features'])"
      ],
      "metadata": {
        "colab": {
          "base_uri": "https://localhost:8080/"
        },
        "id": "iP_lOPg9hgK-",
        "outputId": "5a207ba8-018f-4964-952a-6962082de94a"
      },
      "execution_count": null,
      "outputs": [
        {
          "output_type": "execute_result",
          "data": {
            "text/plain": [
              "list"
            ]
          },
          "metadata": {},
          "execution_count": 14
        }
      ]
    },
    {
      "cell_type": "code",
      "source": [
        "earthquake_json['features'][0]"
      ],
      "metadata": {
        "colab": {
          "base_uri": "https://localhost:8080/"
        },
        "id": "byktgn2phppf",
        "outputId": "3ce5d152-458f-47ed-a99a-37bf04688ed1"
      },
      "execution_count": null,
      "outputs": [
        {
          "output_type": "execute_result",
          "data": {
            "text/plain": [
              "{'type': 'Feature',\n",
              " 'properties': {'mag': 1.2,\n",
              "  'place': '17 km W of Searles Valley, CA',\n",
              "  'time': 1755647950500,\n",
              "  'updated': 1755697048260,\n",
              "  'tz': None,\n",
              "  'url': 'https://earthquake.usgs.gov/earthquakes/eventpage/ci40403474',\n",
              "  'detail': 'https://earthquake.usgs.gov/fdsnws/event/1/query?eventid=ci40403474&format=geojson',\n",
              "  'felt': None,\n",
              "  'cdi': None,\n",
              "  'mmi': None,\n",
              "  'alert': None,\n",
              "  'status': 'reviewed',\n",
              "  'tsunami': 0,\n",
              "  'sig': 22,\n",
              "  'net': 'ci',\n",
              "  'code': '40403474',\n",
              "  'ids': ',ci40403474,',\n",
              "  'sources': ',ci,',\n",
              "  'types': ',focal-mechanism,nearby-cities,origin,phase-data,scitech-link,',\n",
              "  'nst': 33,\n",
              "  'dmin': 0.04729,\n",
              "  'rms': 0.15,\n",
              "  'gap': 62,\n",
              "  'magType': 'ml',\n",
              "  'type': 'earthquake',\n",
              "  'title': 'M 1.2 - 17 km W of Searles Valley, CA'},\n",
              " 'geometry': {'type': 'Point', 'coordinates': [-117.5928333, 35.7685, 8.06]},\n",
              " 'id': 'ci40403474'}"
            ]
          },
          "metadata": {},
          "execution_count": 15
        }
      ]
    },
    {
      "cell_type": "code",
      "source": [
        "# Convertir a un DataFrame\n",
        "earthquake_properties_data = [\n",
        "    quake['properties'] for quake in earthquake_json['features']\n",
        "]\n",
        "df =  pd.DataFrame(earthquake_properties_data)\n",
        "df.head()"
      ],
      "metadata": {
        "colab": {
          "base_uri": "https://localhost:8080/",
          "height": 620
        },
        "id": "qJuzeO5uhtVh",
        "outputId": "3bfe6b77-78db-411e-dada-83d1c7c83559"
      },
      "execution_count": null,
      "outputs": [
        {
          "output_type": "execute_result",
          "data": {
            "text/plain": [
              "    mag                          place           time        updated    tz  \\\n",
              "0  1.20  17 km W of Searles Valley, CA  1755647950500  1755697048260  None   \n",
              "1  1.02           7 km WNW of Cobb, CA  1755647802960  1755647901673  None   \n",
              "2  0.47  9 km NNE of Coso Junction, CA  1755647288260  1755705204211  None   \n",
              "3  0.73  9 km NNE of Coso Junction, CA  1755647000620  1755722971061  None   \n",
              "4  0.96  9 km NNE of Coso Junction, CA  1755646987100  1755722700424  None   \n",
              "\n",
              "                                                 url  \\\n",
              "0  https://earthquake.usgs.gov/earthquakes/eventp...   \n",
              "1  https://earthquake.usgs.gov/earthquakes/eventp...   \n",
              "2  https://earthquake.usgs.gov/earthquakes/eventp...   \n",
              "3  https://earthquake.usgs.gov/earthquakes/eventp...   \n",
              "4  https://earthquake.usgs.gov/earthquakes/eventp...   \n",
              "\n",
              "                                              detail  felt  cdi  mmi  ...  \\\n",
              "0  https://earthquake.usgs.gov/fdsnws/event/1/que...   NaN  NaN  NaN  ...   \n",
              "1  https://earthquake.usgs.gov/fdsnws/event/1/que...   NaN  NaN  NaN  ...   \n",
              "2  https://earthquake.usgs.gov/fdsnws/event/1/que...   NaN  NaN  NaN  ...   \n",
              "3  https://earthquake.usgs.gov/fdsnws/event/1/que...   NaN  NaN  NaN  ...   \n",
              "4  https://earthquake.usgs.gov/fdsnws/event/1/que...   NaN  NaN  NaN  ...   \n",
              "\n",
              "            ids sources                                              types  \\\n",
              "0  ,ci40403474,    ,ci,  ,focal-mechanism,nearby-cities,origin,phase-da...   \n",
              "1  ,nc75226022,    ,nc,                  ,nearby-cities,origin,phase-data,   \n",
              "2  ,ci37551253,    ,ci,     ,nearby-cities,origin,phase-data,scitech-link,   \n",
              "3  ,ci37739212,    ,ci,     ,nearby-cities,origin,phase-data,scitech-link,   \n",
              "4  ,ci40403458,    ,ci,     ,nearby-cities,origin,phase-data,scitech-link,   \n",
              "\n",
              "    nst      dmin   rms    gap magType        type  \\\n",
              "0  33.0  0.047290  0.15   62.0      ml  earthquake   \n",
              "1  19.0  0.007321  0.02   71.0      md  earthquake   \n",
              "2   9.0  0.050470  0.17  248.0      ml  earthquake   \n",
              "3  15.0  0.035430  0.11   87.0      ml  earthquake   \n",
              "4  21.0  0.039250  0.14   82.0      ml  earthquake   \n",
              "\n",
              "                                   title  \n",
              "0  M 1.2 - 17 km W of Searles Valley, CA  \n",
              "1           M 1.0 - 7 km WNW of Cobb, CA  \n",
              "2  M 0.5 - 9 km NNE of Coso Junction, CA  \n",
              "3  M 0.7 - 9 km NNE of Coso Junction, CA  \n",
              "4  M 1.0 - 9 km NNE of Coso Junction, CA  \n",
              "\n",
              "[5 rows x 26 columns]"
            ],
            "text/html": [
              "\n",
              "  <div id=\"df-b9bd8a95-2de0-4707-9a0c-abb7190770d5\" class=\"colab-df-container\">\n",
              "    <div>\n",
              "<style scoped>\n",
              "    .dataframe tbody tr th:only-of-type {\n",
              "        vertical-align: middle;\n",
              "    }\n",
              "\n",
              "    .dataframe tbody tr th {\n",
              "        vertical-align: top;\n",
              "    }\n",
              "\n",
              "    .dataframe thead th {\n",
              "        text-align: right;\n",
              "    }\n",
              "</style>\n",
              "<table border=\"1\" class=\"dataframe\">\n",
              "  <thead>\n",
              "    <tr style=\"text-align: right;\">\n",
              "      <th></th>\n",
              "      <th>mag</th>\n",
              "      <th>place</th>\n",
              "      <th>time</th>\n",
              "      <th>updated</th>\n",
              "      <th>tz</th>\n",
              "      <th>url</th>\n",
              "      <th>detail</th>\n",
              "      <th>felt</th>\n",
              "      <th>cdi</th>\n",
              "      <th>mmi</th>\n",
              "      <th>...</th>\n",
              "      <th>ids</th>\n",
              "      <th>sources</th>\n",
              "      <th>types</th>\n",
              "      <th>nst</th>\n",
              "      <th>dmin</th>\n",
              "      <th>rms</th>\n",
              "      <th>gap</th>\n",
              "      <th>magType</th>\n",
              "      <th>type</th>\n",
              "      <th>title</th>\n",
              "    </tr>\n",
              "  </thead>\n",
              "  <tbody>\n",
              "    <tr>\n",
              "      <th>0</th>\n",
              "      <td>1.20</td>\n",
              "      <td>17 km W of Searles Valley, CA</td>\n",
              "      <td>1755647950500</td>\n",
              "      <td>1755697048260</td>\n",
              "      <td>None</td>\n",
              "      <td>https://earthquake.usgs.gov/earthquakes/eventp...</td>\n",
              "      <td>https://earthquake.usgs.gov/fdsnws/event/1/que...</td>\n",
              "      <td>NaN</td>\n",
              "      <td>NaN</td>\n",
              "      <td>NaN</td>\n",
              "      <td>...</td>\n",
              "      <td>,ci40403474,</td>\n",
              "      <td>,ci,</td>\n",
              "      <td>,focal-mechanism,nearby-cities,origin,phase-da...</td>\n",
              "      <td>33.0</td>\n",
              "      <td>0.047290</td>\n",
              "      <td>0.15</td>\n",
              "      <td>62.0</td>\n",
              "      <td>ml</td>\n",
              "      <td>earthquake</td>\n",
              "      <td>M 1.2 - 17 km W of Searles Valley, CA</td>\n",
              "    </tr>\n",
              "    <tr>\n",
              "      <th>1</th>\n",
              "      <td>1.02</td>\n",
              "      <td>7 km WNW of Cobb, CA</td>\n",
              "      <td>1755647802960</td>\n",
              "      <td>1755647901673</td>\n",
              "      <td>None</td>\n",
              "      <td>https://earthquake.usgs.gov/earthquakes/eventp...</td>\n",
              "      <td>https://earthquake.usgs.gov/fdsnws/event/1/que...</td>\n",
              "      <td>NaN</td>\n",
              "      <td>NaN</td>\n",
              "      <td>NaN</td>\n",
              "      <td>...</td>\n",
              "      <td>,nc75226022,</td>\n",
              "      <td>,nc,</td>\n",
              "      <td>,nearby-cities,origin,phase-data,</td>\n",
              "      <td>19.0</td>\n",
              "      <td>0.007321</td>\n",
              "      <td>0.02</td>\n",
              "      <td>71.0</td>\n",
              "      <td>md</td>\n",
              "      <td>earthquake</td>\n",
              "      <td>M 1.0 - 7 km WNW of Cobb, CA</td>\n",
              "    </tr>\n",
              "    <tr>\n",
              "      <th>2</th>\n",
              "      <td>0.47</td>\n",
              "      <td>9 km NNE of Coso Junction, CA</td>\n",
              "      <td>1755647288260</td>\n",
              "      <td>1755705204211</td>\n",
              "      <td>None</td>\n",
              "      <td>https://earthquake.usgs.gov/earthquakes/eventp...</td>\n",
              "      <td>https://earthquake.usgs.gov/fdsnws/event/1/que...</td>\n",
              "      <td>NaN</td>\n",
              "      <td>NaN</td>\n",
              "      <td>NaN</td>\n",
              "      <td>...</td>\n",
              "      <td>,ci37551253,</td>\n",
              "      <td>,ci,</td>\n",
              "      <td>,nearby-cities,origin,phase-data,scitech-link,</td>\n",
              "      <td>9.0</td>\n",
              "      <td>0.050470</td>\n",
              "      <td>0.17</td>\n",
              "      <td>248.0</td>\n",
              "      <td>ml</td>\n",
              "      <td>earthquake</td>\n",
              "      <td>M 0.5 - 9 km NNE of Coso Junction, CA</td>\n",
              "    </tr>\n",
              "    <tr>\n",
              "      <th>3</th>\n",
              "      <td>0.73</td>\n",
              "      <td>9 km NNE of Coso Junction, CA</td>\n",
              "      <td>1755647000620</td>\n",
              "      <td>1755722971061</td>\n",
              "      <td>None</td>\n",
              "      <td>https://earthquake.usgs.gov/earthquakes/eventp...</td>\n",
              "      <td>https://earthquake.usgs.gov/fdsnws/event/1/que...</td>\n",
              "      <td>NaN</td>\n",
              "      <td>NaN</td>\n",
              "      <td>NaN</td>\n",
              "      <td>...</td>\n",
              "      <td>,ci37739212,</td>\n",
              "      <td>,ci,</td>\n",
              "      <td>,nearby-cities,origin,phase-data,scitech-link,</td>\n",
              "      <td>15.0</td>\n",
              "      <td>0.035430</td>\n",
              "      <td>0.11</td>\n",
              "      <td>87.0</td>\n",
              "      <td>ml</td>\n",
              "      <td>earthquake</td>\n",
              "      <td>M 0.7 - 9 km NNE of Coso Junction, CA</td>\n",
              "    </tr>\n",
              "    <tr>\n",
              "      <th>4</th>\n",
              "      <td>0.96</td>\n",
              "      <td>9 km NNE of Coso Junction, CA</td>\n",
              "      <td>1755646987100</td>\n",
              "      <td>1755722700424</td>\n",
              "      <td>None</td>\n",
              "      <td>https://earthquake.usgs.gov/earthquakes/eventp...</td>\n",
              "      <td>https://earthquake.usgs.gov/fdsnws/event/1/que...</td>\n",
              "      <td>NaN</td>\n",
              "      <td>NaN</td>\n",
              "      <td>NaN</td>\n",
              "      <td>...</td>\n",
              "      <td>,ci40403458,</td>\n",
              "      <td>,ci,</td>\n",
              "      <td>,nearby-cities,origin,phase-data,scitech-link,</td>\n",
              "      <td>21.0</td>\n",
              "      <td>0.039250</td>\n",
              "      <td>0.14</td>\n",
              "      <td>82.0</td>\n",
              "      <td>ml</td>\n",
              "      <td>earthquake</td>\n",
              "      <td>M 1.0 - 9 km NNE of Coso Junction, CA</td>\n",
              "    </tr>\n",
              "  </tbody>\n",
              "</table>\n",
              "<p>5 rows × 26 columns</p>\n",
              "</div>\n",
              "    <div class=\"colab-df-buttons\">\n",
              "\n",
              "  <div class=\"colab-df-container\">\n",
              "    <button class=\"colab-df-convert\" onclick=\"convertToInteractive('df-b9bd8a95-2de0-4707-9a0c-abb7190770d5')\"\n",
              "            title=\"Convert this dataframe to an interactive table.\"\n",
              "            style=\"display:none;\">\n",
              "\n",
              "  <svg xmlns=\"http://www.w3.org/2000/svg\" height=\"24px\" viewBox=\"0 -960 960 960\">\n",
              "    <path d=\"M120-120v-720h720v720H120Zm60-500h600v-160H180v160Zm220 220h160v-160H400v160Zm0 220h160v-160H400v160ZM180-400h160v-160H180v160Zm440 0h160v-160H620v160ZM180-180h160v-160H180v160Zm440 0h160v-160H620v160Z\"/>\n",
              "  </svg>\n",
              "    </button>\n",
              "\n",
              "  <style>\n",
              "    .colab-df-container {\n",
              "      display:flex;\n",
              "      gap: 12px;\n",
              "    }\n",
              "\n",
              "    .colab-df-convert {\n",
              "      background-color: #E8F0FE;\n",
              "      border: none;\n",
              "      border-radius: 50%;\n",
              "      cursor: pointer;\n",
              "      display: none;\n",
              "      fill: #1967D2;\n",
              "      height: 32px;\n",
              "      padding: 0 0 0 0;\n",
              "      width: 32px;\n",
              "    }\n",
              "\n",
              "    .colab-df-convert:hover {\n",
              "      background-color: #E2EBFA;\n",
              "      box-shadow: 0px 1px 2px rgba(60, 64, 67, 0.3), 0px 1px 3px 1px rgba(60, 64, 67, 0.15);\n",
              "      fill: #174EA6;\n",
              "    }\n",
              "\n",
              "    .colab-df-buttons div {\n",
              "      margin-bottom: 4px;\n",
              "    }\n",
              "\n",
              "    [theme=dark] .colab-df-convert {\n",
              "      background-color: #3B4455;\n",
              "      fill: #D2E3FC;\n",
              "    }\n",
              "\n",
              "    [theme=dark] .colab-df-convert:hover {\n",
              "      background-color: #434B5C;\n",
              "      box-shadow: 0px 1px 3px 1px rgba(0, 0, 0, 0.15);\n",
              "      filter: drop-shadow(0px 1px 2px rgba(0, 0, 0, 0.3));\n",
              "      fill: #FFFFFF;\n",
              "    }\n",
              "  </style>\n",
              "\n",
              "    <script>\n",
              "      const buttonEl =\n",
              "        document.querySelector('#df-b9bd8a95-2de0-4707-9a0c-abb7190770d5 button.colab-df-convert');\n",
              "      buttonEl.style.display =\n",
              "        google.colab.kernel.accessAllowed ? 'block' : 'none';\n",
              "\n",
              "      async function convertToInteractive(key) {\n",
              "        const element = document.querySelector('#df-b9bd8a95-2de0-4707-9a0c-abb7190770d5');\n",
              "        const dataTable =\n",
              "          await google.colab.kernel.invokeFunction('convertToInteractive',\n",
              "                                                    [key], {});\n",
              "        if (!dataTable) return;\n",
              "\n",
              "        const docLinkHtml = 'Like what you see? Visit the ' +\n",
              "          '<a target=\"_blank\" href=https://colab.research.google.com/notebooks/data_table.ipynb>data table notebook</a>'\n",
              "          + ' to learn more about interactive tables.';\n",
              "        element.innerHTML = '';\n",
              "        dataTable['output_type'] = 'display_data';\n",
              "        await google.colab.output.renderOutput(dataTable, element);\n",
              "        const docLink = document.createElement('div');\n",
              "        docLink.innerHTML = docLinkHtml;\n",
              "        element.appendChild(docLink);\n",
              "      }\n",
              "    </script>\n",
              "  </div>\n",
              "\n",
              "\n",
              "    <div id=\"df-e341ada6-7ad9-4d7a-8383-62d2ec2caf37\">\n",
              "      <button class=\"colab-df-quickchart\" onclick=\"quickchart('df-e341ada6-7ad9-4d7a-8383-62d2ec2caf37')\"\n",
              "                title=\"Suggest charts\"\n",
              "                style=\"display:none;\">\n",
              "\n",
              "<svg xmlns=\"http://www.w3.org/2000/svg\" height=\"24px\"viewBox=\"0 0 24 24\"\n",
              "     width=\"24px\">\n",
              "    <g>\n",
              "        <path d=\"M19 3H5c-1.1 0-2 .9-2 2v14c0 1.1.9 2 2 2h14c1.1 0 2-.9 2-2V5c0-1.1-.9-2-2-2zM9 17H7v-7h2v7zm4 0h-2V7h2v10zm4 0h-2v-4h2v4z\"/>\n",
              "    </g>\n",
              "</svg>\n",
              "      </button>\n",
              "\n",
              "<style>\n",
              "  .colab-df-quickchart {\n",
              "      --bg-color: #E8F0FE;\n",
              "      --fill-color: #1967D2;\n",
              "      --hover-bg-color: #E2EBFA;\n",
              "      --hover-fill-color: #174EA6;\n",
              "      --disabled-fill-color: #AAA;\n",
              "      --disabled-bg-color: #DDD;\n",
              "  }\n",
              "\n",
              "  [theme=dark] .colab-df-quickchart {\n",
              "      --bg-color: #3B4455;\n",
              "      --fill-color: #D2E3FC;\n",
              "      --hover-bg-color: #434B5C;\n",
              "      --hover-fill-color: #FFFFFF;\n",
              "      --disabled-bg-color: #3B4455;\n",
              "      --disabled-fill-color: #666;\n",
              "  }\n",
              "\n",
              "  .colab-df-quickchart {\n",
              "    background-color: var(--bg-color);\n",
              "    border: none;\n",
              "    border-radius: 50%;\n",
              "    cursor: pointer;\n",
              "    display: none;\n",
              "    fill: var(--fill-color);\n",
              "    height: 32px;\n",
              "    padding: 0;\n",
              "    width: 32px;\n",
              "  }\n",
              "\n",
              "  .colab-df-quickchart:hover {\n",
              "    background-color: var(--hover-bg-color);\n",
              "    box-shadow: 0 1px 2px rgba(60, 64, 67, 0.3), 0 1px 3px 1px rgba(60, 64, 67, 0.15);\n",
              "    fill: var(--button-hover-fill-color);\n",
              "  }\n",
              "\n",
              "  .colab-df-quickchart-complete:disabled,\n",
              "  .colab-df-quickchart-complete:disabled:hover {\n",
              "    background-color: var(--disabled-bg-color);\n",
              "    fill: var(--disabled-fill-color);\n",
              "    box-shadow: none;\n",
              "  }\n",
              "\n",
              "  .colab-df-spinner {\n",
              "    border: 2px solid var(--fill-color);\n",
              "    border-color: transparent;\n",
              "    border-bottom-color: var(--fill-color);\n",
              "    animation:\n",
              "      spin 1s steps(1) infinite;\n",
              "  }\n",
              "\n",
              "  @keyframes spin {\n",
              "    0% {\n",
              "      border-color: transparent;\n",
              "      border-bottom-color: var(--fill-color);\n",
              "      border-left-color: var(--fill-color);\n",
              "    }\n",
              "    20% {\n",
              "      border-color: transparent;\n",
              "      border-left-color: var(--fill-color);\n",
              "      border-top-color: var(--fill-color);\n",
              "    }\n",
              "    30% {\n",
              "      border-color: transparent;\n",
              "      border-left-color: var(--fill-color);\n",
              "      border-top-color: var(--fill-color);\n",
              "      border-right-color: var(--fill-color);\n",
              "    }\n",
              "    40% {\n",
              "      border-color: transparent;\n",
              "      border-right-color: var(--fill-color);\n",
              "      border-top-color: var(--fill-color);\n",
              "    }\n",
              "    60% {\n",
              "      border-color: transparent;\n",
              "      border-right-color: var(--fill-color);\n",
              "    }\n",
              "    80% {\n",
              "      border-color: transparent;\n",
              "      border-right-color: var(--fill-color);\n",
              "      border-bottom-color: var(--fill-color);\n",
              "    }\n",
              "    90% {\n",
              "      border-color: transparent;\n",
              "      border-bottom-color: var(--fill-color);\n",
              "    }\n",
              "  }\n",
              "</style>\n",
              "\n",
              "      <script>\n",
              "        async function quickchart(key) {\n",
              "          const quickchartButtonEl =\n",
              "            document.querySelector('#' + key + ' button');\n",
              "          quickchartButtonEl.disabled = true;  // To prevent multiple clicks.\n",
              "          quickchartButtonEl.classList.add('colab-df-spinner');\n",
              "          try {\n",
              "            const charts = await google.colab.kernel.invokeFunction(\n",
              "                'suggestCharts', [key], {});\n",
              "          } catch (error) {\n",
              "            console.error('Error during call to suggestCharts:', error);\n",
              "          }\n",
              "          quickchartButtonEl.classList.remove('colab-df-spinner');\n",
              "          quickchartButtonEl.classList.add('colab-df-quickchart-complete');\n",
              "        }\n",
              "        (() => {\n",
              "          let quickchartButtonEl =\n",
              "            document.querySelector('#df-e341ada6-7ad9-4d7a-8383-62d2ec2caf37 button');\n",
              "          quickchartButtonEl.style.display =\n",
              "            google.colab.kernel.accessAllowed ? 'block' : 'none';\n",
              "        })();\n",
              "      </script>\n",
              "    </div>\n",
              "\n",
              "    </div>\n",
              "  </div>\n"
            ],
            "application/vnd.google.colaboratory.intrinsic+json": {
              "type": "dataframe",
              "variable_name": "df"
            }
          },
          "metadata": {},
          "execution_count": 16
        }
      ]
    },
    {
      "cell_type": "code",
      "source": [
        "# Vmsos a explorar la basde de datos de tsunamis\n",
        "# para verificar si el dataframe está vacío\n",
        "df.empty"
      ],
      "metadata": {
        "colab": {
          "base_uri": "https://localhost:8080/"
        },
        "id": "cGKQ2IM3iCqY",
        "outputId": "d3ca1dcf-6d8a-4089-86d4-fd60fa922b94"
      },
      "execution_count": null,
      "outputs": [
        {
          "output_type": "execute_result",
          "data": {
            "text/plain": [
              "False"
            ]
          },
          "metadata": {},
          "execution_count": 20
        }
      ]
    },
    {
      "cell_type": "code",
      "source": [
        "# Cantidad de filas y columnas\n",
        "df.shape"
      ],
      "metadata": {
        "colab": {
          "base_uri": "https://localhost:8080/"
        },
        "id": "6pK78ziQiL1h",
        "outputId": "4665d71d-54b6-4e06-9364-c6b398a9b120"
      },
      "execution_count": null,
      "outputs": [
        {
          "output_type": "execute_result",
          "data": {
            "text/plain": [
              "(11218, 26)"
            ]
          },
          "metadata": {},
          "execution_count": 22
        }
      ]
    },
    {
      "cell_type": "code",
      "source": [
        "# Nombre de las columnas\n",
        "df.columns"
      ],
      "metadata": {
        "colab": {
          "base_uri": "https://localhost:8080/"
        },
        "id": "0Sg_zbG9ioj-",
        "outputId": "0cae0a4b-8fed-44cd-99ac-de8e5a8ec82e"
      },
      "execution_count": null,
      "outputs": [
        {
          "output_type": "execute_result",
          "data": {
            "text/plain": [
              "Index(['mag', 'place', 'time', 'updated', 'tz', 'url', 'detail', 'felt', 'cdi',\n",
              "       'mmi', 'alert', 'status', 'tsunami', 'sig', 'net', 'code', 'ids',\n",
              "       'sources', 'types', 'nst', 'dmin', 'rms', 'gap', 'magType', 'type',\n",
              "       'title'],\n",
              "      dtype='object')"
            ]
          },
          "metadata": {},
          "execution_count": 23
        }
      ]
    },
    {
      "cell_type": "code",
      "source": [
        "# Imprimir las ultimas 5 filas\n",
        "df.tail(\n",
        "\n",
        ")"
      ],
      "metadata": {
        "colab": {
          "base_uri": "https://localhost:8080/",
          "height": 533
        },
        "id": "KqeHP-N9ivpS",
        "outputId": "50346b05-a254-484f-fbd5-d46916f50880"
      },
      "execution_count": null,
      "outputs": [
        {
          "output_type": "execute_result",
          "data": {
            "text/plain": [
              "        mag                                          place           time  \\\n",
              "11213  4.50   166 km E of Petropavlovsk-Kamchatsky, Russia  1753056678167   \n",
              "11214  4.30               201 km SE of Vilyuchinsk, Russia  1753056628754   \n",
              "11215 -0.52                 61 km ENE of Pedro Bay, Alaska  1753056444060   \n",
              "11216  4.50   110 km E of Petropavlovsk-Kamchatsky, Russia  1753056092595   \n",
              "11217  4.40  155 km SE of Petropavlovsk-Kamchatsky, Russia  1753056023726   \n",
              "\n",
              "             updated    tz                                                url  \\\n",
              "11213  1754435326040  None  https://earthquake.usgs.gov/earthquakes/eventp...   \n",
              "11214  1755130915040  None  https://earthquake.usgs.gov/earthquakes/eventp...   \n",
              "11215  1753131858990  None  https://earthquake.usgs.gov/earthquakes/eventp...   \n",
              "11216  1755130739040  None  https://earthquake.usgs.gov/earthquakes/eventp...   \n",
              "11217  1754433856040  None  https://earthquake.usgs.gov/earthquakes/eventp...   \n",
              "\n",
              "                                                  detail  felt  cdi  mmi  ...  \\\n",
              "11213  https://earthquake.usgs.gov/fdsnws/event/1/que...   NaN  NaN  NaN  ...   \n",
              "11214  https://earthquake.usgs.gov/fdsnws/event/1/que...   NaN  NaN  NaN  ...   \n",
              "11215  https://earthquake.usgs.gov/fdsnws/event/1/que...   NaN  NaN  NaN  ...   \n",
              "11216  https://earthquake.usgs.gov/fdsnws/event/1/que...   NaN  NaN  NaN  ...   \n",
              "11217  https://earthquake.usgs.gov/fdsnws/event/1/que...   NaN  NaN  NaN  ...   \n",
              "\n",
              "                ids sources                types   nst     dmin   rms    gap  \\\n",
              "11213  ,us7000qe5m,    ,us,  ,origin,phase-data,  41.0  1.47900  0.85  173.0   \n",
              "11214  ,us6000qy9m,    ,us,  ,origin,phase-data,  21.0  1.78300  0.62  157.0   \n",
              "11215  ,av93679791,    ,av,  ,origin,phase-data,   4.0  0.03502  0.27  131.0   \n",
              "11216  ,us7000qe5k,    ,us,  ,origin,phase-data,  50.0  0.98000  0.75  165.0   \n",
              "11217  ,us6000qy9a,    ,us,  ,origin,phase-data,  25.0  1.37100  0.53  214.0   \n",
              "\n",
              "      magType        type                                              title  \n",
              "11213      mb  earthquake  M 4.5 - 166 km E of Petropavlovsk-Kamchatsky, ...  \n",
              "11214      mb  earthquake           M 4.3 - 201 km SE of Vilyuchinsk, Russia  \n",
              "11215      ml  earthquake            M -0.5 - 61 km ENE of Pedro Bay, Alaska  \n",
              "11216      mb  earthquake  M 4.5 - 110 km E of Petropavlovsk-Kamchatsky, ...  \n",
              "11217      mb  earthquake  M 4.4 - 155 km SE of Petropavlovsk-Kamchatsky,...  \n",
              "\n",
              "[5 rows x 26 columns]"
            ],
            "text/html": [
              "\n",
              "  <div id=\"df-a338024d-2e12-4c44-9386-37c4cd9dce53\" class=\"colab-df-container\">\n",
              "    <div>\n",
              "<style scoped>\n",
              "    .dataframe tbody tr th:only-of-type {\n",
              "        vertical-align: middle;\n",
              "    }\n",
              "\n",
              "    .dataframe tbody tr th {\n",
              "        vertical-align: top;\n",
              "    }\n",
              "\n",
              "    .dataframe thead th {\n",
              "        text-align: right;\n",
              "    }\n",
              "</style>\n",
              "<table border=\"1\" class=\"dataframe\">\n",
              "  <thead>\n",
              "    <tr style=\"text-align: right;\">\n",
              "      <th></th>\n",
              "      <th>mag</th>\n",
              "      <th>place</th>\n",
              "      <th>time</th>\n",
              "      <th>updated</th>\n",
              "      <th>tz</th>\n",
              "      <th>url</th>\n",
              "      <th>detail</th>\n",
              "      <th>felt</th>\n",
              "      <th>cdi</th>\n",
              "      <th>mmi</th>\n",
              "      <th>...</th>\n",
              "      <th>ids</th>\n",
              "      <th>sources</th>\n",
              "      <th>types</th>\n",
              "      <th>nst</th>\n",
              "      <th>dmin</th>\n",
              "      <th>rms</th>\n",
              "      <th>gap</th>\n",
              "      <th>magType</th>\n",
              "      <th>type</th>\n",
              "      <th>title</th>\n",
              "    </tr>\n",
              "  </thead>\n",
              "  <tbody>\n",
              "    <tr>\n",
              "      <th>11213</th>\n",
              "      <td>4.50</td>\n",
              "      <td>166 km E of Petropavlovsk-Kamchatsky, Russia</td>\n",
              "      <td>1753056678167</td>\n",
              "      <td>1754435326040</td>\n",
              "      <td>None</td>\n",
              "      <td>https://earthquake.usgs.gov/earthquakes/eventp...</td>\n",
              "      <td>https://earthquake.usgs.gov/fdsnws/event/1/que...</td>\n",
              "      <td>NaN</td>\n",
              "      <td>NaN</td>\n",
              "      <td>NaN</td>\n",
              "      <td>...</td>\n",
              "      <td>,us7000qe5m,</td>\n",
              "      <td>,us,</td>\n",
              "      <td>,origin,phase-data,</td>\n",
              "      <td>41.0</td>\n",
              "      <td>1.47900</td>\n",
              "      <td>0.85</td>\n",
              "      <td>173.0</td>\n",
              "      <td>mb</td>\n",
              "      <td>earthquake</td>\n",
              "      <td>M 4.5 - 166 km E of Petropavlovsk-Kamchatsky, ...</td>\n",
              "    </tr>\n",
              "    <tr>\n",
              "      <th>11214</th>\n",
              "      <td>4.30</td>\n",
              "      <td>201 km SE of Vilyuchinsk, Russia</td>\n",
              "      <td>1753056628754</td>\n",
              "      <td>1755130915040</td>\n",
              "      <td>None</td>\n",
              "      <td>https://earthquake.usgs.gov/earthquakes/eventp...</td>\n",
              "      <td>https://earthquake.usgs.gov/fdsnws/event/1/que...</td>\n",
              "      <td>NaN</td>\n",
              "      <td>NaN</td>\n",
              "      <td>NaN</td>\n",
              "      <td>...</td>\n",
              "      <td>,us6000qy9m,</td>\n",
              "      <td>,us,</td>\n",
              "      <td>,origin,phase-data,</td>\n",
              "      <td>21.0</td>\n",
              "      <td>1.78300</td>\n",
              "      <td>0.62</td>\n",
              "      <td>157.0</td>\n",
              "      <td>mb</td>\n",
              "      <td>earthquake</td>\n",
              "      <td>M 4.3 - 201 km SE of Vilyuchinsk, Russia</td>\n",
              "    </tr>\n",
              "    <tr>\n",
              "      <th>11215</th>\n",
              "      <td>-0.52</td>\n",
              "      <td>61 km ENE of Pedro Bay, Alaska</td>\n",
              "      <td>1753056444060</td>\n",
              "      <td>1753131858990</td>\n",
              "      <td>None</td>\n",
              "      <td>https://earthquake.usgs.gov/earthquakes/eventp...</td>\n",
              "      <td>https://earthquake.usgs.gov/fdsnws/event/1/que...</td>\n",
              "      <td>NaN</td>\n",
              "      <td>NaN</td>\n",
              "      <td>NaN</td>\n",
              "      <td>...</td>\n",
              "      <td>,av93679791,</td>\n",
              "      <td>,av,</td>\n",
              "      <td>,origin,phase-data,</td>\n",
              "      <td>4.0</td>\n",
              "      <td>0.03502</td>\n",
              "      <td>0.27</td>\n",
              "      <td>131.0</td>\n",
              "      <td>ml</td>\n",
              "      <td>earthquake</td>\n",
              "      <td>M -0.5 - 61 km ENE of Pedro Bay, Alaska</td>\n",
              "    </tr>\n",
              "    <tr>\n",
              "      <th>11216</th>\n",
              "      <td>4.50</td>\n",
              "      <td>110 km E of Petropavlovsk-Kamchatsky, Russia</td>\n",
              "      <td>1753056092595</td>\n",
              "      <td>1755130739040</td>\n",
              "      <td>None</td>\n",
              "      <td>https://earthquake.usgs.gov/earthquakes/eventp...</td>\n",
              "      <td>https://earthquake.usgs.gov/fdsnws/event/1/que...</td>\n",
              "      <td>NaN</td>\n",
              "      <td>NaN</td>\n",
              "      <td>NaN</td>\n",
              "      <td>...</td>\n",
              "      <td>,us7000qe5k,</td>\n",
              "      <td>,us,</td>\n",
              "      <td>,origin,phase-data,</td>\n",
              "      <td>50.0</td>\n",
              "      <td>0.98000</td>\n",
              "      <td>0.75</td>\n",
              "      <td>165.0</td>\n",
              "      <td>mb</td>\n",
              "      <td>earthquake</td>\n",
              "      <td>M 4.5 - 110 km E of Petropavlovsk-Kamchatsky, ...</td>\n",
              "    </tr>\n",
              "    <tr>\n",
              "      <th>11217</th>\n",
              "      <td>4.40</td>\n",
              "      <td>155 km SE of Petropavlovsk-Kamchatsky, Russia</td>\n",
              "      <td>1753056023726</td>\n",
              "      <td>1754433856040</td>\n",
              "      <td>None</td>\n",
              "      <td>https://earthquake.usgs.gov/earthquakes/eventp...</td>\n",
              "      <td>https://earthquake.usgs.gov/fdsnws/event/1/que...</td>\n",
              "      <td>NaN</td>\n",
              "      <td>NaN</td>\n",
              "      <td>NaN</td>\n",
              "      <td>...</td>\n",
              "      <td>,us6000qy9a,</td>\n",
              "      <td>,us,</td>\n",
              "      <td>,origin,phase-data,</td>\n",
              "      <td>25.0</td>\n",
              "      <td>1.37100</td>\n",
              "      <td>0.53</td>\n",
              "      <td>214.0</td>\n",
              "      <td>mb</td>\n",
              "      <td>earthquake</td>\n",
              "      <td>M 4.4 - 155 km SE of Petropavlovsk-Kamchatsky,...</td>\n",
              "    </tr>\n",
              "  </tbody>\n",
              "</table>\n",
              "<p>5 rows × 26 columns</p>\n",
              "</div>\n",
              "    <div class=\"colab-df-buttons\">\n",
              "\n",
              "  <div class=\"colab-df-container\">\n",
              "    <button class=\"colab-df-convert\" onclick=\"convertToInteractive('df-a338024d-2e12-4c44-9386-37c4cd9dce53')\"\n",
              "            title=\"Convert this dataframe to an interactive table.\"\n",
              "            style=\"display:none;\">\n",
              "\n",
              "  <svg xmlns=\"http://www.w3.org/2000/svg\" height=\"24px\" viewBox=\"0 -960 960 960\">\n",
              "    <path d=\"M120-120v-720h720v720H120Zm60-500h600v-160H180v160Zm220 220h160v-160H400v160Zm0 220h160v-160H400v160ZM180-400h160v-160H180v160Zm440 0h160v-160H620v160ZM180-180h160v-160H180v160Zm440 0h160v-160H620v160Z\"/>\n",
              "  </svg>\n",
              "    </button>\n",
              "\n",
              "  <style>\n",
              "    .colab-df-container {\n",
              "      display:flex;\n",
              "      gap: 12px;\n",
              "    }\n",
              "\n",
              "    .colab-df-convert {\n",
              "      background-color: #E8F0FE;\n",
              "      border: none;\n",
              "      border-radius: 50%;\n",
              "      cursor: pointer;\n",
              "      display: none;\n",
              "      fill: #1967D2;\n",
              "      height: 32px;\n",
              "      padding: 0 0 0 0;\n",
              "      width: 32px;\n",
              "    }\n",
              "\n",
              "    .colab-df-convert:hover {\n",
              "      background-color: #E2EBFA;\n",
              "      box-shadow: 0px 1px 2px rgba(60, 64, 67, 0.3), 0px 1px 3px 1px rgba(60, 64, 67, 0.15);\n",
              "      fill: #174EA6;\n",
              "    }\n",
              "\n",
              "    .colab-df-buttons div {\n",
              "      margin-bottom: 4px;\n",
              "    }\n",
              "\n",
              "    [theme=dark] .colab-df-convert {\n",
              "      background-color: #3B4455;\n",
              "      fill: #D2E3FC;\n",
              "    }\n",
              "\n",
              "    [theme=dark] .colab-df-convert:hover {\n",
              "      background-color: #434B5C;\n",
              "      box-shadow: 0px 1px 3px 1px rgba(0, 0, 0, 0.15);\n",
              "      filter: drop-shadow(0px 1px 2px rgba(0, 0, 0, 0.3));\n",
              "      fill: #FFFFFF;\n",
              "    }\n",
              "  </style>\n",
              "\n",
              "    <script>\n",
              "      const buttonEl =\n",
              "        document.querySelector('#df-a338024d-2e12-4c44-9386-37c4cd9dce53 button.colab-df-convert');\n",
              "      buttonEl.style.display =\n",
              "        google.colab.kernel.accessAllowed ? 'block' : 'none';\n",
              "\n",
              "      async function convertToInteractive(key) {\n",
              "        const element = document.querySelector('#df-a338024d-2e12-4c44-9386-37c4cd9dce53');\n",
              "        const dataTable =\n",
              "          await google.colab.kernel.invokeFunction('convertToInteractive',\n",
              "                                                    [key], {});\n",
              "        if (!dataTable) return;\n",
              "\n",
              "        const docLinkHtml = 'Like what you see? Visit the ' +\n",
              "          '<a target=\"_blank\" href=https://colab.research.google.com/notebooks/data_table.ipynb>data table notebook</a>'\n",
              "          + ' to learn more about interactive tables.';\n",
              "        element.innerHTML = '';\n",
              "        dataTable['output_type'] = 'display_data';\n",
              "        await google.colab.output.renderOutput(dataTable, element);\n",
              "        const docLink = document.createElement('div');\n",
              "        docLink.innerHTML = docLinkHtml;\n",
              "        element.appendChild(docLink);\n",
              "      }\n",
              "    </script>\n",
              "  </div>\n",
              "\n",
              "\n",
              "    <div id=\"df-89d39ee9-f500-49a5-96b9-faecaf89f7fa\">\n",
              "      <button class=\"colab-df-quickchart\" onclick=\"quickchart('df-89d39ee9-f500-49a5-96b9-faecaf89f7fa')\"\n",
              "                title=\"Suggest charts\"\n",
              "                style=\"display:none;\">\n",
              "\n",
              "<svg xmlns=\"http://www.w3.org/2000/svg\" height=\"24px\"viewBox=\"0 0 24 24\"\n",
              "     width=\"24px\">\n",
              "    <g>\n",
              "        <path d=\"M19 3H5c-1.1 0-2 .9-2 2v14c0 1.1.9 2 2 2h14c1.1 0 2-.9 2-2V5c0-1.1-.9-2-2-2zM9 17H7v-7h2v7zm4 0h-2V7h2v10zm4 0h-2v-4h2v4z\"/>\n",
              "    </g>\n",
              "</svg>\n",
              "      </button>\n",
              "\n",
              "<style>\n",
              "  .colab-df-quickchart {\n",
              "      --bg-color: #E8F0FE;\n",
              "      --fill-color: #1967D2;\n",
              "      --hover-bg-color: #E2EBFA;\n",
              "      --hover-fill-color: #174EA6;\n",
              "      --disabled-fill-color: #AAA;\n",
              "      --disabled-bg-color: #DDD;\n",
              "  }\n",
              "\n",
              "  [theme=dark] .colab-df-quickchart {\n",
              "      --bg-color: #3B4455;\n",
              "      --fill-color: #D2E3FC;\n",
              "      --hover-bg-color: #434B5C;\n",
              "      --hover-fill-color: #FFFFFF;\n",
              "      --disabled-bg-color: #3B4455;\n",
              "      --disabled-fill-color: #666;\n",
              "  }\n",
              "\n",
              "  .colab-df-quickchart {\n",
              "    background-color: var(--bg-color);\n",
              "    border: none;\n",
              "    border-radius: 50%;\n",
              "    cursor: pointer;\n",
              "    display: none;\n",
              "    fill: var(--fill-color);\n",
              "    height: 32px;\n",
              "    padding: 0;\n",
              "    width: 32px;\n",
              "  }\n",
              "\n",
              "  .colab-df-quickchart:hover {\n",
              "    background-color: var(--hover-bg-color);\n",
              "    box-shadow: 0 1px 2px rgba(60, 64, 67, 0.3), 0 1px 3px 1px rgba(60, 64, 67, 0.15);\n",
              "    fill: var(--button-hover-fill-color);\n",
              "  }\n",
              "\n",
              "  .colab-df-quickchart-complete:disabled,\n",
              "  .colab-df-quickchart-complete:disabled:hover {\n",
              "    background-color: var(--disabled-bg-color);\n",
              "    fill: var(--disabled-fill-color);\n",
              "    box-shadow: none;\n",
              "  }\n",
              "\n",
              "  .colab-df-spinner {\n",
              "    border: 2px solid var(--fill-color);\n",
              "    border-color: transparent;\n",
              "    border-bottom-color: var(--fill-color);\n",
              "    animation:\n",
              "      spin 1s steps(1) infinite;\n",
              "  }\n",
              "\n",
              "  @keyframes spin {\n",
              "    0% {\n",
              "      border-color: transparent;\n",
              "      border-bottom-color: var(--fill-color);\n",
              "      border-left-color: var(--fill-color);\n",
              "    }\n",
              "    20% {\n",
              "      border-color: transparent;\n",
              "      border-left-color: var(--fill-color);\n",
              "      border-top-color: var(--fill-color);\n",
              "    }\n",
              "    30% {\n",
              "      border-color: transparent;\n",
              "      border-left-color: var(--fill-color);\n",
              "      border-top-color: var(--fill-color);\n",
              "      border-right-color: var(--fill-color);\n",
              "    }\n",
              "    40% {\n",
              "      border-color: transparent;\n",
              "      border-right-color: var(--fill-color);\n",
              "      border-top-color: var(--fill-color);\n",
              "    }\n",
              "    60% {\n",
              "      border-color: transparent;\n",
              "      border-right-color: var(--fill-color);\n",
              "    }\n",
              "    80% {\n",
              "      border-color: transparent;\n",
              "      border-right-color: var(--fill-color);\n",
              "      border-bottom-color: var(--fill-color);\n",
              "    }\n",
              "    90% {\n",
              "      border-color: transparent;\n",
              "      border-bottom-color: var(--fill-color);\n",
              "    }\n",
              "  }\n",
              "</style>\n",
              "\n",
              "      <script>\n",
              "        async function quickchart(key) {\n",
              "          const quickchartButtonEl =\n",
              "            document.querySelector('#' + key + ' button');\n",
              "          quickchartButtonEl.disabled = true;  // To prevent multiple clicks.\n",
              "          quickchartButtonEl.classList.add('colab-df-spinner');\n",
              "          try {\n",
              "            const charts = await google.colab.kernel.invokeFunction(\n",
              "                'suggestCharts', [key], {});\n",
              "          } catch (error) {\n",
              "            console.error('Error during call to suggestCharts:', error);\n",
              "          }\n",
              "          quickchartButtonEl.classList.remove('colab-df-spinner');\n",
              "          quickchartButtonEl.classList.add('colab-df-quickchart-complete');\n",
              "        }\n",
              "        (() => {\n",
              "          let quickchartButtonEl =\n",
              "            document.querySelector('#df-89d39ee9-f500-49a5-96b9-faecaf89f7fa button');\n",
              "          quickchartButtonEl.style.display =\n",
              "            google.colab.kernel.accessAllowed ? 'block' : 'none';\n",
              "        })();\n",
              "      </script>\n",
              "    </div>\n",
              "\n",
              "    </div>\n",
              "  </div>\n"
            ],
            "application/vnd.google.colaboratory.intrinsic+json": {
              "type": "dataframe"
            }
          },
          "metadata": {},
          "execution_count": 24
        }
      ]
    },
    {
      "cell_type": "code",
      "source": [
        "# Los tipos de atributos\n",
        "print(df.dtypes)"
      ],
      "metadata": {
        "colab": {
          "base_uri": "https://localhost:8080/"
        },
        "id": "AoVCC7QliyBu",
        "outputId": "8f1808a7-736a-4086-b2fe-fb328b2adc4e"
      },
      "execution_count": null,
      "outputs": [
        {
          "output_type": "stream",
          "name": "stdout",
          "text": [
            "mag        float64\n",
            "place       object\n",
            "time         int64\n",
            "updated      int64\n",
            "tz          object\n",
            "url         object\n",
            "detail      object\n",
            "felt       float64\n",
            "cdi        float64\n",
            "mmi        float64\n",
            "alert       object\n",
            "status      object\n",
            "tsunami      int64\n",
            "sig          int64\n",
            "net         object\n",
            "code        object\n",
            "ids         object\n",
            "sources     object\n",
            "types       object\n",
            "nst        float64\n",
            "dmin       float64\n",
            "rms        float64\n",
            "gap        float64\n",
            "magType     object\n",
            "type        object\n",
            "title       object\n",
            "dtype: object\n"
          ]
        }
      ]
    },
    {
      "cell_type": "code",
      "source": [
        "# Resumen de las datos numericos\n",
        "print(df.describe())"
      ],
      "metadata": {
        "colab": {
          "base_uri": "https://localhost:8080/"
        },
        "id": "AyYo1U4bi2ai",
        "outputId": "7844e3ec-5821-4f73-99a0-9dc71f50528b"
      },
      "execution_count": null,
      "outputs": [
        {
          "output_type": "stream",
          "name": "stdout",
          "text": [
            "                mag          time       updated          felt         cdi  \\\n",
            "count  11218.000000  1.121800e+04  1.121800e+04    589.000000  589.000000   \n",
            "mean       1.756794  1.754256e+12  1.754547e+12     58.570458    2.627504   \n",
            "std        1.557672  7.287613e+08  7.464022e+08    595.901607    1.458260   \n",
            "min       -1.340000  1.753056e+12  1.753060e+12      0.000000    0.000000   \n",
            "25%        0.750000  1.753669e+12  1.753927e+12      1.000000    2.000000   \n",
            "50%        1.300000  1.754160e+12  1.754586e+12      1.000000    2.200000   \n",
            "75%        2.200000  1.754877e+12  1.755177e+12      5.000000    3.400000   \n",
            "max        8.800000  1.755648e+12  1.755761e+12  11124.000000    9.100000   \n",
            "\n",
            "              mmi      tsunami           sig          nst         dmin  \\\n",
            "count  247.000000  11218.00000  11218.000000  9599.000000  9597.000000   \n",
            "mean     3.295073      0.00107     85.215636    28.925409     0.594361   \n",
            "std      1.512768      0.03269    127.662874    28.700160     1.759637   \n",
            "min      0.000000      0.00000      0.000000     0.000000     0.000000   \n",
            "25%      2.392000      0.00000      9.000000    11.000000     0.020900   \n",
            "50%      3.585000      0.00000     26.000000    20.000000     0.064480   \n",
            "75%      3.948500      0.00000     74.000000    36.000000     0.241200   \n",
            "max      8.961000      1.00000   2104.000000   338.000000    47.502000   \n",
            "\n",
            "                rms          gap  \n",
            "count  11217.000000  9598.000000  \n",
            "mean       0.321402   108.530660  \n",
            "std        0.318121    58.792507  \n",
            "min        0.000000    11.000000  \n",
            "25%        0.100000    66.000000  \n",
            "50%        0.180000    93.000000  \n",
            "75%        0.510000   136.000000  \n",
            "max        3.190000   350.000000  \n"
          ]
        }
      ]
    },
    {
      "cell_type": "code",
      "source": [
        "# Información sobre le dataframe\n",
        "# Solo considera los datos no nulos\n",
        "print(df.info())"
      ],
      "metadata": {
        "colab": {
          "base_uri": "https://localhost:8080/"
        },
        "id": "Q33Jakloi70l",
        "outputId": "633524ff-e0c9-4dbe-d9db-77b1a135190a"
      },
      "execution_count": null,
      "outputs": [
        {
          "output_type": "stream",
          "name": "stdout",
          "text": [
            "<class 'pandas.core.frame.DataFrame'>\n",
            "RangeIndex: 11218 entries, 0 to 11217\n",
            "Data columns (total 26 columns):\n",
            " #   Column   Non-Null Count  Dtype  \n",
            "---  ------   --------------  -----  \n",
            " 0   mag      11218 non-null  float64\n",
            " 1   place    11218 non-null  object \n",
            " 2   time     11218 non-null  int64  \n",
            " 3   updated  11218 non-null  int64  \n",
            " 4   tz       0 non-null      object \n",
            " 5   url      11218 non-null  object \n",
            " 6   detail   11218 non-null  object \n",
            " 7   felt     589 non-null    float64\n",
            " 8   cdi      589 non-null    float64\n",
            " 9   mmi      247 non-null    float64\n",
            " 10  alert    157 non-null    object \n",
            " 11  status   11218 non-null  object \n",
            " 12  tsunami  11218 non-null  int64  \n",
            " 13  sig      11218 non-null  int64  \n",
            " 14  net      11218 non-null  object \n",
            " 15  code     11218 non-null  object \n",
            " 16  ids      11218 non-null  object \n",
            " 17  sources  11218 non-null  object \n",
            " 18  types    11218 non-null  object \n",
            " 19  nst      9599 non-null   float64\n",
            " 20  dmin     9597 non-null   float64\n",
            " 21  rms      11217 non-null  float64\n",
            " 22  gap      9598 non-null   float64\n",
            " 23  magType  11218 non-null  object \n",
            " 24  type     11218 non-null  object \n",
            " 25  title    11218 non-null  object \n",
            "dtypes: float64(8), int64(4), object(14)\n",
            "memory usage: 2.2+ MB\n",
            "None\n"
          ]
        }
      ]
    },
    {
      "cell_type": "code",
      "source": [
        "# Continuar con la Selección de Filas y Columnas\n",
        "# Filas y columnas\n",
        "#print(tsunamis.loc[0:2, ['mag', 'title']])"
      ],
      "metadata": {
        "id": "yKEi_2j8i_7_"
      },
      "execution_count": null,
      "outputs": []
    },
    {
      "cell_type": "code",
      "source": [
        "# Imprime todas las filas y la columnas title\n",
        "#print(tsunamis.loc[:, 'title'])"
      ],
      "metadata": {
        "id": "0kTR1nL_jKNv"
      },
      "execution_count": null,
      "outputs": []
    },
    {
      "cell_type": "code",
      "source": [
        "#iloc se usa para obtener un conjunto usando solo indices\n",
        "#print(tsunamis.iloc[0:2, 0:2])"
      ],
      "metadata": {
        "id": "0a8Jw5-nWREB"
      },
      "execution_count": null,
      "outputs": []
    },
    {
      "cell_type": "code",
      "source": [
        "# para extraer\n",
        "# el índice de las filas no incluye el último valore\n",
        "#print(tsunamis[10:14])"
      ],
      "metadata": {
        "id": "_VmwYU3AWaDH"
      },
      "execution_count": null,
      "outputs": []
    },
    {
      "cell_type": "code",
      "source": [
        "# Filtrado Booleano\n",
        "#print(tsunamis.mag >5)"
      ],
      "metadata": {
        "id": "E4tMuPxpWiv8"
      },
      "execution_count": null,
      "outputs": []
    },
    {
      "cell_type": "code",
      "source": [
        "# Extraer un subconjunto del dataframe\n",
        "#print(tsunamis[tsunamis.mag > 7.0])"
      ],
      "metadata": {
        "id": "7gQ3m4ZJWodE"
      },
      "execution_count": null,
      "outputs": []
    },
    {
      "cell_type": "code",
      "source": [
        "# Agregar datos\n",
        "# Creo una nueva coluimna llamada source\n",
        "# tsunamis['source'] = 'USGS'\n",
        "# print(tsunamis.head())"
      ],
      "metadata": {
        "id": "UnNqnTP8Wwtl"
      },
      "execution_count": null,
      "outputs": []
    },
    {
      "cell_type": "code",
      "source": [
        "# Guardar un dataframe generado\n",
        "import pandas as pd\n",
        "data =  {\n",
        "    'Estudiante': ['Juan', 'María', 'Pedro', 'Ana', 'Luis', 'Sofía', 'Carlos', 'Elena'],\n",
        "    'Curso': ['A', 'A', 'B', 'B', 'A', 'A', 'B', 'B'],\n",
        "    'Matemáticas': [8, 9, 6, 7, 8, 9, 5, 6],\n",
        "    'Lengua': [7, 9, 8, 6, 8, 7, 6, 7],\n",
        "    'Ciencias': [6, 8, 7, 5, 6, 8, 4, 6]\n",
        "    }\n",
        "# Crear el dataframe\n",
        "df = pd.DataFrame(data)\n",
        "\n",
        "# Guardar  el dataframe en un archivo csv\n",
        "df.to_csv('guardado_test.csv', index  = False)\n",
        "print(\"Archivo guardado exitosamente\")"
      ],
      "metadata": {
        "colab": {
          "base_uri": "https://localhost:8080/"
        },
        "id": "rGZnFu3jXBYR",
        "outputId": "bb95c748-d917-4750-ca17-4f9f986fd4b6"
      },
      "execution_count": null,
      "outputs": [
        {
          "output_type": "stream",
          "name": "stdout",
          "text": [
            "Archivo guardado exitosamente\n"
          ]
        }
      ]
    },
    {
      "cell_type": "code",
      "source": [
        "df =  pd.read_csv('/content/guardado_test.csv')\n",
        "df"
      ],
      "metadata": {
        "colab": {
          "base_uri": "https://localhost:8080/",
          "height": 300
        },
        "id": "62wKvX3qXOO1",
        "outputId": "4cb7115c-b50d-4d9a-adeb-b7b6eefc8bd7"
      },
      "execution_count": null,
      "outputs": [
        {
          "output_type": "execute_result",
          "data": {
            "text/plain": [
              "  Estudiante Curso  Matemáticas  Lengua  Ciencias\n",
              "0       Juan     A            8       7         6\n",
              "1      María     A            9       9         8\n",
              "2      Pedro     B            6       8         7\n",
              "3        Ana     B            7       6         5\n",
              "4       Luis     A            8       8         6\n",
              "5      Sofía     A            9       7         8\n",
              "6     Carlos     B            5       6         4\n",
              "7      Elena     B            6       7         6"
            ],
            "text/html": [
              "\n",
              "  <div id=\"df-1b093317-58c3-4919-b50d-ec4571636030\" class=\"colab-df-container\">\n",
              "    <div>\n",
              "<style scoped>\n",
              "    .dataframe tbody tr th:only-of-type {\n",
              "        vertical-align: middle;\n",
              "    }\n",
              "\n",
              "    .dataframe tbody tr th {\n",
              "        vertical-align: top;\n",
              "    }\n",
              "\n",
              "    .dataframe thead th {\n",
              "        text-align: right;\n",
              "    }\n",
              "</style>\n",
              "<table border=\"1\" class=\"dataframe\">\n",
              "  <thead>\n",
              "    <tr style=\"text-align: right;\">\n",
              "      <th></th>\n",
              "      <th>Estudiante</th>\n",
              "      <th>Curso</th>\n",
              "      <th>Matemáticas</th>\n",
              "      <th>Lengua</th>\n",
              "      <th>Ciencias</th>\n",
              "    </tr>\n",
              "  </thead>\n",
              "  <tbody>\n",
              "    <tr>\n",
              "      <th>0</th>\n",
              "      <td>Juan</td>\n",
              "      <td>A</td>\n",
              "      <td>8</td>\n",
              "      <td>7</td>\n",
              "      <td>6</td>\n",
              "    </tr>\n",
              "    <tr>\n",
              "      <th>1</th>\n",
              "      <td>María</td>\n",
              "      <td>A</td>\n",
              "      <td>9</td>\n",
              "      <td>9</td>\n",
              "      <td>8</td>\n",
              "    </tr>\n",
              "    <tr>\n",
              "      <th>2</th>\n",
              "      <td>Pedro</td>\n",
              "      <td>B</td>\n",
              "      <td>6</td>\n",
              "      <td>8</td>\n",
              "      <td>7</td>\n",
              "    </tr>\n",
              "    <tr>\n",
              "      <th>3</th>\n",
              "      <td>Ana</td>\n",
              "      <td>B</td>\n",
              "      <td>7</td>\n",
              "      <td>6</td>\n",
              "      <td>5</td>\n",
              "    </tr>\n",
              "    <tr>\n",
              "      <th>4</th>\n",
              "      <td>Luis</td>\n",
              "      <td>A</td>\n",
              "      <td>8</td>\n",
              "      <td>8</td>\n",
              "      <td>6</td>\n",
              "    </tr>\n",
              "    <tr>\n",
              "      <th>5</th>\n",
              "      <td>Sofía</td>\n",
              "      <td>A</td>\n",
              "      <td>9</td>\n",
              "      <td>7</td>\n",
              "      <td>8</td>\n",
              "    </tr>\n",
              "    <tr>\n",
              "      <th>6</th>\n",
              "      <td>Carlos</td>\n",
              "      <td>B</td>\n",
              "      <td>5</td>\n",
              "      <td>6</td>\n",
              "      <td>4</td>\n",
              "    </tr>\n",
              "    <tr>\n",
              "      <th>7</th>\n",
              "      <td>Elena</td>\n",
              "      <td>B</td>\n",
              "      <td>6</td>\n",
              "      <td>7</td>\n",
              "      <td>6</td>\n",
              "    </tr>\n",
              "  </tbody>\n",
              "</table>\n",
              "</div>\n",
              "    <div class=\"colab-df-buttons\">\n",
              "\n",
              "  <div class=\"colab-df-container\">\n",
              "    <button class=\"colab-df-convert\" onclick=\"convertToInteractive('df-1b093317-58c3-4919-b50d-ec4571636030')\"\n",
              "            title=\"Convert this dataframe to an interactive table.\"\n",
              "            style=\"display:none;\">\n",
              "\n",
              "  <svg xmlns=\"http://www.w3.org/2000/svg\" height=\"24px\" viewBox=\"0 -960 960 960\">\n",
              "    <path d=\"M120-120v-720h720v720H120Zm60-500h600v-160H180v160Zm220 220h160v-160H400v160Zm0 220h160v-160H400v160ZM180-400h160v-160H180v160Zm440 0h160v-160H620v160ZM180-180h160v-160H180v160Zm440 0h160v-160H620v160Z\"/>\n",
              "  </svg>\n",
              "    </button>\n",
              "\n",
              "  <style>\n",
              "    .colab-df-container {\n",
              "      display:flex;\n",
              "      gap: 12px;\n",
              "    }\n",
              "\n",
              "    .colab-df-convert {\n",
              "      background-color: #E8F0FE;\n",
              "      border: none;\n",
              "      border-radius: 50%;\n",
              "      cursor: pointer;\n",
              "      display: none;\n",
              "      fill: #1967D2;\n",
              "      height: 32px;\n",
              "      padding: 0 0 0 0;\n",
              "      width: 32px;\n",
              "    }\n",
              "\n",
              "    .colab-df-convert:hover {\n",
              "      background-color: #E2EBFA;\n",
              "      box-shadow: 0px 1px 2px rgba(60, 64, 67, 0.3), 0px 1px 3px 1px rgba(60, 64, 67, 0.15);\n",
              "      fill: #174EA6;\n",
              "    }\n",
              "\n",
              "    .colab-df-buttons div {\n",
              "      margin-bottom: 4px;\n",
              "    }\n",
              "\n",
              "    [theme=dark] .colab-df-convert {\n",
              "      background-color: #3B4455;\n",
              "      fill: #D2E3FC;\n",
              "    }\n",
              "\n",
              "    [theme=dark] .colab-df-convert:hover {\n",
              "      background-color: #434B5C;\n",
              "      box-shadow: 0px 1px 3px 1px rgba(0, 0, 0, 0.15);\n",
              "      filter: drop-shadow(0px 1px 2px rgba(0, 0, 0, 0.3));\n",
              "      fill: #FFFFFF;\n",
              "    }\n",
              "  </style>\n",
              "\n",
              "    <script>\n",
              "      const buttonEl =\n",
              "        document.querySelector('#df-1b093317-58c3-4919-b50d-ec4571636030 button.colab-df-convert');\n",
              "      buttonEl.style.display =\n",
              "        google.colab.kernel.accessAllowed ? 'block' : 'none';\n",
              "\n",
              "      async function convertToInteractive(key) {\n",
              "        const element = document.querySelector('#df-1b093317-58c3-4919-b50d-ec4571636030');\n",
              "        const dataTable =\n",
              "          await google.colab.kernel.invokeFunction('convertToInteractive',\n",
              "                                                    [key], {});\n",
              "        if (!dataTable) return;\n",
              "\n",
              "        const docLinkHtml = 'Like what you see? Visit the ' +\n",
              "          '<a target=\"_blank\" href=https://colab.research.google.com/notebooks/data_table.ipynb>data table notebook</a>'\n",
              "          + ' to learn more about interactive tables.';\n",
              "        element.innerHTML = '';\n",
              "        dataTable['output_type'] = 'display_data';\n",
              "        await google.colab.output.renderOutput(dataTable, element);\n",
              "        const docLink = document.createElement('div');\n",
              "        docLink.innerHTML = docLinkHtml;\n",
              "        element.appendChild(docLink);\n",
              "      }\n",
              "    </script>\n",
              "  </div>\n",
              "\n",
              "\n",
              "    <div id=\"df-228de4af-746c-4b2a-bbee-19afa89c515e\">\n",
              "      <button class=\"colab-df-quickchart\" onclick=\"quickchart('df-228de4af-746c-4b2a-bbee-19afa89c515e')\"\n",
              "                title=\"Suggest charts\"\n",
              "                style=\"display:none;\">\n",
              "\n",
              "<svg xmlns=\"http://www.w3.org/2000/svg\" height=\"24px\"viewBox=\"0 0 24 24\"\n",
              "     width=\"24px\">\n",
              "    <g>\n",
              "        <path d=\"M19 3H5c-1.1 0-2 .9-2 2v14c0 1.1.9 2 2 2h14c1.1 0 2-.9 2-2V5c0-1.1-.9-2-2-2zM9 17H7v-7h2v7zm4 0h-2V7h2v10zm4 0h-2v-4h2v4z\"/>\n",
              "    </g>\n",
              "</svg>\n",
              "      </button>\n",
              "\n",
              "<style>\n",
              "  .colab-df-quickchart {\n",
              "      --bg-color: #E8F0FE;\n",
              "      --fill-color: #1967D2;\n",
              "      --hover-bg-color: #E2EBFA;\n",
              "      --hover-fill-color: #174EA6;\n",
              "      --disabled-fill-color: #AAA;\n",
              "      --disabled-bg-color: #DDD;\n",
              "  }\n",
              "\n",
              "  [theme=dark] .colab-df-quickchart {\n",
              "      --bg-color: #3B4455;\n",
              "      --fill-color: #D2E3FC;\n",
              "      --hover-bg-color: #434B5C;\n",
              "      --hover-fill-color: #FFFFFF;\n",
              "      --disabled-bg-color: #3B4455;\n",
              "      --disabled-fill-color: #666;\n",
              "  }\n",
              "\n",
              "  .colab-df-quickchart {\n",
              "    background-color: var(--bg-color);\n",
              "    border: none;\n",
              "    border-radius: 50%;\n",
              "    cursor: pointer;\n",
              "    display: none;\n",
              "    fill: var(--fill-color);\n",
              "    height: 32px;\n",
              "    padding: 0;\n",
              "    width: 32px;\n",
              "  }\n",
              "\n",
              "  .colab-df-quickchart:hover {\n",
              "    background-color: var(--hover-bg-color);\n",
              "    box-shadow: 0 1px 2px rgba(60, 64, 67, 0.3), 0 1px 3px 1px rgba(60, 64, 67, 0.15);\n",
              "    fill: var(--button-hover-fill-color);\n",
              "  }\n",
              "\n",
              "  .colab-df-quickchart-complete:disabled,\n",
              "  .colab-df-quickchart-complete:disabled:hover {\n",
              "    background-color: var(--disabled-bg-color);\n",
              "    fill: var(--disabled-fill-color);\n",
              "    box-shadow: none;\n",
              "  }\n",
              "\n",
              "  .colab-df-spinner {\n",
              "    border: 2px solid var(--fill-color);\n",
              "    border-color: transparent;\n",
              "    border-bottom-color: var(--fill-color);\n",
              "    animation:\n",
              "      spin 1s steps(1) infinite;\n",
              "  }\n",
              "\n",
              "  @keyframes spin {\n",
              "    0% {\n",
              "      border-color: transparent;\n",
              "      border-bottom-color: var(--fill-color);\n",
              "      border-left-color: var(--fill-color);\n",
              "    }\n",
              "    20% {\n",
              "      border-color: transparent;\n",
              "      border-left-color: var(--fill-color);\n",
              "      border-top-color: var(--fill-color);\n",
              "    }\n",
              "    30% {\n",
              "      border-color: transparent;\n",
              "      border-left-color: var(--fill-color);\n",
              "      border-top-color: var(--fill-color);\n",
              "      border-right-color: var(--fill-color);\n",
              "    }\n",
              "    40% {\n",
              "      border-color: transparent;\n",
              "      border-right-color: var(--fill-color);\n",
              "      border-top-color: var(--fill-color);\n",
              "    }\n",
              "    60% {\n",
              "      border-color: transparent;\n",
              "      border-right-color: var(--fill-color);\n",
              "    }\n",
              "    80% {\n",
              "      border-color: transparent;\n",
              "      border-right-color: var(--fill-color);\n",
              "      border-bottom-color: var(--fill-color);\n",
              "    }\n",
              "    90% {\n",
              "      border-color: transparent;\n",
              "      border-bottom-color: var(--fill-color);\n",
              "    }\n",
              "  }\n",
              "</style>\n",
              "\n",
              "      <script>\n",
              "        async function quickchart(key) {\n",
              "          const quickchartButtonEl =\n",
              "            document.querySelector('#' + key + ' button');\n",
              "          quickchartButtonEl.disabled = true;  // To prevent multiple clicks.\n",
              "          quickchartButtonEl.classList.add('colab-df-spinner');\n",
              "          try {\n",
              "            const charts = await google.colab.kernel.invokeFunction(\n",
              "                'suggestCharts', [key], {});\n",
              "          } catch (error) {\n",
              "            console.error('Error during call to suggestCharts:', error);\n",
              "          }\n",
              "          quickchartButtonEl.classList.remove('colab-df-spinner');\n",
              "          quickchartButtonEl.classList.add('colab-df-quickchart-complete');\n",
              "        }\n",
              "        (() => {\n",
              "          let quickchartButtonEl =\n",
              "            document.querySelector('#df-228de4af-746c-4b2a-bbee-19afa89c515e button');\n",
              "          quickchartButtonEl.style.display =\n",
              "            google.colab.kernel.accessAllowed ? 'block' : 'none';\n",
              "        })();\n",
              "      </script>\n",
              "    </div>\n",
              "\n",
              "  <div id=\"id_ea91a8a6-6b1e-419d-8669-0c84ab4b3634\">\n",
              "    <style>\n",
              "      .colab-df-generate {\n",
              "        background-color: #E8F0FE;\n",
              "        border: none;\n",
              "        border-radius: 50%;\n",
              "        cursor: pointer;\n",
              "        display: none;\n",
              "        fill: #1967D2;\n",
              "        height: 32px;\n",
              "        padding: 0 0 0 0;\n",
              "        width: 32px;\n",
              "      }\n",
              "\n",
              "      .colab-df-generate:hover {\n",
              "        background-color: #E2EBFA;\n",
              "        box-shadow: 0px 1px 2px rgba(60, 64, 67, 0.3), 0px 1px 3px 1px rgba(60, 64, 67, 0.15);\n",
              "        fill: #174EA6;\n",
              "      }\n",
              "\n",
              "      [theme=dark] .colab-df-generate {\n",
              "        background-color: #3B4455;\n",
              "        fill: #D2E3FC;\n",
              "      }\n",
              "\n",
              "      [theme=dark] .colab-df-generate:hover {\n",
              "        background-color: #434B5C;\n",
              "        box-shadow: 0px 1px 3px 1px rgba(0, 0, 0, 0.15);\n",
              "        filter: drop-shadow(0px 1px 2px rgba(0, 0, 0, 0.3));\n",
              "        fill: #FFFFFF;\n",
              "      }\n",
              "    </style>\n",
              "    <button class=\"colab-df-generate\" onclick=\"generateWithVariable('df')\"\n",
              "            title=\"Generate code using this dataframe.\"\n",
              "            style=\"display:none;\">\n",
              "\n",
              "  <svg xmlns=\"http://www.w3.org/2000/svg\" height=\"24px\"viewBox=\"0 0 24 24\"\n",
              "       width=\"24px\">\n",
              "    <path d=\"M7,19H8.4L18.45,9,17,7.55,7,17.6ZM5,21V16.75L18.45,3.32a2,2,0,0,1,2.83,0l1.4,1.43a1.91,1.91,0,0,1,.58,1.4,1.91,1.91,0,0,1-.58,1.4L9.25,21ZM18.45,9,17,7.55Zm-12,3A5.31,5.31,0,0,0,4.9,8.1,5.31,5.31,0,0,0,1,6.5,5.31,5.31,0,0,0,4.9,4.9,5.31,5.31,0,0,0,6.5,1,5.31,5.31,0,0,0,8.1,4.9,5.31,5.31,0,0,0,12,6.5,5.46,5.46,0,0,0,6.5,12Z\"/>\n",
              "  </svg>\n",
              "    </button>\n",
              "    <script>\n",
              "      (() => {\n",
              "      const buttonEl =\n",
              "        document.querySelector('#id_ea91a8a6-6b1e-419d-8669-0c84ab4b3634 button.colab-df-generate');\n",
              "      buttonEl.style.display =\n",
              "        google.colab.kernel.accessAllowed ? 'block' : 'none';\n",
              "\n",
              "      buttonEl.onclick = () => {\n",
              "        google.colab.notebook.generateWithVariable('df');\n",
              "      }\n",
              "      })();\n",
              "    </script>\n",
              "  </div>\n",
              "\n",
              "    </div>\n",
              "  </div>\n"
            ],
            "application/vnd.google.colaboratory.intrinsic+json": {
              "type": "dataframe",
              "variable_name": "df",
              "summary": "{\n  \"name\": \"df\",\n  \"rows\": 8,\n  \"fields\": [\n    {\n      \"column\": \"Estudiante\",\n      \"properties\": {\n        \"dtype\": \"string\",\n        \"num_unique_values\": 8,\n        \"samples\": [\n          \"Mar\\u00eda\",\n          \"Sof\\u00eda\",\n          \"Juan\"\n        ],\n        \"semantic_type\": \"\",\n        \"description\": \"\"\n      }\n    },\n    {\n      \"column\": \"Curso\",\n      \"properties\": {\n        \"dtype\": \"category\",\n        \"num_unique_values\": 2,\n        \"samples\": [\n          \"B\",\n          \"A\"\n        ],\n        \"semantic_type\": \"\",\n        \"description\": \"\"\n      }\n    },\n    {\n      \"column\": \"Matem\\u00e1ticas\",\n      \"properties\": {\n        \"dtype\": \"number\",\n        \"std\": 1,\n        \"min\": 5,\n        \"max\": 9,\n        \"num_unique_values\": 5,\n        \"samples\": [\n          9,\n          5\n        ],\n        \"semantic_type\": \"\",\n        \"description\": \"\"\n      }\n    },\n    {\n      \"column\": \"Lengua\",\n      \"properties\": {\n        \"dtype\": \"number\",\n        \"std\": 1,\n        \"min\": 6,\n        \"max\": 9,\n        \"num_unique_values\": 4,\n        \"samples\": [\n          9,\n          6\n        ],\n        \"semantic_type\": \"\",\n        \"description\": \"\"\n      }\n    },\n    {\n      \"column\": \"Ciencias\",\n      \"properties\": {\n        \"dtype\": \"number\",\n        \"std\": 1,\n        \"min\": 4,\n        \"max\": 8,\n        \"num_unique_values\": 5,\n        \"samples\": [\n          8,\n          4\n        ],\n        \"semantic_type\": \"\",\n        \"description\": \"\"\n      }\n    }\n  ]\n}"
            }
          },
          "metadata": {},
          "execution_count": 12
        }
      ]
    },
    {
      "cell_type": "code",
      "source": [
        "# Crear una nueva columna Promedio\n",
        "df['Promedio'] =  df[['Matemáticas', 'Lengua']].mean(axis =  1)\n",
        "print(df)"
      ],
      "metadata": {
        "colab": {
          "base_uri": "https://localhost:8080/"
        },
        "id": "oyZ9N2HiXSi4",
        "outputId": "f6a14f05-af62-4d8f-9f22-6f9bbef6bdd2"
      },
      "execution_count": null,
      "outputs": [
        {
          "output_type": "stream",
          "name": "stdout",
          "text": [
            "  Estudiante Curso  Matemáticas  Lengua  Ciencias  Promedio\n",
            "0       Juan     A            8       7         6       7.5\n",
            "1      María     A            9       9         8       9.0\n",
            "2      Pedro     B            6       8         7       7.0\n",
            "3        Ana     B            7       6         5       6.5\n",
            "4       Luis     A            8       8         6       8.0\n",
            "5      Sofía     A            9       7         8       8.0\n",
            "6     Carlos     B            5       6         4       5.5\n",
            "7      Elena     B            6       7         6       6.5\n"
          ]
        }
      ]
    },
    {
      "cell_type": "code",
      "source": [
        "# Crear DataFrame con curso\n",
        "data_con_curso = {\n",
        "    'Estudiante': ['Juan', 'María', 'Pedro', 'Ana', 'Luis'],\n",
        "    'Curso': ['A', 'A', 'B', 'B', 'A'],\n",
        "    'Matemáticas': [8, 9, 6, 7, 8],\n",
        "    'Lengua': [7, 9, 8, 6, 8]\n",
        "}\n",
        "df_curso = pd.DataFrame(data_con_curso)\n",
        "df_curso"
      ],
      "metadata": {
        "colab": {
          "base_uri": "https://localhost:8080/",
          "height": 206
        },
        "id": "mhO9-w1lXf5K",
        "outputId": "3f53289c-c02f-4e8c-be8f-6c2aa921134f"
      },
      "execution_count": null,
      "outputs": [
        {
          "output_type": "execute_result",
          "data": {
            "text/plain": [
              "  Estudiante Curso  Matemáticas  Lengua\n",
              "0       Juan     A            8       7\n",
              "1      María     A            9       9\n",
              "2      Pedro     B            6       8\n",
              "3        Ana     B            7       6\n",
              "4       Luis     A            8       8"
            ],
            "text/html": [
              "\n",
              "  <div id=\"df-272e3c0a-6b6b-43fa-9d3a-348076358542\" class=\"colab-df-container\">\n",
              "    <div>\n",
              "<style scoped>\n",
              "    .dataframe tbody tr th:only-of-type {\n",
              "        vertical-align: middle;\n",
              "    }\n",
              "\n",
              "    .dataframe tbody tr th {\n",
              "        vertical-align: top;\n",
              "    }\n",
              "\n",
              "    .dataframe thead th {\n",
              "        text-align: right;\n",
              "    }\n",
              "</style>\n",
              "<table border=\"1\" class=\"dataframe\">\n",
              "  <thead>\n",
              "    <tr style=\"text-align: right;\">\n",
              "      <th></th>\n",
              "      <th>Estudiante</th>\n",
              "      <th>Curso</th>\n",
              "      <th>Matemáticas</th>\n",
              "      <th>Lengua</th>\n",
              "    </tr>\n",
              "  </thead>\n",
              "  <tbody>\n",
              "    <tr>\n",
              "      <th>0</th>\n",
              "      <td>Juan</td>\n",
              "      <td>A</td>\n",
              "      <td>8</td>\n",
              "      <td>7</td>\n",
              "    </tr>\n",
              "    <tr>\n",
              "      <th>1</th>\n",
              "      <td>María</td>\n",
              "      <td>A</td>\n",
              "      <td>9</td>\n",
              "      <td>9</td>\n",
              "    </tr>\n",
              "    <tr>\n",
              "      <th>2</th>\n",
              "      <td>Pedro</td>\n",
              "      <td>B</td>\n",
              "      <td>6</td>\n",
              "      <td>8</td>\n",
              "    </tr>\n",
              "    <tr>\n",
              "      <th>3</th>\n",
              "      <td>Ana</td>\n",
              "      <td>B</td>\n",
              "      <td>7</td>\n",
              "      <td>6</td>\n",
              "    </tr>\n",
              "    <tr>\n",
              "      <th>4</th>\n",
              "      <td>Luis</td>\n",
              "      <td>A</td>\n",
              "      <td>8</td>\n",
              "      <td>8</td>\n",
              "    </tr>\n",
              "  </tbody>\n",
              "</table>\n",
              "</div>\n",
              "    <div class=\"colab-df-buttons\">\n",
              "\n",
              "  <div class=\"colab-df-container\">\n",
              "    <button class=\"colab-df-convert\" onclick=\"convertToInteractive('df-272e3c0a-6b6b-43fa-9d3a-348076358542')\"\n",
              "            title=\"Convert this dataframe to an interactive table.\"\n",
              "            style=\"display:none;\">\n",
              "\n",
              "  <svg xmlns=\"http://www.w3.org/2000/svg\" height=\"24px\" viewBox=\"0 -960 960 960\">\n",
              "    <path d=\"M120-120v-720h720v720H120Zm60-500h600v-160H180v160Zm220 220h160v-160H400v160Zm0 220h160v-160H400v160ZM180-400h160v-160H180v160Zm440 0h160v-160H620v160ZM180-180h160v-160H180v160Zm440 0h160v-160H620v160Z\"/>\n",
              "  </svg>\n",
              "    </button>\n",
              "\n",
              "  <style>\n",
              "    .colab-df-container {\n",
              "      display:flex;\n",
              "      gap: 12px;\n",
              "    }\n",
              "\n",
              "    .colab-df-convert {\n",
              "      background-color: #E8F0FE;\n",
              "      border: none;\n",
              "      border-radius: 50%;\n",
              "      cursor: pointer;\n",
              "      display: none;\n",
              "      fill: #1967D2;\n",
              "      height: 32px;\n",
              "      padding: 0 0 0 0;\n",
              "      width: 32px;\n",
              "    }\n",
              "\n",
              "    .colab-df-convert:hover {\n",
              "      background-color: #E2EBFA;\n",
              "      box-shadow: 0px 1px 2px rgba(60, 64, 67, 0.3), 0px 1px 3px 1px rgba(60, 64, 67, 0.15);\n",
              "      fill: #174EA6;\n",
              "    }\n",
              "\n",
              "    .colab-df-buttons div {\n",
              "      margin-bottom: 4px;\n",
              "    }\n",
              "\n",
              "    [theme=dark] .colab-df-convert {\n",
              "      background-color: #3B4455;\n",
              "      fill: #D2E3FC;\n",
              "    }\n",
              "\n",
              "    [theme=dark] .colab-df-convert:hover {\n",
              "      background-color: #434B5C;\n",
              "      box-shadow: 0px 1px 3px 1px rgba(0, 0, 0, 0.15);\n",
              "      filter: drop-shadow(0px 1px 2px rgba(0, 0, 0, 0.3));\n",
              "      fill: #FFFFFF;\n",
              "    }\n",
              "  </style>\n",
              "\n",
              "    <script>\n",
              "      const buttonEl =\n",
              "        document.querySelector('#df-272e3c0a-6b6b-43fa-9d3a-348076358542 button.colab-df-convert');\n",
              "      buttonEl.style.display =\n",
              "        google.colab.kernel.accessAllowed ? 'block' : 'none';\n",
              "\n",
              "      async function convertToInteractive(key) {\n",
              "        const element = document.querySelector('#df-272e3c0a-6b6b-43fa-9d3a-348076358542');\n",
              "        const dataTable =\n",
              "          await google.colab.kernel.invokeFunction('convertToInteractive',\n",
              "                                                    [key], {});\n",
              "        if (!dataTable) return;\n",
              "\n",
              "        const docLinkHtml = 'Like what you see? Visit the ' +\n",
              "          '<a target=\"_blank\" href=https://colab.research.google.com/notebooks/data_table.ipynb>data table notebook</a>'\n",
              "          + ' to learn more about interactive tables.';\n",
              "        element.innerHTML = '';\n",
              "        dataTable['output_type'] = 'display_data';\n",
              "        await google.colab.output.renderOutput(dataTable, element);\n",
              "        const docLink = document.createElement('div');\n",
              "        docLink.innerHTML = docLinkHtml;\n",
              "        element.appendChild(docLink);\n",
              "      }\n",
              "    </script>\n",
              "  </div>\n",
              "\n",
              "\n",
              "    <div id=\"df-5259306a-3edc-45c7-9b5b-f2c5b8d17f92\">\n",
              "      <button class=\"colab-df-quickchart\" onclick=\"quickchart('df-5259306a-3edc-45c7-9b5b-f2c5b8d17f92')\"\n",
              "                title=\"Suggest charts\"\n",
              "                style=\"display:none;\">\n",
              "\n",
              "<svg xmlns=\"http://www.w3.org/2000/svg\" height=\"24px\"viewBox=\"0 0 24 24\"\n",
              "     width=\"24px\">\n",
              "    <g>\n",
              "        <path d=\"M19 3H5c-1.1 0-2 .9-2 2v14c0 1.1.9 2 2 2h14c1.1 0 2-.9 2-2V5c0-1.1-.9-2-2-2zM9 17H7v-7h2v7zm4 0h-2V7h2v10zm4 0h-2v-4h2v4z\"/>\n",
              "    </g>\n",
              "</svg>\n",
              "      </button>\n",
              "\n",
              "<style>\n",
              "  .colab-df-quickchart {\n",
              "      --bg-color: #E8F0FE;\n",
              "      --fill-color: #1967D2;\n",
              "      --hover-bg-color: #E2EBFA;\n",
              "      --hover-fill-color: #174EA6;\n",
              "      --disabled-fill-color: #AAA;\n",
              "      --disabled-bg-color: #DDD;\n",
              "  }\n",
              "\n",
              "  [theme=dark] .colab-df-quickchart {\n",
              "      --bg-color: #3B4455;\n",
              "      --fill-color: #D2E3FC;\n",
              "      --hover-bg-color: #434B5C;\n",
              "      --hover-fill-color: #FFFFFF;\n",
              "      --disabled-bg-color: #3B4455;\n",
              "      --disabled-fill-color: #666;\n",
              "  }\n",
              "\n",
              "  .colab-df-quickchart {\n",
              "    background-color: var(--bg-color);\n",
              "    border: none;\n",
              "    border-radius: 50%;\n",
              "    cursor: pointer;\n",
              "    display: none;\n",
              "    fill: var(--fill-color);\n",
              "    height: 32px;\n",
              "    padding: 0;\n",
              "    width: 32px;\n",
              "  }\n",
              "\n",
              "  .colab-df-quickchart:hover {\n",
              "    background-color: var(--hover-bg-color);\n",
              "    box-shadow: 0 1px 2px rgba(60, 64, 67, 0.3), 0 1px 3px 1px rgba(60, 64, 67, 0.15);\n",
              "    fill: var(--button-hover-fill-color);\n",
              "  }\n",
              "\n",
              "  .colab-df-quickchart-complete:disabled,\n",
              "  .colab-df-quickchart-complete:disabled:hover {\n",
              "    background-color: var(--disabled-bg-color);\n",
              "    fill: var(--disabled-fill-color);\n",
              "    box-shadow: none;\n",
              "  }\n",
              "\n",
              "  .colab-df-spinner {\n",
              "    border: 2px solid var(--fill-color);\n",
              "    border-color: transparent;\n",
              "    border-bottom-color: var(--fill-color);\n",
              "    animation:\n",
              "      spin 1s steps(1) infinite;\n",
              "  }\n",
              "\n",
              "  @keyframes spin {\n",
              "    0% {\n",
              "      border-color: transparent;\n",
              "      border-bottom-color: var(--fill-color);\n",
              "      border-left-color: var(--fill-color);\n",
              "    }\n",
              "    20% {\n",
              "      border-color: transparent;\n",
              "      border-left-color: var(--fill-color);\n",
              "      border-top-color: var(--fill-color);\n",
              "    }\n",
              "    30% {\n",
              "      border-color: transparent;\n",
              "      border-left-color: var(--fill-color);\n",
              "      border-top-color: var(--fill-color);\n",
              "      border-right-color: var(--fill-color);\n",
              "    }\n",
              "    40% {\n",
              "      border-color: transparent;\n",
              "      border-right-color: var(--fill-color);\n",
              "      border-top-color: var(--fill-color);\n",
              "    }\n",
              "    60% {\n",
              "      border-color: transparent;\n",
              "      border-right-color: var(--fill-color);\n",
              "    }\n",
              "    80% {\n",
              "      border-color: transparent;\n",
              "      border-right-color: var(--fill-color);\n",
              "      border-bottom-color: var(--fill-color);\n",
              "    }\n",
              "    90% {\n",
              "      border-color: transparent;\n",
              "      border-bottom-color: var(--fill-color);\n",
              "    }\n",
              "  }\n",
              "</style>\n",
              "\n",
              "      <script>\n",
              "        async function quickchart(key) {\n",
              "          const quickchartButtonEl =\n",
              "            document.querySelector('#' + key + ' button');\n",
              "          quickchartButtonEl.disabled = true;  // To prevent multiple clicks.\n",
              "          quickchartButtonEl.classList.add('colab-df-spinner');\n",
              "          try {\n",
              "            const charts = await google.colab.kernel.invokeFunction(\n",
              "                'suggestCharts', [key], {});\n",
              "          } catch (error) {\n",
              "            console.error('Error during call to suggestCharts:', error);\n",
              "          }\n",
              "          quickchartButtonEl.classList.remove('colab-df-spinner');\n",
              "          quickchartButtonEl.classList.add('colab-df-quickchart-complete');\n",
              "        }\n",
              "        (() => {\n",
              "          let quickchartButtonEl =\n",
              "            document.querySelector('#df-5259306a-3edc-45c7-9b5b-f2c5b8d17f92 button');\n",
              "          quickchartButtonEl.style.display =\n",
              "            google.colab.kernel.accessAllowed ? 'block' : 'none';\n",
              "        })();\n",
              "      </script>\n",
              "    </div>\n",
              "\n",
              "  <div id=\"id_9f1913d4-8937-434e-adb2-132680c46b65\">\n",
              "    <style>\n",
              "      .colab-df-generate {\n",
              "        background-color: #E8F0FE;\n",
              "        border: none;\n",
              "        border-radius: 50%;\n",
              "        cursor: pointer;\n",
              "        display: none;\n",
              "        fill: #1967D2;\n",
              "        height: 32px;\n",
              "        padding: 0 0 0 0;\n",
              "        width: 32px;\n",
              "      }\n",
              "\n",
              "      .colab-df-generate:hover {\n",
              "        background-color: #E2EBFA;\n",
              "        box-shadow: 0px 1px 2px rgba(60, 64, 67, 0.3), 0px 1px 3px 1px rgba(60, 64, 67, 0.15);\n",
              "        fill: #174EA6;\n",
              "      }\n",
              "\n",
              "      [theme=dark] .colab-df-generate {\n",
              "        background-color: #3B4455;\n",
              "        fill: #D2E3FC;\n",
              "      }\n",
              "\n",
              "      [theme=dark] .colab-df-generate:hover {\n",
              "        background-color: #434B5C;\n",
              "        box-shadow: 0px 1px 3px 1px rgba(0, 0, 0, 0.15);\n",
              "        filter: drop-shadow(0px 1px 2px rgba(0, 0, 0, 0.3));\n",
              "        fill: #FFFFFF;\n",
              "      }\n",
              "    </style>\n",
              "    <button class=\"colab-df-generate\" onclick=\"generateWithVariable('df_curso')\"\n",
              "            title=\"Generate code using this dataframe.\"\n",
              "            style=\"display:none;\">\n",
              "\n",
              "  <svg xmlns=\"http://www.w3.org/2000/svg\" height=\"24px\"viewBox=\"0 0 24 24\"\n",
              "       width=\"24px\">\n",
              "    <path d=\"M7,19H8.4L18.45,9,17,7.55,7,17.6ZM5,21V16.75L18.45,3.32a2,2,0,0,1,2.83,0l1.4,1.43a1.91,1.91,0,0,1,.58,1.4,1.91,1.91,0,0,1-.58,1.4L9.25,21ZM18.45,9,17,7.55Zm-12,3A5.31,5.31,0,0,0,4.9,8.1,5.31,5.31,0,0,0,1,6.5,5.31,5.31,0,0,0,4.9,4.9,5.31,5.31,0,0,0,6.5,1,5.31,5.31,0,0,0,8.1,4.9,5.31,5.31,0,0,0,12,6.5,5.46,5.46,0,0,0,6.5,12Z\"/>\n",
              "  </svg>\n",
              "    </button>\n",
              "    <script>\n",
              "      (() => {\n",
              "      const buttonEl =\n",
              "        document.querySelector('#id_9f1913d4-8937-434e-adb2-132680c46b65 button.colab-df-generate');\n",
              "      buttonEl.style.display =\n",
              "        google.colab.kernel.accessAllowed ? 'block' : 'none';\n",
              "\n",
              "      buttonEl.onclick = () => {\n",
              "        google.colab.notebook.generateWithVariable('df_curso');\n",
              "      }\n",
              "      })();\n",
              "    </script>\n",
              "  </div>\n",
              "\n",
              "    </div>\n",
              "  </div>\n"
            ],
            "application/vnd.google.colaboratory.intrinsic+json": {
              "type": "dataframe",
              "variable_name": "df_curso",
              "summary": "{\n  \"name\": \"df_curso\",\n  \"rows\": 5,\n  \"fields\": [\n    {\n      \"column\": \"Estudiante\",\n      \"properties\": {\n        \"dtype\": \"string\",\n        \"num_unique_values\": 5,\n        \"samples\": [\n          \"Mar\\u00eda\",\n          \"Luis\",\n          \"Pedro\"\n        ],\n        \"semantic_type\": \"\",\n        \"description\": \"\"\n      }\n    },\n    {\n      \"column\": \"Curso\",\n      \"properties\": {\n        \"dtype\": \"category\",\n        \"num_unique_values\": 2,\n        \"samples\": [\n          \"B\",\n          \"A\"\n        ],\n        \"semantic_type\": \"\",\n        \"description\": \"\"\n      }\n    },\n    {\n      \"column\": \"Matem\\u00e1ticas\",\n      \"properties\": {\n        \"dtype\": \"number\",\n        \"std\": 1,\n        \"min\": 6,\n        \"max\": 9,\n        \"num_unique_values\": 4,\n        \"samples\": [\n          9,\n          7\n        ],\n        \"semantic_type\": \"\",\n        \"description\": \"\"\n      }\n    },\n    {\n      \"column\": \"Lengua\",\n      \"properties\": {\n        \"dtype\": \"number\",\n        \"std\": 1,\n        \"min\": 6,\n        \"max\": 9,\n        \"num_unique_values\": 4,\n        \"samples\": [\n          9,\n          6\n        ],\n        \"semantic_type\": \"\",\n        \"description\": \"\"\n      }\n    }\n  ]\n}"
            }
          },
          "metadata": {},
          "execution_count": 15
        }
      ]
    },
    {
      "cell_type": "code",
      "source": [
        "# Agrupar por curso y calcular el promedio por asignatura solo para las columnas númericas\n",
        "promedios_curso =  df_curso.groupby('Curso').agg({\n",
        "    'Matemáticas': 'mean',\n",
        "    'Lengua': 'mean'\n",
        "}\n",
        ")\n",
        "\n",
        "# Mostrar los promedio por curso\n",
        "promedios_curso = df_curso.groupby('Curso').agg({\n",
        "    'Matemáticas': 'mean',\n",
        "    'Lengua': 'mean'\n",
        "}\n",
        ")\n",
        "promedios_curso"
      ],
      "metadata": {
        "colab": {
          "base_uri": "https://localhost:8080/",
          "height": 144
        },
        "id": "-0Wy9fY0XiXx",
        "outputId": "903f6569-5f4b-4335-ec55-759c6b6a1214"
      },
      "execution_count": null,
      "outputs": [
        {
          "output_type": "execute_result",
          "data": {
            "text/plain": [
              "       Matemáticas  Lengua\n",
              "Curso                     \n",
              "A         8.333333     8.0\n",
              "B         6.500000     7.0"
            ],
            "text/html": [
              "\n",
              "  <div id=\"df-c607deb1-ff0d-4605-9f4c-e5c2daccdc17\" class=\"colab-df-container\">\n",
              "    <div>\n",
              "<style scoped>\n",
              "    .dataframe tbody tr th:only-of-type {\n",
              "        vertical-align: middle;\n",
              "    }\n",
              "\n",
              "    .dataframe tbody tr th {\n",
              "        vertical-align: top;\n",
              "    }\n",
              "\n",
              "    .dataframe thead th {\n",
              "        text-align: right;\n",
              "    }\n",
              "</style>\n",
              "<table border=\"1\" class=\"dataframe\">\n",
              "  <thead>\n",
              "    <tr style=\"text-align: right;\">\n",
              "      <th></th>\n",
              "      <th>Matemáticas</th>\n",
              "      <th>Lengua</th>\n",
              "    </tr>\n",
              "    <tr>\n",
              "      <th>Curso</th>\n",
              "      <th></th>\n",
              "      <th></th>\n",
              "    </tr>\n",
              "  </thead>\n",
              "  <tbody>\n",
              "    <tr>\n",
              "      <th>A</th>\n",
              "      <td>8.333333</td>\n",
              "      <td>8.0</td>\n",
              "    </tr>\n",
              "    <tr>\n",
              "      <th>B</th>\n",
              "      <td>6.500000</td>\n",
              "      <td>7.0</td>\n",
              "    </tr>\n",
              "  </tbody>\n",
              "</table>\n",
              "</div>\n",
              "    <div class=\"colab-df-buttons\">\n",
              "\n",
              "  <div class=\"colab-df-container\">\n",
              "    <button class=\"colab-df-convert\" onclick=\"convertToInteractive('df-c607deb1-ff0d-4605-9f4c-e5c2daccdc17')\"\n",
              "            title=\"Convert this dataframe to an interactive table.\"\n",
              "            style=\"display:none;\">\n",
              "\n",
              "  <svg xmlns=\"http://www.w3.org/2000/svg\" height=\"24px\" viewBox=\"0 -960 960 960\">\n",
              "    <path d=\"M120-120v-720h720v720H120Zm60-500h600v-160H180v160Zm220 220h160v-160H400v160Zm0 220h160v-160H400v160ZM180-400h160v-160H180v160Zm440 0h160v-160H620v160ZM180-180h160v-160H180v160Zm440 0h160v-160H620v160Z\"/>\n",
              "  </svg>\n",
              "    </button>\n",
              "\n",
              "  <style>\n",
              "    .colab-df-container {\n",
              "      display:flex;\n",
              "      gap: 12px;\n",
              "    }\n",
              "\n",
              "    .colab-df-convert {\n",
              "      background-color: #E8F0FE;\n",
              "      border: none;\n",
              "      border-radius: 50%;\n",
              "      cursor: pointer;\n",
              "      display: none;\n",
              "      fill: #1967D2;\n",
              "      height: 32px;\n",
              "      padding: 0 0 0 0;\n",
              "      width: 32px;\n",
              "    }\n",
              "\n",
              "    .colab-df-convert:hover {\n",
              "      background-color: #E2EBFA;\n",
              "      box-shadow: 0px 1px 2px rgba(60, 64, 67, 0.3), 0px 1px 3px 1px rgba(60, 64, 67, 0.15);\n",
              "      fill: #174EA6;\n",
              "    }\n",
              "\n",
              "    .colab-df-buttons div {\n",
              "      margin-bottom: 4px;\n",
              "    }\n",
              "\n",
              "    [theme=dark] .colab-df-convert {\n",
              "      background-color: #3B4455;\n",
              "      fill: #D2E3FC;\n",
              "    }\n",
              "\n",
              "    [theme=dark] .colab-df-convert:hover {\n",
              "      background-color: #434B5C;\n",
              "      box-shadow: 0px 1px 3px 1px rgba(0, 0, 0, 0.15);\n",
              "      filter: drop-shadow(0px 1px 2px rgba(0, 0, 0, 0.3));\n",
              "      fill: #FFFFFF;\n",
              "    }\n",
              "  </style>\n",
              "\n",
              "    <script>\n",
              "      const buttonEl =\n",
              "        document.querySelector('#df-c607deb1-ff0d-4605-9f4c-e5c2daccdc17 button.colab-df-convert');\n",
              "      buttonEl.style.display =\n",
              "        google.colab.kernel.accessAllowed ? 'block' : 'none';\n",
              "\n",
              "      async function convertToInteractive(key) {\n",
              "        const element = document.querySelector('#df-c607deb1-ff0d-4605-9f4c-e5c2daccdc17');\n",
              "        const dataTable =\n",
              "          await google.colab.kernel.invokeFunction('convertToInteractive',\n",
              "                                                    [key], {});\n",
              "        if (!dataTable) return;\n",
              "\n",
              "        const docLinkHtml = 'Like what you see? Visit the ' +\n",
              "          '<a target=\"_blank\" href=https://colab.research.google.com/notebooks/data_table.ipynb>data table notebook</a>'\n",
              "          + ' to learn more about interactive tables.';\n",
              "        element.innerHTML = '';\n",
              "        dataTable['output_type'] = 'display_data';\n",
              "        await google.colab.output.renderOutput(dataTable, element);\n",
              "        const docLink = document.createElement('div');\n",
              "        docLink.innerHTML = docLinkHtml;\n",
              "        element.appendChild(docLink);\n",
              "      }\n",
              "    </script>\n",
              "  </div>\n",
              "\n",
              "\n",
              "    <div id=\"df-6e25cb44-f1b3-475a-896c-367db1100c5b\">\n",
              "      <button class=\"colab-df-quickchart\" onclick=\"quickchart('df-6e25cb44-f1b3-475a-896c-367db1100c5b')\"\n",
              "                title=\"Suggest charts\"\n",
              "                style=\"display:none;\">\n",
              "\n",
              "<svg xmlns=\"http://www.w3.org/2000/svg\" height=\"24px\"viewBox=\"0 0 24 24\"\n",
              "     width=\"24px\">\n",
              "    <g>\n",
              "        <path d=\"M19 3H5c-1.1 0-2 .9-2 2v14c0 1.1.9 2 2 2h14c1.1 0 2-.9 2-2V5c0-1.1-.9-2-2-2zM9 17H7v-7h2v7zm4 0h-2V7h2v10zm4 0h-2v-4h2v4z\"/>\n",
              "    </g>\n",
              "</svg>\n",
              "      </button>\n",
              "\n",
              "<style>\n",
              "  .colab-df-quickchart {\n",
              "      --bg-color: #E8F0FE;\n",
              "      --fill-color: #1967D2;\n",
              "      --hover-bg-color: #E2EBFA;\n",
              "      --hover-fill-color: #174EA6;\n",
              "      --disabled-fill-color: #AAA;\n",
              "      --disabled-bg-color: #DDD;\n",
              "  }\n",
              "\n",
              "  [theme=dark] .colab-df-quickchart {\n",
              "      --bg-color: #3B4455;\n",
              "      --fill-color: #D2E3FC;\n",
              "      --hover-bg-color: #434B5C;\n",
              "      --hover-fill-color: #FFFFFF;\n",
              "      --disabled-bg-color: #3B4455;\n",
              "      --disabled-fill-color: #666;\n",
              "  }\n",
              "\n",
              "  .colab-df-quickchart {\n",
              "    background-color: var(--bg-color);\n",
              "    border: none;\n",
              "    border-radius: 50%;\n",
              "    cursor: pointer;\n",
              "    display: none;\n",
              "    fill: var(--fill-color);\n",
              "    height: 32px;\n",
              "    padding: 0;\n",
              "    width: 32px;\n",
              "  }\n",
              "\n",
              "  .colab-df-quickchart:hover {\n",
              "    background-color: var(--hover-bg-color);\n",
              "    box-shadow: 0 1px 2px rgba(60, 64, 67, 0.3), 0 1px 3px 1px rgba(60, 64, 67, 0.15);\n",
              "    fill: var(--button-hover-fill-color);\n",
              "  }\n",
              "\n",
              "  .colab-df-quickchart-complete:disabled,\n",
              "  .colab-df-quickchart-complete:disabled:hover {\n",
              "    background-color: var(--disabled-bg-color);\n",
              "    fill: var(--disabled-fill-color);\n",
              "    box-shadow: none;\n",
              "  }\n",
              "\n",
              "  .colab-df-spinner {\n",
              "    border: 2px solid var(--fill-color);\n",
              "    border-color: transparent;\n",
              "    border-bottom-color: var(--fill-color);\n",
              "    animation:\n",
              "      spin 1s steps(1) infinite;\n",
              "  }\n",
              "\n",
              "  @keyframes spin {\n",
              "    0% {\n",
              "      border-color: transparent;\n",
              "      border-bottom-color: var(--fill-color);\n",
              "      border-left-color: var(--fill-color);\n",
              "    }\n",
              "    20% {\n",
              "      border-color: transparent;\n",
              "      border-left-color: var(--fill-color);\n",
              "      border-top-color: var(--fill-color);\n",
              "    }\n",
              "    30% {\n",
              "      border-color: transparent;\n",
              "      border-left-color: var(--fill-color);\n",
              "      border-top-color: var(--fill-color);\n",
              "      border-right-color: var(--fill-color);\n",
              "    }\n",
              "    40% {\n",
              "      border-color: transparent;\n",
              "      border-right-color: var(--fill-color);\n",
              "      border-top-color: var(--fill-color);\n",
              "    }\n",
              "    60% {\n",
              "      border-color: transparent;\n",
              "      border-right-color: var(--fill-color);\n",
              "    }\n",
              "    80% {\n",
              "      border-color: transparent;\n",
              "      border-right-color: var(--fill-color);\n",
              "      border-bottom-color: var(--fill-color);\n",
              "    }\n",
              "    90% {\n",
              "      border-color: transparent;\n",
              "      border-bottom-color: var(--fill-color);\n",
              "    }\n",
              "  }\n",
              "</style>\n",
              "\n",
              "      <script>\n",
              "        async function quickchart(key) {\n",
              "          const quickchartButtonEl =\n",
              "            document.querySelector('#' + key + ' button');\n",
              "          quickchartButtonEl.disabled = true;  // To prevent multiple clicks.\n",
              "          quickchartButtonEl.classList.add('colab-df-spinner');\n",
              "          try {\n",
              "            const charts = await google.colab.kernel.invokeFunction(\n",
              "                'suggestCharts', [key], {});\n",
              "          } catch (error) {\n",
              "            console.error('Error during call to suggestCharts:', error);\n",
              "          }\n",
              "          quickchartButtonEl.classList.remove('colab-df-spinner');\n",
              "          quickchartButtonEl.classList.add('colab-df-quickchart-complete');\n",
              "        }\n",
              "        (() => {\n",
              "          let quickchartButtonEl =\n",
              "            document.querySelector('#df-6e25cb44-f1b3-475a-896c-367db1100c5b button');\n",
              "          quickchartButtonEl.style.display =\n",
              "            google.colab.kernel.accessAllowed ? 'block' : 'none';\n",
              "        })();\n",
              "      </script>\n",
              "    </div>\n",
              "\n",
              "  <div id=\"id_963f56cd-6ddf-4951-9e52-3f57a098fdbd\">\n",
              "    <style>\n",
              "      .colab-df-generate {\n",
              "        background-color: #E8F0FE;\n",
              "        border: none;\n",
              "        border-radius: 50%;\n",
              "        cursor: pointer;\n",
              "        display: none;\n",
              "        fill: #1967D2;\n",
              "        height: 32px;\n",
              "        padding: 0 0 0 0;\n",
              "        width: 32px;\n",
              "      }\n",
              "\n",
              "      .colab-df-generate:hover {\n",
              "        background-color: #E2EBFA;\n",
              "        box-shadow: 0px 1px 2px rgba(60, 64, 67, 0.3), 0px 1px 3px 1px rgba(60, 64, 67, 0.15);\n",
              "        fill: #174EA6;\n",
              "      }\n",
              "\n",
              "      [theme=dark] .colab-df-generate {\n",
              "        background-color: #3B4455;\n",
              "        fill: #D2E3FC;\n",
              "      }\n",
              "\n",
              "      [theme=dark] .colab-df-generate:hover {\n",
              "        background-color: #434B5C;\n",
              "        box-shadow: 0px 1px 3px 1px rgba(0, 0, 0, 0.15);\n",
              "        filter: drop-shadow(0px 1px 2px rgba(0, 0, 0, 0.3));\n",
              "        fill: #FFFFFF;\n",
              "      }\n",
              "    </style>\n",
              "    <button class=\"colab-df-generate\" onclick=\"generateWithVariable('promedios_curso')\"\n",
              "            title=\"Generate code using this dataframe.\"\n",
              "            style=\"display:none;\">\n",
              "\n",
              "  <svg xmlns=\"http://www.w3.org/2000/svg\" height=\"24px\"viewBox=\"0 0 24 24\"\n",
              "       width=\"24px\">\n",
              "    <path d=\"M7,19H8.4L18.45,9,17,7.55,7,17.6ZM5,21V16.75L18.45,3.32a2,2,0,0,1,2.83,0l1.4,1.43a1.91,1.91,0,0,1,.58,1.4,1.91,1.91,0,0,1-.58,1.4L9.25,21ZM18.45,9,17,7.55Zm-12,3A5.31,5.31,0,0,0,4.9,8.1,5.31,5.31,0,0,0,1,6.5,5.31,5.31,0,0,0,4.9,4.9,5.31,5.31,0,0,0,6.5,1,5.31,5.31,0,0,0,8.1,4.9,5.31,5.31,0,0,0,12,6.5,5.46,5.46,0,0,0,6.5,12Z\"/>\n",
              "  </svg>\n",
              "    </button>\n",
              "    <script>\n",
              "      (() => {\n",
              "      const buttonEl =\n",
              "        document.querySelector('#id_963f56cd-6ddf-4951-9e52-3f57a098fdbd button.colab-df-generate');\n",
              "      buttonEl.style.display =\n",
              "        google.colab.kernel.accessAllowed ? 'block' : 'none';\n",
              "\n",
              "      buttonEl.onclick = () => {\n",
              "        google.colab.notebook.generateWithVariable('promedios_curso');\n",
              "      }\n",
              "      })();\n",
              "    </script>\n",
              "  </div>\n",
              "\n",
              "    </div>\n",
              "  </div>\n"
            ],
            "application/vnd.google.colaboratory.intrinsic+json": {
              "type": "dataframe",
              "variable_name": "promedios_curso",
              "summary": "{\n  \"name\": \"promedios_curso\",\n  \"rows\": 2,\n  \"fields\": [\n    {\n      \"column\": \"Curso\",\n      \"properties\": {\n        \"dtype\": \"string\",\n        \"num_unique_values\": 2,\n        \"samples\": [\n          \"B\",\n          \"A\"\n        ],\n        \"semantic_type\": \"\",\n        \"description\": \"\"\n      }\n    },\n    {\n      \"column\": \"Matem\\u00e1ticas\",\n      \"properties\": {\n        \"dtype\": \"number\",\n        \"std\": 1.2963624321753375,\n        \"min\": 6.5,\n        \"max\": 8.333333333333334,\n        \"num_unique_values\": 2,\n        \"samples\": [\n          6.5,\n          8.333333333333334\n        ],\n        \"semantic_type\": \"\",\n        \"description\": \"\"\n      }\n    },\n    {\n      \"column\": \"Lengua\",\n      \"properties\": {\n        \"dtype\": \"number\",\n        \"std\": 0.7071067811865476,\n        \"min\": 7.0,\n        \"max\": 8.0,\n        \"num_unique_values\": 2,\n        \"samples\": [\n          7.0,\n          8.0\n        ],\n        \"semantic_type\": \"\",\n        \"description\": \"\"\n      }\n    }\n  ]\n}"
            }
          },
          "metadata": {},
          "execution_count": 16
        }
      ]
    },
    {
      "cell_type": "code",
      "source": [
        "# Ordernar por promedoo de mayor a menor\n",
        "df_sorted =  df.sort_values(by  = 'Promedio', ascending =  False)\n",
        "df_sorted"
      ],
      "metadata": {
        "colab": {
          "base_uri": "https://localhost:8080/",
          "height": 300
        },
        "id": "GH6prAGkXh4G",
        "outputId": "bd33e034-e3f7-46cf-fd7a-ee4a4d68cb86"
      },
      "execution_count": null,
      "outputs": [
        {
          "output_type": "execute_result",
          "data": {
            "text/plain": [
              "  Estudiante Curso  Matemáticas  Lengua  Ciencias  Promedio\n",
              "1      María     A            9       9         8       9.0\n",
              "4       Luis     A            8       8         6       8.0\n",
              "5      Sofía     A            9       7         8       8.0\n",
              "0       Juan     A            8       7         6       7.5\n",
              "2      Pedro     B            6       8         7       7.0\n",
              "3        Ana     B            7       6         5       6.5\n",
              "7      Elena     B            6       7         6       6.5\n",
              "6     Carlos     B            5       6         4       5.5"
            ],
            "text/html": [
              "\n",
              "  <div id=\"df-8faf8e8f-f54a-4e8a-ab86-5dce0d94162f\" class=\"colab-df-container\">\n",
              "    <div>\n",
              "<style scoped>\n",
              "    .dataframe tbody tr th:only-of-type {\n",
              "        vertical-align: middle;\n",
              "    }\n",
              "\n",
              "    .dataframe tbody tr th {\n",
              "        vertical-align: top;\n",
              "    }\n",
              "\n",
              "    .dataframe thead th {\n",
              "        text-align: right;\n",
              "    }\n",
              "</style>\n",
              "<table border=\"1\" class=\"dataframe\">\n",
              "  <thead>\n",
              "    <tr style=\"text-align: right;\">\n",
              "      <th></th>\n",
              "      <th>Estudiante</th>\n",
              "      <th>Curso</th>\n",
              "      <th>Matemáticas</th>\n",
              "      <th>Lengua</th>\n",
              "      <th>Ciencias</th>\n",
              "      <th>Promedio</th>\n",
              "    </tr>\n",
              "  </thead>\n",
              "  <tbody>\n",
              "    <tr>\n",
              "      <th>1</th>\n",
              "      <td>María</td>\n",
              "      <td>A</td>\n",
              "      <td>9</td>\n",
              "      <td>9</td>\n",
              "      <td>8</td>\n",
              "      <td>9.0</td>\n",
              "    </tr>\n",
              "    <tr>\n",
              "      <th>4</th>\n",
              "      <td>Luis</td>\n",
              "      <td>A</td>\n",
              "      <td>8</td>\n",
              "      <td>8</td>\n",
              "      <td>6</td>\n",
              "      <td>8.0</td>\n",
              "    </tr>\n",
              "    <tr>\n",
              "      <th>5</th>\n",
              "      <td>Sofía</td>\n",
              "      <td>A</td>\n",
              "      <td>9</td>\n",
              "      <td>7</td>\n",
              "      <td>8</td>\n",
              "      <td>8.0</td>\n",
              "    </tr>\n",
              "    <tr>\n",
              "      <th>0</th>\n",
              "      <td>Juan</td>\n",
              "      <td>A</td>\n",
              "      <td>8</td>\n",
              "      <td>7</td>\n",
              "      <td>6</td>\n",
              "      <td>7.5</td>\n",
              "    </tr>\n",
              "    <tr>\n",
              "      <th>2</th>\n",
              "      <td>Pedro</td>\n",
              "      <td>B</td>\n",
              "      <td>6</td>\n",
              "      <td>8</td>\n",
              "      <td>7</td>\n",
              "      <td>7.0</td>\n",
              "    </tr>\n",
              "    <tr>\n",
              "      <th>3</th>\n",
              "      <td>Ana</td>\n",
              "      <td>B</td>\n",
              "      <td>7</td>\n",
              "      <td>6</td>\n",
              "      <td>5</td>\n",
              "      <td>6.5</td>\n",
              "    </tr>\n",
              "    <tr>\n",
              "      <th>7</th>\n",
              "      <td>Elena</td>\n",
              "      <td>B</td>\n",
              "      <td>6</td>\n",
              "      <td>7</td>\n",
              "      <td>6</td>\n",
              "      <td>6.5</td>\n",
              "    </tr>\n",
              "    <tr>\n",
              "      <th>6</th>\n",
              "      <td>Carlos</td>\n",
              "      <td>B</td>\n",
              "      <td>5</td>\n",
              "      <td>6</td>\n",
              "      <td>4</td>\n",
              "      <td>5.5</td>\n",
              "    </tr>\n",
              "  </tbody>\n",
              "</table>\n",
              "</div>\n",
              "    <div class=\"colab-df-buttons\">\n",
              "\n",
              "  <div class=\"colab-df-container\">\n",
              "    <button class=\"colab-df-convert\" onclick=\"convertToInteractive('df-8faf8e8f-f54a-4e8a-ab86-5dce0d94162f')\"\n",
              "            title=\"Convert this dataframe to an interactive table.\"\n",
              "            style=\"display:none;\">\n",
              "\n",
              "  <svg xmlns=\"http://www.w3.org/2000/svg\" height=\"24px\" viewBox=\"0 -960 960 960\">\n",
              "    <path d=\"M120-120v-720h720v720H120Zm60-500h600v-160H180v160Zm220 220h160v-160H400v160Zm0 220h160v-160H400v160ZM180-400h160v-160H180v160Zm440 0h160v-160H620v160ZM180-180h160v-160H180v160Zm440 0h160v-160H620v160Z\"/>\n",
              "  </svg>\n",
              "    </button>\n",
              "\n",
              "  <style>\n",
              "    .colab-df-container {\n",
              "      display:flex;\n",
              "      gap: 12px;\n",
              "    }\n",
              "\n",
              "    .colab-df-convert {\n",
              "      background-color: #E8F0FE;\n",
              "      border: none;\n",
              "      border-radius: 50%;\n",
              "      cursor: pointer;\n",
              "      display: none;\n",
              "      fill: #1967D2;\n",
              "      height: 32px;\n",
              "      padding: 0 0 0 0;\n",
              "      width: 32px;\n",
              "    }\n",
              "\n",
              "    .colab-df-convert:hover {\n",
              "      background-color: #E2EBFA;\n",
              "      box-shadow: 0px 1px 2px rgba(60, 64, 67, 0.3), 0px 1px 3px 1px rgba(60, 64, 67, 0.15);\n",
              "      fill: #174EA6;\n",
              "    }\n",
              "\n",
              "    .colab-df-buttons div {\n",
              "      margin-bottom: 4px;\n",
              "    }\n",
              "\n",
              "    [theme=dark] .colab-df-convert {\n",
              "      background-color: #3B4455;\n",
              "      fill: #D2E3FC;\n",
              "    }\n",
              "\n",
              "    [theme=dark] .colab-df-convert:hover {\n",
              "      background-color: #434B5C;\n",
              "      box-shadow: 0px 1px 3px 1px rgba(0, 0, 0, 0.15);\n",
              "      filter: drop-shadow(0px 1px 2px rgba(0, 0, 0, 0.3));\n",
              "      fill: #FFFFFF;\n",
              "    }\n",
              "  </style>\n",
              "\n",
              "    <script>\n",
              "      const buttonEl =\n",
              "        document.querySelector('#df-8faf8e8f-f54a-4e8a-ab86-5dce0d94162f button.colab-df-convert');\n",
              "      buttonEl.style.display =\n",
              "        google.colab.kernel.accessAllowed ? 'block' : 'none';\n",
              "\n",
              "      async function convertToInteractive(key) {\n",
              "        const element = document.querySelector('#df-8faf8e8f-f54a-4e8a-ab86-5dce0d94162f');\n",
              "        const dataTable =\n",
              "          await google.colab.kernel.invokeFunction('convertToInteractive',\n",
              "                                                    [key], {});\n",
              "        if (!dataTable) return;\n",
              "\n",
              "        const docLinkHtml = 'Like what you see? Visit the ' +\n",
              "          '<a target=\"_blank\" href=https://colab.research.google.com/notebooks/data_table.ipynb>data table notebook</a>'\n",
              "          + ' to learn more about interactive tables.';\n",
              "        element.innerHTML = '';\n",
              "        dataTable['output_type'] = 'display_data';\n",
              "        await google.colab.output.renderOutput(dataTable, element);\n",
              "        const docLink = document.createElement('div');\n",
              "        docLink.innerHTML = docLinkHtml;\n",
              "        element.appendChild(docLink);\n",
              "      }\n",
              "    </script>\n",
              "  </div>\n",
              "\n",
              "\n",
              "    <div id=\"df-10b93a38-29a2-48fb-a5cd-16238fdc5708\">\n",
              "      <button class=\"colab-df-quickchart\" onclick=\"quickchart('df-10b93a38-29a2-48fb-a5cd-16238fdc5708')\"\n",
              "                title=\"Suggest charts\"\n",
              "                style=\"display:none;\">\n",
              "\n",
              "<svg xmlns=\"http://www.w3.org/2000/svg\" height=\"24px\"viewBox=\"0 0 24 24\"\n",
              "     width=\"24px\">\n",
              "    <g>\n",
              "        <path d=\"M19 3H5c-1.1 0-2 .9-2 2v14c0 1.1.9 2 2 2h14c1.1 0 2-.9 2-2V5c0-1.1-.9-2-2-2zM9 17H7v-7h2v7zm4 0h-2V7h2v10zm4 0h-2v-4h2v4z\"/>\n",
              "    </g>\n",
              "</svg>\n",
              "      </button>\n",
              "\n",
              "<style>\n",
              "  .colab-df-quickchart {\n",
              "      --bg-color: #E8F0FE;\n",
              "      --fill-color: #1967D2;\n",
              "      --hover-bg-color: #E2EBFA;\n",
              "      --hover-fill-color: #174EA6;\n",
              "      --disabled-fill-color: #AAA;\n",
              "      --disabled-bg-color: #DDD;\n",
              "  }\n",
              "\n",
              "  [theme=dark] .colab-df-quickchart {\n",
              "      --bg-color: #3B4455;\n",
              "      --fill-color: #D2E3FC;\n",
              "      --hover-bg-color: #434B5C;\n",
              "      --hover-fill-color: #FFFFFF;\n",
              "      --disabled-bg-color: #3B4455;\n",
              "      --disabled-fill-color: #666;\n",
              "  }\n",
              "\n",
              "  .colab-df-quickchart {\n",
              "    background-color: var(--bg-color);\n",
              "    border: none;\n",
              "    border-radius: 50%;\n",
              "    cursor: pointer;\n",
              "    display: none;\n",
              "    fill: var(--fill-color);\n",
              "    height: 32px;\n",
              "    padding: 0;\n",
              "    width: 32px;\n",
              "  }\n",
              "\n",
              "  .colab-df-quickchart:hover {\n",
              "    background-color: var(--hover-bg-color);\n",
              "    box-shadow: 0 1px 2px rgba(60, 64, 67, 0.3), 0 1px 3px 1px rgba(60, 64, 67, 0.15);\n",
              "    fill: var(--button-hover-fill-color);\n",
              "  }\n",
              "\n",
              "  .colab-df-quickchart-complete:disabled,\n",
              "  .colab-df-quickchart-complete:disabled:hover {\n",
              "    background-color: var(--disabled-bg-color);\n",
              "    fill: var(--disabled-fill-color);\n",
              "    box-shadow: none;\n",
              "  }\n",
              "\n",
              "  .colab-df-spinner {\n",
              "    border: 2px solid var(--fill-color);\n",
              "    border-color: transparent;\n",
              "    border-bottom-color: var(--fill-color);\n",
              "    animation:\n",
              "      spin 1s steps(1) infinite;\n",
              "  }\n",
              "\n",
              "  @keyframes spin {\n",
              "    0% {\n",
              "      border-color: transparent;\n",
              "      border-bottom-color: var(--fill-color);\n",
              "      border-left-color: var(--fill-color);\n",
              "    }\n",
              "    20% {\n",
              "      border-color: transparent;\n",
              "      border-left-color: var(--fill-color);\n",
              "      border-top-color: var(--fill-color);\n",
              "    }\n",
              "    30% {\n",
              "      border-color: transparent;\n",
              "      border-left-color: var(--fill-color);\n",
              "      border-top-color: var(--fill-color);\n",
              "      border-right-color: var(--fill-color);\n",
              "    }\n",
              "    40% {\n",
              "      border-color: transparent;\n",
              "      border-right-color: var(--fill-color);\n",
              "      border-top-color: var(--fill-color);\n",
              "    }\n",
              "    60% {\n",
              "      border-color: transparent;\n",
              "      border-right-color: var(--fill-color);\n",
              "    }\n",
              "    80% {\n",
              "      border-color: transparent;\n",
              "      border-right-color: var(--fill-color);\n",
              "      border-bottom-color: var(--fill-color);\n",
              "    }\n",
              "    90% {\n",
              "      border-color: transparent;\n",
              "      border-bottom-color: var(--fill-color);\n",
              "    }\n",
              "  }\n",
              "</style>\n",
              "\n",
              "      <script>\n",
              "        async function quickchart(key) {\n",
              "          const quickchartButtonEl =\n",
              "            document.querySelector('#' + key + ' button');\n",
              "          quickchartButtonEl.disabled = true;  // To prevent multiple clicks.\n",
              "          quickchartButtonEl.classList.add('colab-df-spinner');\n",
              "          try {\n",
              "            const charts = await google.colab.kernel.invokeFunction(\n",
              "                'suggestCharts', [key], {});\n",
              "          } catch (error) {\n",
              "            console.error('Error during call to suggestCharts:', error);\n",
              "          }\n",
              "          quickchartButtonEl.classList.remove('colab-df-spinner');\n",
              "          quickchartButtonEl.classList.add('colab-df-quickchart-complete');\n",
              "        }\n",
              "        (() => {\n",
              "          let quickchartButtonEl =\n",
              "            document.querySelector('#df-10b93a38-29a2-48fb-a5cd-16238fdc5708 button');\n",
              "          quickchartButtonEl.style.display =\n",
              "            google.colab.kernel.accessAllowed ? 'block' : 'none';\n",
              "        })();\n",
              "      </script>\n",
              "    </div>\n",
              "\n",
              "  <div id=\"id_e2aa7cc9-9674-4181-b473-60b5f7dcbba5\">\n",
              "    <style>\n",
              "      .colab-df-generate {\n",
              "        background-color: #E8F0FE;\n",
              "        border: none;\n",
              "        border-radius: 50%;\n",
              "        cursor: pointer;\n",
              "        display: none;\n",
              "        fill: #1967D2;\n",
              "        height: 32px;\n",
              "        padding: 0 0 0 0;\n",
              "        width: 32px;\n",
              "      }\n",
              "\n",
              "      .colab-df-generate:hover {\n",
              "        background-color: #E2EBFA;\n",
              "        box-shadow: 0px 1px 2px rgba(60, 64, 67, 0.3), 0px 1px 3px 1px rgba(60, 64, 67, 0.15);\n",
              "        fill: #174EA6;\n",
              "      }\n",
              "\n",
              "      [theme=dark] .colab-df-generate {\n",
              "        background-color: #3B4455;\n",
              "        fill: #D2E3FC;\n",
              "      }\n",
              "\n",
              "      [theme=dark] .colab-df-generate:hover {\n",
              "        background-color: #434B5C;\n",
              "        box-shadow: 0px 1px 3px 1px rgba(0, 0, 0, 0.15);\n",
              "        filter: drop-shadow(0px 1px 2px rgba(0, 0, 0, 0.3));\n",
              "        fill: #FFFFFF;\n",
              "      }\n",
              "    </style>\n",
              "    <button class=\"colab-df-generate\" onclick=\"generateWithVariable('df_sorted')\"\n",
              "            title=\"Generate code using this dataframe.\"\n",
              "            style=\"display:none;\">\n",
              "\n",
              "  <svg xmlns=\"http://www.w3.org/2000/svg\" height=\"24px\"viewBox=\"0 0 24 24\"\n",
              "       width=\"24px\">\n",
              "    <path d=\"M7,19H8.4L18.45,9,17,7.55,7,17.6ZM5,21V16.75L18.45,3.32a2,2,0,0,1,2.83,0l1.4,1.43a1.91,1.91,0,0,1,.58,1.4,1.91,1.91,0,0,1-.58,1.4L9.25,21ZM18.45,9,17,7.55Zm-12,3A5.31,5.31,0,0,0,4.9,8.1,5.31,5.31,0,0,0,1,6.5,5.31,5.31,0,0,0,4.9,4.9,5.31,5.31,0,0,0,6.5,1,5.31,5.31,0,0,0,8.1,4.9,5.31,5.31,0,0,0,12,6.5,5.46,5.46,0,0,0,6.5,12Z\"/>\n",
              "  </svg>\n",
              "    </button>\n",
              "    <script>\n",
              "      (() => {\n",
              "      const buttonEl =\n",
              "        document.querySelector('#id_e2aa7cc9-9674-4181-b473-60b5f7dcbba5 button.colab-df-generate');\n",
              "      buttonEl.style.display =\n",
              "        google.colab.kernel.accessAllowed ? 'block' : 'none';\n",
              "\n",
              "      buttonEl.onclick = () => {\n",
              "        google.colab.notebook.generateWithVariable('df_sorted');\n",
              "      }\n",
              "      })();\n",
              "    </script>\n",
              "  </div>\n",
              "\n",
              "    </div>\n",
              "  </div>\n"
            ],
            "application/vnd.google.colaboratory.intrinsic+json": {
              "type": "dataframe",
              "variable_name": "df_sorted",
              "summary": "{\n  \"name\": \"df_sorted\",\n  \"rows\": 8,\n  \"fields\": [\n    {\n      \"column\": \"Estudiante\",\n      \"properties\": {\n        \"dtype\": \"string\",\n        \"num_unique_values\": 8,\n        \"samples\": [\n          \"Luis\",\n          \"Ana\",\n          \"Mar\\u00eda\"\n        ],\n        \"semantic_type\": \"\",\n        \"description\": \"\"\n      }\n    },\n    {\n      \"column\": \"Curso\",\n      \"properties\": {\n        \"dtype\": \"category\",\n        \"num_unique_values\": 2,\n        \"samples\": [\n          \"B\",\n          \"A\"\n        ],\n        \"semantic_type\": \"\",\n        \"description\": \"\"\n      }\n    },\n    {\n      \"column\": \"Matem\\u00e1ticas\",\n      \"properties\": {\n        \"dtype\": \"number\",\n        \"std\": 1,\n        \"min\": 5,\n        \"max\": 9,\n        \"num_unique_values\": 5,\n        \"samples\": [\n          8,\n          5\n        ],\n        \"semantic_type\": \"\",\n        \"description\": \"\"\n      }\n    },\n    {\n      \"column\": \"Lengua\",\n      \"properties\": {\n        \"dtype\": \"number\",\n        \"std\": 1,\n        \"min\": 6,\n        \"max\": 9,\n        \"num_unique_values\": 4,\n        \"samples\": [\n          8,\n          6\n        ],\n        \"semantic_type\": \"\",\n        \"description\": \"\"\n      }\n    },\n    {\n      \"column\": \"Ciencias\",\n      \"properties\": {\n        \"dtype\": \"number\",\n        \"std\": 1,\n        \"min\": 4,\n        \"max\": 8,\n        \"num_unique_values\": 5,\n        \"samples\": [\n          6,\n          4\n        ],\n        \"semantic_type\": \"\",\n        \"description\": \"\"\n      }\n    },\n    {\n      \"column\": \"Promedio\",\n      \"properties\": {\n        \"dtype\": \"number\",\n        \"std\": 1.1019463300386794,\n        \"min\": 5.5,\n        \"max\": 9.0,\n        \"num_unique_values\": 6,\n        \"samples\": [\n          9.0,\n          8.0\n        ],\n        \"semantic_type\": \"\",\n        \"description\": \"\"\n      }\n    }\n  ]\n}"
            }
          },
          "metadata": {},
          "execution_count": 17
        }
      ]
    },
    {
      "cell_type": "code",
      "source": [
        "# Eliminar la columna Lengua\n",
        "df_sin_lengua = df.drop(columns = ['Lengua'])\n",
        "df_sin_lengua"
      ],
      "metadata": {
        "colab": {
          "base_uri": "https://localhost:8080/",
          "height": 300
        },
        "id": "MBzjuNIWZpNF",
        "outputId": "14edf7c7-04a9-4e46-f9e3-cfbf892a0fc7"
      },
      "execution_count": null,
      "outputs": [
        {
          "output_type": "execute_result",
          "data": {
            "text/plain": [
              "  Estudiante Curso  Matemáticas  Ciencias  Promedio\n",
              "0       Juan     A            8         6       7.5\n",
              "1      María     A            9         8       9.0\n",
              "2      Pedro     B            6         7       7.0\n",
              "3        Ana     B            7         5       6.5\n",
              "4       Luis     A            8         6       8.0\n",
              "5      Sofía     A            9         8       8.0\n",
              "6     Carlos     B            5         4       5.5\n",
              "7      Elena     B            6         6       6.5"
            ],
            "text/html": [
              "\n",
              "  <div id=\"df-6726683f-8249-4f34-9d31-bdb5b267c653\" class=\"colab-df-container\">\n",
              "    <div>\n",
              "<style scoped>\n",
              "    .dataframe tbody tr th:only-of-type {\n",
              "        vertical-align: middle;\n",
              "    }\n",
              "\n",
              "    .dataframe tbody tr th {\n",
              "        vertical-align: top;\n",
              "    }\n",
              "\n",
              "    .dataframe thead th {\n",
              "        text-align: right;\n",
              "    }\n",
              "</style>\n",
              "<table border=\"1\" class=\"dataframe\">\n",
              "  <thead>\n",
              "    <tr style=\"text-align: right;\">\n",
              "      <th></th>\n",
              "      <th>Estudiante</th>\n",
              "      <th>Curso</th>\n",
              "      <th>Matemáticas</th>\n",
              "      <th>Ciencias</th>\n",
              "      <th>Promedio</th>\n",
              "    </tr>\n",
              "  </thead>\n",
              "  <tbody>\n",
              "    <tr>\n",
              "      <th>0</th>\n",
              "      <td>Juan</td>\n",
              "      <td>A</td>\n",
              "      <td>8</td>\n",
              "      <td>6</td>\n",
              "      <td>7.5</td>\n",
              "    </tr>\n",
              "    <tr>\n",
              "      <th>1</th>\n",
              "      <td>María</td>\n",
              "      <td>A</td>\n",
              "      <td>9</td>\n",
              "      <td>8</td>\n",
              "      <td>9.0</td>\n",
              "    </tr>\n",
              "    <tr>\n",
              "      <th>2</th>\n",
              "      <td>Pedro</td>\n",
              "      <td>B</td>\n",
              "      <td>6</td>\n",
              "      <td>7</td>\n",
              "      <td>7.0</td>\n",
              "    </tr>\n",
              "    <tr>\n",
              "      <th>3</th>\n",
              "      <td>Ana</td>\n",
              "      <td>B</td>\n",
              "      <td>7</td>\n",
              "      <td>5</td>\n",
              "      <td>6.5</td>\n",
              "    </tr>\n",
              "    <tr>\n",
              "      <th>4</th>\n",
              "      <td>Luis</td>\n",
              "      <td>A</td>\n",
              "      <td>8</td>\n",
              "      <td>6</td>\n",
              "      <td>8.0</td>\n",
              "    </tr>\n",
              "    <tr>\n",
              "      <th>5</th>\n",
              "      <td>Sofía</td>\n",
              "      <td>A</td>\n",
              "      <td>9</td>\n",
              "      <td>8</td>\n",
              "      <td>8.0</td>\n",
              "    </tr>\n",
              "    <tr>\n",
              "      <th>6</th>\n",
              "      <td>Carlos</td>\n",
              "      <td>B</td>\n",
              "      <td>5</td>\n",
              "      <td>4</td>\n",
              "      <td>5.5</td>\n",
              "    </tr>\n",
              "    <tr>\n",
              "      <th>7</th>\n",
              "      <td>Elena</td>\n",
              "      <td>B</td>\n",
              "      <td>6</td>\n",
              "      <td>6</td>\n",
              "      <td>6.5</td>\n",
              "    </tr>\n",
              "  </tbody>\n",
              "</table>\n",
              "</div>\n",
              "    <div class=\"colab-df-buttons\">\n",
              "\n",
              "  <div class=\"colab-df-container\">\n",
              "    <button class=\"colab-df-convert\" onclick=\"convertToInteractive('df-6726683f-8249-4f34-9d31-bdb5b267c653')\"\n",
              "            title=\"Convert this dataframe to an interactive table.\"\n",
              "            style=\"display:none;\">\n",
              "\n",
              "  <svg xmlns=\"http://www.w3.org/2000/svg\" height=\"24px\" viewBox=\"0 -960 960 960\">\n",
              "    <path d=\"M120-120v-720h720v720H120Zm60-500h600v-160H180v160Zm220 220h160v-160H400v160Zm0 220h160v-160H400v160ZM180-400h160v-160H180v160Zm440 0h160v-160H620v160ZM180-180h160v-160H180v160Zm440 0h160v-160H620v160Z\"/>\n",
              "  </svg>\n",
              "    </button>\n",
              "\n",
              "  <style>\n",
              "    .colab-df-container {\n",
              "      display:flex;\n",
              "      gap: 12px;\n",
              "    }\n",
              "\n",
              "    .colab-df-convert {\n",
              "      background-color: #E8F0FE;\n",
              "      border: none;\n",
              "      border-radius: 50%;\n",
              "      cursor: pointer;\n",
              "      display: none;\n",
              "      fill: #1967D2;\n",
              "      height: 32px;\n",
              "      padding: 0 0 0 0;\n",
              "      width: 32px;\n",
              "    }\n",
              "\n",
              "    .colab-df-convert:hover {\n",
              "      background-color: #E2EBFA;\n",
              "      box-shadow: 0px 1px 2px rgba(60, 64, 67, 0.3), 0px 1px 3px 1px rgba(60, 64, 67, 0.15);\n",
              "      fill: #174EA6;\n",
              "    }\n",
              "\n",
              "    .colab-df-buttons div {\n",
              "      margin-bottom: 4px;\n",
              "    }\n",
              "\n",
              "    [theme=dark] .colab-df-convert {\n",
              "      background-color: #3B4455;\n",
              "      fill: #D2E3FC;\n",
              "    }\n",
              "\n",
              "    [theme=dark] .colab-df-convert:hover {\n",
              "      background-color: #434B5C;\n",
              "      box-shadow: 0px 1px 3px 1px rgba(0, 0, 0, 0.15);\n",
              "      filter: drop-shadow(0px 1px 2px rgba(0, 0, 0, 0.3));\n",
              "      fill: #FFFFFF;\n",
              "    }\n",
              "  </style>\n",
              "\n",
              "    <script>\n",
              "      const buttonEl =\n",
              "        document.querySelector('#df-6726683f-8249-4f34-9d31-bdb5b267c653 button.colab-df-convert');\n",
              "      buttonEl.style.display =\n",
              "        google.colab.kernel.accessAllowed ? 'block' : 'none';\n",
              "\n",
              "      async function convertToInteractive(key) {\n",
              "        const element = document.querySelector('#df-6726683f-8249-4f34-9d31-bdb5b267c653');\n",
              "        const dataTable =\n",
              "          await google.colab.kernel.invokeFunction('convertToInteractive',\n",
              "                                                    [key], {});\n",
              "        if (!dataTable) return;\n",
              "\n",
              "        const docLinkHtml = 'Like what you see? Visit the ' +\n",
              "          '<a target=\"_blank\" href=https://colab.research.google.com/notebooks/data_table.ipynb>data table notebook</a>'\n",
              "          + ' to learn more about interactive tables.';\n",
              "        element.innerHTML = '';\n",
              "        dataTable['output_type'] = 'display_data';\n",
              "        await google.colab.output.renderOutput(dataTable, element);\n",
              "        const docLink = document.createElement('div');\n",
              "        docLink.innerHTML = docLinkHtml;\n",
              "        element.appendChild(docLink);\n",
              "      }\n",
              "    </script>\n",
              "  </div>\n",
              "\n",
              "\n",
              "    <div id=\"df-f81ee5c4-9f96-424e-a400-7f9385342f3c\">\n",
              "      <button class=\"colab-df-quickchart\" onclick=\"quickchart('df-f81ee5c4-9f96-424e-a400-7f9385342f3c')\"\n",
              "                title=\"Suggest charts\"\n",
              "                style=\"display:none;\">\n",
              "\n",
              "<svg xmlns=\"http://www.w3.org/2000/svg\" height=\"24px\"viewBox=\"0 0 24 24\"\n",
              "     width=\"24px\">\n",
              "    <g>\n",
              "        <path d=\"M19 3H5c-1.1 0-2 .9-2 2v14c0 1.1.9 2 2 2h14c1.1 0 2-.9 2-2V5c0-1.1-.9-2-2-2zM9 17H7v-7h2v7zm4 0h-2V7h2v10zm4 0h-2v-4h2v4z\"/>\n",
              "    </g>\n",
              "</svg>\n",
              "      </button>\n",
              "\n",
              "<style>\n",
              "  .colab-df-quickchart {\n",
              "      --bg-color: #E8F0FE;\n",
              "      --fill-color: #1967D2;\n",
              "      --hover-bg-color: #E2EBFA;\n",
              "      --hover-fill-color: #174EA6;\n",
              "      --disabled-fill-color: #AAA;\n",
              "      --disabled-bg-color: #DDD;\n",
              "  }\n",
              "\n",
              "  [theme=dark] .colab-df-quickchart {\n",
              "      --bg-color: #3B4455;\n",
              "      --fill-color: #D2E3FC;\n",
              "      --hover-bg-color: #434B5C;\n",
              "      --hover-fill-color: #FFFFFF;\n",
              "      --disabled-bg-color: #3B4455;\n",
              "      --disabled-fill-color: #666;\n",
              "  }\n",
              "\n",
              "  .colab-df-quickchart {\n",
              "    background-color: var(--bg-color);\n",
              "    border: none;\n",
              "    border-radius: 50%;\n",
              "    cursor: pointer;\n",
              "    display: none;\n",
              "    fill: var(--fill-color);\n",
              "    height: 32px;\n",
              "    padding: 0;\n",
              "    width: 32px;\n",
              "  }\n",
              "\n",
              "  .colab-df-quickchart:hover {\n",
              "    background-color: var(--hover-bg-color);\n",
              "    box-shadow: 0 1px 2px rgba(60, 64, 67, 0.3), 0 1px 3px 1px rgba(60, 64, 67, 0.15);\n",
              "    fill: var(--button-hover-fill-color);\n",
              "  }\n",
              "\n",
              "  .colab-df-quickchart-complete:disabled,\n",
              "  .colab-df-quickchart-complete:disabled:hover {\n",
              "    background-color: var(--disabled-bg-color);\n",
              "    fill: var(--disabled-fill-color);\n",
              "    box-shadow: none;\n",
              "  }\n",
              "\n",
              "  .colab-df-spinner {\n",
              "    border: 2px solid var(--fill-color);\n",
              "    border-color: transparent;\n",
              "    border-bottom-color: var(--fill-color);\n",
              "    animation:\n",
              "      spin 1s steps(1) infinite;\n",
              "  }\n",
              "\n",
              "  @keyframes spin {\n",
              "    0% {\n",
              "      border-color: transparent;\n",
              "      border-bottom-color: var(--fill-color);\n",
              "      border-left-color: var(--fill-color);\n",
              "    }\n",
              "    20% {\n",
              "      border-color: transparent;\n",
              "      border-left-color: var(--fill-color);\n",
              "      border-top-color: var(--fill-color);\n",
              "    }\n",
              "    30% {\n",
              "      border-color: transparent;\n",
              "      border-left-color: var(--fill-color);\n",
              "      border-top-color: var(--fill-color);\n",
              "      border-right-color: var(--fill-color);\n",
              "    }\n",
              "    40% {\n",
              "      border-color: transparent;\n",
              "      border-right-color: var(--fill-color);\n",
              "      border-top-color: var(--fill-color);\n",
              "    }\n",
              "    60% {\n",
              "      border-color: transparent;\n",
              "      border-right-color: var(--fill-color);\n",
              "    }\n",
              "    80% {\n",
              "      border-color: transparent;\n",
              "      border-right-color: var(--fill-color);\n",
              "      border-bottom-color: var(--fill-color);\n",
              "    }\n",
              "    90% {\n",
              "      border-color: transparent;\n",
              "      border-bottom-color: var(--fill-color);\n",
              "    }\n",
              "  }\n",
              "</style>\n",
              "\n",
              "      <script>\n",
              "        async function quickchart(key) {\n",
              "          const quickchartButtonEl =\n",
              "            document.querySelector('#' + key + ' button');\n",
              "          quickchartButtonEl.disabled = true;  // To prevent multiple clicks.\n",
              "          quickchartButtonEl.classList.add('colab-df-spinner');\n",
              "          try {\n",
              "            const charts = await google.colab.kernel.invokeFunction(\n",
              "                'suggestCharts', [key], {});\n",
              "          } catch (error) {\n",
              "            console.error('Error during call to suggestCharts:', error);\n",
              "          }\n",
              "          quickchartButtonEl.classList.remove('colab-df-spinner');\n",
              "          quickchartButtonEl.classList.add('colab-df-quickchart-complete');\n",
              "        }\n",
              "        (() => {\n",
              "          let quickchartButtonEl =\n",
              "            document.querySelector('#df-f81ee5c4-9f96-424e-a400-7f9385342f3c button');\n",
              "          quickchartButtonEl.style.display =\n",
              "            google.colab.kernel.accessAllowed ? 'block' : 'none';\n",
              "        })();\n",
              "      </script>\n",
              "    </div>\n",
              "\n",
              "  <div id=\"id_0698b4c9-00c2-4404-a6c4-b0ca880981ad\">\n",
              "    <style>\n",
              "      .colab-df-generate {\n",
              "        background-color: #E8F0FE;\n",
              "        border: none;\n",
              "        border-radius: 50%;\n",
              "        cursor: pointer;\n",
              "        display: none;\n",
              "        fill: #1967D2;\n",
              "        height: 32px;\n",
              "        padding: 0 0 0 0;\n",
              "        width: 32px;\n",
              "      }\n",
              "\n",
              "      .colab-df-generate:hover {\n",
              "        background-color: #E2EBFA;\n",
              "        box-shadow: 0px 1px 2px rgba(60, 64, 67, 0.3), 0px 1px 3px 1px rgba(60, 64, 67, 0.15);\n",
              "        fill: #174EA6;\n",
              "      }\n",
              "\n",
              "      [theme=dark] .colab-df-generate {\n",
              "        background-color: #3B4455;\n",
              "        fill: #D2E3FC;\n",
              "      }\n",
              "\n",
              "      [theme=dark] .colab-df-generate:hover {\n",
              "        background-color: #434B5C;\n",
              "        box-shadow: 0px 1px 3px 1px rgba(0, 0, 0, 0.15);\n",
              "        filter: drop-shadow(0px 1px 2px rgba(0, 0, 0, 0.3));\n",
              "        fill: #FFFFFF;\n",
              "      }\n",
              "    </style>\n",
              "    <button class=\"colab-df-generate\" onclick=\"generateWithVariable('df_sin_lengua')\"\n",
              "            title=\"Generate code using this dataframe.\"\n",
              "            style=\"display:none;\">\n",
              "\n",
              "  <svg xmlns=\"http://www.w3.org/2000/svg\" height=\"24px\"viewBox=\"0 0 24 24\"\n",
              "       width=\"24px\">\n",
              "    <path d=\"M7,19H8.4L18.45,9,17,7.55,7,17.6ZM5,21V16.75L18.45,3.32a2,2,0,0,1,2.83,0l1.4,1.43a1.91,1.91,0,0,1,.58,1.4,1.91,1.91,0,0,1-.58,1.4L9.25,21ZM18.45,9,17,7.55Zm-12,3A5.31,5.31,0,0,0,4.9,8.1,5.31,5.31,0,0,0,1,6.5,5.31,5.31,0,0,0,4.9,4.9,5.31,5.31,0,0,0,6.5,1,5.31,5.31,0,0,0,8.1,4.9,5.31,5.31,0,0,0,12,6.5,5.46,5.46,0,0,0,6.5,12Z\"/>\n",
              "  </svg>\n",
              "    </button>\n",
              "    <script>\n",
              "      (() => {\n",
              "      const buttonEl =\n",
              "        document.querySelector('#id_0698b4c9-00c2-4404-a6c4-b0ca880981ad button.colab-df-generate');\n",
              "      buttonEl.style.display =\n",
              "        google.colab.kernel.accessAllowed ? 'block' : 'none';\n",
              "\n",
              "      buttonEl.onclick = () => {\n",
              "        google.colab.notebook.generateWithVariable('df_sin_lengua');\n",
              "      }\n",
              "      })();\n",
              "    </script>\n",
              "  </div>\n",
              "\n",
              "    </div>\n",
              "  </div>\n"
            ],
            "application/vnd.google.colaboratory.intrinsic+json": {
              "type": "dataframe",
              "variable_name": "df_sin_lengua",
              "summary": "{\n  \"name\": \"df_sin_lengua\",\n  \"rows\": 8,\n  \"fields\": [\n    {\n      \"column\": \"Estudiante\",\n      \"properties\": {\n        \"dtype\": \"string\",\n        \"num_unique_values\": 8,\n        \"samples\": [\n          \"Mar\\u00eda\",\n          \"Sof\\u00eda\",\n          \"Juan\"\n        ],\n        \"semantic_type\": \"\",\n        \"description\": \"\"\n      }\n    },\n    {\n      \"column\": \"Curso\",\n      \"properties\": {\n        \"dtype\": \"category\",\n        \"num_unique_values\": 2,\n        \"samples\": [\n          \"B\",\n          \"A\"\n        ],\n        \"semantic_type\": \"\",\n        \"description\": \"\"\n      }\n    },\n    {\n      \"column\": \"Matem\\u00e1ticas\",\n      \"properties\": {\n        \"dtype\": \"number\",\n        \"std\": 1,\n        \"min\": 5,\n        \"max\": 9,\n        \"num_unique_values\": 5,\n        \"samples\": [\n          9,\n          5\n        ],\n        \"semantic_type\": \"\",\n        \"description\": \"\"\n      }\n    },\n    {\n      \"column\": \"Ciencias\",\n      \"properties\": {\n        \"dtype\": \"number\",\n        \"std\": 1,\n        \"min\": 4,\n        \"max\": 8,\n        \"num_unique_values\": 5,\n        \"samples\": [\n          8,\n          4\n        ],\n        \"semantic_type\": \"\",\n        \"description\": \"\"\n      }\n    },\n    {\n      \"column\": \"Promedio\",\n      \"properties\": {\n        \"dtype\": \"number\",\n        \"std\": 1.1019463300386794,\n        \"min\": 5.5,\n        \"max\": 9.0,\n        \"num_unique_values\": 6,\n        \"samples\": [\n          7.5,\n          9.0\n        ],\n        \"semantic_type\": \"\",\n        \"description\": \"\"\n      }\n    }\n  ]\n}"
            }
          },
          "metadata": {},
          "execution_count": 18
        }
      ]
    },
    {
      "cell_type": "code",
      "source": [
        "# Añadir in NaN en el df\n",
        "import numpy as np\n",
        "df.loc[2, 'Matemáticas'] = np.nan\n",
        "\n",
        "print(df)"
      ],
      "metadata": {
        "colab": {
          "base_uri": "https://localhost:8080/"
        },
        "id": "jyQ4dEqBZ0n5",
        "outputId": "0474b3d2-6083-4f1d-cd09-2011513c0615"
      },
      "execution_count": null,
      "outputs": [
        {
          "output_type": "stream",
          "name": "stdout",
          "text": [
            "  Estudiante Curso  Matemáticas  Lengua  Ciencias  Promedio\n",
            "0       Juan     A          8.0       7         6       7.5\n",
            "1      María     A          9.0       9         8       9.0\n",
            "2      Pedro     B          NaN       8         7       7.0\n",
            "3        Ana     B          7.0       6         5       6.5\n",
            "4       Luis     A          8.0       8         6       8.0\n",
            "5      Sofía     A          9.0       7         8       8.0\n",
            "6     Carlos     B          5.0       6         4       5.5\n",
            "7      Elena     B          6.0       7         6       6.5\n"
          ]
        }
      ]
    },
    {
      "cell_type": "code",
      "source": [
        "df_llenado  =  df.fillna(0)\n",
        "df_llenado"
      ],
      "metadata": {
        "colab": {
          "base_uri": "https://localhost:8080/",
          "height": 300
        },
        "id": "ohY67zhXZ7rb",
        "outputId": "eb44c189-8272-4d06-b325-07e0c1054e8e"
      },
      "execution_count": null,
      "outputs": [
        {
          "output_type": "execute_result",
          "data": {
            "text/plain": [
              "  Estudiante Curso  Matemáticas  Lengua  Ciencias  Promedio\n",
              "0       Juan     A          8.0       7         6       7.5\n",
              "1      María     A          9.0       9         8       9.0\n",
              "2      Pedro     B          0.0       8         7       7.0\n",
              "3        Ana     B          7.0       6         5       6.5\n",
              "4       Luis     A          8.0       8         6       8.0\n",
              "5      Sofía     A          9.0       7         8       8.0\n",
              "6     Carlos     B          5.0       6         4       5.5\n",
              "7      Elena     B          6.0       7         6       6.5"
            ],
            "text/html": [
              "\n",
              "  <div id=\"df-a295c200-cc04-4539-bfbf-0beafee237ca\" class=\"colab-df-container\">\n",
              "    <div>\n",
              "<style scoped>\n",
              "    .dataframe tbody tr th:only-of-type {\n",
              "        vertical-align: middle;\n",
              "    }\n",
              "\n",
              "    .dataframe tbody tr th {\n",
              "        vertical-align: top;\n",
              "    }\n",
              "\n",
              "    .dataframe thead th {\n",
              "        text-align: right;\n",
              "    }\n",
              "</style>\n",
              "<table border=\"1\" class=\"dataframe\">\n",
              "  <thead>\n",
              "    <tr style=\"text-align: right;\">\n",
              "      <th></th>\n",
              "      <th>Estudiante</th>\n",
              "      <th>Curso</th>\n",
              "      <th>Matemáticas</th>\n",
              "      <th>Lengua</th>\n",
              "      <th>Ciencias</th>\n",
              "      <th>Promedio</th>\n",
              "    </tr>\n",
              "  </thead>\n",
              "  <tbody>\n",
              "    <tr>\n",
              "      <th>0</th>\n",
              "      <td>Juan</td>\n",
              "      <td>A</td>\n",
              "      <td>8.0</td>\n",
              "      <td>7</td>\n",
              "      <td>6</td>\n",
              "      <td>7.5</td>\n",
              "    </tr>\n",
              "    <tr>\n",
              "      <th>1</th>\n",
              "      <td>María</td>\n",
              "      <td>A</td>\n",
              "      <td>9.0</td>\n",
              "      <td>9</td>\n",
              "      <td>8</td>\n",
              "      <td>9.0</td>\n",
              "    </tr>\n",
              "    <tr>\n",
              "      <th>2</th>\n",
              "      <td>Pedro</td>\n",
              "      <td>B</td>\n",
              "      <td>0.0</td>\n",
              "      <td>8</td>\n",
              "      <td>7</td>\n",
              "      <td>7.0</td>\n",
              "    </tr>\n",
              "    <tr>\n",
              "      <th>3</th>\n",
              "      <td>Ana</td>\n",
              "      <td>B</td>\n",
              "      <td>7.0</td>\n",
              "      <td>6</td>\n",
              "      <td>5</td>\n",
              "      <td>6.5</td>\n",
              "    </tr>\n",
              "    <tr>\n",
              "      <th>4</th>\n",
              "      <td>Luis</td>\n",
              "      <td>A</td>\n",
              "      <td>8.0</td>\n",
              "      <td>8</td>\n",
              "      <td>6</td>\n",
              "      <td>8.0</td>\n",
              "    </tr>\n",
              "    <tr>\n",
              "      <th>5</th>\n",
              "      <td>Sofía</td>\n",
              "      <td>A</td>\n",
              "      <td>9.0</td>\n",
              "      <td>7</td>\n",
              "      <td>8</td>\n",
              "      <td>8.0</td>\n",
              "    </tr>\n",
              "    <tr>\n",
              "      <th>6</th>\n",
              "      <td>Carlos</td>\n",
              "      <td>B</td>\n",
              "      <td>5.0</td>\n",
              "      <td>6</td>\n",
              "      <td>4</td>\n",
              "      <td>5.5</td>\n",
              "    </tr>\n",
              "    <tr>\n",
              "      <th>7</th>\n",
              "      <td>Elena</td>\n",
              "      <td>B</td>\n",
              "      <td>6.0</td>\n",
              "      <td>7</td>\n",
              "      <td>6</td>\n",
              "      <td>6.5</td>\n",
              "    </tr>\n",
              "  </tbody>\n",
              "</table>\n",
              "</div>\n",
              "    <div class=\"colab-df-buttons\">\n",
              "\n",
              "  <div class=\"colab-df-container\">\n",
              "    <button class=\"colab-df-convert\" onclick=\"convertToInteractive('df-a295c200-cc04-4539-bfbf-0beafee237ca')\"\n",
              "            title=\"Convert this dataframe to an interactive table.\"\n",
              "            style=\"display:none;\">\n",
              "\n",
              "  <svg xmlns=\"http://www.w3.org/2000/svg\" height=\"24px\" viewBox=\"0 -960 960 960\">\n",
              "    <path d=\"M120-120v-720h720v720H120Zm60-500h600v-160H180v160Zm220 220h160v-160H400v160Zm0 220h160v-160H400v160ZM180-400h160v-160H180v160Zm440 0h160v-160H620v160ZM180-180h160v-160H180v160Zm440 0h160v-160H620v160Z\"/>\n",
              "  </svg>\n",
              "    </button>\n",
              "\n",
              "  <style>\n",
              "    .colab-df-container {\n",
              "      display:flex;\n",
              "      gap: 12px;\n",
              "    }\n",
              "\n",
              "    .colab-df-convert {\n",
              "      background-color: #E8F0FE;\n",
              "      border: none;\n",
              "      border-radius: 50%;\n",
              "      cursor: pointer;\n",
              "      display: none;\n",
              "      fill: #1967D2;\n",
              "      height: 32px;\n",
              "      padding: 0 0 0 0;\n",
              "      width: 32px;\n",
              "    }\n",
              "\n",
              "    .colab-df-convert:hover {\n",
              "      background-color: #E2EBFA;\n",
              "      box-shadow: 0px 1px 2px rgba(60, 64, 67, 0.3), 0px 1px 3px 1px rgba(60, 64, 67, 0.15);\n",
              "      fill: #174EA6;\n",
              "    }\n",
              "\n",
              "    .colab-df-buttons div {\n",
              "      margin-bottom: 4px;\n",
              "    }\n",
              "\n",
              "    [theme=dark] .colab-df-convert {\n",
              "      background-color: #3B4455;\n",
              "      fill: #D2E3FC;\n",
              "    }\n",
              "\n",
              "    [theme=dark] .colab-df-convert:hover {\n",
              "      background-color: #434B5C;\n",
              "      box-shadow: 0px 1px 3px 1px rgba(0, 0, 0, 0.15);\n",
              "      filter: drop-shadow(0px 1px 2px rgba(0, 0, 0, 0.3));\n",
              "      fill: #FFFFFF;\n",
              "    }\n",
              "  </style>\n",
              "\n",
              "    <script>\n",
              "      const buttonEl =\n",
              "        document.querySelector('#df-a295c200-cc04-4539-bfbf-0beafee237ca button.colab-df-convert');\n",
              "      buttonEl.style.display =\n",
              "        google.colab.kernel.accessAllowed ? 'block' : 'none';\n",
              "\n",
              "      async function convertToInteractive(key) {\n",
              "        const element = document.querySelector('#df-a295c200-cc04-4539-bfbf-0beafee237ca');\n",
              "        const dataTable =\n",
              "          await google.colab.kernel.invokeFunction('convertToInteractive',\n",
              "                                                    [key], {});\n",
              "        if (!dataTable) return;\n",
              "\n",
              "        const docLinkHtml = 'Like what you see? Visit the ' +\n",
              "          '<a target=\"_blank\" href=https://colab.research.google.com/notebooks/data_table.ipynb>data table notebook</a>'\n",
              "          + ' to learn more about interactive tables.';\n",
              "        element.innerHTML = '';\n",
              "        dataTable['output_type'] = 'display_data';\n",
              "        await google.colab.output.renderOutput(dataTable, element);\n",
              "        const docLink = document.createElement('div');\n",
              "        docLink.innerHTML = docLinkHtml;\n",
              "        element.appendChild(docLink);\n",
              "      }\n",
              "    </script>\n",
              "  </div>\n",
              "\n",
              "\n",
              "    <div id=\"df-2dd87a89-77b2-4b28-9658-30a4037231a0\">\n",
              "      <button class=\"colab-df-quickchart\" onclick=\"quickchart('df-2dd87a89-77b2-4b28-9658-30a4037231a0')\"\n",
              "                title=\"Suggest charts\"\n",
              "                style=\"display:none;\">\n",
              "\n",
              "<svg xmlns=\"http://www.w3.org/2000/svg\" height=\"24px\"viewBox=\"0 0 24 24\"\n",
              "     width=\"24px\">\n",
              "    <g>\n",
              "        <path d=\"M19 3H5c-1.1 0-2 .9-2 2v14c0 1.1.9 2 2 2h14c1.1 0 2-.9 2-2V5c0-1.1-.9-2-2-2zM9 17H7v-7h2v7zm4 0h-2V7h2v10zm4 0h-2v-4h2v4z\"/>\n",
              "    </g>\n",
              "</svg>\n",
              "      </button>\n",
              "\n",
              "<style>\n",
              "  .colab-df-quickchart {\n",
              "      --bg-color: #E8F0FE;\n",
              "      --fill-color: #1967D2;\n",
              "      --hover-bg-color: #E2EBFA;\n",
              "      --hover-fill-color: #174EA6;\n",
              "      --disabled-fill-color: #AAA;\n",
              "      --disabled-bg-color: #DDD;\n",
              "  }\n",
              "\n",
              "  [theme=dark] .colab-df-quickchart {\n",
              "      --bg-color: #3B4455;\n",
              "      --fill-color: #D2E3FC;\n",
              "      --hover-bg-color: #434B5C;\n",
              "      --hover-fill-color: #FFFFFF;\n",
              "      --disabled-bg-color: #3B4455;\n",
              "      --disabled-fill-color: #666;\n",
              "  }\n",
              "\n",
              "  .colab-df-quickchart {\n",
              "    background-color: var(--bg-color);\n",
              "    border: none;\n",
              "    border-radius: 50%;\n",
              "    cursor: pointer;\n",
              "    display: none;\n",
              "    fill: var(--fill-color);\n",
              "    height: 32px;\n",
              "    padding: 0;\n",
              "    width: 32px;\n",
              "  }\n",
              "\n",
              "  .colab-df-quickchart:hover {\n",
              "    background-color: var(--hover-bg-color);\n",
              "    box-shadow: 0 1px 2px rgba(60, 64, 67, 0.3), 0 1px 3px 1px rgba(60, 64, 67, 0.15);\n",
              "    fill: var(--button-hover-fill-color);\n",
              "  }\n",
              "\n",
              "  .colab-df-quickchart-complete:disabled,\n",
              "  .colab-df-quickchart-complete:disabled:hover {\n",
              "    background-color: var(--disabled-bg-color);\n",
              "    fill: var(--disabled-fill-color);\n",
              "    box-shadow: none;\n",
              "  }\n",
              "\n",
              "  .colab-df-spinner {\n",
              "    border: 2px solid var(--fill-color);\n",
              "    border-color: transparent;\n",
              "    border-bottom-color: var(--fill-color);\n",
              "    animation:\n",
              "      spin 1s steps(1) infinite;\n",
              "  }\n",
              "\n",
              "  @keyframes spin {\n",
              "    0% {\n",
              "      border-color: transparent;\n",
              "      border-bottom-color: var(--fill-color);\n",
              "      border-left-color: var(--fill-color);\n",
              "    }\n",
              "    20% {\n",
              "      border-color: transparent;\n",
              "      border-left-color: var(--fill-color);\n",
              "      border-top-color: var(--fill-color);\n",
              "    }\n",
              "    30% {\n",
              "      border-color: transparent;\n",
              "      border-left-color: var(--fill-color);\n",
              "      border-top-color: var(--fill-color);\n",
              "      border-right-color: var(--fill-color);\n",
              "    }\n",
              "    40% {\n",
              "      border-color: transparent;\n",
              "      border-right-color: var(--fill-color);\n",
              "      border-top-color: var(--fill-color);\n",
              "    }\n",
              "    60% {\n",
              "      border-color: transparent;\n",
              "      border-right-color: var(--fill-color);\n",
              "    }\n",
              "    80% {\n",
              "      border-color: transparent;\n",
              "      border-right-color: var(--fill-color);\n",
              "      border-bottom-color: var(--fill-color);\n",
              "    }\n",
              "    90% {\n",
              "      border-color: transparent;\n",
              "      border-bottom-color: var(--fill-color);\n",
              "    }\n",
              "  }\n",
              "</style>\n",
              "\n",
              "      <script>\n",
              "        async function quickchart(key) {\n",
              "          const quickchartButtonEl =\n",
              "            document.querySelector('#' + key + ' button');\n",
              "          quickchartButtonEl.disabled = true;  // To prevent multiple clicks.\n",
              "          quickchartButtonEl.classList.add('colab-df-spinner');\n",
              "          try {\n",
              "            const charts = await google.colab.kernel.invokeFunction(\n",
              "                'suggestCharts', [key], {});\n",
              "          } catch (error) {\n",
              "            console.error('Error during call to suggestCharts:', error);\n",
              "          }\n",
              "          quickchartButtonEl.classList.remove('colab-df-spinner');\n",
              "          quickchartButtonEl.classList.add('colab-df-quickchart-complete');\n",
              "        }\n",
              "        (() => {\n",
              "          let quickchartButtonEl =\n",
              "            document.querySelector('#df-2dd87a89-77b2-4b28-9658-30a4037231a0 button');\n",
              "          quickchartButtonEl.style.display =\n",
              "            google.colab.kernel.accessAllowed ? 'block' : 'none';\n",
              "        })();\n",
              "      </script>\n",
              "    </div>\n",
              "\n",
              "  <div id=\"id_9c54b23e-9987-4a07-9468-a69fe7b374cc\">\n",
              "    <style>\n",
              "      .colab-df-generate {\n",
              "        background-color: #E8F0FE;\n",
              "        border: none;\n",
              "        border-radius: 50%;\n",
              "        cursor: pointer;\n",
              "        display: none;\n",
              "        fill: #1967D2;\n",
              "        height: 32px;\n",
              "        padding: 0 0 0 0;\n",
              "        width: 32px;\n",
              "      }\n",
              "\n",
              "      .colab-df-generate:hover {\n",
              "        background-color: #E2EBFA;\n",
              "        box-shadow: 0px 1px 2px rgba(60, 64, 67, 0.3), 0px 1px 3px 1px rgba(60, 64, 67, 0.15);\n",
              "        fill: #174EA6;\n",
              "      }\n",
              "\n",
              "      [theme=dark] .colab-df-generate {\n",
              "        background-color: #3B4455;\n",
              "        fill: #D2E3FC;\n",
              "      }\n",
              "\n",
              "      [theme=dark] .colab-df-generate:hover {\n",
              "        background-color: #434B5C;\n",
              "        box-shadow: 0px 1px 3px 1px rgba(0, 0, 0, 0.15);\n",
              "        filter: drop-shadow(0px 1px 2px rgba(0, 0, 0, 0.3));\n",
              "        fill: #FFFFFF;\n",
              "      }\n",
              "    </style>\n",
              "    <button class=\"colab-df-generate\" onclick=\"generateWithVariable('df_llenado')\"\n",
              "            title=\"Generate code using this dataframe.\"\n",
              "            style=\"display:none;\">\n",
              "\n",
              "  <svg xmlns=\"http://www.w3.org/2000/svg\" height=\"24px\"viewBox=\"0 0 24 24\"\n",
              "       width=\"24px\">\n",
              "    <path d=\"M7,19H8.4L18.45,9,17,7.55,7,17.6ZM5,21V16.75L18.45,3.32a2,2,0,0,1,2.83,0l1.4,1.43a1.91,1.91,0,0,1,.58,1.4,1.91,1.91,0,0,1-.58,1.4L9.25,21ZM18.45,9,17,7.55Zm-12,3A5.31,5.31,0,0,0,4.9,8.1,5.31,5.31,0,0,0,1,6.5,5.31,5.31,0,0,0,4.9,4.9,5.31,5.31,0,0,0,6.5,1,5.31,5.31,0,0,0,8.1,4.9,5.31,5.31,0,0,0,12,6.5,5.46,5.46,0,0,0,6.5,12Z\"/>\n",
              "  </svg>\n",
              "    </button>\n",
              "    <script>\n",
              "      (() => {\n",
              "      const buttonEl =\n",
              "        document.querySelector('#id_9c54b23e-9987-4a07-9468-a69fe7b374cc button.colab-df-generate');\n",
              "      buttonEl.style.display =\n",
              "        google.colab.kernel.accessAllowed ? 'block' : 'none';\n",
              "\n",
              "      buttonEl.onclick = () => {\n",
              "        google.colab.notebook.generateWithVariable('df_llenado');\n",
              "      }\n",
              "      })();\n",
              "    </script>\n",
              "  </div>\n",
              "\n",
              "    </div>\n",
              "  </div>\n"
            ],
            "application/vnd.google.colaboratory.intrinsic+json": {
              "type": "dataframe",
              "variable_name": "df_llenado",
              "summary": "{\n  \"name\": \"df_llenado\",\n  \"rows\": 8,\n  \"fields\": [\n    {\n      \"column\": \"Estudiante\",\n      \"properties\": {\n        \"dtype\": \"string\",\n        \"num_unique_values\": 8,\n        \"samples\": [\n          \"Mar\\u00eda\",\n          \"Sof\\u00eda\",\n          \"Juan\"\n        ],\n        \"semantic_type\": \"\",\n        \"description\": \"\"\n      }\n    },\n    {\n      \"column\": \"Curso\",\n      \"properties\": {\n        \"dtype\": \"category\",\n        \"num_unique_values\": 2,\n        \"samples\": [\n          \"B\",\n          \"A\"\n        ],\n        \"semantic_type\": \"\",\n        \"description\": \"\"\n      }\n    },\n    {\n      \"column\": \"Matem\\u00e1ticas\",\n      \"properties\": {\n        \"dtype\": \"number\",\n        \"std\": 2.9760952365713798,\n        \"min\": 0.0,\n        \"max\": 9.0,\n        \"num_unique_values\": 6,\n        \"samples\": [\n          8.0,\n          9.0\n        ],\n        \"semantic_type\": \"\",\n        \"description\": \"\"\n      }\n    },\n    {\n      \"column\": \"Lengua\",\n      \"properties\": {\n        \"dtype\": \"number\",\n        \"std\": 1,\n        \"min\": 6,\n        \"max\": 9,\n        \"num_unique_values\": 4,\n        \"samples\": [\n          9,\n          6\n        ],\n        \"semantic_type\": \"\",\n        \"description\": \"\"\n      }\n    },\n    {\n      \"column\": \"Ciencias\",\n      \"properties\": {\n        \"dtype\": \"number\",\n        \"std\": 1,\n        \"min\": 4,\n        \"max\": 8,\n        \"num_unique_values\": 5,\n        \"samples\": [\n          8,\n          4\n        ],\n        \"semantic_type\": \"\",\n        \"description\": \"\"\n      }\n    },\n    {\n      \"column\": \"Promedio\",\n      \"properties\": {\n        \"dtype\": \"number\",\n        \"std\": 1.1019463300386794,\n        \"min\": 5.5,\n        \"max\": 9.0,\n        \"num_unique_values\": 6,\n        \"samples\": [\n          7.5,\n          9.0\n        ],\n        \"semantic_type\": \"\",\n        \"description\": \"\"\n      }\n    }\n  ]\n}"
            }
          },
          "metadata": {},
          "execution_count": 21
        }
      ]
    },
    {
      "cell_type": "code",
      "source": [
        "# Operaciones de Conjunto\n",
        "# Datos de estudiante y cursos\n",
        "data_estudiantes = {\n",
        "    'Estudiante': ['Juan', 'María', 'Pedro', 'Ana'],\n",
        "    'Curso': ['A', 'A', 'B', 'B']\n",
        "}\n",
        "df_estudiantes = pd.DataFrame(data_estudiantes)\n",
        "\n",
        "# Datos de notas finales\n",
        "data_notas = {\n",
        "    'Estudiante': ['Juan', 'María', 'Pedro', 'Ana'],\n",
        "    'Nota_Final': [7, 9, 6, 8]\n",
        "}\n",
        "df_notas = pd.DataFrame(data_notas)"
      ],
      "metadata": {
        "id": "4tYCDEhBaG9v"
      },
      "execution_count": null,
      "outputs": []
    },
    {
      "cell_type": "code",
      "source": [
        "# Unir los 2 dataframes por la columna Estudiante\n",
        "df_combinado =  pd.merge(df_estudiantes, df_notas, on = 'Estudiante')\n",
        "df_combinado"
      ],
      "metadata": {
        "colab": {
          "base_uri": "https://localhost:8080/",
          "height": 175
        },
        "id": "mlNsylbIaYxd",
        "outputId": "39afa147-98d7-475b-b856-ed463d1bbc9b"
      },
      "execution_count": null,
      "outputs": [
        {
          "output_type": "execute_result",
          "data": {
            "text/plain": [
              "  Estudiante Curso  Nota_Final\n",
              "0       Juan     A           7\n",
              "1      María     A           9\n",
              "2      Pedro     B           6\n",
              "3        Ana     B           8"
            ],
            "text/html": [
              "\n",
              "  <div id=\"df-e8490d79-c439-4ed6-a581-4a33dbb1f8e6\" class=\"colab-df-container\">\n",
              "    <div>\n",
              "<style scoped>\n",
              "    .dataframe tbody tr th:only-of-type {\n",
              "        vertical-align: middle;\n",
              "    }\n",
              "\n",
              "    .dataframe tbody tr th {\n",
              "        vertical-align: top;\n",
              "    }\n",
              "\n",
              "    .dataframe thead th {\n",
              "        text-align: right;\n",
              "    }\n",
              "</style>\n",
              "<table border=\"1\" class=\"dataframe\">\n",
              "  <thead>\n",
              "    <tr style=\"text-align: right;\">\n",
              "      <th></th>\n",
              "      <th>Estudiante</th>\n",
              "      <th>Curso</th>\n",
              "      <th>Nota_Final</th>\n",
              "    </tr>\n",
              "  </thead>\n",
              "  <tbody>\n",
              "    <tr>\n",
              "      <th>0</th>\n",
              "      <td>Juan</td>\n",
              "      <td>A</td>\n",
              "      <td>7</td>\n",
              "    </tr>\n",
              "    <tr>\n",
              "      <th>1</th>\n",
              "      <td>María</td>\n",
              "      <td>A</td>\n",
              "      <td>9</td>\n",
              "    </tr>\n",
              "    <tr>\n",
              "      <th>2</th>\n",
              "      <td>Pedro</td>\n",
              "      <td>B</td>\n",
              "      <td>6</td>\n",
              "    </tr>\n",
              "    <tr>\n",
              "      <th>3</th>\n",
              "      <td>Ana</td>\n",
              "      <td>B</td>\n",
              "      <td>8</td>\n",
              "    </tr>\n",
              "  </tbody>\n",
              "</table>\n",
              "</div>\n",
              "    <div class=\"colab-df-buttons\">\n",
              "\n",
              "  <div class=\"colab-df-container\">\n",
              "    <button class=\"colab-df-convert\" onclick=\"convertToInteractive('df-e8490d79-c439-4ed6-a581-4a33dbb1f8e6')\"\n",
              "            title=\"Convert this dataframe to an interactive table.\"\n",
              "            style=\"display:none;\">\n",
              "\n",
              "  <svg xmlns=\"http://www.w3.org/2000/svg\" height=\"24px\" viewBox=\"0 -960 960 960\">\n",
              "    <path d=\"M120-120v-720h720v720H120Zm60-500h600v-160H180v160Zm220 220h160v-160H400v160Zm0 220h160v-160H400v160ZM180-400h160v-160H180v160Zm440 0h160v-160H620v160ZM180-180h160v-160H180v160Zm440 0h160v-160H620v160Z\"/>\n",
              "  </svg>\n",
              "    </button>\n",
              "\n",
              "  <style>\n",
              "    .colab-df-container {\n",
              "      display:flex;\n",
              "      gap: 12px;\n",
              "    }\n",
              "\n",
              "    .colab-df-convert {\n",
              "      background-color: #E8F0FE;\n",
              "      border: none;\n",
              "      border-radius: 50%;\n",
              "      cursor: pointer;\n",
              "      display: none;\n",
              "      fill: #1967D2;\n",
              "      height: 32px;\n",
              "      padding: 0 0 0 0;\n",
              "      width: 32px;\n",
              "    }\n",
              "\n",
              "    .colab-df-convert:hover {\n",
              "      background-color: #E2EBFA;\n",
              "      box-shadow: 0px 1px 2px rgba(60, 64, 67, 0.3), 0px 1px 3px 1px rgba(60, 64, 67, 0.15);\n",
              "      fill: #174EA6;\n",
              "    }\n",
              "\n",
              "    .colab-df-buttons div {\n",
              "      margin-bottom: 4px;\n",
              "    }\n",
              "\n",
              "    [theme=dark] .colab-df-convert {\n",
              "      background-color: #3B4455;\n",
              "      fill: #D2E3FC;\n",
              "    }\n",
              "\n",
              "    [theme=dark] .colab-df-convert:hover {\n",
              "      background-color: #434B5C;\n",
              "      box-shadow: 0px 1px 3px 1px rgba(0, 0, 0, 0.15);\n",
              "      filter: drop-shadow(0px 1px 2px rgba(0, 0, 0, 0.3));\n",
              "      fill: #FFFFFF;\n",
              "    }\n",
              "  </style>\n",
              "\n",
              "    <script>\n",
              "      const buttonEl =\n",
              "        document.querySelector('#df-e8490d79-c439-4ed6-a581-4a33dbb1f8e6 button.colab-df-convert');\n",
              "      buttonEl.style.display =\n",
              "        google.colab.kernel.accessAllowed ? 'block' : 'none';\n",
              "\n",
              "      async function convertToInteractive(key) {\n",
              "        const element = document.querySelector('#df-e8490d79-c439-4ed6-a581-4a33dbb1f8e6');\n",
              "        const dataTable =\n",
              "          await google.colab.kernel.invokeFunction('convertToInteractive',\n",
              "                                                    [key], {});\n",
              "        if (!dataTable) return;\n",
              "\n",
              "        const docLinkHtml = 'Like what you see? Visit the ' +\n",
              "          '<a target=\"_blank\" href=https://colab.research.google.com/notebooks/data_table.ipynb>data table notebook</a>'\n",
              "          + ' to learn more about interactive tables.';\n",
              "        element.innerHTML = '';\n",
              "        dataTable['output_type'] = 'display_data';\n",
              "        await google.colab.output.renderOutput(dataTable, element);\n",
              "        const docLink = document.createElement('div');\n",
              "        docLink.innerHTML = docLinkHtml;\n",
              "        element.appendChild(docLink);\n",
              "      }\n",
              "    </script>\n",
              "  </div>\n",
              "\n",
              "\n",
              "    <div id=\"df-a8961402-f956-4f16-879c-247d409135aa\">\n",
              "      <button class=\"colab-df-quickchart\" onclick=\"quickchart('df-a8961402-f956-4f16-879c-247d409135aa')\"\n",
              "                title=\"Suggest charts\"\n",
              "                style=\"display:none;\">\n",
              "\n",
              "<svg xmlns=\"http://www.w3.org/2000/svg\" height=\"24px\"viewBox=\"0 0 24 24\"\n",
              "     width=\"24px\">\n",
              "    <g>\n",
              "        <path d=\"M19 3H5c-1.1 0-2 .9-2 2v14c0 1.1.9 2 2 2h14c1.1 0 2-.9 2-2V5c0-1.1-.9-2-2-2zM9 17H7v-7h2v7zm4 0h-2V7h2v10zm4 0h-2v-4h2v4z\"/>\n",
              "    </g>\n",
              "</svg>\n",
              "      </button>\n",
              "\n",
              "<style>\n",
              "  .colab-df-quickchart {\n",
              "      --bg-color: #E8F0FE;\n",
              "      --fill-color: #1967D2;\n",
              "      --hover-bg-color: #E2EBFA;\n",
              "      --hover-fill-color: #174EA6;\n",
              "      --disabled-fill-color: #AAA;\n",
              "      --disabled-bg-color: #DDD;\n",
              "  }\n",
              "\n",
              "  [theme=dark] .colab-df-quickchart {\n",
              "      --bg-color: #3B4455;\n",
              "      --fill-color: #D2E3FC;\n",
              "      --hover-bg-color: #434B5C;\n",
              "      --hover-fill-color: #FFFFFF;\n",
              "      --disabled-bg-color: #3B4455;\n",
              "      --disabled-fill-color: #666;\n",
              "  }\n",
              "\n",
              "  .colab-df-quickchart {\n",
              "    background-color: var(--bg-color);\n",
              "    border: none;\n",
              "    border-radius: 50%;\n",
              "    cursor: pointer;\n",
              "    display: none;\n",
              "    fill: var(--fill-color);\n",
              "    height: 32px;\n",
              "    padding: 0;\n",
              "    width: 32px;\n",
              "  }\n",
              "\n",
              "  .colab-df-quickchart:hover {\n",
              "    background-color: var(--hover-bg-color);\n",
              "    box-shadow: 0 1px 2px rgba(60, 64, 67, 0.3), 0 1px 3px 1px rgba(60, 64, 67, 0.15);\n",
              "    fill: var(--button-hover-fill-color);\n",
              "  }\n",
              "\n",
              "  .colab-df-quickchart-complete:disabled,\n",
              "  .colab-df-quickchart-complete:disabled:hover {\n",
              "    background-color: var(--disabled-bg-color);\n",
              "    fill: var(--disabled-fill-color);\n",
              "    box-shadow: none;\n",
              "  }\n",
              "\n",
              "  .colab-df-spinner {\n",
              "    border: 2px solid var(--fill-color);\n",
              "    border-color: transparent;\n",
              "    border-bottom-color: var(--fill-color);\n",
              "    animation:\n",
              "      spin 1s steps(1) infinite;\n",
              "  }\n",
              "\n",
              "  @keyframes spin {\n",
              "    0% {\n",
              "      border-color: transparent;\n",
              "      border-bottom-color: var(--fill-color);\n",
              "      border-left-color: var(--fill-color);\n",
              "    }\n",
              "    20% {\n",
              "      border-color: transparent;\n",
              "      border-left-color: var(--fill-color);\n",
              "      border-top-color: var(--fill-color);\n",
              "    }\n",
              "    30% {\n",
              "      border-color: transparent;\n",
              "      border-left-color: var(--fill-color);\n",
              "      border-top-color: var(--fill-color);\n",
              "      border-right-color: var(--fill-color);\n",
              "    }\n",
              "    40% {\n",
              "      border-color: transparent;\n",
              "      border-right-color: var(--fill-color);\n",
              "      border-top-color: var(--fill-color);\n",
              "    }\n",
              "    60% {\n",
              "      border-color: transparent;\n",
              "      border-right-color: var(--fill-color);\n",
              "    }\n",
              "    80% {\n",
              "      border-color: transparent;\n",
              "      border-right-color: var(--fill-color);\n",
              "      border-bottom-color: var(--fill-color);\n",
              "    }\n",
              "    90% {\n",
              "      border-color: transparent;\n",
              "      border-bottom-color: var(--fill-color);\n",
              "    }\n",
              "  }\n",
              "</style>\n",
              "\n",
              "      <script>\n",
              "        async function quickchart(key) {\n",
              "          const quickchartButtonEl =\n",
              "            document.querySelector('#' + key + ' button');\n",
              "          quickchartButtonEl.disabled = true;  // To prevent multiple clicks.\n",
              "          quickchartButtonEl.classList.add('colab-df-spinner');\n",
              "          try {\n",
              "            const charts = await google.colab.kernel.invokeFunction(\n",
              "                'suggestCharts', [key], {});\n",
              "          } catch (error) {\n",
              "            console.error('Error during call to suggestCharts:', error);\n",
              "          }\n",
              "          quickchartButtonEl.classList.remove('colab-df-spinner');\n",
              "          quickchartButtonEl.classList.add('colab-df-quickchart-complete');\n",
              "        }\n",
              "        (() => {\n",
              "          let quickchartButtonEl =\n",
              "            document.querySelector('#df-a8961402-f956-4f16-879c-247d409135aa button');\n",
              "          quickchartButtonEl.style.display =\n",
              "            google.colab.kernel.accessAllowed ? 'block' : 'none';\n",
              "        })();\n",
              "      </script>\n",
              "    </div>\n",
              "\n",
              "  <div id=\"id_33d64dc0-67a4-4cf0-ae40-729beaa2b8b5\">\n",
              "    <style>\n",
              "      .colab-df-generate {\n",
              "        background-color: #E8F0FE;\n",
              "        border: none;\n",
              "        border-radius: 50%;\n",
              "        cursor: pointer;\n",
              "        display: none;\n",
              "        fill: #1967D2;\n",
              "        height: 32px;\n",
              "        padding: 0 0 0 0;\n",
              "        width: 32px;\n",
              "      }\n",
              "\n",
              "      .colab-df-generate:hover {\n",
              "        background-color: #E2EBFA;\n",
              "        box-shadow: 0px 1px 2px rgba(60, 64, 67, 0.3), 0px 1px 3px 1px rgba(60, 64, 67, 0.15);\n",
              "        fill: #174EA6;\n",
              "      }\n",
              "\n",
              "      [theme=dark] .colab-df-generate {\n",
              "        background-color: #3B4455;\n",
              "        fill: #D2E3FC;\n",
              "      }\n",
              "\n",
              "      [theme=dark] .colab-df-generate:hover {\n",
              "        background-color: #434B5C;\n",
              "        box-shadow: 0px 1px 3px 1px rgba(0, 0, 0, 0.15);\n",
              "        filter: drop-shadow(0px 1px 2px rgba(0, 0, 0, 0.3));\n",
              "        fill: #FFFFFF;\n",
              "      }\n",
              "    </style>\n",
              "    <button class=\"colab-df-generate\" onclick=\"generateWithVariable('df_combinado')\"\n",
              "            title=\"Generate code using this dataframe.\"\n",
              "            style=\"display:none;\">\n",
              "\n",
              "  <svg xmlns=\"http://www.w3.org/2000/svg\" height=\"24px\"viewBox=\"0 0 24 24\"\n",
              "       width=\"24px\">\n",
              "    <path d=\"M7,19H8.4L18.45,9,17,7.55,7,17.6ZM5,21V16.75L18.45,3.32a2,2,0,0,1,2.83,0l1.4,1.43a1.91,1.91,0,0,1,.58,1.4,1.91,1.91,0,0,1-.58,1.4L9.25,21ZM18.45,9,17,7.55Zm-12,3A5.31,5.31,0,0,0,4.9,8.1,5.31,5.31,0,0,0,1,6.5,5.31,5.31,0,0,0,4.9,4.9,5.31,5.31,0,0,0,6.5,1,5.31,5.31,0,0,0,8.1,4.9,5.31,5.31,0,0,0,12,6.5,5.46,5.46,0,0,0,6.5,12Z\"/>\n",
              "  </svg>\n",
              "    </button>\n",
              "    <script>\n",
              "      (() => {\n",
              "      const buttonEl =\n",
              "        document.querySelector('#id_33d64dc0-67a4-4cf0-ae40-729beaa2b8b5 button.colab-df-generate');\n",
              "      buttonEl.style.display =\n",
              "        google.colab.kernel.accessAllowed ? 'block' : 'none';\n",
              "\n",
              "      buttonEl.onclick = () => {\n",
              "        google.colab.notebook.generateWithVariable('df_combinado');\n",
              "      }\n",
              "      })();\n",
              "    </script>\n",
              "  </div>\n",
              "\n",
              "    </div>\n",
              "  </div>\n"
            ],
            "application/vnd.google.colaboratory.intrinsic+json": {
              "type": "dataframe",
              "variable_name": "df_combinado",
              "summary": "{\n  \"name\": \"df_combinado\",\n  \"rows\": 4,\n  \"fields\": [\n    {\n      \"column\": \"Estudiante\",\n      \"properties\": {\n        \"dtype\": \"string\",\n        \"num_unique_values\": 4,\n        \"samples\": [\n          \"Mar\\u00eda\",\n          \"Ana\",\n          \"Juan\"\n        ],\n        \"semantic_type\": \"\",\n        \"description\": \"\"\n      }\n    },\n    {\n      \"column\": \"Curso\",\n      \"properties\": {\n        \"dtype\": \"string\",\n        \"num_unique_values\": 2,\n        \"samples\": [\n          \"B\",\n          \"A\"\n        ],\n        \"semantic_type\": \"\",\n        \"description\": \"\"\n      }\n    },\n    {\n      \"column\": \"Nota_Final\",\n      \"properties\": {\n        \"dtype\": \"number\",\n        \"std\": 1,\n        \"min\": 6,\n        \"max\": 9,\n        \"num_unique_values\": 4,\n        \"samples\": [\n          9,\n          8\n        ],\n        \"semantic_type\": \"\",\n        \"description\": \"\"\n      }\n    }\n  ]\n}"
            }
          },
          "metadata": {},
          "execution_count": 23
        }
      ]
    },
    {
      "cell_type": "code",
      "source": [
        "# Calcular el promedoo de cada aspirante\n",
        "print(df)"
      ],
      "metadata": {
        "colab": {
          "base_uri": "https://localhost:8080/"
        },
        "id": "BGFUd58fai9c",
        "outputId": "7b1244ae-902a-4f99-ffb0-65b3269c5bed"
      },
      "execution_count": null,
      "outputs": [
        {
          "output_type": "stream",
          "name": "stdout",
          "text": [
            "  Estudiante Curso  Matemáticas  Lengua  Ciencias  Promedio\n",
            "0       Juan     A          8.0       7         6       7.5\n",
            "1      María     A          9.0       9         8       9.0\n",
            "2      Pedro     B          NaN       8         7       7.0\n",
            "3        Ana     B          7.0       6         5       6.5\n",
            "4       Luis     A          8.0       8         6       8.0\n",
            "5      Sofía     A          9.0       7         8       8.0\n",
            "6     Carlos     B          5.0       6         4       5.5\n",
            "7      Elena     B          6.0       7         6       6.5\n"
          ]
        }
      ]
    },
    {
      "cell_type": "code",
      "source": [
        "# Calcular el  promedio por estudiante\n",
        "df['Promedio']  =  df[['Matemáticas', 'Lengua', 'Ciencias']].mean(axis = 1)\n",
        "\n",
        "df['Promedio'] =  df['Promedio'].round(2)\n",
        "\n",
        "df[['Estudiante', 'Promedio']]"
      ],
      "metadata": {
        "colab": {
          "base_uri": "https://localhost:8080/",
          "height": 300
        },
        "id": "3LSBi8aTamJ5",
        "outputId": "ef1e4064-bd0b-420f-ccf2-efc4ca2f319f"
      },
      "execution_count": null,
      "outputs": [
        {
          "output_type": "execute_result",
          "data": {
            "text/plain": [
              "  Estudiante  Promedio\n",
              "0       Juan      7.00\n",
              "1      María      8.67\n",
              "2      Pedro      7.50\n",
              "3        Ana      6.00\n",
              "4       Luis      7.33\n",
              "5      Sofía      8.00\n",
              "6     Carlos      5.00\n",
              "7      Elena      6.33"
            ],
            "text/html": [
              "\n",
              "  <div id=\"df-6a2210cb-ac81-4da4-b2f0-c31e593389a4\" class=\"colab-df-container\">\n",
              "    <div>\n",
              "<style scoped>\n",
              "    .dataframe tbody tr th:only-of-type {\n",
              "        vertical-align: middle;\n",
              "    }\n",
              "\n",
              "    .dataframe tbody tr th {\n",
              "        vertical-align: top;\n",
              "    }\n",
              "\n",
              "    .dataframe thead th {\n",
              "        text-align: right;\n",
              "    }\n",
              "</style>\n",
              "<table border=\"1\" class=\"dataframe\">\n",
              "  <thead>\n",
              "    <tr style=\"text-align: right;\">\n",
              "      <th></th>\n",
              "      <th>Estudiante</th>\n",
              "      <th>Promedio</th>\n",
              "    </tr>\n",
              "  </thead>\n",
              "  <tbody>\n",
              "    <tr>\n",
              "      <th>0</th>\n",
              "      <td>Juan</td>\n",
              "      <td>7.00</td>\n",
              "    </tr>\n",
              "    <tr>\n",
              "      <th>1</th>\n",
              "      <td>María</td>\n",
              "      <td>8.67</td>\n",
              "    </tr>\n",
              "    <tr>\n",
              "      <th>2</th>\n",
              "      <td>Pedro</td>\n",
              "      <td>7.50</td>\n",
              "    </tr>\n",
              "    <tr>\n",
              "      <th>3</th>\n",
              "      <td>Ana</td>\n",
              "      <td>6.00</td>\n",
              "    </tr>\n",
              "    <tr>\n",
              "      <th>4</th>\n",
              "      <td>Luis</td>\n",
              "      <td>7.33</td>\n",
              "    </tr>\n",
              "    <tr>\n",
              "      <th>5</th>\n",
              "      <td>Sofía</td>\n",
              "      <td>8.00</td>\n",
              "    </tr>\n",
              "    <tr>\n",
              "      <th>6</th>\n",
              "      <td>Carlos</td>\n",
              "      <td>5.00</td>\n",
              "    </tr>\n",
              "    <tr>\n",
              "      <th>7</th>\n",
              "      <td>Elena</td>\n",
              "      <td>6.33</td>\n",
              "    </tr>\n",
              "  </tbody>\n",
              "</table>\n",
              "</div>\n",
              "    <div class=\"colab-df-buttons\">\n",
              "\n",
              "  <div class=\"colab-df-container\">\n",
              "    <button class=\"colab-df-convert\" onclick=\"convertToInteractive('df-6a2210cb-ac81-4da4-b2f0-c31e593389a4')\"\n",
              "            title=\"Convert this dataframe to an interactive table.\"\n",
              "            style=\"display:none;\">\n",
              "\n",
              "  <svg xmlns=\"http://www.w3.org/2000/svg\" height=\"24px\" viewBox=\"0 -960 960 960\">\n",
              "    <path d=\"M120-120v-720h720v720H120Zm60-500h600v-160H180v160Zm220 220h160v-160H400v160Zm0 220h160v-160H400v160ZM180-400h160v-160H180v160Zm440 0h160v-160H620v160ZM180-180h160v-160H180v160Zm440 0h160v-160H620v160Z\"/>\n",
              "  </svg>\n",
              "    </button>\n",
              "\n",
              "  <style>\n",
              "    .colab-df-container {\n",
              "      display:flex;\n",
              "      gap: 12px;\n",
              "    }\n",
              "\n",
              "    .colab-df-convert {\n",
              "      background-color: #E8F0FE;\n",
              "      border: none;\n",
              "      border-radius: 50%;\n",
              "      cursor: pointer;\n",
              "      display: none;\n",
              "      fill: #1967D2;\n",
              "      height: 32px;\n",
              "      padding: 0 0 0 0;\n",
              "      width: 32px;\n",
              "    }\n",
              "\n",
              "    .colab-df-convert:hover {\n",
              "      background-color: #E2EBFA;\n",
              "      box-shadow: 0px 1px 2px rgba(60, 64, 67, 0.3), 0px 1px 3px 1px rgba(60, 64, 67, 0.15);\n",
              "      fill: #174EA6;\n",
              "    }\n",
              "\n",
              "    .colab-df-buttons div {\n",
              "      margin-bottom: 4px;\n",
              "    }\n",
              "\n",
              "    [theme=dark] .colab-df-convert {\n",
              "      background-color: #3B4455;\n",
              "      fill: #D2E3FC;\n",
              "    }\n",
              "\n",
              "    [theme=dark] .colab-df-convert:hover {\n",
              "      background-color: #434B5C;\n",
              "      box-shadow: 0px 1px 3px 1px rgba(0, 0, 0, 0.15);\n",
              "      filter: drop-shadow(0px 1px 2px rgba(0, 0, 0, 0.3));\n",
              "      fill: #FFFFFF;\n",
              "    }\n",
              "  </style>\n",
              "\n",
              "    <script>\n",
              "      const buttonEl =\n",
              "        document.querySelector('#df-6a2210cb-ac81-4da4-b2f0-c31e593389a4 button.colab-df-convert');\n",
              "      buttonEl.style.display =\n",
              "        google.colab.kernel.accessAllowed ? 'block' : 'none';\n",
              "\n",
              "      async function convertToInteractive(key) {\n",
              "        const element = document.querySelector('#df-6a2210cb-ac81-4da4-b2f0-c31e593389a4');\n",
              "        const dataTable =\n",
              "          await google.colab.kernel.invokeFunction('convertToInteractive',\n",
              "                                                    [key], {});\n",
              "        if (!dataTable) return;\n",
              "\n",
              "        const docLinkHtml = 'Like what you see? Visit the ' +\n",
              "          '<a target=\"_blank\" href=https://colab.research.google.com/notebooks/data_table.ipynb>data table notebook</a>'\n",
              "          + ' to learn more about interactive tables.';\n",
              "        element.innerHTML = '';\n",
              "        dataTable['output_type'] = 'display_data';\n",
              "        await google.colab.output.renderOutput(dataTable, element);\n",
              "        const docLink = document.createElement('div');\n",
              "        docLink.innerHTML = docLinkHtml;\n",
              "        element.appendChild(docLink);\n",
              "      }\n",
              "    </script>\n",
              "  </div>\n",
              "\n",
              "\n",
              "    <div id=\"df-e1866263-a26f-4761-a8c8-dbd3844e0417\">\n",
              "      <button class=\"colab-df-quickchart\" onclick=\"quickchart('df-e1866263-a26f-4761-a8c8-dbd3844e0417')\"\n",
              "                title=\"Suggest charts\"\n",
              "                style=\"display:none;\">\n",
              "\n",
              "<svg xmlns=\"http://www.w3.org/2000/svg\" height=\"24px\"viewBox=\"0 0 24 24\"\n",
              "     width=\"24px\">\n",
              "    <g>\n",
              "        <path d=\"M19 3H5c-1.1 0-2 .9-2 2v14c0 1.1.9 2 2 2h14c1.1 0 2-.9 2-2V5c0-1.1-.9-2-2-2zM9 17H7v-7h2v7zm4 0h-2V7h2v10zm4 0h-2v-4h2v4z\"/>\n",
              "    </g>\n",
              "</svg>\n",
              "      </button>\n",
              "\n",
              "<style>\n",
              "  .colab-df-quickchart {\n",
              "      --bg-color: #E8F0FE;\n",
              "      --fill-color: #1967D2;\n",
              "      --hover-bg-color: #E2EBFA;\n",
              "      --hover-fill-color: #174EA6;\n",
              "      --disabled-fill-color: #AAA;\n",
              "      --disabled-bg-color: #DDD;\n",
              "  }\n",
              "\n",
              "  [theme=dark] .colab-df-quickchart {\n",
              "      --bg-color: #3B4455;\n",
              "      --fill-color: #D2E3FC;\n",
              "      --hover-bg-color: #434B5C;\n",
              "      --hover-fill-color: #FFFFFF;\n",
              "      --disabled-bg-color: #3B4455;\n",
              "      --disabled-fill-color: #666;\n",
              "  }\n",
              "\n",
              "  .colab-df-quickchart {\n",
              "    background-color: var(--bg-color);\n",
              "    border: none;\n",
              "    border-radius: 50%;\n",
              "    cursor: pointer;\n",
              "    display: none;\n",
              "    fill: var(--fill-color);\n",
              "    height: 32px;\n",
              "    padding: 0;\n",
              "    width: 32px;\n",
              "  }\n",
              "\n",
              "  .colab-df-quickchart:hover {\n",
              "    background-color: var(--hover-bg-color);\n",
              "    box-shadow: 0 1px 2px rgba(60, 64, 67, 0.3), 0 1px 3px 1px rgba(60, 64, 67, 0.15);\n",
              "    fill: var(--button-hover-fill-color);\n",
              "  }\n",
              "\n",
              "  .colab-df-quickchart-complete:disabled,\n",
              "  .colab-df-quickchart-complete:disabled:hover {\n",
              "    background-color: var(--disabled-bg-color);\n",
              "    fill: var(--disabled-fill-color);\n",
              "    box-shadow: none;\n",
              "  }\n",
              "\n",
              "  .colab-df-spinner {\n",
              "    border: 2px solid var(--fill-color);\n",
              "    border-color: transparent;\n",
              "    border-bottom-color: var(--fill-color);\n",
              "    animation:\n",
              "      spin 1s steps(1) infinite;\n",
              "  }\n",
              "\n",
              "  @keyframes spin {\n",
              "    0% {\n",
              "      border-color: transparent;\n",
              "      border-bottom-color: var(--fill-color);\n",
              "      border-left-color: var(--fill-color);\n",
              "    }\n",
              "    20% {\n",
              "      border-color: transparent;\n",
              "      border-left-color: var(--fill-color);\n",
              "      border-top-color: var(--fill-color);\n",
              "    }\n",
              "    30% {\n",
              "      border-color: transparent;\n",
              "      border-left-color: var(--fill-color);\n",
              "      border-top-color: var(--fill-color);\n",
              "      border-right-color: var(--fill-color);\n",
              "    }\n",
              "    40% {\n",
              "      border-color: transparent;\n",
              "      border-right-color: var(--fill-color);\n",
              "      border-top-color: var(--fill-color);\n",
              "    }\n",
              "    60% {\n",
              "      border-color: transparent;\n",
              "      border-right-color: var(--fill-color);\n",
              "    }\n",
              "    80% {\n",
              "      border-color: transparent;\n",
              "      border-right-color: var(--fill-color);\n",
              "      border-bottom-color: var(--fill-color);\n",
              "    }\n",
              "    90% {\n",
              "      border-color: transparent;\n",
              "      border-bottom-color: var(--fill-color);\n",
              "    }\n",
              "  }\n",
              "</style>\n",
              "\n",
              "      <script>\n",
              "        async function quickchart(key) {\n",
              "          const quickchartButtonEl =\n",
              "            document.querySelector('#' + key + ' button');\n",
              "          quickchartButtonEl.disabled = true;  // To prevent multiple clicks.\n",
              "          quickchartButtonEl.classList.add('colab-df-spinner');\n",
              "          try {\n",
              "            const charts = await google.colab.kernel.invokeFunction(\n",
              "                'suggestCharts', [key], {});\n",
              "          } catch (error) {\n",
              "            console.error('Error during call to suggestCharts:', error);\n",
              "          }\n",
              "          quickchartButtonEl.classList.remove('colab-df-spinner');\n",
              "          quickchartButtonEl.classList.add('colab-df-quickchart-complete');\n",
              "        }\n",
              "        (() => {\n",
              "          let quickchartButtonEl =\n",
              "            document.querySelector('#df-e1866263-a26f-4761-a8c8-dbd3844e0417 button');\n",
              "          quickchartButtonEl.style.display =\n",
              "            google.colab.kernel.accessAllowed ? 'block' : 'none';\n",
              "        })();\n",
              "      </script>\n",
              "    </div>\n",
              "\n",
              "    </div>\n",
              "  </div>\n"
            ],
            "application/vnd.google.colaboratory.intrinsic+json": {
              "type": "dataframe",
              "summary": "{\n  \"name\": \"df[['Estudiante', 'Promedio']]\",\n  \"rows\": 8,\n  \"fields\": [\n    {\n      \"column\": \"Estudiante\",\n      \"properties\": {\n        \"dtype\": \"string\",\n        \"num_unique_values\": 8,\n        \"samples\": [\n          \"Mar\\u00eda\",\n          \"Sof\\u00eda\",\n          \"Juan\"\n        ],\n        \"semantic_type\": \"\",\n        \"description\": \"\"\n      }\n    },\n    {\n      \"column\": \"Promedio\",\n      \"properties\": {\n        \"dtype\": \"number\",\n        \"std\": 1.1706583922855425,\n        \"min\": 5.0,\n        \"max\": 8.67,\n        \"num_unique_values\": 8,\n        \"samples\": [\n          8.67,\n          8.0,\n          7.0\n        ],\n        \"semantic_type\": \"\",\n        \"description\": \"\"\n      }\n    }\n  ]\n}"
            }
          },
          "metadata": {},
          "execution_count": 25
        }
      ]
    },
    {
      "cell_type": "code",
      "source": [
        "# Conta el numero promedio de estudiante ppor cursop\n",
        "conteo_cursos =  df['Curso'].value_counts()\n",
        "\n",
        "# Mostrar el conteo por curso\n",
        "print(conteo_cursos)"
      ],
      "metadata": {
        "colab": {
          "base_uri": "https://localhost:8080/"
        },
        "id": "YkQTX_OYa4T_",
        "outputId": "2853e554-d350-415c-e339-b32c074b8f3f"
      },
      "execution_count": null,
      "outputs": [
        {
          "output_type": "stream",
          "name": "stdout",
          "text": [
            "Curso\n",
            "A    4\n",
            "B    4\n",
            "Name: count, dtype: int64\n"
          ]
        }
      ]
    },
    {
      "cell_type": "code",
      "source": [
        "# Ordena el el dataframe por el promedio de mayor a menor\n",
        "df_ordenado =  df.sort_values(by = 'Promedio', ascending =  False)\n",
        "\n",
        "# Mostrar el DataFrame ordenado\n",
        "print(df_ordenado[['Estudiante', 'Promedio']])"
      ],
      "metadata": {
        "colab": {
          "base_uri": "https://localhost:8080/"
        },
        "id": "MS2XGLfQbECd",
        "outputId": "ffcfbdc4-bb20-4fbc-ea87-458e6f8dca78"
      },
      "execution_count": null,
      "outputs": [
        {
          "output_type": "stream",
          "name": "stdout",
          "text": [
            "  Estudiante  Promedio\n",
            "1      María      8.67\n",
            "5      Sofía      8.00\n",
            "2      Pedro      7.50\n",
            "4       Luis      7.33\n",
            "0       Juan      7.00\n",
            "7      Elena      6.33\n",
            "3        Ana      6.00\n",
            "6     Carlos      5.00\n"
          ]
        }
      ]
    },
    {
      "cell_type": "code",
      "source": [
        "# Filtrar los estudiantes con alguna  asignatura reprobada\n",
        "estudiantes_reprobados  = df[(df['Matemáticas'] < 5) | (df['Lengua'] < 5) | (df['Ciencias'] < 5)]\n",
        "\n",
        "estudiantes_reprobados[['Estudiante', 'Matemáticas', 'Lengua', 'Ciencias']]\n"
      ],
      "metadata": {
        "colab": {
          "base_uri": "https://localhost:8080/",
          "height": 81
        },
        "id": "vuXgxerKbebh",
        "outputId": "74862044-acc0-4c44-8e8a-41de4750c396"
      },
      "execution_count": null,
      "outputs": [
        {
          "output_type": "execute_result",
          "data": {
            "text/plain": [
              "  Estudiante  Matemáticas  Lengua  Ciencias\n",
              "6     Carlos          5.0       6         4"
            ],
            "text/html": [
              "\n",
              "  <div id=\"df-8d0ad884-6fe8-4f5c-9cd3-d7b06b338b2f\" class=\"colab-df-container\">\n",
              "    <div>\n",
              "<style scoped>\n",
              "    .dataframe tbody tr th:only-of-type {\n",
              "        vertical-align: middle;\n",
              "    }\n",
              "\n",
              "    .dataframe tbody tr th {\n",
              "        vertical-align: top;\n",
              "    }\n",
              "\n",
              "    .dataframe thead th {\n",
              "        text-align: right;\n",
              "    }\n",
              "</style>\n",
              "<table border=\"1\" class=\"dataframe\">\n",
              "  <thead>\n",
              "    <tr style=\"text-align: right;\">\n",
              "      <th></th>\n",
              "      <th>Estudiante</th>\n",
              "      <th>Matemáticas</th>\n",
              "      <th>Lengua</th>\n",
              "      <th>Ciencias</th>\n",
              "    </tr>\n",
              "  </thead>\n",
              "  <tbody>\n",
              "    <tr>\n",
              "      <th>6</th>\n",
              "      <td>Carlos</td>\n",
              "      <td>5.0</td>\n",
              "      <td>6</td>\n",
              "      <td>4</td>\n",
              "    </tr>\n",
              "  </tbody>\n",
              "</table>\n",
              "</div>\n",
              "    <div class=\"colab-df-buttons\">\n",
              "\n",
              "  <div class=\"colab-df-container\">\n",
              "    <button class=\"colab-df-convert\" onclick=\"convertToInteractive('df-8d0ad884-6fe8-4f5c-9cd3-d7b06b338b2f')\"\n",
              "            title=\"Convert this dataframe to an interactive table.\"\n",
              "            style=\"display:none;\">\n",
              "\n",
              "  <svg xmlns=\"http://www.w3.org/2000/svg\" height=\"24px\" viewBox=\"0 -960 960 960\">\n",
              "    <path d=\"M120-120v-720h720v720H120Zm60-500h600v-160H180v160Zm220 220h160v-160H400v160Zm0 220h160v-160H400v160ZM180-400h160v-160H180v160Zm440 0h160v-160H620v160ZM180-180h160v-160H180v160Zm440 0h160v-160H620v160Z\"/>\n",
              "  </svg>\n",
              "    </button>\n",
              "\n",
              "  <style>\n",
              "    .colab-df-container {\n",
              "      display:flex;\n",
              "      gap: 12px;\n",
              "    }\n",
              "\n",
              "    .colab-df-convert {\n",
              "      background-color: #E8F0FE;\n",
              "      border: none;\n",
              "      border-radius: 50%;\n",
              "      cursor: pointer;\n",
              "      display: none;\n",
              "      fill: #1967D2;\n",
              "      height: 32px;\n",
              "      padding: 0 0 0 0;\n",
              "      width: 32px;\n",
              "    }\n",
              "\n",
              "    .colab-df-convert:hover {\n",
              "      background-color: #E2EBFA;\n",
              "      box-shadow: 0px 1px 2px rgba(60, 64, 67, 0.3), 0px 1px 3px 1px rgba(60, 64, 67, 0.15);\n",
              "      fill: #174EA6;\n",
              "    }\n",
              "\n",
              "    .colab-df-buttons div {\n",
              "      margin-bottom: 4px;\n",
              "    }\n",
              "\n",
              "    [theme=dark] .colab-df-convert {\n",
              "      background-color: #3B4455;\n",
              "      fill: #D2E3FC;\n",
              "    }\n",
              "\n",
              "    [theme=dark] .colab-df-convert:hover {\n",
              "      background-color: #434B5C;\n",
              "      box-shadow: 0px 1px 3px 1px rgba(0, 0, 0, 0.15);\n",
              "      filter: drop-shadow(0px 1px 2px rgba(0, 0, 0, 0.3));\n",
              "      fill: #FFFFFF;\n",
              "    }\n",
              "  </style>\n",
              "\n",
              "    <script>\n",
              "      const buttonEl =\n",
              "        document.querySelector('#df-8d0ad884-6fe8-4f5c-9cd3-d7b06b338b2f button.colab-df-convert');\n",
              "      buttonEl.style.display =\n",
              "        google.colab.kernel.accessAllowed ? 'block' : 'none';\n",
              "\n",
              "      async function convertToInteractive(key) {\n",
              "        const element = document.querySelector('#df-8d0ad884-6fe8-4f5c-9cd3-d7b06b338b2f');\n",
              "        const dataTable =\n",
              "          await google.colab.kernel.invokeFunction('convertToInteractive',\n",
              "                                                    [key], {});\n",
              "        if (!dataTable) return;\n",
              "\n",
              "        const docLinkHtml = 'Like what you see? Visit the ' +\n",
              "          '<a target=\"_blank\" href=https://colab.research.google.com/notebooks/data_table.ipynb>data table notebook</a>'\n",
              "          + ' to learn more about interactive tables.';\n",
              "        element.innerHTML = '';\n",
              "        dataTable['output_type'] = 'display_data';\n",
              "        await google.colab.output.renderOutput(dataTable, element);\n",
              "        const docLink = document.createElement('div');\n",
              "        docLink.innerHTML = docLinkHtml;\n",
              "        element.appendChild(docLink);\n",
              "      }\n",
              "    </script>\n",
              "  </div>\n",
              "\n",
              "\n",
              "    </div>\n",
              "  </div>\n"
            ],
            "application/vnd.google.colaboratory.intrinsic+json": {
              "type": "dataframe",
              "summary": "{\n  \"name\": \"estudiantes_reprobados[['Estudiante', 'Matem\\u00e1ticas', 'Lengua', 'Ciencias']]\",\n  \"rows\": 1,\n  \"fields\": [\n    {\n      \"column\": \"Estudiante\",\n      \"properties\": {\n        \"dtype\": \"string\",\n        \"num_unique_values\": 1,\n        \"samples\": [\n          \"Carlos\"\n        ],\n        \"semantic_type\": \"\",\n        \"description\": \"\"\n      }\n    },\n    {\n      \"column\": \"Matem\\u00e1ticas\",\n      \"properties\": {\n        \"dtype\": \"number\",\n        \"std\": null,\n        \"min\": 5.0,\n        \"max\": 5.0,\n        \"num_unique_values\": 1,\n        \"samples\": [\n          5.0\n        ],\n        \"semantic_type\": \"\",\n        \"description\": \"\"\n      }\n    },\n    {\n      \"column\": \"Lengua\",\n      \"properties\": {\n        \"dtype\": \"number\",\n        \"std\": null,\n        \"min\": 6,\n        \"max\": 6,\n        \"num_unique_values\": 1,\n        \"samples\": [\n          6\n        ],\n        \"semantic_type\": \"\",\n        \"description\": \"\"\n      }\n    },\n    {\n      \"column\": \"Ciencias\",\n      \"properties\": {\n        \"dtype\": \"number\",\n        \"std\": null,\n        \"min\": 4,\n        \"max\": 4,\n        \"num_unique_values\": 1,\n        \"samples\": [\n          4\n        ],\n        \"semantic_type\": \"\",\n        \"description\": \"\"\n      }\n    }\n  ]\n}"
            }
          },
          "metadata": {},
          "execution_count": 30
        }
      ]
    },
    {
      "cell_type": "code",
      "source": [
        "# Agrupar los estudiantes por curso y calcular el promedio por curso\n",
        "df[['Matemáticas', 'Lengua', 'Ciencias']] = df[['Matemáticas', 'Lengua', 'Ciencias']].apply(pd.to_numeric, errors = 'coerce')\n",
        "\n",
        "promedios_curso =  df.groupby('Curso')[['Matemáticas', 'Lengua', 'Ciencias']].mean()\n",
        "\n",
        "promedios_curso"
      ],
      "metadata": {
        "colab": {
          "base_uri": "https://localhost:8080/",
          "height": 144
        },
        "id": "nZOpfSCudkxT",
        "outputId": "a87f5ba8-3ec6-4253-ca7b-e8fa0cd1eb9b"
      },
      "execution_count": null,
      "outputs": [
        {
          "output_type": "execute_result",
          "data": {
            "text/plain": [
              "       Matemáticas  Lengua  Ciencias\n",
              "Curso                               \n",
              "A              8.5    7.75       7.0\n",
              "B              6.0    6.75       5.5"
            ],
            "text/html": [
              "\n",
              "  <div id=\"df-096b8d75-14a6-48b8-943f-ecc5937980de\" class=\"colab-df-container\">\n",
              "    <div>\n",
              "<style scoped>\n",
              "    .dataframe tbody tr th:only-of-type {\n",
              "        vertical-align: middle;\n",
              "    }\n",
              "\n",
              "    .dataframe tbody tr th {\n",
              "        vertical-align: top;\n",
              "    }\n",
              "\n",
              "    .dataframe thead th {\n",
              "        text-align: right;\n",
              "    }\n",
              "</style>\n",
              "<table border=\"1\" class=\"dataframe\">\n",
              "  <thead>\n",
              "    <tr style=\"text-align: right;\">\n",
              "      <th></th>\n",
              "      <th>Matemáticas</th>\n",
              "      <th>Lengua</th>\n",
              "      <th>Ciencias</th>\n",
              "    </tr>\n",
              "    <tr>\n",
              "      <th>Curso</th>\n",
              "      <th></th>\n",
              "      <th></th>\n",
              "      <th></th>\n",
              "    </tr>\n",
              "  </thead>\n",
              "  <tbody>\n",
              "    <tr>\n",
              "      <th>A</th>\n",
              "      <td>8.5</td>\n",
              "      <td>7.75</td>\n",
              "      <td>7.0</td>\n",
              "    </tr>\n",
              "    <tr>\n",
              "      <th>B</th>\n",
              "      <td>6.0</td>\n",
              "      <td>6.75</td>\n",
              "      <td>5.5</td>\n",
              "    </tr>\n",
              "  </tbody>\n",
              "</table>\n",
              "</div>\n",
              "    <div class=\"colab-df-buttons\">\n",
              "\n",
              "  <div class=\"colab-df-container\">\n",
              "    <button class=\"colab-df-convert\" onclick=\"convertToInteractive('df-096b8d75-14a6-48b8-943f-ecc5937980de')\"\n",
              "            title=\"Convert this dataframe to an interactive table.\"\n",
              "            style=\"display:none;\">\n",
              "\n",
              "  <svg xmlns=\"http://www.w3.org/2000/svg\" height=\"24px\" viewBox=\"0 -960 960 960\">\n",
              "    <path d=\"M120-120v-720h720v720H120Zm60-500h600v-160H180v160Zm220 220h160v-160H400v160Zm0 220h160v-160H400v160ZM180-400h160v-160H180v160Zm440 0h160v-160H620v160ZM180-180h160v-160H180v160Zm440 0h160v-160H620v160Z\"/>\n",
              "  </svg>\n",
              "    </button>\n",
              "\n",
              "  <style>\n",
              "    .colab-df-container {\n",
              "      display:flex;\n",
              "      gap: 12px;\n",
              "    }\n",
              "\n",
              "    .colab-df-convert {\n",
              "      background-color: #E8F0FE;\n",
              "      border: none;\n",
              "      border-radius: 50%;\n",
              "      cursor: pointer;\n",
              "      display: none;\n",
              "      fill: #1967D2;\n",
              "      height: 32px;\n",
              "      padding: 0 0 0 0;\n",
              "      width: 32px;\n",
              "    }\n",
              "\n",
              "    .colab-df-convert:hover {\n",
              "      background-color: #E2EBFA;\n",
              "      box-shadow: 0px 1px 2px rgba(60, 64, 67, 0.3), 0px 1px 3px 1px rgba(60, 64, 67, 0.15);\n",
              "      fill: #174EA6;\n",
              "    }\n",
              "\n",
              "    .colab-df-buttons div {\n",
              "      margin-bottom: 4px;\n",
              "    }\n",
              "\n",
              "    [theme=dark] .colab-df-convert {\n",
              "      background-color: #3B4455;\n",
              "      fill: #D2E3FC;\n",
              "    }\n",
              "\n",
              "    [theme=dark] .colab-df-convert:hover {\n",
              "      background-color: #434B5C;\n",
              "      box-shadow: 0px 1px 3px 1px rgba(0, 0, 0, 0.15);\n",
              "      filter: drop-shadow(0px 1px 2px rgba(0, 0, 0, 0.3));\n",
              "      fill: #FFFFFF;\n",
              "    }\n",
              "  </style>\n",
              "\n",
              "    <script>\n",
              "      const buttonEl =\n",
              "        document.querySelector('#df-096b8d75-14a6-48b8-943f-ecc5937980de button.colab-df-convert');\n",
              "      buttonEl.style.display =\n",
              "        google.colab.kernel.accessAllowed ? 'block' : 'none';\n",
              "\n",
              "      async function convertToInteractive(key) {\n",
              "        const element = document.querySelector('#df-096b8d75-14a6-48b8-943f-ecc5937980de');\n",
              "        const dataTable =\n",
              "          await google.colab.kernel.invokeFunction('convertToInteractive',\n",
              "                                                    [key], {});\n",
              "        if (!dataTable) return;\n",
              "\n",
              "        const docLinkHtml = 'Like what you see? Visit the ' +\n",
              "          '<a target=\"_blank\" href=https://colab.research.google.com/notebooks/data_table.ipynb>data table notebook</a>'\n",
              "          + ' to learn more about interactive tables.';\n",
              "        element.innerHTML = '';\n",
              "        dataTable['output_type'] = 'display_data';\n",
              "        await google.colab.output.renderOutput(dataTable, element);\n",
              "        const docLink = document.createElement('div');\n",
              "        docLink.innerHTML = docLinkHtml;\n",
              "        element.appendChild(docLink);\n",
              "      }\n",
              "    </script>\n",
              "  </div>\n",
              "\n",
              "\n",
              "    <div id=\"df-a4956e51-9b7b-4ef0-8286-75760d8a5063\">\n",
              "      <button class=\"colab-df-quickchart\" onclick=\"quickchart('df-a4956e51-9b7b-4ef0-8286-75760d8a5063')\"\n",
              "                title=\"Suggest charts\"\n",
              "                style=\"display:none;\">\n",
              "\n",
              "<svg xmlns=\"http://www.w3.org/2000/svg\" height=\"24px\"viewBox=\"0 0 24 24\"\n",
              "     width=\"24px\">\n",
              "    <g>\n",
              "        <path d=\"M19 3H5c-1.1 0-2 .9-2 2v14c0 1.1.9 2 2 2h14c1.1 0 2-.9 2-2V5c0-1.1-.9-2-2-2zM9 17H7v-7h2v7zm4 0h-2V7h2v10zm4 0h-2v-4h2v4z\"/>\n",
              "    </g>\n",
              "</svg>\n",
              "      </button>\n",
              "\n",
              "<style>\n",
              "  .colab-df-quickchart {\n",
              "      --bg-color: #E8F0FE;\n",
              "      --fill-color: #1967D2;\n",
              "      --hover-bg-color: #E2EBFA;\n",
              "      --hover-fill-color: #174EA6;\n",
              "      --disabled-fill-color: #AAA;\n",
              "      --disabled-bg-color: #DDD;\n",
              "  }\n",
              "\n",
              "  [theme=dark] .colab-df-quickchart {\n",
              "      --bg-color: #3B4455;\n",
              "      --fill-color: #D2E3FC;\n",
              "      --hover-bg-color: #434B5C;\n",
              "      --hover-fill-color: #FFFFFF;\n",
              "      --disabled-bg-color: #3B4455;\n",
              "      --disabled-fill-color: #666;\n",
              "  }\n",
              "\n",
              "  .colab-df-quickchart {\n",
              "    background-color: var(--bg-color);\n",
              "    border: none;\n",
              "    border-radius: 50%;\n",
              "    cursor: pointer;\n",
              "    display: none;\n",
              "    fill: var(--fill-color);\n",
              "    height: 32px;\n",
              "    padding: 0;\n",
              "    width: 32px;\n",
              "  }\n",
              "\n",
              "  .colab-df-quickchart:hover {\n",
              "    background-color: var(--hover-bg-color);\n",
              "    box-shadow: 0 1px 2px rgba(60, 64, 67, 0.3), 0 1px 3px 1px rgba(60, 64, 67, 0.15);\n",
              "    fill: var(--button-hover-fill-color);\n",
              "  }\n",
              "\n",
              "  .colab-df-quickchart-complete:disabled,\n",
              "  .colab-df-quickchart-complete:disabled:hover {\n",
              "    background-color: var(--disabled-bg-color);\n",
              "    fill: var(--disabled-fill-color);\n",
              "    box-shadow: none;\n",
              "  }\n",
              "\n",
              "  .colab-df-spinner {\n",
              "    border: 2px solid var(--fill-color);\n",
              "    border-color: transparent;\n",
              "    border-bottom-color: var(--fill-color);\n",
              "    animation:\n",
              "      spin 1s steps(1) infinite;\n",
              "  }\n",
              "\n",
              "  @keyframes spin {\n",
              "    0% {\n",
              "      border-color: transparent;\n",
              "      border-bottom-color: var(--fill-color);\n",
              "      border-left-color: var(--fill-color);\n",
              "    }\n",
              "    20% {\n",
              "      border-color: transparent;\n",
              "      border-left-color: var(--fill-color);\n",
              "      border-top-color: var(--fill-color);\n",
              "    }\n",
              "    30% {\n",
              "      border-color: transparent;\n",
              "      border-left-color: var(--fill-color);\n",
              "      border-top-color: var(--fill-color);\n",
              "      border-right-color: var(--fill-color);\n",
              "    }\n",
              "    40% {\n",
              "      border-color: transparent;\n",
              "      border-right-color: var(--fill-color);\n",
              "      border-top-color: var(--fill-color);\n",
              "    }\n",
              "    60% {\n",
              "      border-color: transparent;\n",
              "      border-right-color: var(--fill-color);\n",
              "    }\n",
              "    80% {\n",
              "      border-color: transparent;\n",
              "      border-right-color: var(--fill-color);\n",
              "      border-bottom-color: var(--fill-color);\n",
              "    }\n",
              "    90% {\n",
              "      border-color: transparent;\n",
              "      border-bottom-color: var(--fill-color);\n",
              "    }\n",
              "  }\n",
              "</style>\n",
              "\n",
              "      <script>\n",
              "        async function quickchart(key) {\n",
              "          const quickchartButtonEl =\n",
              "            document.querySelector('#' + key + ' button');\n",
              "          quickchartButtonEl.disabled = true;  // To prevent multiple clicks.\n",
              "          quickchartButtonEl.classList.add('colab-df-spinner');\n",
              "          try {\n",
              "            const charts = await google.colab.kernel.invokeFunction(\n",
              "                'suggestCharts', [key], {});\n",
              "          } catch (error) {\n",
              "            console.error('Error during call to suggestCharts:', error);\n",
              "          }\n",
              "          quickchartButtonEl.classList.remove('colab-df-spinner');\n",
              "          quickchartButtonEl.classList.add('colab-df-quickchart-complete');\n",
              "        }\n",
              "        (() => {\n",
              "          let quickchartButtonEl =\n",
              "            document.querySelector('#df-a4956e51-9b7b-4ef0-8286-75760d8a5063 button');\n",
              "          quickchartButtonEl.style.display =\n",
              "            google.colab.kernel.accessAllowed ? 'block' : 'none';\n",
              "        })();\n",
              "      </script>\n",
              "    </div>\n",
              "\n",
              "  <div id=\"id_7a0b66d9-ad99-445b-a26b-574e956b8354\">\n",
              "    <style>\n",
              "      .colab-df-generate {\n",
              "        background-color: #E8F0FE;\n",
              "        border: none;\n",
              "        border-radius: 50%;\n",
              "        cursor: pointer;\n",
              "        display: none;\n",
              "        fill: #1967D2;\n",
              "        height: 32px;\n",
              "        padding: 0 0 0 0;\n",
              "        width: 32px;\n",
              "      }\n",
              "\n",
              "      .colab-df-generate:hover {\n",
              "        background-color: #E2EBFA;\n",
              "        box-shadow: 0px 1px 2px rgba(60, 64, 67, 0.3), 0px 1px 3px 1px rgba(60, 64, 67, 0.15);\n",
              "        fill: #174EA6;\n",
              "      }\n",
              "\n",
              "      [theme=dark] .colab-df-generate {\n",
              "        background-color: #3B4455;\n",
              "        fill: #D2E3FC;\n",
              "      }\n",
              "\n",
              "      [theme=dark] .colab-df-generate:hover {\n",
              "        background-color: #434B5C;\n",
              "        box-shadow: 0px 1px 3px 1px rgba(0, 0, 0, 0.15);\n",
              "        filter: drop-shadow(0px 1px 2px rgba(0, 0, 0, 0.3));\n",
              "        fill: #FFFFFF;\n",
              "      }\n",
              "    </style>\n",
              "    <button class=\"colab-df-generate\" onclick=\"generateWithVariable('promedios_curso')\"\n",
              "            title=\"Generate code using this dataframe.\"\n",
              "            style=\"display:none;\">\n",
              "\n",
              "  <svg xmlns=\"http://www.w3.org/2000/svg\" height=\"24px\"viewBox=\"0 0 24 24\"\n",
              "       width=\"24px\">\n",
              "    <path d=\"M7,19H8.4L18.45,9,17,7.55,7,17.6ZM5,21V16.75L18.45,3.32a2,2,0,0,1,2.83,0l1.4,1.43a1.91,1.91,0,0,1,.58,1.4,1.91,1.91,0,0,1-.58,1.4L9.25,21ZM18.45,9,17,7.55Zm-12,3A5.31,5.31,0,0,0,4.9,8.1,5.31,5.31,0,0,0,1,6.5,5.31,5.31,0,0,0,4.9,4.9,5.31,5.31,0,0,0,6.5,1,5.31,5.31,0,0,0,8.1,4.9,5.31,5.31,0,0,0,12,6.5,5.46,5.46,0,0,0,6.5,12Z\"/>\n",
              "  </svg>\n",
              "    </button>\n",
              "    <script>\n",
              "      (() => {\n",
              "      const buttonEl =\n",
              "        document.querySelector('#id_7a0b66d9-ad99-445b-a26b-574e956b8354 button.colab-df-generate');\n",
              "      buttonEl.style.display =\n",
              "        google.colab.kernel.accessAllowed ? 'block' : 'none';\n",
              "\n",
              "      buttonEl.onclick = () => {\n",
              "        google.colab.notebook.generateWithVariable('promedios_curso');\n",
              "      }\n",
              "      })();\n",
              "    </script>\n",
              "  </div>\n",
              "\n",
              "    </div>\n",
              "  </div>\n"
            ],
            "application/vnd.google.colaboratory.intrinsic+json": {
              "type": "dataframe",
              "variable_name": "promedios_curso",
              "summary": "{\n  \"name\": \"promedios_curso\",\n  \"rows\": 2,\n  \"fields\": [\n    {\n      \"column\": \"Curso\",\n      \"properties\": {\n        \"dtype\": \"string\",\n        \"num_unique_values\": 2,\n        \"samples\": [\n          \"B\",\n          \"A\"\n        ],\n        \"semantic_type\": \"\",\n        \"description\": \"\"\n      }\n    },\n    {\n      \"column\": \"Matem\\u00e1ticas\",\n      \"properties\": {\n        \"dtype\": \"number\",\n        \"std\": 1.7677669529663689,\n        \"min\": 6.0,\n        \"max\": 8.5,\n        \"num_unique_values\": 2,\n        \"samples\": [\n          6.0,\n          8.5\n        ],\n        \"semantic_type\": \"\",\n        \"description\": \"\"\n      }\n    },\n    {\n      \"column\": \"Lengua\",\n      \"properties\": {\n        \"dtype\": \"number\",\n        \"std\": 0.7071067811865476,\n        \"min\": 6.75,\n        \"max\": 7.75,\n        \"num_unique_values\": 2,\n        \"samples\": [\n          6.75,\n          7.75\n        ],\n        \"semantic_type\": \"\",\n        \"description\": \"\"\n      }\n    },\n    {\n      \"column\": \"Ciencias\",\n      \"properties\": {\n        \"dtype\": \"number\",\n        \"std\": 1.0606601717798212,\n        \"min\": 5.5,\n        \"max\": 7.0,\n        \"num_unique_values\": 2,\n        \"samples\": [\n          5.5,\n          7.0\n        ],\n        \"semantic_type\": \"\",\n        \"description\": \"\"\n      }\n    }\n  ]\n}"
            }
          },
          "metadata": {},
          "execution_count": 31
        }
      ]
    },
    {
      "cell_type": "markdown",
      "source": [
        "# Visualización de Datos con Seaborn"
      ],
      "metadata": {
        "id": "eo_3UyennPrn"
      }
    },
    {
      "cell_type": "code",
      "source": [
        "import seaborn as sns\n",
        "import pandas as pd\n",
        "import matplotlib.pyplot as plt"
      ],
      "metadata": {
        "id": "BMjGPP4Hd8XA"
      },
      "execution_count": 3,
      "outputs": []
    },
    {
      "cell_type": "code",
      "source": [
        "titanic  =  pd.read_csv('/content/Titanic-Dataset.csv')\n",
        "print(titanic.head())\n"
      ],
      "metadata": {
        "colab": {
          "base_uri": "https://localhost:8080/"
        },
        "id": "Ziy1JvjbnwA-",
        "outputId": "f40d567a-a26a-47f6-d6af-21220f79e077"
      },
      "execution_count": 6,
      "outputs": [
        {
          "output_type": "stream",
          "name": "stdout",
          "text": [
            "   PassengerId  Survived  Pclass  \\\n",
            "0            1         0       3   \n",
            "1            2         1       1   \n",
            "2            3         1       3   \n",
            "3            4         1       1   \n",
            "4            5         0       3   \n",
            "\n",
            "                                                Name     Sex   Age  SibSp  \\\n",
            "0                            Braund, Mr. Owen Harris    male  22.0      1   \n",
            "1  Cumings, Mrs. John Bradley (Florence Briggs Th...  female  38.0      1   \n",
            "2                             Heikkinen, Miss. Laina  female  26.0      0   \n",
            "3       Futrelle, Mrs. Jacques Heath (Lily May Peel)  female  35.0      1   \n",
            "4                           Allen, Mr. William Henry    male  35.0      0   \n",
            "\n",
            "   Parch            Ticket     Fare Cabin Embarked  \n",
            "0      0         A/5 21171   7.2500   NaN        S  \n",
            "1      0          PC 17599  71.2833   C85        C  \n",
            "2      0  STON/O2. 3101282   7.9250   NaN        S  \n",
            "3      0            113803  53.1000  C123        S  \n",
            "4      0            373450   8.0500   NaN        S  \n"
          ]
        }
      ]
    },
    {
      "cell_type": "code",
      "source": [
        "sns.histplot(titanic['Age'], kde = True, color  = 'blue', bins =  20)\n",
        "plt.title('Distribución de Edades de los Pasajeros')\n",
        "plt.ylabel('Frecuencia')\n",
        "plt.xlabel('Edad')"
      ],
      "metadata": {
        "colab": {
          "base_uri": "https://localhost:8080/",
          "height": 489
        },
        "id": "vRc26rCRrQOE",
        "outputId": "3ca01aab-3b6b-4ca5-eabe-238bba20e2ee"
      },
      "execution_count": 11,
      "outputs": [
        {
          "output_type": "execute_result",
          "data": {
            "text/plain": [
              "Text(0.5, 0, 'Edad')"
            ]
          },
          "metadata": {},
          "execution_count": 11
        },
        {
          "output_type": "display_data",
          "data": {
            "text/plain": [
              "<Figure size 640x480 with 1 Axes>"
            ],
            "image/png": "[encoded data removed]"
          },
          "metadata": {}
        }
      ]
    },
    {
      "cell_type": "code",
      "source": [
        "sns.barplot(x =  'Sex', y = 'Survived', data =  titanic, palette = 'pastel')\n",
        "plt.title('Tasa de Superviviencia por Sexo')\n",
        "plt.xlabel('Genero')\n",
        "plt.ylabel('Tasa de Supervivencia')\n",
        "plt.show()"
      ],
      "metadata": {
        "colab": {
          "base_uri": "https://localhost:8080/",
          "height": 579
        },
        "id": "noe52aE0rw1Q",
        "outputId": "522c6126-c908-4142-8f46-5757fa1a6d86"
      },
      "execution_count": 15,
      "outputs": [
        {
          "output_type": "stream",
          "name": "stderr",
          "text": [
            "/tmp/ipython-input-784323901.py:1: FutureWarning: \n",
            "\n",
            "Passing `palette` without assigning `hue` is deprecated and will be removed in v0.14.0. Assign the `x` variable to `hue` and set `legend=False` for the same effect.\n",
            "\n",
            "  sns.barplot(x =  'Sex', y = 'Survived', data =  titanic, palette = 'pastel')\n"
          ]
        },
        {
          "output_type": "display_data",
          "data": {
            "text/plain": [
              "<Figure size 640x480 with 1 Axes>"
            ],
            "image/png": "[encoded data removed]"
          },
          "metadata": {}
        }
      ]
    },
    {
      "cell_type": "code",
      "source": [
        "titanic.columns"
      ],
      "metadata": {
        "colab": {
          "base_uri": "https://localhost:8080/"
        },
        "id": "rU-p2ulqsGpR",
        "outputId": "f588a69c-3e49-469b-f55d-4978024d74d0"
      },
      "execution_count": 12,
      "outputs": [
        {
          "output_type": "execute_result",
          "data": {
            "text/plain": [
              "Index(['PassengerId', 'Survived', 'Pclass', 'Name', 'Sex', 'Age', 'SibSp',\n",
              "       'Parch', 'Ticket', 'Fare', 'Cabin', 'Embarked'],\n",
              "      dtype='object')"
            ]
          },
          "metadata": {},
          "execution_count": 12
        }
      ]
    },
    {
      "cell_type": "code",
      "source": [
        "sns.catplot(x = 'Pclass',  hue = 'Survived', kind = 'count', data =  titanic, palette = 'Set2' )\n",
        "plt.title('Superviviencia por clase')\n",
        "plt.xlabel('Clase')\n",
        "plt.ylabel('Pasajeros')"
      ],
      "metadata": {
        "colab": {
          "base_uri": "https://localhost:8080/",
          "height": 546
        },
        "id": "hyYz4lP5sH0x",
        "outputId": "d01b1ce4-68c7-48ee-82a9-66d61a6fa252"
      },
      "execution_count": 21,
      "outputs": [
        {
          "output_type": "execute_result",
          "data": {
            "text/plain": [
              "Text(39.18970061728395, 0.5, 'Pasajeros')"
            ]
          },
          "metadata": {},
          "execution_count": 21
        },
        {
          "output_type": "display_data",
          "data": {
            "text/plain": [
              "<Figure size 572.111x500 with 1 Axes>"
            ],
            "image/png": "[encoded data removed]"
          },
          "metadata": {}
        }
      ]
    },
    {
      "cell_type": "code",
      "source": [
        "sns.boxplot(x = 'Pclass', y = 'Age', data = titanic, palette = 'coolwarm')\n",
        "plt.title('Distribución de edades por clase de pasajeros')\n",
        "plt.ylabel('Edad')\n",
        "plt.xlabel('Clase')"
      ],
      "metadata": {
        "colab": {
          "base_uri": "https://localhost:8080/",
          "height": 596
        },
        "id": "b5jPUqOftl6F",
        "outputId": "449f0bc4-bbce-4402-fe56-ba40e7cbdfe5"
      },
      "execution_count": 23,
      "outputs": [
        {
          "output_type": "stream",
          "name": "stderr",
          "text": [
            "/tmp/ipython-input-1612759327.py:1: FutureWarning: \n",
            "\n",
            "Passing `palette` without assigning `hue` is deprecated and will be removed in v0.14.0. Assign the `x` variable to `hue` and set `legend=False` for the same effect.\n",
            "\n",
            "  sns.boxplot(x = 'Pclass', y = 'Age', data = titanic, palette = 'coolwarm')\n"
          ]
        },
        {
          "output_type": "execute_result",
          "data": {
            "text/plain": [
              "Text(0.5, 0, 'Clase')"
            ]
          },
          "metadata": {},
          "execution_count": 23
        },
        {
          "output_type": "display_data",
          "data": {
            "text/plain": [
              "<Figure size 640x480 with 1 Axes>"
            ],
            "image/png": "[encoded data removed]"
          },
          "metadata": {}
        }
      ]
    },
    {
      "cell_type": "code",
      "source": [
        "num_col =  titanic.select_dtypes(include = ['number']).columns\n",
        "corr =  titanic[num_col].corr()\n",
        "sns.heatmap(corr, annot  =  True, cmap = 'coolwarm', fmt ='.2f', linewidths = 0.5)\n",
        "plt.title('Matriz de Correlación')"
      ],
      "metadata": {
        "colab": {
          "base_uri": "https://localhost:8080/",
          "height": 539
        },
        "id": "1pz-YKSDtpkK",
        "outputId": "cf237796-c5af-4195-f251-bed48ed46b61"
      },
      "execution_count": 27,
      "outputs": [
        {
          "output_type": "execute_result",
          "data": {
            "text/plain": [
              "Text(0.5, 1.0, 'Matriz de Correlación')"
            ]
          },
          "metadata": {},
          "execution_count": 27
        },
        {
          "output_type": "display_data",
          "data": {
            "text/plain": [
              "<Figure size 640x480 with 2 Axes>"
            ],
            "image/png": "[encoded data removed]"
          },
          "metadata": {}
        }
      ]
    },
    {
      "cell_type": "code",
      "source": [
        "sns.pairplot(titanic[['Age', 'Fare', 'Pclass', 'Survived']])\n",
        "plt.suptitle('Pairplot de las variable de titanic')"
      ],
      "metadata": {
        "colab": {
          "base_uri": "https://localhost:8080/",
          "height": 1000
        },
        "id": "YAC_d_Vlw7sT",
        "outputId": "1567bb29-b1d5-4554-ac28-c2d17927ff11"
      },
      "execution_count": 28,
      "outputs": [
        {
          "output_type": "execute_result",
          "data": {
            "text/plain": [
              "Text(0.5, 0.98, 'Pairplot de las variable de titanic')"
            ]
          },
          "metadata": {},
          "execution_count": 28
        },
        {
          "output_type": "display_data",
          "data": {
            "text/plain": [
              "<Figure size 1000x1000 with 20 Axes>"
            ],
            "image/png": "[encoded data removed]"
          },
          "metadata": {}
        }
      ]
    },
    {
      "cell_type": "code",
      "source": [
        "sns.violinplot(x = 'Pclass', y = 'Age', data = titanic, palette = 'coolwarm')"
      ],
      "metadata": {
        "colab": {
          "base_uri": "https://localhost:8080/",
          "height": 573
        },
        "id": "REHXE2QAxuGF",
        "outputId": "91973885-ddea-4211-fe07-87a3d21d1e19"
      },
      "execution_count": 31,
      "outputs": [
        {
          "output_type": "stream",
          "name": "stderr",
          "text": [
            "/tmp/ipython-input-3896724314.py:1: FutureWarning: \n",
            "\n",
            "Passing `palette` without assigning `hue` is deprecated and will be removed in v0.14.0. Assign the `x` variable to `hue` and set `legend=False` for the same effect.\n",
            "\n",
            "  sns.violinplot(x = 'Pclass', y = 'Age', data = titanic, palette = 'coolwarm')\n"
          ]
        },
        {
          "output_type": "execute_result",
          "data": {
            "text/plain": [
              "<Axes: xlabel='Pclass', ylabel='Age'>"
            ]
          },
          "metadata": {},
          "execution_count": 31
        },
        {
          "output_type": "display_data",
          "data": {
            "text/plain": [
              "<Figure size 640x480 with 1 Axes>"
            ],
            "image/png": "[encoded data removed]"
          },
          "metadata": {}
        }
      ]
    },
    {
      "cell_type": "code",
      "source": [
        "sns.scatterplot(x = 'Age', y = 'Fare',  data =  titanic, hue =  'Survived', palette = 'coolwarm')\n"
      ],
      "metadata": {
        "colab": {
          "base_uri": "https://localhost:8080/",
          "height": 466
        },
        "id": "QivZf0XIyH5x",
        "outputId": "696e9d9f-6203-48b7-e95d-ad34eff134e6"
      },
      "execution_count": 35,
      "outputs": [
        {
          "output_type": "execute_result",
          "data": {
            "text/plain": [
              "<Axes: xlabel='Age', ylabel='Fare'>"
            ]
          },
          "metadata": {},
          "execution_count": 35
        },
        {
          "output_type": "display_data",
          "data": {
            "text/plain": [
              "<Figure size 640x480 with 1 Axes>"
            ],
            "image/png": "[encoded data removed]"
          },
          "metadata": {}
        }
      ]
    },
    {
      "cell_type": "code",
      "source": [],
      "metadata": {
        "id": "N3wyyCvuymC5"
      },
      "execution_count": null,
      "outputs": []
    }
  ]
}