{
  "nbformat": 4,
  "nbformat_minor": 0,
  "metadata": {
    "colab": {
      "provenance": [],
      "authorship_tag": "ABX9TyNSRBGiyeTWXGd+Lvk+wGI7",
      "include_colab_link": true
    },
    "kernelspec": {
      "name": "python3",
      "display_name": "Python 3"
    },
    "language_info": {
      "name": "python"
    }
  },
  "cells": [
    {
      "cell_type": "markdown",
      "metadata": {
        "id": "view-in-github",
        "colab_type": "text"
      },
      "source": [
        "<a href=\"https://colab.research.google.com/github/josedanielisidororeyes/Anal-tica-Descriptiva-y-Predictiva/blob/main/Practica_5_Uso_de_M%C3%A1scaras_Booleanas.ipynb\" target=\"_parent\"><img src=\"https://colab.research.google.com/assets/colab-badge.svg\" alt=\"Open In Colab\"/></a>"
      ]
    },
    {
      "cell_type": "code",
      "execution_count": 17,
      "metadata": {
        "colab": {
          "base_uri": "https://localhost:8080/"
        },
        "id": "n4T-a3OYbYmn",
        "outputId": "ad73da82-25d9-4fa1-9066-824010c2d8e6"
      },
      "outputs": [
        {
          "output_type": "stream",
          "name": "stdout",
          "text": [
            "Arreglo unidimensional con 15 números entre 1 a 50\n",
            "[36 15 48 39 17 10  9 37 40 28 49 31 17  8 13]\n",
            "\n",
            "Los elementos mayores a 25 son:\n",
            "[36 48 39 37 40 28 49 31]\n",
            "\n",
            "El número de elementos mayores a 25 es: 8\n"
          ]
        }
      ],
      "source": [
        "import numpy as np\n",
        "import random\n",
        "\n",
        "# Semillas para replicar resultados\n",
        "random.seed(5)       # Para random de Python\n",
        "np.random.seed(5)    # Para NumPy\n",
        "\n",
        "# Creación de arreglo unidimensional\n",
        "print(\"Arreglo unidimensional con 15 números entre 1 a 50\")\n",
        "array =  np.random.randint(1, 51, 15)\n",
        "print(array)\n",
        "print()\n",
        "\n",
        "# Seleccion de elementos\n",
        "print(\"Los elementos mayores a 25 son:\")\n",
        "seleccion_mayores_a_25 = array[array > 25]\n",
        "print(seleccion_mayores_a_25)\n",
        "print()\n",
        "print(\"El número de elementos mayores a 25 es:\", len(seleccion_mayores_a_25))"
      ]
    }
  ]
}