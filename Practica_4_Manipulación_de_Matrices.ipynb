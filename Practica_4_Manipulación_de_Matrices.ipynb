{
  "nbformat": 4,
  "nbformat_minor": 0,
  "metadata": {
    "colab": {
      "provenance": [],
      "authorship_tag": "ABX9TyP2jm5bQ+U7n9Li7uZhRLHa",
      "include_colab_link": true
    },
    "kernelspec": {
      "name": "python3",
      "display_name": "Python 3"
    },
    "language_info": {
      "name": "python"
    }
  },
  "cells": [
    {
      "cell_type": "markdown",
      "metadata": {
        "id": "view-in-github",
        "colab_type": "text"
      },
      "source": [
        "<a href=\"https://colab.research.google.com/github/josedanielisidororeyes/Anal-tica-Descriptiva-y-Predictiva/blob/main/Practica_4_Manipulaci%C3%B3n_de_Matrices.ipynb\" target=\"_parent\"><img src=\"https://colab.research.google.com/assets/colab-badge.svg\" alt=\"Open In Colab\"/></a>"
      ]
    },
    {
      "cell_type": "code",
      "execution_count": 34,
      "metadata": {
        "colab": {
          "base_uri": "https://localhost:8080/"
        },
        "id": "-YguRLJd8BS7",
        "outputId": "2c74d8e2-a858-4673-a754-246191a68411"
      },
      "outputs": [
        {
          "output_type": "stream",
          "name": "stdout",
          "text": [
            "Matrix A\n",
            "[[ 4  7  7]\n",
            " [ 1 10  9]\n",
            " [ 5  8  1]]\n",
            "\n",
            "Matrix B\n",
            "[[1 8 2]\n",
            " [6 8 1]\n",
            " [2 5 7]]\n",
            "\n",
            "La suma de las matrices A y B es:\n",
            "[[ 5 15  9]\n",
            " [ 7 18 10]\n",
            " [ 7 13  8]]\n",
            "\n",
            "\n",
            "La resta de B de A es:\n",
            "[[ 3 -1  5]\n",
            " [-5  2  8]\n",
            " [ 3  3 -6]]\n",
            "\n",
            "Multiplica la primer matriz por 2\n",
            "[[ 8 14 14]\n",
            " [ 2 20 18]\n",
            " [10 16  2]]\n",
            "\n",
            "Realiza una multiplicación matricial entre matrices\n",
            "[[ 60 123  64]\n",
            " [ 79 133  75]\n",
            " [ 55 109  25]]\n",
            "\n"
          ]
        }
      ],
      "source": [
        "import numpy as np\n",
        "import random\n",
        "# Semillas para replicar resultados\n",
        "random.seed(5)       # Para random de Python\n",
        "np.random.seed(5)    # Para NumPy\n",
        "\n",
        "# Crea 2 matrices 3x3 con números aleatorios entre 1 y 10\n",
        "print(\"Matrix A\")\n",
        "matrix_a = np.random.randint(1, 11, size = (3, 3))\n",
        "print(matrix_a)\n",
        "print()\n",
        "print(\"Matrix B\")\n",
        "matrix_b =  np.random.randint(1, 10,  size  =  (3, 3))\n",
        "print(matrix_b)\n",
        "print()\n",
        "\n",
        "# Suma de matrices\n",
        "print(\"La suma de las matrices A y B es:\")\n",
        "print(matrix_a +  matrix_b)\n",
        "print('\\n')\n",
        "\n",
        "# Resta de matrices\n",
        "print(\"La resta de B de A es:\")\n",
        "print(matrix_a -  matrix_b)\n",
        "print()\n",
        "\n",
        "# 2  x  Matrix A\n",
        "print(\"Multiplica la primer matriz por 2\")\n",
        "print(matrix_a *  2)\n",
        "print()\n",
        "\n",
        "# Producto Matriicial\n",
        "print(\"Realiza una multiplicación matricial entre matrices\")\n",
        "print(np.dot(matrix_a, matrix_b))\n",
        "print()"
      ]
    }
  ]
}