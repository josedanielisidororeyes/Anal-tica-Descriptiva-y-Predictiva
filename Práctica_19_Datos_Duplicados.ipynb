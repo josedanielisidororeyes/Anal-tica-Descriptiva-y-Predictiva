{
  "nbformat": 4,
  "nbformat_minor": 0,
  "metadata": {
    "colab": {
      "provenance": [],
      "mount_file_id": "1LfnX1e3wQcgGAs2WNDIXTsK-a_XXQ7yC",
      "authorship_tag": "ABX9TyO1WByQ9MQ+L7uBW1snaY5K",
      "include_colab_link": true
    },
    "kernelspec": {
      "name": "python3",
      "display_name": "Python 3"
    },
    "language_info": {
      "name": "python"
    }
  },
  "cells": [
    {
      "cell_type": "markdown",
      "metadata": {
        "id": "view-in-github",
        "colab_type": "text"
      },
      "source": [
        "<a href=\"https://colab.research.google.com/github/josedanielisidororeyes/Anal-tica-Descriptiva-y-Predictiva/blob/main/Pr%C3%A1ctica_19_Datos_Duplicados.ipynb\" target=\"_parent\"><img src=\"https://colab.research.google.com/assets/colab-badge.svg\" alt=\"Open In Colab\"/></a>"
      ]
    },
    {
      "cell_type": "markdown",
      "source": [
        "##Programación para Analítica Descriptiva y Predictiva\n",
        "##Nombre de la tarea: Práctica #19: Datos Duplicados\n",
        "##Grupo: A\n",
        "##Autor: Jose Daniel Isidoro Reyes\n",
        "##Matrícula: 261552\n",
        "##Fecha: 25 de Septiembre de 2025"
      ],
      "metadata": {
        "id": "wFI5o9hwP5gR"
      }
    },
    {
      "cell_type": "markdown",
      "source": [
        "**Instrucciones**:\n",
        "\n",
        "Descarga el archivo dirtydata.csv, proporcionado en esta tarea. También lo puedes encontrar en recursos.\n",
        "Crea un notebook en colab y guarda el archivo csv  en tu drive.\n",
        "Agrega secciones en el colab poniendo como título el nombre de cada ejercicio"
      ],
      "metadata": {
        "id": "k8sX_acjQVpR"
      }
    },
    {
      "cell_type": "markdown",
      "source": [
        "## Ejercicio 1: Duplicidad Parcial de una Columna | Contar y Filtrar los Registros Duplicados en Duration"
      ],
      "metadata": {
        "id": "ejajn1R4RQdk"
      }
    },
    {
      "cell_type": "markdown",
      "source": [
        "*   Carga el conjunto de datos dirty.csv y verifica que su carga sea correcta.\n"
      ],
      "metadata": {
        "id": "ghimnk-nRpTe"
      }
    },
    {
      "cell_type": "code",
      "source": [
        "# Carga del conjunto de datos\n",
        "import pandas as pd\n",
        "print(\"---Impresión de las primeras 2 filas del dataframe\")\n",
        "df =  pd.read_csv('/content/drive/MyDrive/Programación Analítica Predictiva/dirtydata.csv')\n",
        "\n",
        "# Verificación de que la carga sea correcta\n",
        "print(df.head(2))\n",
        "print()\n",
        "print(\"\\n---Verificación de tipo de dato correcto---\")\n",
        "print(df.info())"
      ],
      "metadata": {
        "colab": {
          "base_uri": "https://localhost:8080/"
        },
        "id": "kN5R2zLfQMwZ",
        "outputId": "9e2ba506-dbfc-41b5-b6e2-25d5e1d16603"
      },
      "execution_count": 73,
      "outputs": [
        {
          "output_type": "stream",
          "name": "stdout",
          "text": [
            "---Impresión de las primeras 2 filas del dataframe\n",
            "   Duration          Date  Pulse  Maxpulse  Calories\n",
            "0        60  '2020/12/01'    110       130     409.1\n",
            "1        60  '2020/12/02'    117       145     479.0\n",
            "\n",
            "\n",
            "---Verificación de tipo de dato correcto---\n",
            "<class 'pandas.core.frame.DataFrame'>\n",
            "RangeIndex: 32 entries, 0 to 31\n",
            "Data columns (total 5 columns):\n",
            " #   Column    Non-Null Count  Dtype  \n",
            "---  ------    --------------  -----  \n",
            " 0   Duration  32 non-null     int64  \n",
            " 1   Date      31 non-null     object \n",
            " 2   Pulse     32 non-null     int64  \n",
            " 3   Maxpulse  32 non-null     int64  \n",
            " 4   Calories  30 non-null     float64\n",
            "dtypes: float64(1), int64(3), object(1)\n",
            "memory usage: 1.4+ KB\n",
            "None\n"
          ]
        }
      ]
    },
    {
      "cell_type": "markdown",
      "source": [
        "Como se puede observa la columna Date está almacena como texto, además de que hay algunos valores nulos en las columnas Date y Calories. Para tratar los valores faltantes se eliminan por simplicidad.\n"
      ],
      "metadata": {
        "id": "xJZLfaN6TOP0"
      }
    },
    {
      "cell_type": "code",
      "source": [
        "# Eliminación de valores  faltantes\n",
        "df.dropna(inplace  =  True)\n",
        "\n",
        "# Corrección de columna Date a tipo fecha con manejo de errores\n",
        "df['Date'] =  pd.to_datetime(df['Date'], errors= 'coerce')\n",
        "\n",
        "print(\"\\n---Verificación de tipo de dato correcto---\")\n",
        "print(df.info())\n",
        "\n",
        "# Verificación de valores nulos por columna\n",
        "print(\"\\n---Verificación de valores nulos por columna\")\n",
        "print(df.isnull().sum())"
      ],
      "metadata": {
        "colab": {
          "base_uri": "https://localhost:8080/"
        },
        "id": "5JawqwR_SevL",
        "outputId": "8556c1d8-3d3d-4bb9-e559-fe5602aae04e"
      },
      "execution_count": 74,
      "outputs": [
        {
          "output_type": "stream",
          "name": "stdout",
          "text": [
            "\n",
            "---Verificación de tipo de dato correcto---\n",
            "<class 'pandas.core.frame.DataFrame'>\n",
            "Index: 29 entries, 0 to 31\n",
            "Data columns (total 5 columns):\n",
            " #   Column    Non-Null Count  Dtype         \n",
            "---  ------    --------------  -----         \n",
            " 0   Duration  29 non-null     int64         \n",
            " 1   Date      28 non-null     datetime64[ns]\n",
            " 2   Pulse     29 non-null     int64         \n",
            " 3   Maxpulse  29 non-null     int64         \n",
            " 4   Calories  29 non-null     float64       \n",
            "dtypes: datetime64[ns](1), float64(1), int64(3)\n",
            "memory usage: 1.4 KB\n",
            "None\n",
            "\n",
            "---Verificación de valores nulos por columna\n",
            "Duration    0\n",
            "Date        1\n",
            "Pulse       0\n",
            "Maxpulse    0\n",
            "Calories    0\n",
            "dtype: int64\n"
          ]
        }
      ]
    },
    {
      "cell_type": "markdown",
      "source": [
        "*   Cuenta la cantidad de registros duplicados utilizando solo la información de columna Duration e imprime\n"
      ],
      "metadata": {
        "id": "SWcd91nTXtql"
      }
    },
    {
      "cell_type": "code",
      "source": [
        "# Valores duplicados columna Duration\n",
        "duplicados =  df.duplicated(subset = 'Duration').sum()\n",
        "print(f\"Número de registros duplicados en la columna Duration: {duplicados} \")"
      ],
      "metadata": {
        "colab": {
          "base_uri": "https://localhost:8080/"
        },
        "id": "HIHsFF49TtJg",
        "outputId": "16b26f4c-f123-41c8-8e8c-9493dcafdbf1"
      },
      "execution_count": 75,
      "outputs": [
        {
          "output_type": "stream",
          "name": "stdout",
          "text": [
            "Número de registros duplicados en la columna Duration: 25 \n"
          ]
        }
      ]
    },
    {
      "cell_type": "markdown",
      "source": [
        "*   Utiliza value_counts() e imprime la cantidad de registros que hay por cada valor único."
      ],
      "metadata": {
        "id": "hUv26yNjXya-"
      }
    },
    {
      "cell_type": "code",
      "source": [
        "duplicados =  df['Duration'].value_counts()\n",
        "print(\"Número de registros duplicados que hay por cada valor\")\n",
        "print(duplicados)"
      ],
      "metadata": {
        "colab": {
          "base_uri": "https://localhost:8080/"
        },
        "id": "WoT7Gu8ZVGdK",
        "outputId": "4f9ac455-8959-40aa-8c5c-a873eb98104a"
      },
      "execution_count": 76,
      "outputs": [
        {
          "output_type": "stream",
          "name": "stdout",
          "text": [
            "Número de registros duplicados que hay por cada valor\n",
            "Duration\n",
            "60     23\n",
            "45      4\n",
            "450     1\n",
            "30      1\n",
            "Name: count, dtype: int64\n"
          ]
        }
      ]
    },
    {
      "cell_type": "markdown",
      "source": [
        "\n",
        "\n",
        "*   Filtra los datos y obten los registros sin duplicados"
      ],
      "metadata": {
        "id": "w7wIXdjFXvoF"
      }
    },
    {
      "cell_type": "code",
      "source": [
        "# Obtemción de registros sin duplicados\n",
        "print(\"Obtención de registros sin datos duplicados\")\n",
        "print(df.drop_duplicates(subset = ['Duration']))"
      ],
      "metadata": {
        "colab": {
          "base_uri": "https://localhost:8080/"
        },
        "id": "dshgELcEXg5T",
        "outputId": "7d1a19f6-175b-4ffa-b8d5-26a1aa6fd852"
      },
      "execution_count": 77,
      "outputs": [
        {
          "output_type": "stream",
          "name": "stdout",
          "text": [
            "Obtención de registros sin datos duplicados\n",
            "   Duration       Date  Pulse  Maxpulse  Calories\n",
            "0        60 2020-12-01    110       130     409.1\n",
            "3        45 2020-12-04    109       175     282.4\n",
            "7       450 2020-12-08    104       134     253.3\n",
            "8        30 2020-12-09    109       133     195.1\n"
          ]
        }
      ]
    },
    {
      "cell_type": "markdown",
      "source": [
        "## Ejercicio 2: Duplicidad Parcial Dos Columnas | Contar y Filtrar Registros Duplicados en Pulse y MaxPulse"
      ],
      "metadata": {
        "id": "hMfNGgTcaMrV"
      }
    },
    {
      "cell_type": "markdown",
      "source": [
        "*   Carga el conjunto de datos dirty.csv y verifica que su carga sea correcta.\n"
      ],
      "metadata": {
        "id": "D0c7E-k7jT6K"
      }
    },
    {
      "cell_type": "code",
      "source": [
        "import pandas as pd\n",
        "df =  pd.read_csv('/content/drive/MyDrive/Programación Analítica Predictiva/dirtydata.csv')"
      ],
      "metadata": {
        "id": "BKD5B7OvZzbD"
      },
      "execution_count": 78,
      "outputs": []
    },
    {
      "cell_type": "markdown",
      "source": [
        "*   Cuenta la cantidad de registros duplicados utilizando la información de las columnas Pulse y Maxpulse"
      ],
      "metadata": {
        "id": "v2PMcfQCjlNn"
      }
    },
    {
      "cell_type": "code",
      "source": [
        "duplicados_Pulse  =  df.duplicated(subset = ['Pulse'], keep = False).sum()\n",
        "duplicados_Maxpulse =  df.duplicated(subset = ['Maxpulse'], keep =  False).sum()\n",
        "\n",
        "print(f\"Número de registros duplicados de la columna Pulse (todas las apariciones): {duplicados_pulse}\")\n",
        "print(f\"Número de registros duplicados de la columna Maxpulse (todas las apariciones): {duplicados_Maxpulse} \")"
      ],
      "metadata": {
        "colab": {
          "base_uri": "https://localhost:8080/"
        },
        "id": "jg6yrJqZjjT_",
        "outputId": "63be8e73-b27c-4f4a-a2a5-ebed852d8311"
      },
      "execution_count": 79,
      "outputs": [
        {
          "output_type": "stream",
          "name": "stdout",
          "text": [
            "Número de registros duplicados de la columna Pulse (todas las apariciones): 17\n",
            "Número de registros duplicados de la columna Maxpulse (todas las apariciones): 11 \n"
          ]
        }
      ]
    },
    {
      "cell_type": "markdown",
      "source": [
        "*   Utiliza value_counts() e imprime la cantidad de registros que hay por cada valor único.\n",
        "\n",
        "\n",
        "---\n",
        "\n"
      ],
      "metadata": {
        "id": "okkj5uh1ly-8"
      }
    },
    {
      "cell_type": "code",
      "source": [
        "df2 =  df[['Pulse', 'Maxpulse']]\n",
        "conteo_duplicados  =  df2.value_counts()\n",
        "print(\"Número de registros que hay por cada valor único\")\n",
        "print(conteo_duplicados)"
      ],
      "metadata": {
        "colab": {
          "base_uri": "https://localhost:8080/"
        },
        "id": "UxS9NthBkK62",
        "outputId": "4d41bbf7-7ccf-45f7-83e2-139e2a9ce6bf"
      },
      "execution_count": 80,
      "outputs": [
        {
          "output_type": "stream",
          "name": "stdout",
          "text": [
            "Número de registros que hay por cada valor único\n",
            "Pulse  Maxpulse\n",
            "100    120         4\n",
            "92     115         1\n",
            "       118         1\n",
            "97     125         1\n",
            "90     112         1\n",
            "98     120         1\n",
            "       123         1\n",
            "       124         1\n",
            "100    119         1\n",
            "       132         1\n",
            "102    126         1\n",
            "       127         1\n",
            "       129         1\n",
            "103    123         1\n",
            "       132         1\n",
            "       135         1\n",
            "       147         1\n",
            "104    132         1\n",
            "       134         1\n",
            "105    132         1\n",
            "106    128         1\n",
            "108    131         1\n",
            "109    133         1\n",
            "       175         1\n",
            "110    130         1\n",
            "       136         1\n",
            "117    145         1\n",
            "       148         1\n",
            "130    101         1\n",
            "Name: count, dtype: int64\n"
          ]
        }
      ]
    },
    {
      "cell_type": "markdown",
      "source": [
        "*   Filtra los datos y obten los registros cuando keep = 'last'\n",
        "\n"
      ],
      "metadata": {
        "id": "SEjLsQ-Unjsi"
      }
    },
    {
      "cell_type": "code",
      "source": [
        "print(\"Filtrar: Todos los registros (Pulse y Maxpulse) sin duplicados\")\n",
        "print(df2[~df2.duplicated(subset = ['Pulse', 'Maxpulse'], keep='last')])"
      ],
      "metadata": {
        "colab": {
          "base_uri": "https://localhost:8080/"
        },
        "id": "4xBLR32CllJw",
        "outputId": "c4758cf5-93bc-4d73-8df6-6fcc437bb797"
      },
      "execution_count": 81,
      "outputs": [
        {
          "output_type": "stream",
          "name": "stdout",
          "text": [
            "Filtrar: Todos los registros (Pulse y Maxpulse) sin duplicados\n",
            "    Pulse  Maxpulse\n",
            "0     110       130\n",
            "1     117       145\n",
            "2     103       135\n",
            "3     109       175\n",
            "4     117       148\n",
            "5     102       127\n",
            "6     110       136\n",
            "7     104       134\n",
            "8     109       133\n",
            "9      98       124\n",
            "10    103       147\n",
            "13    106       128\n",
            "14    104       132\n",
            "15     98       123\n",
            "16     98       120\n",
            "18     90       112\n",
            "19    103       123\n",
            "20     97       125\n",
            "21    108       131\n",
            "22    100       119\n",
            "23    130       101\n",
            "24    105       132\n",
            "25    102       126\n",
            "26    100       120\n",
            "27     92       118\n",
            "28    103       132\n",
            "29    100       132\n",
            "30    102       129\n",
            "31     92       115\n"
          ]
        }
      ]
    },
    {
      "cell_type": "markdown",
      "source": [
        "##Ejercicio 3 Duplicidad Total o Exacta | Contar y Filtrar los registros duplicados\n",
        "\n"
      ],
      "metadata": {
        "id": "Fl39_aGSodRC"
      }
    },
    {
      "cell_type": "markdown",
      "source": [
        "*   Carga el conjunto de datos dirty.csv y verifica que su carga sea correcta."
      ],
      "metadata": {
        "id": "PjqWljwCoiNx"
      }
    },
    {
      "cell_type": "code",
      "source": [
        "import pandas as pd\n",
        "df =  pd.read_csv('/content/drive/MyDrive/Programación Analítica Predictiva/dirtydata.csv')"
      ],
      "metadata": {
        "id": "ZfzGWmchoaor"
      },
      "execution_count": 82,
      "outputs": []
    },
    {
      "cell_type": "markdown",
      "source": [
        "*   Cuenta la cantidad de registros duplicados exactos (todas las columnas)\n"
      ],
      "metadata": {
        "id": "nwWvaOoMopwT"
      }
    },
    {
      "cell_type": "code",
      "source": [
        "num_duplicados_exactos  =  df.duplicated().sum()\n",
        "print(f\"Registros duplicados exactos: {num_duplicados_exactos}\")"
      ],
      "metadata": {
        "colab": {
          "base_uri": "https://localhost:8080/"
        },
        "id": "M_FjjnBqooM1",
        "outputId": "41f7d8c5-e056-44d2-f75d-73216499031a"
      },
      "execution_count": 83,
      "outputs": [
        {
          "output_type": "stream",
          "name": "stdout",
          "text": [
            "Registros duplicados exactos: 1\n"
          ]
        }
      ]
    },
    {
      "cell_type": "markdown",
      "source": [
        "* Utiliza sum() e imprime la cantidad de registros con duplicidad exacta\n"
      ],
      "metadata": {
        "id": "So1lLOimq3WX"
      }
    },
    {
      "cell_type": "code",
      "source": [
        "num_duplicados_exactos  =  df.duplicated().sum()\n",
        "print(f\"Registros duplicados exactos: {num_duplicados_exactos}\")"
      ],
      "metadata": {
        "colab": {
          "base_uri": "https://localhost:8080/"
        },
        "id": "U-DLEteBpUYU",
        "outputId": "05d36c4b-12f5-4f41-ea86-753a135060cc"
      },
      "execution_count": 84,
      "outputs": [
        {
          "output_type": "stream",
          "name": "stdout",
          "text": [
            "Registros duplicados exactos: 1\n"
          ]
        }
      ]
    },
    {
      "cell_type": "markdown",
      "source": [
        "* Filtra los datos y obten los registros cuando keep = 'last'\n",
        "\n"
      ],
      "metadata": {
        "id": "qbHxQ9F2rA1v"
      }
    },
    {
      "cell_type": "code",
      "source": [
        "print(df.drop_duplicates(keep='last'))"
      ],
      "metadata": {
        "colab": {
          "base_uri": "https://localhost:8080/"
        },
        "id": "473onVdiuqaP",
        "outputId": "b8c4e7e8-8b1b-4582-cb9a-326a5b6dd320"
      },
      "execution_count": 85,
      "outputs": [
        {
          "output_type": "stream",
          "name": "stdout",
          "text": [
            "    Duration          Date  Pulse  Maxpulse  Calories\n",
            "0         60  '2020/12/01'    110       130     409.1\n",
            "1         60  '2020/12/02'    117       145     479.0\n",
            "2         60  '2020/12/03'    103       135     340.0\n",
            "3         45  '2020/12/04'    109       175     282.4\n",
            "4         45  '2020/12/05'    117       148     406.0\n",
            "5         60  '2020/12/06'    102       127     300.0\n",
            "6         60  '2020/12/07'    110       136     374.0\n",
            "7        450  '2020/12/08'    104       134     253.3\n",
            "8         30  '2020/12/09'    109       133     195.1\n",
            "9         60  '2020/12/10'     98       124     269.0\n",
            "10        60  '2020/12/11'    103       147     329.3\n",
            "12        60  '2020/12/12'    100       120     250.7\n",
            "13        60  '2020/12/13'    106       128     345.3\n",
            "14        60  '2020/12/14'    104       132     379.3\n",
            "15        60  '2020/12/15'     98       123     275.0\n",
            "16        60  '2020/12/16'     98       120     215.2\n",
            "17        60  '2020/12/17'    100       120     300.0\n",
            "18        45  '2020/12/18'     90       112       NaN\n",
            "19        60  '2020/12/19'    103       123     323.0\n",
            "20        45  '2020/12/20'     97       125     243.0\n",
            "21        60  '2020/12/21'    108       131     364.2\n",
            "22        45           NaN    100       119     282.0\n",
            "23        60  '2020/12/23'    130       101     300.0\n",
            "24        45  '2020/12/24'    105       132     246.0\n",
            "25        60  '2020/12/25'    102       126     334.5\n",
            "26        60      20201226    100       120     250.0\n",
            "27        60  '2020/12/27'     92       118     241.0\n",
            "28        60  '2020/12/28'    103       132       NaN\n",
            "29        60  '2020/12/29'    100       132     280.0\n",
            "30        60  '2020/12/30'    102       129     380.3\n",
            "31        60  '2020/12/31'     92       115     243.0\n"
          ]
        }
      ]
    },
    {
      "cell_type": "markdown",
      "source": [
        "## Ejercicio 04: Cálculo de la media con duplicados y sin duplicados\n",
        "\n",
        ">"
      ],
      "metadata": {
        "id": "F04Fu6jwrUhV"
      }
    },
    {
      "cell_type": "markdown",
      "source": [
        "* Carga el conjunto de datos dirty.csv y verifica que su carga sea correcta.\n",
        "\n"
      ],
      "metadata": {
        "id": "vH2n0gTQrWzs"
      }
    },
    {
      "cell_type": "code",
      "source": [
        "import pandas as pd\n",
        "df =  pd.read_csv('/content/drive/MyDrive/Programación Analítica Predictiva/dirtydata.csv')"
      ],
      "metadata": {
        "id": "o_JOL2F0rmXR"
      },
      "execution_count": 86,
      "outputs": []
    },
    {
      "cell_type": "markdown",
      "source": [
        "* Calcula e imprime la media de las columnas Pulse y MaxPulse\n"
      ],
      "metadata": {
        "id": "jARZweIlrn5g"
      }
    },
    {
      "cell_type": "code",
      "source": [
        "df[['Pulse', 'Maxpulse']].mean()"
      ],
      "metadata": {
        "colab": {
          "base_uri": "https://localhost:8080/",
          "height": 147
        },
        "id": "_U5aUPTTq9sO",
        "outputId": "9050677b-3918-4564-b30b-8f294fc00a4e"
      },
      "execution_count": 87,
      "outputs": [
        {
          "output_type": "execute_result",
          "data": {
            "text/plain": [
              "Pulse       103.5\n",
              "Maxpulse    128.5\n",
              "dtype: float64"
            ],
            "text/html": [
              "<div>\n",
              "<style scoped>\n",
              "    .dataframe tbody tr th:only-of-type {\n",
              "        vertical-align: middle;\n",
              "    }\n",
              "\n",
              "    .dataframe tbody tr th {\n",
              "        vertical-align: top;\n",
              "    }\n",
              "\n",
              "    .dataframe thead th {\n",
              "        text-align: right;\n",
              "    }\n",
              "</style>\n",
              "<table border=\"1\" class=\"dataframe\">\n",
              "  <thead>\n",
              "    <tr style=\"text-align: right;\">\n",
              "      <th></th>\n",
              "      <th>0</th>\n",
              "    </tr>\n",
              "  </thead>\n",
              "  <tbody>\n",
              "    <tr>\n",
              "      <th>Pulse</th>\n",
              "      <td>103.5</td>\n",
              "    </tr>\n",
              "    <tr>\n",
              "      <th>Maxpulse</th>\n",
              "      <td>128.5</td>\n",
              "    </tr>\n",
              "  </tbody>\n",
              "</table>\n",
              "</div><br><label><b>dtype:</b> float64</label>"
            ]
          },
          "metadata": {},
          "execution_count": 87
        }
      ]
    },
    {
      "cell_type": "markdown",
      "source": [
        "\n",
        "*   Identifica los valores duplicados en las columnas Pulse y MaxPulse (Duplicidad Parcial) y elimina los registro repetidos. Quédate con las últimas ocurrencias\n",
        "\n",
        "\n"
      ],
      "metadata": {
        "id": "L-mUG9Uyryrj"
      }
    },
    {
      "cell_type": "code",
      "source": [
        "df_sin_duplicados  =  df.drop_duplicates(subset = ['Pulse', 'Maxpulse'], keep = 'last')"
      ],
      "metadata": {
        "id": "sFzr7ca7ruaQ"
      },
      "execution_count": 88,
      "outputs": []
    },
    {
      "cell_type": "markdown",
      "source": [
        "*   Utiliza el conjunto anterior sin datos duplicados (recuerda que solo quedaron las últimas ocurrencias de los datos) y calcula la media de las columnas Pulse y MaxPulse\n"
      ],
      "metadata": {
        "id": "eDtpu5uksIk7"
      }
    },
    {
      "cell_type": "code",
      "source": [
        "df_sin_duplicados[['Pulse', 'Maxpulse']].mean()"
      ],
      "metadata": {
        "colab": {
          "base_uri": "https://localhost:8080/",
          "height": 147
        },
        "id": "AtXprmUOsH_W",
        "outputId": "236c740f-9252-4eb4-fd7c-0c1d6c37e884"
      },
      "execution_count": 89,
      "outputs": [
        {
          "output_type": "execute_result",
          "data": {
            "text/plain": [
              "Pulse       103.862069\n",
              "Maxpulse    129.379310\n",
              "dtype: float64"
            ],
            "text/html": [
              "<div>\n",
              "<style scoped>\n",
              "    .dataframe tbody tr th:only-of-type {\n",
              "        vertical-align: middle;\n",
              "    }\n",
              "\n",
              "    .dataframe tbody tr th {\n",
              "        vertical-align: top;\n",
              "    }\n",
              "\n",
              "    .dataframe thead th {\n",
              "        text-align: right;\n",
              "    }\n",
              "</style>\n",
              "<table border=\"1\" class=\"dataframe\">\n",
              "  <thead>\n",
              "    <tr style=\"text-align: right;\">\n",
              "      <th></th>\n",
              "      <th>0</th>\n",
              "    </tr>\n",
              "  </thead>\n",
              "  <tbody>\n",
              "    <tr>\n",
              "      <th>Pulse</th>\n",
              "      <td>103.862069</td>\n",
              "    </tr>\n",
              "    <tr>\n",
              "      <th>Maxpulse</th>\n",
              "      <td>129.379310</td>\n",
              "    </tr>\n",
              "  </tbody>\n",
              "</table>\n",
              "</div><br><label><b>dtype:</b> float64</label>"
            ]
          },
          "metadata": {},
          "execution_count": 89
        }
      ]
    }
  ]
}