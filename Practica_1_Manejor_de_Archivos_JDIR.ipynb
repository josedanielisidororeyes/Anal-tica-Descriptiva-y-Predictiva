{
  "nbformat": 4,
  "nbformat_minor": 0,
  "metadata": {
    "colab": {
      "provenance": [],
      "mount_file_id": "1AL2Uthcir8sr2aBPGwb_AyYpn6XnXLTR",
      "authorship_tag": "ABX9TyOQptngVbmxfMn+2ZRhatK4",
      "include_colab_link": true
    },
    "kernelspec": {
      "name": "python3",
      "display_name": "Python 3"
    },
    "language_info": {
      "name": "python"
    }
  },
  "cells": [
    {
      "cell_type": "markdown",
      "metadata": {
        "id": "view-in-github",
        "colab_type": "text"
      },
      "source": [
        "<a href=\"https://colab.research.google.com/github/josedanielisidororeyes/Anal-tica-Descriptiva-y-Predictiva/blob/main/Practica_1_Manejor_de_Archivos_JDIR.ipynb\" target=\"_parent\"><img src=\"https://colab.research.google.com/assets/colab-badge.svg\" alt=\"Open In Colab\"/></a>"
      ]
    },
    {
      "cell_type": "code",
      "execution_count": 12,
      "metadata": {
        "colab": {
          "base_uri": "https://localhost:8080/"
        },
        "id": "EVRr7pjQsuzw",
        "outputId": "0fddd257-6e99-4a6c-86fd-06962eb662c0"
      },
      "outputs": [
        {
          "output_type": "stream",
          "name": "stdout",
          "text": [
            "La cantidad de datos extraídos es:  1797\n",
            "La sumatorio de los datos es:  1607\n",
            "El promedio de los datos es:  0.8941280467445744\n",
            "La variance de los datos es:  0.012322985913435768\n"
          ]
        }
      ],
      "source": [
        "import  numpy as np\n",
        "import statistics\n",
        "\n",
        "# Carga texto línea por línea\n",
        "texto = open('/content/drive/MyDrive/mbox.txt')\n",
        "\n",
        "# Crea una lista vacía donde se guardarán los resultados\n",
        "mediciones = []\n",
        "# Procesa las línas que empiezan con \"X-DSPA-Confidence\"\n",
        "for linea in texto:\n",
        "  if linea.startswith('X-DSPAM-Confidence'):\n",
        "    # Dividimos la líneas 2  partes, y no quedamos con la parte númerica\n",
        "    numero =  float(linea.split(':')[1])\n",
        "    # Anexamos en una lista los valores encontrados\n",
        "    mediciones.append(numero)\n",
        "\n",
        "# Calcula número, suma, promedio y variance de los datos\n",
        "print(\"La cantidad de datos extraídos es: \", len(mediciones))\n",
        "print('La sumatorio de los datos es: ', round(np.sum(mediciones)))\n",
        "print(\"El promedio de los datos es: \", np.mean(mediciones))\n",
        "print(\"La variance de los datos es: \", np.var(mediciones))"
      ]
    }
  ]
}