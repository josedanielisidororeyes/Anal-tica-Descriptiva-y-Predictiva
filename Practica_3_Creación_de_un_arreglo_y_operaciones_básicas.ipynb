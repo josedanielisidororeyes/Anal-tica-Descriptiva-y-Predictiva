{
  "nbformat": 4,
  "nbformat_minor": 0,
  "metadata": {
    "colab": {
      "provenance": [],
      "authorship_tag": "ABX9TyOb2K12E02dvJ3FUCHJfWbi",
      "include_colab_link": true
    },
    "kernelspec": {
      "name": "python3",
      "display_name": "Python 3"
    },
    "language_info": {
      "name": "python"
    }
  },
  "cells": [
    {
      "cell_type": "markdown",
      "metadata": {
        "id": "view-in-github",
        "colab_type": "text"
      },
      "source": [
        "<a href=\"https://colab.research.google.com/github/josedanielisidororeyes/Anal-tica-Descriptiva-y-Predictiva/blob/main/Practica_3_Creaci%C3%B3n_de_un_arreglo_y_operaciones_b%C3%A1sicas.ipynb\" target=\"_parent\"><img src=\"https://colab.research.google.com/assets/colab-badge.svg\" alt=\"Open In Colab\"/></a>"
      ]
    },
    {
      "cell_type": "code",
      "execution_count": 1,
      "metadata": {
        "colab": {
          "base_uri": "https://localhost:8080/"
        },
        "id": "SSEgt8_6koJW",
        "outputId": "cea68e4f-fd53-44ab-abea-428b32a8693f"
      },
      "outputs": [
        {
          "output_type": "stream",
          "name": "stdout",
          "text": [
            "Crea un arreglo de 20 números aleatorios entre 1 y 100:\n",
            "[100  79  62  17  74   9  63  28  31  81   8  77  16  54  81  28  45  78\n",
            "  76  66]\n",
            "El valor máximo del arreglo es:  100\n",
            "El valor mínimo del arreglo es:  8\n",
            "La media del arreglo es:  53.65\n",
            "Suma 10 a cada elemento del arreglo\n",
            "[110  89  72  27  84  19  73  38  41  91  18  87  26  64  91  38  55  88\n",
            "  86  76]\n"
          ]
        }
      ],
      "source": [
        "import numpy as np\n",
        "import random\n",
        "\n",
        "# Semillas para replicar resultados\n",
        "random.seed(5)       # Para random de Python\n",
        "np.random.seed(5)    # Para NumPy\n",
        "\n",
        "\n",
        "print(\"Crea un arreglo de 20 números aleatorios entre 1 y 100:\")\n",
        "array  = np.random.randint(1, 101, 20)\n",
        "print(array)\n",
        "print(\"El valor máximo del arreglo es: \", np.max(array))\n",
        "print(\"El valor mínimo del arreglo es: \", np.min(array))\n",
        "print(\"La media del arreglo es: \", np.mean(array))\n",
        "print(\"Suma 10 a cada elemento del arreglo\")\n",
        "print(array + 10)"
      ]
    },
    {
      "cell_type": "code",
      "source": [],
      "metadata": {
        "id": "NquvJIBpfOuj"
      },
      "execution_count": null,
      "outputs": []
    }
  ]
}