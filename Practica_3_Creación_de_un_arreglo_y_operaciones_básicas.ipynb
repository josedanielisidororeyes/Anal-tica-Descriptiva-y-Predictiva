{
  "nbformat": 4,
  "nbformat_minor": 0,
  "metadata": {
    "colab": {
      "provenance": [],
      "authorship_tag": "ABX9TyNE9q+fE8elZDcik+6PYPqO",
      "include_colab_link": true
    },
    "kernelspec": {
      "name": "python3",
      "display_name": "Python 3"
    },
    "language_info": {
      "name": "python"
    }
  },
  "cells": [
    {
      "cell_type": "markdown",
      "metadata": {
        "id": "view-in-github",
        "colab_type": "text"
      },
      "source": [
        "<a href=\"https://colab.research.google.com/github/josedanielisidororeyes/Anal-tica-Descriptiva-y-Predictiva/blob/main/Practica_3_Creaci%C3%B3n_de_un_arreglo_y_operaciones_b%C3%A1sicas.ipynb\" target=\"_parent\"><img src=\"https://colab.research.google.com/assets/colab-badge.svg\" alt=\"Open In Colab\"/></a>"
      ]
    },
    {
      "cell_type": "code",
      "execution_count": 47,
      "metadata": {
        "colab": {
          "base_uri": "https://localhost:8080/"
        },
        "id": "SSEgt8_6koJW",
        "outputId": "034d5957-54d7-4b98-cc53-7ef9eceb82e0"
      },
      "outputs": [
        {
          "output_type": "stream",
          "name": "stdout",
          "text": [
            "Crea un arreglo de 20 números aleatorios entre 1 y 100:\n",
            "[ 99  78  61  16  73   8 100  62  27  30  80   7  76  15  53  80  27  44\n",
            "  77  75]\n",
            "El valor máximo del arreglo es:  100\n",
            "El valor mínimo del arreglo es:  7\n",
            "La media del arreglo es:  54.4\n",
            "Suma 10 a cada elemento del arreglo\n",
            "[109  88  71  26  83  18 110  72  37  40  90  17  86  25  63  90  37  54\n",
            "  87  85]\n"
          ]
        }
      ],
      "source": [
        "import numpy as np\n",
        "import random\n",
        "\n",
        "# Semillas para replicar resultados\n",
        "random.seed(5)       # Para random de Python\n",
        "np.random.seed(5)    # Para NumPy\n",
        "\n",
        "\n",
        "print(\"Crea un arreglo de 20 números aleatorios entre 1 y 100:\")\n",
        "array  = np.random.randint(0, 101, 20)\n",
        "print(array)\n",
        "print(\"El valor máximo del arreglo es: \", np.max(array))\n",
        "print(\"El valor mínimo del arreglo es: \", np.min(array))\n",
        "print(\"La media del arreglo es: \", np.mean(array))\n",
        "print(\"Suma 10 a cada elemento del arreglo\")\n",
        "print(array + 10)"
      ]
    },
    {
      "cell_type": "code",
      "source": [],
      "metadata": {
        "id": "k9Uis7Jc4y5R"
      },
      "execution_count": 43,
      "outputs": []
    }
  ]
}