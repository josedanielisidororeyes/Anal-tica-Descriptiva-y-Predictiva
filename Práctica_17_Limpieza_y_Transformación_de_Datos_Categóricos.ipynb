{
  "nbformat": 4,
  "nbformat_minor": 0,
  "metadata": {
    "colab": {
      "provenance": [],
      "mount_file_id": "1gWXIy4G2g_LySWOEdXIoKIWVXfYQZNW0",
      "authorship_tag": "ABX9TyOQAHd0jFkeMO85OYfmuA82",
      "include_colab_link": true
    },
    "kernelspec": {
      "name": "python3",
      "display_name": "Python 3"
    },
    "language_info": {
      "name": "python"
    }
  },
  "cells": [
    {
      "cell_type": "markdown",
      "metadata": {
        "id": "view-in-github",
        "colab_type": "text"
      },
      "source": [
        "<a href=\"https://colab.research.google.com/github/josedanielisidororeyes/Anal-tica-Descriptiva-y-Predictiva/blob/main/Pr%C3%A1ctica_17_Limpieza_y_Transformaci%C3%B3n_de_Datos_Categ%C3%B3ricos.ipynb\" target=\"_parent\"><img src=\"https://colab.research.google.com/assets/colab-badge.svg\" alt=\"Open In Colab\"/></a>"
      ]
    },
    {
      "cell_type": "markdown",
      "source": [
        "##Programación para Analítica Descriptiva y Predictiva\n",
        "##Nombre de la tarea: Práctica #17: Limpieza y Transformación de Datos Categóricos\n",
        "##Grupo: A\n",
        "##Autor: Jose Daniel Isidoro Reyes\n",
        "##Matrícula: 261552\n",
        "##Fecha: 12 de Septimebre de 2025"
      ],
      "metadata": {
        "id": "7IbEfeDNh8dX"
      }
    },
    {
      "cell_type": "markdown",
      "source": [
        "# Ejercicio 01: Errores Tipográficos y Valores Inconsistentes: maritalstatus"
      ],
      "metadata": {
        "id": "FynFBLrVjgiV"
      }
    },
    {
      "cell_type": "code",
      "source": [
        "import pandas as pd\n",
        "df =  pd.read_csv('/content/drive/MyDrive/Programación Analítica Predictiva/nls97.csv')\n",
        "\n",
        "# Valores únicos de la columna  'maritalstatus'\n",
        "print(\"Los valores únicos de maritalstatus son:\")\n",
        "print(df['maritalstatus'].unique())\n",
        "print(\"\\n\")\n",
        "\n",
        "\n",
        "# Frecuencia de cada valor únicos de la columna  'maritalstatus'\n",
        "print(\"Los valores únicos son\")\n",
        "print(\"\\n\")\n",
        "print(df['maritalstatus'].value_counts())\n",
        "\n",
        "# Remplazo del valor 'Never-Married' a 'Single'\n",
        "df['maritalstatus'] = df['maritalstatus'].replace({'Never-married': 'Single'})\n",
        "\n",
        "# Impresión de valores únicos después del reemplazo\n",
        "print(\"Impresión de valores únicos después del remplazo\")\n",
        "print(df['maritalstatus'].value_counts())"
      ],
      "metadata": {
        "id": "YU8eDKuLh5Jh",
        "colab": {
          "base_uri": "https://localhost:8080/"
        },
        "outputId": "8f9624ff-ac4a-4874-aa74-608428fcd03a"
      },
      "execution_count": 67,
      "outputs": [
        {
          "output_type": "stream",
          "name": "stdout",
          "text": [
            "Los valores únicos de maritalstatus son:\n",
            "['Married' 'Never-married' nan 'Divorced' 'Separated' 'Widowed']\n",
            "\n",
            "\n",
            "Los valores únicos son\n",
            "\n",
            "\n",
            "maritalstatus\n",
            "Married          3066\n",
            "Never-married    2766\n",
            "Divorced          663\n",
            "Separated         154\n",
            "Widowed            23\n",
            "Name: count, dtype: int64\n",
            "Impresión de valores únicos después del remplazo\n",
            "maritalstatus\n",
            "Married      3066\n",
            "Single       2766\n",
            "Divorced      663\n",
            "Separated     154\n",
            "Widowed        23\n",
            "Name: count, dtype: int64\n"
          ]
        }
      ]
    },
    {
      "cell_type": "markdown",
      "source": [
        "# Ejercicio 02: Errores Tipográficos y Valores Inconsistentes: highestdegree.\n",
        "\n"
      ],
      "metadata": {
        "id": "8mU-qWJwQ71b"
      }
    },
    {
      "cell_type": "code",
      "source": [
        "# Impresión de valores únicos de la columna 'highestdegrees'\n",
        "print(\"Los valores únicos de highestdegrees son:\")\n",
        "print(df['highestdegree'].unique())\n",
        "print(\"\\n\")\n",
        "\n",
        "\n",
        "# Frecuencia de cada valor únicos de la columna  'highestdegree'\n",
        "print(\"Los valores únicos son\")\n",
        "print(\"\\n\")\n",
        "print(df['highestdegree'].value_counts())\n",
        "print(\"\\n\")\n",
        "# Para eliminar números, puntos, y espacios en blanco se usa la expresión regular 'r'^\\d+\\.\\s*', la cual realiza lo siguiente:\n",
        "# '^' Busca el inicio de la cadena.\n",
        "# '\\d+' Busca uno o más dígitos.\n",
        "# '\\.' Busca el carácter punto\n",
        "# '\\s*' Busca cero o más espacios en blanco.\n",
        "df['highestdegree'] = df['highestdegree'].str.replace(r'^\\d+\\.\\s*', '', regex=True)\n",
        "\n",
        "\n",
        "# Impresión de valores únicos después del cambio\n",
        "print(\"Los valores únicos después del cambio son\")\n",
        "print(\"\\n\")\n",
        "print(df['highestdegree'].value_counts())"
      ],
      "metadata": {
        "colab": {
          "base_uri": "https://localhost:8080/"
        },
        "id": "Cbort-8EOmzR",
        "outputId": "52eeceba-17a3-4bea-d57b-5bb20da1d9fe"
      },
      "execution_count": 68,
      "outputs": [
        {
          "output_type": "stream",
          "name": "stdout",
          "text": [
            "Los valores únicos de highestdegrees son:\n",
            "['2. High School' '0. None' '4. Bachelors' '3. Associates' '5. Masters'\n",
            " '1. GED' '7. Professional' '6. PhD' nan]\n",
            "\n",
            "\n",
            "Los valores únicos son\n",
            "\n",
            "\n",
            "highestdegree\n",
            "2. High School     3667\n",
            "4. Bachelors       1673\n",
            "1. GED             1146\n",
            "0. None             953\n",
            "3. Associates       737\n",
            "5. Masters          603\n",
            "7. Professional     120\n",
            "6. PhD               54\n",
            "Name: count, dtype: int64\n",
            "\n",
            "\n",
            "Los valores únicos después del cambio son\n",
            "\n",
            "\n",
            "highestdegree\n",
            "High School     3667\n",
            "Bachelors       1673\n",
            "GED             1146\n",
            "None             953\n",
            "Associates       737\n",
            "Masters          603\n",
            "Professional     120\n",
            "PhD               54\n",
            "Name: count, dtype: int64\n"
          ]
        }
      ]
    },
    {
      "cell_type": "markdown",
      "source": [
        "# Ejercicio 03: Alta Cardinalidad - Frecuencias Bajas\n",
        "\n"
      ],
      "metadata": {
        "id": "PBqNvHX4TL8e"
      }
    },
    {
      "cell_type": "code",
      "source": [
        "# Código proporcionado por el usuario\n",
        "df['marital_grouped'] = df['maritalstatus'].replace(['Widowed', 'Single'], 'Single/No Partner').fillna('No Disponible')\n",
        "\n",
        "# Impresión de valores únicos de la nueva columna\n",
        "print(df['marital_grouped'].unique())\n",
        "\n",
        "# Impresión de valores únicos de la nueva columna\n",
        "print(df['marital_grouped'].value_counts())"
      ],
      "metadata": {
        "colab": {
          "base_uri": "https://localhost:8080/"
        },
        "id": "d5-E1t2mO9Dt",
        "outputId": "7dc7e011-0865-44d9-b614-79eb67a76dd2"
      },
      "execution_count": 69,
      "outputs": [
        {
          "output_type": "stream",
          "name": "stdout",
          "text": [
            "['Married' 'Single/No Partner' 'No Disponible' 'Divorced' 'Separated']\n",
            "marital_grouped\n",
            "Married              3066\n",
            "Single/No Partner    2789\n",
            "No Disponible        2312\n",
            "Divorced              663\n",
            "Separated             154\n",
            "Name: count, dtype: int64\n"
          ]
        }
      ]
    },
    {
      "cell_type": "markdown",
      "source": [
        "# Ejercicio 04: Tipos de Datos\n",
        "\n"
      ],
      "metadata": {
        "id": "IDyZ2XNqWwhQ"
      }
    },
    {
      "cell_type": "code",
      "source": [
        "# Impresión de tipo de dato de la columna gender\n",
        "print(\"El tipo de dato de la columna 'gender' es:\", df['gender'].dtype)\n",
        "\n",
        "# Impresión de uso de memoria de la columna 'gender'\n",
        "print(f\"Memoria total en bytes: {df['gender'].memory_usage(deep  =  True)}\")\n",
        "\n",
        "# Correción de tipo de columna de texto a categoría\n",
        "df['gender'] = df['gender'].astype('category')\n",
        "\n",
        "# Impresión de uso de memoria de la columna 'gender'\n",
        "print(f\"Memoria total en bytes después de la corrección es: {df['gender'].memory_usage(deep  =  True)}\")"
      ],
      "metadata": {
        "colab": {
          "base_uri": "https://localhost:8080/"
        },
        "id": "q1DNuWDERan7",
        "outputId": "07e780a9-3330-4f34-f2a6-cc267d63aaac"
      },
      "execution_count": 70,
      "outputs": [
        {
          "output_type": "stream",
          "name": "stdout",
          "text": [
            "El tipo de dato de la columna 'gender' es: object\n",
            "Memoria total en bytes: 485054\n",
            "Memoria total en bytes después de la corrección es: 9332\n"
          ]
        }
      ]
    }
  ]
}